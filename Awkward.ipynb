{
 "cells": [
  {
   "cell_type": "markdown",
   "id": "5fea4e5b-a674-4dc8-9151-26f3ef6ad14c",
   "metadata": {},
   "source": [
    "# Awkward Array\n",
    "\n",
    "A quick taste of a solution to a problem we expect to see more and more often in synchrotron science: irregularly shaped data"
   ]
  },
  {
   "cell_type": "code",
   "execution_count": null,
   "id": "963fa547-f373-4eee-8cbc-472dff4a7b34",
   "metadata": {
    "tags": []
   },
   "outputs": [],
   "source": [
    "import awkward as ak"
   ]
  },
  {
   "cell_type": "code",
   "execution_count": null,
   "id": "adb33fce-840a-481d-90eb-f6acb5fbb7ec",
   "metadata": {
    "tags": []
   },
   "outputs": [],
   "source": [
    "array = ak.Array(\n",
    "    [\n",
    "        [\n",
    "            {\"x\": 1.1, \"y\": [1]},\n",
    "            {\"x\": 2.2, \"y\": [2, 2]}\n",
    "        ],\n",
    "        [],\n",
    "        [\n",
    "            {\"x\": 3.3, \"y\": [3, 3, 3]}\n",
    "        ]\n",
    "    ]\n",
    ")"
   ]
  },
  {
   "cell_type": "code",
   "execution_count": null,
   "id": "d0aa93a6-8677-48e1-ab43-a39ed5d9e265",
   "metadata": {
    "tags": []
   },
   "outputs": [],
   "source": [
    "array.show()"
   ]
  },
  {
   "cell_type": "code",
   "execution_count": null,
   "id": "f5d25678-dd79-4a31-81a8-0da1fd097054",
   "metadata": {
    "tags": []
   },
   "outputs": [],
   "source": [
    "array[0, 0, \"x\"]"
   ]
  },
  {
   "cell_type": "code",
   "execution_count": null,
   "id": "95aa6a92-37ea-4dbd-a6d8-bca74bf6f513",
   "metadata": {
    "tags": []
   },
   "outputs": [],
   "source": [
    "array[0, 1, \"y\"].show()"
   ]
  },
  {
   "cell_type": "code",
   "execution_count": null,
   "id": "59e9eee5-4558-4802-928c-bdf4ee5a6d8e",
   "metadata": {
    "tags": []
   },
   "outputs": [],
   "source": [
    "array[:, \"y\"].show()"
   ]
  },
  {
   "cell_type": "markdown",
   "id": "985fadfe-0b4f-405a-a3ce-f17fc4fd7f85",
   "metadata": {
    "tags": []
   },
   "source": [
    "Variable-length (\"ragged\") arrays"
   ]
  },
  {
   "cell_type": "code",
   "execution_count": null,
   "id": "efbe8949-e05a-4192-a805-51ec83c86001",
   "metadata": {
    "tags": []
   },
   "outputs": [],
   "source": [
    "ak.Array([\n",
    "    [1, 2, 3],\n",
    "    [4]\n",
    "]).show()"
   ]
  },
  {
   "cell_type": "markdown",
   "id": "fc7b96ff-6ab3-422d-8cf3-70653fd7e9fb",
   "metadata": {},
   "source": [
    "Missing values"
   ]
  },
  {
   "cell_type": "code",
   "execution_count": null,
   "id": "b837762b-71a2-41be-9532-945dacc31b0d",
   "metadata": {
    "tags": []
   },
   "outputs": [],
   "source": [
    "ak.Array([1, None]).show()"
   ]
  },
  {
   "cell_type": "markdown",
   "id": "a0d6957c-d12b-487d-844f-d02388ef3e59",
   "metadata": {},
   "source": [
    "Labeled records"
   ]
  },
  {
   "cell_type": "code",
   "execution_count": null,
   "id": "3c2cacfd-43ce-4e51-acb5-0588b9c76094",
   "metadata": {
    "tags": []
   },
   "outputs": [],
   "source": [
    "ak.Array([{'x': 1, 'y': 2}]).show()"
   ]
  },
  {
   "cell_type": "markdown",
   "id": "78cfa88b-59dd-4502-98ec-c79cc4169ac6",
   "metadata": {},
   "source": [
    "And mixtures of these"
   ]
  },
  {
   "cell_type": "code",
   "execution_count": null,
   "id": "58c213e0-edef-4b5c-b60c-2d9eed0047c0",
   "metadata": {
    "tags": []
   },
   "outputs": [],
   "source": [
    "ak.Array([1, \"hi\", None]).show()"
   ]
  },
  {
   "cell_type": "code",
   "execution_count": null,
   "id": "68e3ac1a-df7d-4015-8a55-dc07e0211c49",
   "metadata": {
    "tags": []
   },
   "outputs": [],
   "source": [
    "import numpy as np\n",
    "\n",
    "a = ak.Array([\n",
    "    [1, 2, 3],\n",
    "    [4, None],\n",
    "    [],\n",
    "])\n",
    "np.sqrt(a).show()"
   ]
  },
  {
   "cell_type": "markdown",
   "id": "169a6e2c-6b19-49f6-9327-71e1312395ef",
   "metadata": {},
   "source": [
    "More information: https://github.com/jpivarski-talks/2022-07-11-scipy-loopy-tutorial"
   ]
  },
  {
   "cell_type": "code",
   "execution_count": null,
   "id": "5fe00b87-fc01-4ff2-98da-548a4746a684",
   "metadata": {},
   "outputs": [],
   "source": []
  }
 ],
 "metadata": {
  "kernelspec": {
   "display_name": "Python 3 (ipykernel)",
   "language": "python",
   "name": "python3"
  },
  "language_info": {
   "codemirror_mode": {
    "name": "ipython",
    "version": 3
   },
   "file_extension": ".py",
   "mimetype": "text/x-python",
   "name": "python",
   "nbconvert_exporter": "python",
   "pygments_lexer": "ipython3",
   "version": "3.10.8"
  }
 },
 "nbformat": 4,
 "nbformat_minor": 5
}

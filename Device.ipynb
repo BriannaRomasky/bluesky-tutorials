{
 "cells": [
  {
   "cell_type": "markdown",
   "metadata": {},
   "source": [
    "# Device\n",
    "\n",
    "In this notebook you will:\n",
    "\n",
    "* Encapsulate multiple Signals in a Device\n",
    "\n",
    "Recommend Prerequisites:\n",
    "\n",
    "* [Hello Python and Jupyter](./Hello%20Python%20and%20Jupyter.ipynb)\n",
    "* [Epics Signal](./Epics%20Signal.ipynb)"
   ]
  },
  {
   "cell_type": "markdown",
   "metadata": {},
   "source": [
    "## Simulated Hardware\n",
    "Below, we will connect to EPICS IOC(s) controlling simulated hardware in lieu of actual motors, detectors. The IOCs should already be running in the background. Run this command to verify that they are running: it should produce output with RUNNING on each line. In the event of a problem, edit this command to replace `status` with `restart all` and run again."
   ]
  },
  {
   "cell_type": "code",
   "execution_count": null,
   "metadata": {},
   "outputs": [],
   "source": [
    "!supervisorctl -c supervisor/supervisord.conf status"
   ]
  },
  {
   "cell_type": "markdown",
   "metadata": {},
   "source": [
    "## Devices are a heirarchy\n",
    "\n",
    "A `Device` is a hierarchy composed of Signals and other Devices. The components of a Device can be introspected by layers above ophyd and may be decomposed to, ultimately, the underlying Signals."
   ]
  },
  {
   "cell_type": "code",
   "execution_count": null,
   "metadata": {},
   "outputs": [],
   "source": [
    "from ophyd import EpicsSignal, EpicsSignalRO\n",
    "\n",
    "x = EpicsSignal('random_walk:x')\n",
    "dt = EpicsSignal('random_walk:dt')"
   ]
  },
  {
   "cell_type": "markdown",
   "metadata": {},
   "source": [
    "It would be convenient if we could read these as a unit, instead of `x.read(); dt.read()`."
   ]
  },
  {
   "cell_type": "code",
   "execution_count": null,
   "metadata": {},
   "outputs": [],
   "source": [
    "from ophyd import Device, Component\n",
    "\n",
    "class RandomWalk(Device):\n",
    "    x = Component(EpicsSignalRO, ':x')\n",
    "    dt = Component(EpicsSignal, ':dt')\n",
    "    \n",
    "random_walk = RandomWalk('random_walk', name='random_walk')\n",
    "random_walk"
   ]
  },
  {
   "cell_type": "markdown",
   "metadata": {},
   "source": [
    "The `read()` and `describe()` methods walk the hierarchy."
   ]
  },
  {
   "cell_type": "code",
   "execution_count": null,
   "metadata": {},
   "outputs": [],
   "source": [
    "random_walk.read()"
   ]
  },
  {
   "cell_type": "code",
   "execution_count": null,
   "metadata": {},
   "outputs": [],
   "source": [
    "random_walk.x.read()"
   ]
  },
  {
   "cell_type": "code",
   "execution_count": null,
   "metadata": {},
   "outputs": [],
   "source": [
    "random_walk.dt.read()"
   ]
  },
  {
   "cell_type": "code",
   "execution_count": null,
   "metadata": {},
   "outputs": [],
   "source": [
    "random_walk.describe()"
   ]
  },
  {
   "cell_type": "markdown",
   "metadata": {},
   "source": [
    "A Device embodies a certain \"layout\" of components. We can have multiple Devices with different PV prefixes but the same layout."
   ]
  },
  {
   "cell_type": "code",
   "execution_count": null,
   "metadata": {},
   "outputs": [],
   "source": [
    "another_random_walk = RandomWalk('another_random_walk', name='another_random_walk')"
   ]
  },
  {
   "cell_type": "code",
   "execution_count": null,
   "metadata": {},
   "outputs": [],
   "source": [
    "another_random_walk.read()"
   ]
  },
  {
   "cell_type": "markdown",
   "metadata": {},
   "source": [
    "A Device can be made of subdevices."
   ]
  },
  {
   "cell_type": "code",
   "execution_count": null,
   "metadata": {},
   "outputs": [],
   "source": [
    "class RandomWalks(Device):\n",
    "    a = Component(RandomWalk, 'random_walk')\n",
    "    b = Component(RandomWalk, 'another_random_walk')\n",
    "    \n",
    "random_walks = RandomWalks('', name='random_walks')\n",
    "random_walks"
   ]
  },
  {
   "cell_type": "code",
   "execution_count": null,
   "metadata": {},
   "outputs": [],
   "source": [
    "random_walks.read()"
   ]
  },
  {
   "cell_type": "code",
   "execution_count": null,
   "metadata": {},
   "outputs": [],
   "source": [
    "random_walks.a.read()"
   ]
  },
  {
   "cell_type": "code",
   "execution_count": null,
   "metadata": {},
   "outputs": [],
   "source": [
    "random_walks.a.x.read()"
   ]
  },
  {
   "cell_type": "markdown",
   "metadata": {},
   "source": [
    "## Adding a set method to `Device`\n",
    "\n",
    "Sometimes, setting a value to a Signal and knowing when it is \"done\" involves just one PV:"
   ]
  },
  {
   "cell_type": "code",
   "execution_count": null,
   "metadata": {},
   "outputs": [],
   "source": [
    "status = random_walks.a.dt.set(2)"
   ]
  },
  {
   "cell_type": "markdown",
   "metadata": {},
   "source": [
    "In other cases it involves coordination across multiple PVs, such as a setpoint PV nd a readback PV, or a setpoint PV and a \"done\" PV. For those cases, we define a `set` method on the Device to manage the coordination across multiple Signals."
   ]
  },
  {
   "cell_type": "code",
   "execution_count": null,
   "metadata": {},
   "outputs": [],
   "source": [
    "from ophyd import DeviceStatus\n",
    "\n",
    "class Decay(Device):\n",
    "    \"\"\"\n",
    "    A device with a setpoint and readback that decays exponentially toward the setpoint.\n",
    "    \"\"\"\n",
    "    readback = Component(EpicsSignalRO, ':I')\n",
    "    setpoint = Component(EpicsSignal, ':SP')\n",
    "    \n",
    "    def set(self, setpoint):\n",
    "        \"\"\"\n",
    "        Set the setpoint and return a Status object that monitors the readback.\n",
    "        \"\"\"\n",
    "        status = DeviceStatus(self)\n",
    "        \n",
    "        # Wire up a callback that will mark the status object as finished\n",
    "        # when the readback approaches within some tolerance of the setpoint.\n",
    "        def callback(old_value, value, **kwargs):\n",
    "            TOLERANCE = 1  # hard-coded; we'll make this configurable later on...\n",
    "            if abs(value - setpoint) < TOLERANCE:\n",
    "                status._finished()\n",
    "            \n",
    "        self.readback.subscribe(callback)\n",
    "        \n",
    "        # Now 'put' the value.\n",
    "        self.setpoint.put(setpoint)\n",
    "        \n",
    "        # And return the Status object, which the caller can use to\n",
    "        # tell when the action is complete.\n",
    "        return status\n",
    "        \n",
    "    \n",
    "decay = Decay('decay', name='decay')\n",
    "decay"
   ]
  },
  {
   "cell_type": "code",
   "execution_count": null,
   "metadata": {},
   "outputs": [],
   "source": [
    "decay.read()"
   ]
  },
  {
   "cell_type": "code",
   "execution_count": null,
   "metadata": {},
   "outputs": [],
   "source": [
    "status = decay.set(115)"
   ]
  },
  {
   "cell_type": "markdown",
   "metadata": {},
   "source": [
    "We can watch for completion either by registering a callback:"
   ]
  },
  {
   "cell_type": "code",
   "execution_count": null,
   "metadata": {},
   "outputs": [],
   "source": [
    "def callback():\n",
    "    print(\"DONE!\")\n",
    "    \n",
    "status.add_callback(callback)"
   ]
  },
  {
   "cell_type": "markdown",
   "metadata": {},
   "source": [
    "or by polling:"
   ]
  },
  {
   "cell_type": "code",
   "execution_count": null,
   "metadata": {},
   "outputs": [],
   "source": [
    "status = decay.set(120)\n",
    "\n",
    "import time\n",
    "while not status.done:\n",
    "    time.sleep(0.01)  # Make sure to sleep to avoid pinning CPU.\n",
    "print(\"DONE!\")"
   ]
  },
  {
   "cell_type": "markdown",
   "metadata": {},
   "source": [
    "## Adding a `trigger` method to `Device`\n",
    "\n",
    "Like `Device.set`, `Device.trigger` can coordinate across multiple PVs to trigger and detector and tell when it is done triggering.\n",
    "\n",
    "When a bluesky plan obtains a reading from some `device` it typically:\n",
    "\n",
    "* Calls `device.trigger()` and receives back a status object\n",
    "* Waits for that status object to complete (while potentially doing other things, like triggering other detectors in parallel)\n",
    "* Calls `device.read()`"
   ]
  },
  {
   "cell_type": "code",
   "execution_count": null,
   "metadata": {},
   "outputs": [],
   "source": [
    "class TriggeredDetector(Device):\n",
    "    \"\"\"\n",
    "    A detector that requires triggering\n",
    "    \"\"\"\n",
    "    gain = Component(EpicsSignal, ':gain')\n",
    "    exposure_time = Component(EpicsSignal, ':exposure_time')\n",
    "    reading = Component(EpicsSignalRO, ':reading')\n",
    "    acquire = Component(EpicsSignal, ':acquire')\n",
    "    enabled = Component(EpicsSignal, ':enabled')\n",
    "\n",
    "    def trigger(self):\n",
    "        \"\"\"\n",
    "        Trigger the detector and return a Status object.\n",
    "        \"\"\"\n",
    "        status = DeviceStatus(self)\n",
    "        \n",
    "        # Wire up a callback that will mark the status object as finished\n",
    "        # when we see the state flip from \"acquiring\" to \"not acquiring\"---\n",
    "        # that is, a negative edge.\n",
    "        def callback(old_value, value, **kwargs):\n",
    "            if old_value == 1 and value == 0:\n",
    "                status._finished()\n",
    "            \n",
    "        self.readback.subscribe(callback)\n",
    "        \n",
    "        # Now 'put' 1 to the acquire signal.\n",
    "        self.acquire.put(1)        \n",
    "\n",
    "        # And return the Status object, which the caller can use to\n",
    "        # tell when the action is complete.\n",
    "        return status\n",
    "    \n",
    "triggered_detector = TriggeredDetector('trigger_with_pc', name='triggered_detector')"
   ]
  },
  {
   "cell_type": "code",
   "execution_count": null,
   "metadata": {},
   "outputs": [],
   "source": [
    "status = triggered_detector.trigger()"
   ]
  },
  {
   "cell_type": "markdown",
   "metadata": {},
   "source": [
    "This `status` object is exactly the same as the one we got from `set()`. We can check completion by registering a callback or polling."
   ]
  },
  {
   "cell_type": "code",
   "execution_count": null,
   "metadata": {},
   "outputs": [],
   "source": [
    "def callback():\n",
    "    print(\"ACQUISITION COMPLETE\")\n",
    "\n",
    "status.add_callback(callback)"
   ]
  },
  {
   "cell_type": "code",
   "execution_count": null,
   "metadata": {},
   "outputs": [],
   "source": [
    "while not status.done:\n",
    "    time.sleep(0.01)\n",
    "print(\"ACQUISITION COMPLETE!\")"
   ]
  },
  {
   "cell_type": "markdown",
   "metadata": {},
   "source": [
    "### Using put-completion"
   ]
  },
  {
   "cell_type": "code",
   "execution_count": null,
   "metadata": {},
   "outputs": [],
   "source": [
    "class TriggeredDetector(Device):\n",
    "    gain = Component(EpicsSignal, ':gain')\n",
    "    exposure_time = Component(EpicsSignal, ':exposure_time')\n",
    "    reading = Component(EpicsSignalRO, ':reading')\n",
    "    acquire = Component(EpicsSignal, ':acquire')\n",
    "    enabled = Component(EpicsSignal, ':enabled')\n",
    "\n",
    "    def trigger(self):\n",
    "        \"\"\"\n",
    "        Trigger the detector and return a Status object.\n",
    "        \"\"\"\n",
    "        status = self.acquire.set(1)\n",
    "        return status\n",
    "    \n",
    "triggered_detector = TriggeredDetector('trigger_with_pc', name='triggered_detector')"
   ]
  },
  {
   "cell_type": "code",
   "execution_count": null,
   "metadata": {},
   "outputs": [],
   "source": [
    "status = triggered_detector.trigger()"
   ]
  },
  {
   "cell_type": "markdown",
   "metadata": {},
   "source": [
    "## Status objects\n",
    "\n",
    "Status objects are like rich Futures. They know whether they are `done`, whether their action finished in `success` or not, and they hold a reference to the `device` that they came from, which can be useful to debugging failures. The `status.watch()` may be used to subscribe to incremental progress updates and is used by bluesky to display progress bars during sets and triggers."
   ]
  },
  {
   "cell_type": "code",
   "execution_count": null,
   "metadata": {},
   "outputs": [],
   "source": [
    "status"
   ]
  },
  {
   "cell_type": "code",
   "execution_count": null,
   "metadata": {},
   "outputs": [],
   "source": [
    "status.success"
   ]
  },
  {
   "cell_type": "code",
   "execution_count": null,
   "metadata": {},
   "outputs": [],
   "source": [
    "status.device"
   ]
  },
  {
   "cell_type": "markdown",
   "metadata": {},
   "source": [
    "## Sorting components into \"kinds\""
   ]
  },
  {
   "cell_type": "code",
   "execution_count": null,
   "metadata": {},
   "outputs": [],
   "source": [
    "triggered_detector.read()"
   ]
  },
  {
   "cell_type": "code",
   "execution_count": null,
   "metadata": {},
   "outputs": [],
   "source": [
    "class TriggeredDetector(Device):\n",
    "    \"\"\"\n",
    "    A detector that requires triggering\n",
    "    \"\"\"\n",
    "    gain = Component(EpicsSignal, ':gain', kind='CONFIG')\n",
    "    exposure_time = Component(EpicsSignal, ':exposure_time', kind='CONFIG')\n",
    "    reading = Component(EpicsSignalRO, ':reading', kind='NORMAL')\n",
    "    acquire = Component(EpicsSignal, ':acquire', kind='OMITTED')\n",
    "    enabled = Component(EpicsSignal, ':enabled', kind='OMITTED')\n",
    "\n",
    "    def trigger(self):\n",
    "        \"\"\"\n",
    "        Trigger the detector and return a Status object.\n",
    "        \"\"\"\n",
    "        status = self.acquire.set(1)\n",
    "        return status\n",
    "    \n",
    "triggered_detector = TriggeredDetector('trigger_with_pc', name='triggered_detector')"
   ]
  },
  {
   "cell_type": "code",
   "execution_count": null,
   "metadata": {},
   "outputs": [],
   "source": [
    "triggered_detector.read()"
   ]
  },
  {
   "cell_type": "code",
   "execution_count": null,
   "metadata": {},
   "outputs": [],
   "source": [
    "triggered_detector.read_configuration()"
   ]
  },
  {
   "cell_type": "code",
   "execution_count": null,
   "metadata": {},
   "outputs": [],
   "source": [
    "triggered_detector.reading.kind"
   ]
  },
  {
   "cell_type": "code",
   "execution_count": null,
   "metadata": {},
   "outputs": [],
   "source": [
    "triggered_detector.reading.kind = 'HINTED'\n",
    "triggered_detector.reading.kind"
   ]
  },
  {
   "cell_type": "code",
   "execution_count": null,
   "metadata": {},
   "outputs": [],
   "source": [
    "triggered_detector.hints"
   ]
  },
  {
   "cell_type": "markdown",
   "metadata": {},
   "source": [
    "## Staging and unstaging\n",
    "\n",
    "Above we said that when bluesky obtains a reading from some `device` it typically:\n",
    "\n",
    "* Calls `device.trigger()` and receives back a status object\n",
    "* Waits for that status object to complete (while potentially doing other things, like triggering other detectors in parallel)\n",
    "* Calls `device.read()`\n",
    "\n",
    "If it obtains multiple readings in sequence, it repeats this trigger/wait/read cycle. At "
   ]
  },
  {
   "cell_type": "code",
   "execution_count": null,
   "metadata": {},
   "outputs": [],
   "source": [
    "from ophyd import set_and_wait\n",
    "\n",
    "class TriggeredDetector(Device):\n",
    "    \"\"\"\n",
    "    A detector that requires triggering\n",
    "    \"\"\"\n",
    "    gain = Component(EpicsSignal, ':gain', kind='CONFIG')\n",
    "    exposure_time = Component(EpicsSignal, ':exposure_time', kind='CONFIG')\n",
    "    reading = Component(EpicsSignalRO, ':reading', kind='NORMAL')\n",
    "    acquire = Component(EpicsSignal, ':acquire', kind='OMITTED')\n",
    "    enabled = Component(EpicsSignal, ':enabled', kind='OMITTED')\n",
    "\n",
    "    def trigger(self):\n",
    "        \"\"\"\n",
    "        Trigger the detector and return a Status object.\n",
    "        \"\"\"\n",
    "        status = self.acquire.set(1)\n",
    "        return status\n",
    "    \n",
    "    def stage(self):\n",
    "        self.initial_enabled_state = self.enabled.get()\n",
    "        set_and_wait(self.enabled, 1)\n",
    "        return super().stage()\n",
    "    \n",
    "    def unstage(self):\n",
    "        ret =  super().unstage()\n",
    "        set_and_wait(self.enabled, self.initial_enabled_state)\n",
    "        return ret\n",
    "    \n",
    "triggered_detector = TriggeredDetector('trigger_with_pc', name='triggered_detector')"
   ]
  },
  {
   "cell_type": "code",
   "execution_count": null,
   "metadata": {},
   "outputs": [],
   "source": [
    "triggered_detector.enabled.put(0)\n",
    "triggered_detector.enabled.get()"
   ]
  },
  {
   "cell_type": "code",
   "execution_count": null,
   "metadata": {},
   "outputs": [],
   "source": [
    "triggered_detector.stage()"
   ]
  },
  {
   "cell_type": "code",
   "execution_count": null,
   "metadata": {},
   "outputs": [],
   "source": [
    "triggered_detector.enabled.get()"
   ]
  },
  {
   "cell_type": "code",
   "execution_count": null,
   "metadata": {},
   "outputs": [],
   "source": [
    "status = triggered_detector.trigger()"
   ]
  },
  {
   "cell_type": "code",
   "execution_count": null,
   "metadata": {},
   "outputs": [],
   "source": [
    "while not status.done:\n",
    "    time.sleep(0.01)"
   ]
  },
  {
   "cell_type": "code",
   "execution_count": null,
   "metadata": {},
   "outputs": [],
   "source": [
    "triggered_detector.read()"
   ]
  },
  {
   "cell_type": "code",
   "execution_count": null,
   "metadata": {},
   "outputs": [],
   "source": [
    "triggered_detector.unstage()"
   ]
  },
  {
   "cell_type": "code",
   "execution_count": null,
   "metadata": {},
   "outputs": [],
   "source": [
    "triggered_detector.enabled.get()"
   ]
  },
  {
   "cell_type": "markdown",
   "metadata": {},
   "source": [
    "### A convenient shorthand for common simple cases: `stage_sigs`"
   ]
  },
  {
   "cell_type": "markdown",
   "metadata": {},
   "source": [
    "## Customizing cleanup via `stop`, `resume`, `pause`"
   ]
  },
  {
   "cell_type": "code",
   "execution_count": null,
   "metadata": {},
   "outputs": [],
   "source": [
    "triggered_detector.exposure_time.get()"
   ]
  },
  {
   "cell_type": "code",
   "execution_count": null,
   "metadata": {},
   "outputs": [],
   "source": []
  }
 ],
 "metadata": {
  "kernelspec": {
   "display_name": "Python 3",
   "language": "python",
   "name": "python3"
  },
  "language_info": {
   "codemirror_mode": {
    "name": "ipython",
    "version": 3
   },
   "file_extension": ".py",
   "mimetype": "text/x-python",
   "name": "python",
   "nbconvert_exporter": "python",
   "pygments_lexer": "ipython3",
   "version": "3.6.5"
  }
 },
 "nbformat": 4,
 "nbformat_minor": 2
}

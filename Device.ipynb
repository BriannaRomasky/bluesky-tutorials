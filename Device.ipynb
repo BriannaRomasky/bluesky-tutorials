{
 "cells": [
  {
   "cell_type": "markdown",
   "metadata": {},
   "source": [
    "# Device\n",
    "\n",
    "In this notebook you will:\n",
    "\n",
    "* Encapsulate multiple Signals in a Device\n",
    "\n",
    "Recommend Prerequisites:\n",
    "\n",
    "* [Hello Python and Jupyter](./Hello%20Python%20and%20Jupyter.ipynb)\n",
    "* [Epics Signal](./Epics%20Signal.ipynb)"
   ]
  },
  {
   "cell_type": "markdown",
   "metadata": {},
   "source": [
    "## Simulated Hardware\n",
    "Below, we will connect to EPICS IOC(s) controlling simulated hardware in lieu of actual motors, detectors. The IOCs should already be running in the background. Run this command to verify that they are running: it should produce output with RUNNING on each line. In the event of a problem, edit this command to replace `status` with `restart all` and run again."
   ]
  },
  {
   "cell_type": "code",
   "execution_count": 1,
   "metadata": {},
   "outputs": [
    {
     "name": "stdout",
     "output_type": "stream",
     "text": [
      "another_random_walk              RUNNING   pid 4651, uptime 10:02:22\n",
      "decay                            RUNNING   pid 19219, uptime 0:14:33\n",
      "mini_beamline                    RUNNING   pid 4704, uptime 14:41:21\n",
      "random_walk                      RUNNING   pid 4702, uptime 14:41:21\n",
      "simple                           RUNNING   pid 4703, uptime 14:41:21\n",
      "thermo_sim                       RUNNING   pid 2106, uptime 10:29:01\n",
      "trigger_with_pc                  RUNNING   pid 4705, uptime 14:41:21\n"
     ]
    }
   ],
   "source": [
    "!supervisorctl -c supervisor/supervisord.conf status"
   ]
  },
  {
   "cell_type": "markdown",
   "metadata": {},
   "source": [
    "## Devices are a heirarchy\n",
    "\n",
    "A `Device` is a hierarchy composed of Signals and other Devices. The components of a Device can be introspected by layers above ophyd and may be decomposed to, ultimately, the underlying Signals."
   ]
  },
  {
   "cell_type": "code",
   "execution_count": 2,
   "metadata": {},
   "outputs": [],
   "source": [
    "from ophyd import EpicsSignal, EpicsSignalRO\n",
    "\n",
    "x = EpicsSignal('random_walk:x')\n",
    "dt = EpicsSignal('random_walk:dt')"
   ]
  },
  {
   "cell_type": "markdown",
   "metadata": {},
   "source": [
    "It would be convenient if we could read these as a unit, instead of `x.read(); dt.read()`."
   ]
  },
  {
   "cell_type": "code",
   "execution_count": 3,
   "metadata": {},
   "outputs": [
    {
     "data": {
      "text/plain": [
       "RandomWalk(prefix='random_walk', name='random_walk', read_attrs=['x', 'dt'], configuration_attrs=[])"
      ]
     },
     "execution_count": 3,
     "metadata": {},
     "output_type": "execute_result"
    }
   ],
   "source": [
    "from ophyd import Device, Component\n",
    "\n",
    "class RandomWalk(Device):\n",
    "    x = Component(EpicsSignalRO, ':x')\n",
    "    dt = Component(EpicsSignal, ':dt')\n",
    "    \n",
    "random_walk = RandomWalk('random_walk', name='random_walk')\n",
    "random_walk"
   ]
  },
  {
   "cell_type": "markdown",
   "metadata": {},
   "source": [
    "The `read()` and `describe()` methods walk the hierarchy."
   ]
  },
  {
   "cell_type": "code",
   "execution_count": 4,
   "metadata": {},
   "outputs": [
    {
     "data": {
      "text/plain": [
       "OrderedDict([('random_walk_x',\n",
       "              {'value': 5.399934643233662, 'timestamp': 1555322208.884386}),\n",
       "             ('random_walk_dt',\n",
       "              {'value': 2.0, 'timestamp': 1555321483.939717})])"
      ]
     },
     "execution_count": 4,
     "metadata": {},
     "output_type": "execute_result"
    }
   ],
   "source": [
    "random_walk.read()"
   ]
  },
  {
   "cell_type": "code",
   "execution_count": 5,
   "metadata": {},
   "outputs": [
    {
     "data": {
      "text/plain": [
       "{'random_walk_x': {'value': 5.399934643233662, 'timestamp': 1555322208.884386}}"
      ]
     },
     "execution_count": 5,
     "metadata": {},
     "output_type": "execute_result"
    }
   ],
   "source": [
    "random_walk.x.read()"
   ]
  },
  {
   "cell_type": "code",
   "execution_count": 6,
   "metadata": {},
   "outputs": [
    {
     "data": {
      "text/plain": [
       "{'random_walk_dt': {'value': 2.0, 'timestamp': 1555321483.939717}}"
      ]
     },
     "execution_count": 6,
     "metadata": {},
     "output_type": "execute_result"
    }
   ],
   "source": [
    "random_walk.dt.read()"
   ]
  },
  {
   "cell_type": "code",
   "execution_count": 7,
   "metadata": {},
   "outputs": [
    {
     "data": {
      "text/plain": [
       "OrderedDict([('random_walk_x',\n",
       "              {'source': 'PV:random_walk:x',\n",
       "               'dtype': 'number',\n",
       "               'shape': [],\n",
       "               'units': '',\n",
       "               'lower_ctrl_limit': 0.0,\n",
       "               'upper_ctrl_limit': 0.0,\n",
       "               'precision': 0}),\n",
       "             ('random_walk_dt',\n",
       "              {'source': 'PV:random_walk:dt',\n",
       "               'dtype': 'number',\n",
       "               'shape': [],\n",
       "               'units': '',\n",
       "               'lower_ctrl_limit': 0.0,\n",
       "               'upper_ctrl_limit': 0.0,\n",
       "               'precision': 0})])"
      ]
     },
     "execution_count": 7,
     "metadata": {},
     "output_type": "execute_result"
    }
   ],
   "source": [
    "random_walk.describe()"
   ]
  },
  {
   "cell_type": "markdown",
   "metadata": {},
   "source": [
    "A Device embodies a certain \"layout\" of components. We can have multiple Devices with different PV prefixes but the same layout."
   ]
  },
  {
   "cell_type": "code",
   "execution_count": 8,
   "metadata": {},
   "outputs": [],
   "source": [
    "another_random_walk = RandomWalk('another_random_walk', name='another_random_walk')"
   ]
  },
  {
   "cell_type": "code",
   "execution_count": 9,
   "metadata": {},
   "outputs": [
    {
     "data": {
      "text/plain": [
       "OrderedDict([('another_random_walk_x',\n",
       "              {'value': 41.54585527008535, 'timestamp': 1555322208.665025}),\n",
       "             ('another_random_walk_dt',\n",
       "              {'value': 3.0, 'timestamp': 1555286063.982111})])"
      ]
     },
     "execution_count": 9,
     "metadata": {},
     "output_type": "execute_result"
    }
   ],
   "source": [
    "another_random_walk.read()"
   ]
  },
  {
   "cell_type": "markdown",
   "metadata": {},
   "source": [
    "A Device can be made of subdevices."
   ]
  },
  {
   "cell_type": "code",
   "execution_count": 10,
   "metadata": {},
   "outputs": [
    {
     "data": {
      "text/plain": [
       "RandomWalks(prefix='', name='random_walks', read_attrs=['a', 'a.x', 'a.dt', 'b', 'b.x', 'b.dt'], configuration_attrs=['a', 'b'])"
      ]
     },
     "execution_count": 10,
     "metadata": {},
     "output_type": "execute_result"
    }
   ],
   "source": [
    "class RandomWalks(Device):\n",
    "    a = Component(RandomWalk, 'random_walk')\n",
    "    b = Component(RandomWalk, 'another_random_walk')\n",
    "    \n",
    "random_walks = RandomWalks('', name='random_walks')\n",
    "random_walks"
   ]
  },
  {
   "cell_type": "code",
   "execution_count": 11,
   "metadata": {},
   "outputs": [
    {
     "data": {
      "text/plain": [
       "OrderedDict([('random_walks_a_x',\n",
       "              {'value': 6.003945764554269, 'timestamp': 1555322210.88516}),\n",
       "             ('random_walks_a_dt',\n",
       "              {'value': 2.0, 'timestamp': 1555321483.939717}),\n",
       "             ('random_walks_b_x',\n",
       "              {'value': 41.54585527008535, 'timestamp': 1555322208.665025}),\n",
       "             ('random_walks_b_dt',\n",
       "              {'value': 3.0, 'timestamp': 1555286063.982111})])"
      ]
     },
     "execution_count": 11,
     "metadata": {},
     "output_type": "execute_result"
    }
   ],
   "source": [
    "random_walks.read()"
   ]
  },
  {
   "cell_type": "code",
   "execution_count": 12,
   "metadata": {},
   "outputs": [
    {
     "data": {
      "text/plain": [
       "OrderedDict([('random_walks_a_x',\n",
       "              {'value': 6.003945764554269, 'timestamp': 1555322210.88516}),\n",
       "             ('random_walks_a_dt',\n",
       "              {'value': 2.0, 'timestamp': 1555321483.939717})])"
      ]
     },
     "execution_count": 12,
     "metadata": {},
     "output_type": "execute_result"
    }
   ],
   "source": [
    "random_walks.a.read()"
   ]
  },
  {
   "cell_type": "code",
   "execution_count": 13,
   "metadata": {},
   "outputs": [
    {
     "data": {
      "text/plain": [
       "{'random_walks_a_x': {'value': 6.003945764554269,\n",
       "  'timestamp': 1555322210.88516}}"
      ]
     },
     "execution_count": 13,
     "metadata": {},
     "output_type": "execute_result"
    }
   ],
   "source": [
    "random_walks.a.x.read()"
   ]
  },
  {
   "cell_type": "markdown",
   "metadata": {},
   "source": [
    "## Adding a set method to `Device`\n",
    "\n",
    "Sometimes, setting a value to a Signal and knowing when it is \"done\" involves just one PV:"
   ]
  },
  {
   "cell_type": "code",
   "execution_count": 14,
   "metadata": {},
   "outputs": [],
   "source": [
    "status = random_walks.a.dt.set(2)"
   ]
  },
  {
   "cell_type": "markdown",
   "metadata": {},
   "source": [
    "In other cases it involves coordination across multiple PVs, such as a setpoint PV nd a readback PV, or a setpoint PV and a \"done\" PV. For those cases, we define a `set` method on the Device to manage the coordination across multiple Signals."
   ]
  },
  {
   "cell_type": "code",
   "execution_count": 22,
   "metadata": {},
   "outputs": [
    {
     "data": {
      "text/plain": [
       "Decay(prefix='decay', name='decay', read_attrs=['readback', 'setpoint'], configuration_attrs=[])"
      ]
     },
     "execution_count": 22,
     "metadata": {},
     "output_type": "execute_result"
    }
   ],
   "source": [
    "from ophyd import DeviceStatus\n",
    "\n",
    "class Decay(Device):\n",
    "    readback = Component(EpicsSignalRO, ':I')\n",
    "    setpoint = Component(EpicsSignal, ':SP')\n",
    "    \n",
    "    def set(self, setpoint):\n",
    "        \"\"\"\n",
    "        Set the setpoint and return a Status object that monitors the readback.\n",
    "        \"\"\"\n",
    "        status = DeviceStatus(self)\n",
    "        \n",
    "        # Wire up a callback that will mark the status object as finished\n",
    "        # when the readback approaches within some tolerance of the setpoint.\n",
    "        def callback(old_value, value, **kwargs):\n",
    "            TOLERANCE = 1  # hard-coded; we'll make this configurable later on...\n",
    "            if abs(value - setpoint) < TOLERANCE:\n",
    "                status._finished()\n",
    "            \n",
    "        self.readback.subscribe(callback)\n",
    "        \n",
    "        # Now 'put' the value.\n",
    "        self.setpoint.put(setpoint)\n",
    "        \n",
    "        # And return the Status object, which the caller can use to\n",
    "        # tell when the action is complete.\n",
    "        return status\n",
    "        \n",
    "    \n",
    "decay = Decay('decay', name='decay')\n",
    "decay"
   ]
  },
  {
   "cell_type": "code",
   "execution_count": 33,
   "metadata": {},
   "outputs": [
    {
     "data": {
      "text/plain": [
       "OrderedDict([('decay_readback',\n",
       "              {'value': 120.98177665911605, 'timestamp': 1555322299.327124}),\n",
       "             ('decay_setpoint',\n",
       "              {'value': 120.0, 'timestamp': 1555322276.117141})])"
      ]
     },
     "execution_count": 33,
     "metadata": {},
     "output_type": "execute_result"
    }
   ],
   "source": [
    "decay.read()"
   ]
  },
  {
   "cell_type": "code",
   "execution_count": 26,
   "metadata": {},
   "outputs": [],
   "source": [
    "status = decay.set(115)"
   ]
  },
  {
   "cell_type": "markdown",
   "metadata": {},
   "source": [
    "We can watch for completion either by registering a callback:"
   ]
  },
  {
   "cell_type": "code",
   "execution_count": 27,
   "metadata": {},
   "outputs": [],
   "source": [
    "def callback():\n",
    "    print(\"DONE!\")\n",
    "    \n",
    "status.add_callback(callback)"
   ]
  },
  {
   "cell_type": "markdown",
   "metadata": {},
   "source": [
    "or by polling:"
   ]
  },
  {
   "cell_type": "code",
   "execution_count": 35,
   "metadata": {},
   "outputs": [
    {
     "name": "stdout",
     "output_type": "stream",
     "text": [
      "DONE!\n"
     ]
    }
   ],
   "source": [
    "status = decay.set(120)\n",
    "\n",
    "import time\n",
    "while not status.done:\n",
    "    time.sleep(0.01)  # Make sure to sleep to avoid pinning CPU.\n",
    "print(\"DONE!\")"
   ]
  },
  {
   "cell_type": "markdown",
   "metadata": {},
   "source": [
    "## Adding a `trigger` method to `Device`\n",
    "\n",
    "Like `Device.set`, `Device.trigger` can coordinate across multiple PVs to trigger and detector and tell when it is done triggering."
   ]
  },
  {
   "cell_type": "code",
   "execution_count": null,
   "metadata": {},
   "outputs": [],
   "source": [
    "class TriggeredDetector(Device):\n",
    "    gain = Component(EpicsSignal, ':gain')\n",
    "    exposure_time = Component(EpicsSignal, ':exposure_time')\n",
    "    reading = Component(EpicsSignalRO, ':reading')\n",
    "    acquire = Component(EpicsSignal, ':acquire')\n",
    "    enabled = Component(EpicsSignal, ':enabled')\n",
    "\n",
    "    def trigger(self):\n",
    "        \"\"\"\n",
    "        Trigger the detector and return a Status object.\n",
    "        \"\"\"\n",
    "        status = DeviceStatus(self)\n",
    "        \n",
    "        # Wire up a callback that will mark the status object as finished\n",
    "        # when the readback approaches within some tolerance of the setpoint.\n",
    "        def callback(old_value, value, **kwargs):\n",
    "            TOLERANCE = 1  # hard-coded for now...\n",
    "            if abs(value - setpoint) < TOLERANCE:\n",
    "                status._finished()\n",
    "            \n",
    "        self.readback.subscribe(callback)\n",
    "        \n",
    "        # Now 'put' the value.\n",
    "        self.setpoint.put(setpoint)\n",
    "        \n",
    "        # And return the Status object, which the caller can use to\n",
    "        # tell when the action is complete.\n",
    "        return status"
   ]
  },
  {
   "cell_type": "markdown",
   "metadata": {},
   "source": [
    "## Sorting components into \"kinds\""
   ]
  },
  {
   "cell_type": "markdown",
   "metadata": {},
   "source": [
    "## Staging and unstaging\n",
    "\n",
    "### `stage_sigs`"
   ]
  },
  {
   "cell_type": "markdown",
   "metadata": {},
   "source": [
    "## Customizing cleanup via `stop`, `resume`, `pause`"
   ]
  },
  {
   "cell_type": "code",
   "execution_count": null,
   "metadata": {},
   "outputs": [],
   "source": []
  }
 ],
 "metadata": {
  "kernelspec": {
   "display_name": "Python 3",
   "language": "python",
   "name": "python3"
  },
  "language_info": {
   "codemirror_mode": {
    "name": "ipython",
    "version": 3
   },
   "file_extension": ".py",
   "mimetype": "text/x-python",
   "name": "python",
   "nbconvert_exporter": "python",
   "pygments_lexer": "ipython3",
   "version": "3.6.5"
  }
 },
 "nbformat": 4,
 "nbformat_minor": 2
}

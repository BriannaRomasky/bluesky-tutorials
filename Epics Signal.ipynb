{
 "cells": [
  {
   "cell_type": "markdown",
   "metadata": {},
   "source": [
    "# Epics Signal\n",
    "\n",
    "In this notebook you will:\n",
    "\n",
    "* Connect to some simulated hardware using `EpicsSignal`\n",
    "* Explore the `EpicsSignal` interface.\n",
    "\n",
    "Recommend Prerequisites:\n",
    "\n",
    "* [Hello Python and Jupyter](./Hello%20Python%20and%20Jupyter.ipynb)"
   ]
  },
  {
   "cell_type": "markdown",
   "metadata": {},
   "source": [
    "## Simulated Hardware\n",
    "Below, we will connect to EPICS IOC(s) controlling simulated hardware in lieu of actual motors, detectors. The IOCs should already be running in the background. Run this command to verify that they are running: it should produce output with RUNNING on each line. In the event of a problem, edit this command to replace `status` with `restart all` and run again."
   ]
  },
  {
   "cell_type": "code",
   "execution_count": 1,
   "metadata": {},
   "outputs": [
    {
     "name": "stdout",
     "output_type": "stream",
     "text": [
      "mini_beamline                    RUNNING   pid 4704, uptime 1:33:25\n",
      "random_walk                      RUNNING   pid 4702, uptime 1:33:25\n",
      "simple                           RUNNING   pid 4703, uptime 1:33:25\n",
      "trigger_with_pc                  RUNNING   pid 4705, uptime 1:33:25\n"
     ]
    }
   ],
   "source": [
    "!supervisorctl -c supervisor/supervisord.conf status"
   ]
  },
  {
   "cell_type": "markdown",
   "metadata": {},
   "source": [
    "## Hello, EpicsSignal\n",
    "\n",
    "An `EpicsSignal` is ophyd's representation of a single EPICS channel or a pair of channels, one readable and one writeable."
   ]
  },
  {
   "cell_type": "code",
   "execution_count": 10,
   "metadata": {},
   "outputs": [],
   "source": [
    "from ophyd import EpicsSignal"
   ]
  },
  {
   "cell_type": "code",
   "execution_count": 11,
   "metadata": {},
   "outputs": [],
   "source": [
    "a = EpicsSignal('simple:A', name='a')"
   ]
  },
  {
   "cell_type": "code",
   "execution_count": 12,
   "metadata": {},
   "outputs": [
    {
     "data": {
      "text/plain": [
       "EpicsSignal(read_pv='simple:A', name='a', value=1, timestamp=1555269325.278924, auto_monitor=False, string=False, write_pv='simple:A', limits=False, put_complete=False)"
      ]
     },
     "execution_count": 12,
     "metadata": {},
     "output_type": "execute_result"
    }
   ],
   "source": [
    "a"
   ]
  },
  {
   "cell_type": "code",
   "execution_count": 13,
   "metadata": {},
   "outputs": [
    {
     "data": {
      "text/plain": [
       "'a'"
      ]
     },
     "execution_count": 13,
     "metadata": {},
     "output_type": "execute_result"
    }
   ],
   "source": [
    "a.name  # human-friendly label, which will be encoded in 'documents' emitted by bluesky"
   ]
  },
  {
   "cell_type": "code",
   "execution_count": 14,
   "metadata": {},
   "outputs": [
    {
     "data": {
      "text/plain": [
       "1"
      ]
     },
     "execution_count": 14,
     "metadata": {},
     "output_type": "execute_result"
    }
   ],
   "source": [
    "a.get()"
   ]
  },
  {
   "cell_type": "code",
   "execution_count": 18,
   "metadata": {},
   "outputs": [
    {
     "data": {
      "text/plain": [
       "3"
      ]
     },
     "execution_count": 18,
     "metadata": {},
     "output_type": "execute_result"
    }
   ],
   "source": [
    "a.put(3)\n",
    "a.get()"
   ]
  },
  {
   "cell_type": "code",
   "execution_count": 16,
   "metadata": {},
   "outputs": [
    {
     "data": {
      "text/plain": [
       "{'a': {'value': 3, 'timestamp': 1555280285.288266}}"
      ]
     },
     "execution_count": 16,
     "metadata": {},
     "output_type": "execute_result"
    }
   ],
   "source": [
    "a.read()"
   ]
  },
  {
   "cell_type": "code",
   "execution_count": 17,
   "metadata": {},
   "outputs": [
    {
     "data": {
      "text/plain": [
       "{'a': {'source': 'PV:simple:A',\n",
       "  'dtype': 'integer',\n",
       "  'shape': [],\n",
       "  'units': '',\n",
       "  'lower_ctrl_limit': 0,\n",
       "  'upper_ctrl_limit': 0}}"
      ]
     },
     "execution_count": 17,
     "metadata": {},
     "output_type": "execute_result"
    }
   ],
   "source": [
    "a.describe()"
   ]
  },
  {
   "cell_type": "code",
   "execution_count": 19,
   "metadata": {},
   "outputs": [
    {
     "data": {
      "text/plain": [
       "True"
      ]
     },
     "execution_count": 19,
     "metadata": {},
     "output_type": "execute_result"
    }
   ],
   "source": [
    "a.connected"
   ]
  },
  {
   "cell_type": "code",
   "execution_count": 20,
   "metadata": {},
   "outputs": [],
   "source": [
    "a.wait_for_connection()"
   ]
  },
  {
   "cell_type": "code",
   "execution_count": null,
   "metadata": {},
   "outputs": [],
   "source": []
  },
  {
   "cell_type": "markdown",
   "metadata": {},
   "source": [
    "## Exercise\n",
    "\n",
    "Instaniate an `EpicsSignal` that is connect to some made-up PV that does not exist, as in:\n",
    "\n",
    "```py\n",
    "broken = EpicsSignal('THIS_IS_NOT_A_THING', name='broken')\n",
    "```\n",
    "\n",
    "What does `broken.connected` do? What about `broken.wait_for_connection()`? And `broken.read()`?"
   ]
  },
  {
   "cell_type": "code",
   "execution_count": null,
   "metadata": {},
   "outputs": [],
   "source": []
  },
  {
   "cell_type": "code",
   "execution_count": null,
   "metadata": {},
   "outputs": [],
   "source": []
  },
  {
   "cell_type": "code",
   "execution_count": null,
   "metadata": {},
   "outputs": [],
   "source": []
  },
  {
   "cell_type": "code",
   "execution_count": null,
   "metadata": {},
   "outputs": [],
   "source": []
  },
  {
   "cell_type": "markdown",
   "metadata": {},
   "source": [
    "## Read-only"
   ]
  },
  {
   "cell_type": "markdown",
   "metadata": {},
   "source": [
    "The `EpicsSignalRO` represents a read-only signal. It can't be put to."
   ]
  },
  {
   "cell_type": "code",
   "execution_count": 44,
   "metadata": {},
   "outputs": [],
   "source": [
    "from ophyd import EpicsSignalRO\n",
    "\n",
    "x = EpicsSignalRO('random_walk:x', name='x')"
   ]
  },
  {
   "cell_type": "code",
   "execution_count": 45,
   "metadata": {},
   "outputs": [
    {
     "data": {
      "text/plain": [
       "0.9002995284235864"
      ]
     },
     "execution_count": 45,
     "metadata": {},
     "output_type": "execute_result"
    }
   ],
   "source": [
    "x.get()"
   ]
  },
  {
   "cell_type": "markdown",
   "metadata": {},
   "source": [
    "Try putting a value to `x` It will raise a `ReadOnlyError`."
   ]
  },
  {
   "cell_type": "code",
   "execution_count": null,
   "metadata": {},
   "outputs": [],
   "source": []
  },
  {
   "cell_type": "markdown",
   "metadata": {},
   "source": [
    "## A read--write pair\n",
    "\n",
    "Sometimes the readback and setpoint are different PVs. We can group them into one `EpicsSignal`."
   ]
  },
  {
   "cell_type": "code",
   "execution_count": null,
   "metadata": {},
   "outputs": [],
   "source": [
    "= EpicsSignal('trigger_with_pc:setpoint', write_pv='trigger_with_pc:readback')\n"
   ]
  },
  {
   "cell_type": "markdown",
   "metadata": {},
   "source": [
    "## Accessing the PV name for debugging\n",
    "\n",
    "When we have *many* signals in play, it can be useful to as a Signal which PV it is connected to (or attempting to connect to)."
   ]
  },
  {
   "cell_type": "code",
   "execution_count": 28,
   "metadata": {},
   "outputs": [
    {
     "data": {
      "text/plain": [
       "'simple:A'"
      ]
     },
     "execution_count": 28,
     "metadata": {},
     "output_type": "execute_result"
    }
   ],
   "source": [
    "a.pvname  # PV name we gave above"
   ]
  },
  {
   "cell_type": "markdown",
   "metadata": {},
   "source": [
    "If ophyd is failing to connect, we can try to isolate the problem by using another Channel Access client like `caget` or `caproto-get`."
   ]
  },
  {
   "cell_type": "code",
   "execution_count": 30,
   "metadata": {},
   "outputs": [
    {
     "name": "stdout",
     "output_type": "stream",
     "text": [
      "simple:A                                  [3]\n"
     ]
    }
   ],
   "source": [
    "!caproto-get 'simple:A'"
   ]
  },
  {
   "cell_type": "markdown",
   "metadata": {},
   "source": [
    "We can add verbose output to learn more about which server this is from, etc."
   ]
  },
  {
   "cell_type": "code",
   "execution_count": 31,
   "metadata": {},
   "outputs": [
    {
     "name": "stdout",
     "output_type": "stream",
     "text": [
      "[D 18:33:48.516 client:53] Registering with the Channel Access repeater.\n",
      "[D 18:33:48.517 client:63] Searching for 'simple:A'....\n",
      "[D 18:33:48.519 client:80] Search request sent to ('255.255.255.255', 5064).\n",
      "[D 18:33:48.519 client:120] Found simple:A at ('192.168.86.21', 58091)\n",
      "[I 18:33:48.568 client:168] simple:A connected\n",
      "[D 18:33:48.568 client:184] Detected native data_type <ChannelType.LONG: 5>.\n",
      "simple:A                                  [3]\n"
     ]
    }
   ],
   "source": [
    "!caproto-get -v 'simple:A'"
   ]
  },
  {
   "cell_type": "code",
   "execution_count": 32,
   "metadata": {},
   "outputs": [
    {
     "name": "stdout",
     "output_type": "stream",
     "text": [
      "[D 18:33:57.503 repeater:221] Another repeater is already running; will not spawn one.\n",
      "[D 18:33:57.504 client:53] Registering with the Channel Access repeater.\n",
      "[D 18:33:57.504 _broadcaster:74] Serializing 1 commands into one datagram\n",
      "[D 18:33:57.504 _broadcaster:77] 1 of 1 RepeaterRegisterRequest(client_address='0.0.0.0')\n",
      "[D 18:33:57.506 client:63] Searching for 'simple:A'....\n",
      "[D 18:33:57.506 _broadcaster:74] Serializing 2 commands into one datagram\n",
      "[D 18:33:57.506 _broadcaster:77] 1 of 2 VersionRequest(priority=0, version=13)\n",
      "[D 18:33:57.506 _broadcaster:77] 2 of 2 SearchRequest(name='simple:A', cid=0, version=13, reply=5)\n",
      "[D 18:33:57.508 client:80] Search request sent to ('255.255.255.255', 5064).\n",
      "[D 18:33:57.508 _broadcaster:101] Received datagram from 192.168.86.21:5065 with 16 bytes.\n",
      "[D 18:33:57.508 _broadcaster:109] 16 bytes -> RepeaterConfirmResponse(repeater_address='192.168.86.21')\n",
      "[D 18:33:57.508 _broadcaster:101] Received datagram from 192.168.86.21:5064 with 40 bytes.\n",
      "[D 18:33:57.508 _broadcaster:109] 16 bytes -> VersionResponse(version=13)\n",
      "[D 18:33:57.508 _broadcaster:109] 24 bytes -> SearchResponse(port=58091, ip='255.255.255.255', cid=0, version=13)\n",
      "[D 18:33:57.509 client:120] Found simple:A at ('192.168.86.21', 58091)\n",
      "[D 18:33:57.512 _circuit:157] Serializing VersionRequest(priority=0, version=13)\n",
      "[D 18:33:57.512 _circuit:157] Serializing HostNameRequest(name='pop-os')\n",
      "[D 18:33:57.513 _circuit:157] Serializing ClientNameRequest(name='dallan')\n",
      "[D 18:33:57.514 _circuit:157] Serializing CreateChanRequest(name='simple:A', cid=0, version=13)\n",
      "[D 18:33:57.514 _circuit:186] Received 16 bytes.\n",
      "[D 18:33:57.514 _circuit:195] 16 bytes -> VersionResponse(version=13)\n",
      "[D 18:33:57.556 _circuit:186] Received 32 bytes.\n",
      "[D 18:33:57.556 _circuit:195] 16 bytes -> AccessRightsResponse(cid=0, access_rights=<AccessRights.WRITE|READ: 3>)\n",
      "[D 18:33:57.556 _circuit:195] 16 bytes -> CreateChanResponse(data_type=<ChannelType.LONG: 5>, data_count=1, cid=0, sid=0)\n",
      "[I 18:33:57.556 client:168] simple:A connected\n",
      "[D 18:33:57.557 client:184] Detected native data_type <ChannelType.LONG: 5>.\n",
      "[D 18:33:57.557 _circuit:157] Serializing ReadNotifyRequest(data_type=<ChannelType.LONG: 5>, data_count=0, sid=0, ioid=0)\n",
      "[D 18:33:57.558 _circuit:186] Received 24 bytes.\n",
      "[D 18:33:57.558 _circuit:195] 20 bytes -> ReadNotifyResponse(data=array([3], dtype=int32), data_type=<ChannelType.LONG: 5>, data_count=1, status=CAStatusCode(name='ECA_NORMAL', code=0, code_with_severity=1, severity=<CASeverity.SUCCESS: 1>, success=1, defunct=False, description='Normal successful completion'), ioid=0, metadata=None)\n",
      "[D 18:33:57.559 _circuit:157] Serializing ClearChannelRequest(sid=0, cid=0)\n",
      "simple:A                                  [3]\n"
     ]
    }
   ],
   "source": [
    "!caproto-get -vvv 'simple:A'"
   ]
  },
  {
   "cell_type": "markdown",
   "metadata": {},
   "source": [
    "## Exercise: Use `TAB` to explore `EpicsSignal` interface."
   ]
  },
  {
   "cell_type": "code",
   "execution_count": 33,
   "metadata": {},
   "outputs": [
    {
     "data": {
      "text/plain": [
       "False"
      ]
     },
     "execution_count": 33,
     "metadata": {},
     "output_type": "execute_result"
    }
   ],
   "source": [
    "a.put_complete"
   ]
  },
  {
   "cell_type": "code",
   "execution_count": null,
   "metadata": {},
   "outputs": [],
   "source": []
  }
 ],
 "metadata": {
  "kernelspec": {
   "display_name": "Python 3",
   "language": "python",
   "name": "python3"
  },
  "language_info": {
   "codemirror_mode": {
    "name": "ipython",
    "version": 3
   },
   "file_extension": ".py",
   "mimetype": "text/x-python",
   "name": "python",
   "nbconvert_exporter": "python",
   "pygments_lexer": "ipython3",
   "version": "3.6.5"
  }
 },
 "nbformat": 4,
 "nbformat_minor": 2
}

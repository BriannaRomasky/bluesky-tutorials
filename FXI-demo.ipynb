{
 "cells": [
  {
   "cell_type": "code",
   "execution_count": null,
   "metadata": {
    "tags": []
   },
   "outputs": [],
   "source": [
    "%matplotlib inline\n",
    "import h5py\n",
    "from tomo_recon_20210811 import rotcen_test2\n",
    "import numpy as np\n",
    "import matplotlib.pyplot as plt\n",
    "import tomopy"
   ]
  },
  {
   "cell_type": "markdown",
   "metadata": {},
   "source": [
    "## Load the file"
   ]
  },
  {
   "cell_type": "code",
   "execution_count": null,
   "metadata": {
    "tags": []
   },
   "outputs": [],
   "source": [
    "fn = r'fly_scan_id_30543.h5'"
   ]
  },
  {
   "cell_type": "markdown",
   "metadata": {},
   "source": [
    "## 1. Visualize the projection"
   ]
  },
  {
   "cell_type": "code",
   "execution_count": null,
   "metadata": {
    "tags": []
   },
   "outputs": [],
   "source": [
    "from tiled.client import from_uri\n",
    "c = from_uri(\"https://tiled-demo.blueskyproject.io\")\n",
    "c[\"um2023\"]"
   ]
  },
  {
   "cell_type": "code",
   "execution_count": null,
   "metadata": {
    "tags": []
   },
   "outputs": [],
   "source": [
    "f = h5py.File(fn, 'r')\n",
    "prj = np.array(f['img_tomo'])\n",
    "\n",
    "fig, ax = plt.subplots()\n",
    "\n",
    "ax.imshow(prj[prj.shape[0] // 2])\n",
    "angle_ = f['angle'][prj.shape[0] // 2]\n",
    "ax.set_title(rf'Projection at: {angle_:0.2f} degree')\n",
    "\n",
    "plt.show()"
   ]
  },
  {
   "cell_type": "markdown",
   "metadata": {},
   "source": [
    "## 2. Tomography reconstruction on sinogram\n",
    "    - rotation center test\n",
    "    - recon by tomopy\n",
    "    - visualization"
   ]
  },
  {
   "cell_type": "code",
   "execution_count": null,
   "metadata": {
    "tags": []
   },
   "outputs": [],
   "source": [
    "# rotation center test\n",
    "# need to pick up rotation center manually\n",
    "# In this case, it is 651\n",
    "rotcen_test2(fn, 630, 690, 41, denoise_flag=2, dark_scale=4)"
   ]
  },
  {
   "cell_type": "code",
   "execution_count": null,
   "metadata": {
    "tags": []
   },
   "outputs": [],
   "source": [
    "# reconstruction for one sinogram\n",
    "\n",
    "\n",
    "sli = 540   # specify the slice to recon\n",
    "rotation_center = 651   # rotation center obtained by rotcen_test2 from the cell above\n",
    "\n",
    "# projection normalization\n",
    "img_tomo = np.array(f[\"img_tomo\"][:, sli : sli+1, :])\n",
    "img_bkg = np.array(f[\"img_bkg_avg\"][:, sli : sli+1, :])\n",
    "img_dark = np.array(f[\"img_dark_avg\"][:, sli : sli+1, :])\n",
    "prj = (img_tomo - img_dark) / (img_bkg - img_dark)  # normalize the projection\n",
    "prj_norm = -np.log(prj) # -log\n",
    "\n",
    "# data cleaning\n",
    "prj_norm[np.isnan(prj_norm)] = 0\n",
    "prj_norm[np.isinf(prj_norm)] = 0\n",
    "prj_norm[prj_norm < 0] = 0\n",
    "\n",
    "prj_norm = tomopy.prep.stripe.remove_stripe_fw(\n",
    "    prj_norm, level=9, wname=\"db5\", sigma=1, pad=True\n",
    ")\n",
    "\n",
    "# load the angles\n",
    "tomo_angle = np.array(f[\"angle\"]) \n",
    "theta = tomo_angle / 180.0 * np.pi\n",
    "\n",
    "# recon by tomopy\n",
    "img = tomopy.recon(\n",
    "prj_norm[:, :],\n",
    "theta,\n",
    "center=rotation_center,\n",
    "algorithm=\"gridrec\",\n",
    "filter_name='None'\n",
    ")"
   ]
  },
  {
   "cell_type": "code",
   "execution_count": null,
   "metadata": {
    "tags": []
   },
   "outputs": [],
   "source": [
    "# visualize the sinogram and the recon result\n",
    "%matplotlib inline\n",
    "\n",
    "fig, ax = plt.subplots(1, 2, figsize=(12, 8))\n",
    "\n",
    "ax[0].imshow(img_tomo[:, 0, :])\n",
    "ax[0].set_title('Sinogram')\n",
    "\n",
    "ax[1].imshow(img[0, ...])\n",
    "ax[1].set_title('Recon')"
   ]
  },
  {
   "cell_type": "markdown",
   "metadata": {},
   "source": [
    "## Citation\n",
    "1. \"Formation of three-dimensional bicontinuous structures via molten salt dealloying studied in real-time by in situ synchrotron X-ray nano-tomography\"\n",
    "Xiaoyang Liu, Arthur Ronne*, Lin-Chieh Yu, Yang Liu, Mingyuan Ge, Cheng-Hung Lin, Bobby Layne, Phillip Halstenberg, Dmitry S. Maltsev, Alexander S. Ivanov, Stephen Antonelli, Sheng Dai, Wah-Keat Lee, Shannon M. Mahurin, Anatoly I. Frenkel, James F. Wishart, Xianghui Xiao & Yu-chen Karen Chen-Wiegart*\n",
    "Nature Communications (2021), DOI: 10.1038/s41467-021-23598-8\n",
    "\n",
    "2. \"Temperature-Dependent Morphological Evolution during Corrosion of the Ni-20Cr Alloy in Molten Salt Revealed by Multiscale Imaging\"\n",
    "Xiaoyang Liu, Kaustubh Bawane, Xiaoyin Zheng, Mingyuan Ge, Phillip Halstenberg, Dmitry S. Maltsev, Alexander S. Ivanov, Sheng Dai, Xianghui Xiao, Wah-Keat Lee, Lingfeng He, and Yu-chen Karen Chen-Wiegart*\n",
    "ACS Applied Materials & Interfaces (2023), DOI: 10.1021/acsami.2c23207\n",
    "\n",
    "3. Mingyuan Ge, Wah-Keat Lee. PyXAS – an open-source package for 2D X-ray near-edge spectroscopy analysis. Journal of Synchrotron Radiation, 27, 567 (2020)"
   ]
  },
  {
   "cell_type": "code",
   "execution_count": null,
   "metadata": {},
   "outputs": [],
   "source": []
  }
 ],
 "metadata": {
  "kernelspec": {
   "display_name": "Python 3 (ipykernel)",
   "language": "python",
   "name": "python3"
  },
  "language_info": {
   "codemirror_mode": {
    "name": "ipython",
    "version": 3
   },
   "file_extension": ".py",
   "mimetype": "text/x-python",
   "name": "python",
   "nbconvert_exporter": "python",
   "pygments_lexer": "ipython3",
   "version": "3.10.10"
  }
 },
 "nbformat": 4,
 "nbformat_minor": 4
}

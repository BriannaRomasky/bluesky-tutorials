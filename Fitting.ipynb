{
 "cells": [
  {
   "cell_type": "markdown",
   "id": "0f440413-eab3-4f03-baf4-42230d08a5b7",
   "metadata": {
    "tags": []
   },
   "source": [
    "# Access data from an NSLS2 experiment and fit a model to it"
   ]
  },
  {
   "cell_type": "markdown",
   "id": "7b311602-01ec-4629-bbe0-22b2114fad1e",
   "metadata": {},
   "source": [
    "This notebook was adapted from work by Yu-chen Karen Chen-Wiegart, Cheng-Chu Chung, and Xiaoyin Zheng\n",
    "\n",
    "<table>\n",
    "    <tr>\n",
    "        <td>\n",
    "            <img src=\"https://www.bnl.gov/assets/global/images/render.php?q=0|24919.jpg|500\" width=\"150px\" />\n",
    "        </td>\n",
    "        <td>\n",
    "            <img src=\"https://www.stonybrook.edu/commcms/chen-wiegart/group/_images/2020PhD_Cheng-Chu.jpg\" width=\"150 px\" />\n",
    "        </td>\n",
    "        <td>\n",
    "            <img src=\"https://www.stonybrook.edu/commcms/chen-wiegart/group/_images/Xiaoyin%20Zheng.jpg\" width=\"150 px\" />\n",
    "        </td>\n",
    "    </tr>\n",
    "</table>"
   ]
  },
  {
   "cell_type": "code",
   "execution_count": null,
   "id": "4dccaa55-9726-451b-9c71-f0d4e621acc2",
   "metadata": {
    "tags": []
   },
   "outputs": [],
   "source": [
    "%matplotlib inline\n",
    "\n",
    "from tiled.client import from_uri\n",
    "from tiled.utils import tree\n",
    "import numpy as np\n",
    "import matplotlib.pyplot as plt\n",
    "from pprint import pprint\n",
    "from IPython.display import display\n",
    "from larch.xafs import pre_edge, find_e0, preedge\n",
    "import palettable as pltt\n",
    "from collections import defaultdict\n",
    "from lmfit import Model\n",
    "\n",
    "# Override some verbose logging settings made by a third-party library.\n",
    "import logging\n",
    "logger = logging.getLogger()\n",
    "logger.setLevel(logging.CRITICAL)"
   ]
  },
  {
   "cell_type": "markdown",
   "id": "a84e74c3-8430-4bc7-b96e-522447506b0d",
   "metadata": {},
   "source": [
    "Connect to the demo Tiled data server, which has a copy of some real data from BMM."
   ]
  },
  {
   "cell_type": "code",
   "execution_count": null,
   "id": "01614b82-3235-44cd-b544-f420e5d09f54",
   "metadata": {
    "tags": []
   },
   "outputs": [],
   "source": [
    "client = from_uri(\"https://tiled-demo.blueskyproject.io\")[\"bmm\"][\"raw\"]\n",
    "client"
   ]
  },
  {
   "cell_type": "code",
   "execution_count": null,
   "id": "d7eaeb71-828b-4e35-a4d5-9028b65ab282",
   "metadata": {
    "tags": []
   },
   "outputs": [],
   "source": [
    "client[21695]"
   ]
  },
  {
   "cell_type": "code",
   "execution_count": null,
   "id": "987d7139-c291-4648-bcdf-c62471d8bd9e",
   "metadata": {
    "tags": []
   },
   "outputs": [],
   "source": [
    "client[21696]['primary']"
   ]
  },
  {
   "cell_type": "code",
   "execution_count": null,
   "id": "2dfb8dcd-0da5-428e-8d5d-25f449eda7d4",
   "metadata": {
    "tags": []
   },
   "outputs": [],
   "source": [
    "client[21696]['primary']['data']"
   ]
  },
  {
   "cell_type": "code",
   "execution_count": null,
   "id": "55f1fc53-d13f-4359-8e2c-641d011a8c7d",
   "metadata": {
    "tags": []
   },
   "outputs": [],
   "source": [
    "client[21696]['primary']['data'].read()"
   ]
  },
  {
   "cell_type": "code",
   "execution_count": null,
   "id": "5a58c67d-c8a3-41ef-8687-9cc933624d28",
   "metadata": {
    "tags": []
   },
   "outputs": [],
   "source": [
    "client[21696]['baseline']['data'].read()"
   ]
  },
  {
   "cell_type": "code",
   "execution_count": null,
   "id": "649bd189-d73f-4570-be87-257ac3ab19ab",
   "metadata": {
    "tags": []
   },
   "outputs": [],
   "source": [
    "client[21696]['primary']['data']['It']"
   ]
  },
  {
   "cell_type": "code",
   "execution_count": null,
   "id": "b1d61c03-9198-4de7-a6da-daff87facb9f",
   "metadata": {
    "tags": []
   },
   "outputs": [],
   "source": [
    "client[21696]['primary']['data']['It'][:10]"
   ]
  },
  {
   "cell_type": "code",
   "execution_count": null,
   "id": "179cb4ab-ffbd-4796-bcfa-7f5f58abe692",
   "metadata": {
    "tags": []
   },
   "outputs": [],
   "source": [
    "client[21696]['primary']['data']['It'][:]"
   ]
  },
  {
   "cell_type": "code",
   "execution_count": null,
   "id": "be35c2a1-574b-415b-8af5-d0bec52819c2",
   "metadata": {
    "tags": []
   },
   "outputs": [],
   "source": [
    "client[21696]['primary']['data']['It'].read()"
   ]
  },
  {
   "cell_type": "markdown",
   "id": "c38a7372-ecfa-40d2-a87d-00db589bbf07",
   "metadata": {
    "tags": []
   },
   "source": [
    "# Functions"
   ]
  },
  {
   "cell_type": "markdown",
   "id": "0922f3b2-54af-4363-b2cc-0ec62ec359c7",
   "metadata": {
    "tags": []
   },
   "source": [
    "### Plot  and reture data dictionary"
   ]
  },
  {
   "cell_type": "code",
   "execution_count": null,
   "id": "bb0589b2-793f-44a3-8406-d5cebba64b8f",
   "metadata": {
    "tags": []
   },
   "outputs": [],
   "source": [
    "def plot(\n",
    "    input_dict,\n",
    "    reference_list=(),\n",
    "    transmission_list=(),\n",
    "    offset=0,\n",
    "    plot_range=None,\n",
    "):\n",
    "    fig, ax = plt.subplots(figsize=(6, 7.5), layout=\"constrained\")\n",
    "    palette = (\n",
    "        pltt.colorbrewer.sequential.YlOrRd_3\n",
    "    )  # .colorbrewer.diverging.Spectral_4_r, .colorbrewer.sequential.Greens_9\n",
    "    cmap = palette.mpl_colormap\n",
    "    color_idx = np.linspace(0, 1, len(input_dict))\n",
    "\n",
    "    for plot_increment, (sample_name, (x, y)) in enumerate(input_dict.items()):\n",
    "        if sample_name in reference_list or sample_name in transmission_list:\n",
    "            linestyle = \"--\"\n",
    "        else:\n",
    "            linestyle = \"-\"\n",
    "\n",
    "      \n",
    "        ax.plot(\n",
    "                x,\n",
    "                y + offset * plot_increment,\n",
    "                label=f\"{sample_name}\",\n",
    "                linestyle=linestyle,\n",
    "                color=cmap(color_idx[plot_increment]),\n",
    "            )\n",
    "\n",
    "\n",
    "    ax.set_xlabel(r\"$\\mathregular{Energy\\ (eV)}$\")\n",
    "    ax.set_ylabel(r\"$\\mathregular{\\chi\\mu(E)}$\")\n",
    "    \n",
    "    if plot_range is not None:\n",
    "        xmin, xmax, ymin, ymax = plot_range\n",
    "        ax.set_xlim(xmin, xmax)\n",
    "        ax.set_ylim(ymin, ymax)\n",
    "        \n",
    "    ax.legend(loc=\"lower right\")\n",
    "    plt.show()\n",
    "\n",
    "\n",
    "def extract(\n",
    "    element, data_dictionary, reference_list=(), transmission_list=(), *, client=client\n",
    "):\n",
    "\n",
    "    number_of_detector = 4\n",
    "    output_dictionary = defaultdict(list)\n",
    "\n",
    "    for sample_name, scan_id_list in data_dictionary.items():\n",
    "        print(f\"Processing {sample_name}...\")\n",
    "        merge_list = []\n",
    "\n",
    "        if sample_name in reference_list:\n",
    "            print('doing pure')\n",
    "            for scan_index, scan_id in enumerate(scan_id_list):\n",
    "                data = client[scan_id][\"primary\"][\"data\"]\n",
    "                it = np.array(data[\"It\"])\n",
    "                ir = np.array(data[\"Ir\"])\n",
    "                reference_counts = np.log(it / ir)\n",
    "                merge_list.append(reference_counts)\n",
    "\n",
    "        elif sample_name in transmission_list:\n",
    "            for scan_index, scan_id in enumerate(scan_id_list):\n",
    "                data = client[scan_id][\"primary\"][\"data\"]\n",
    "                i0 = np.array(data[\"I0\"])\n",
    "                it = np.array(data[\"It\"])\n",
    "                transmission_counts = np.log(i0 / it)\n",
    "                merge_list.append(transmission_counts)\n",
    "\n",
    "        else:\n",
    "            for scan_index, scan_id in enumerate(scan_id_list):\n",
    "                fluorescence_total_counts = 0\n",
    "                data = client[scan_id][\"primary\"][\"data\"]\n",
    "                for index in range(1, 1 + number_of_detector):\n",
    "                    fluorescence_detector = str(f\"{element}{index}\")\n",
    "                    fluorescence_counts = np.array(\n",
    "                        data[fluorescence_detector]\n",
    "                    )\n",
    "                    i0 = data[\"I0\"]\n",
    "                    fluorescence_total_counts += fluorescence_counts / i0\n",
    "                merge_list.append(fluorescence_total_counts)\n",
    "\n",
    "        merge_counts = np.mean(merge_list, axis=0)\n",
    "\n",
    "        x = client[scan_id_list[0]][\"primary\"][\"data\"][\"dcm_energy\"]\n",
    "        y = merge_counts\n",
    "\n",
    "        output_dictionary[sample_name] = (x, y)\n",
    "\n",
    "    return output_dictionary\n",
    "\n",
    "def normalize_xafs(input_dict):\n",
    "    return_dict = {}\n",
    "    for k, v in input_dict.items():\n",
    "        x, y = v\n",
    "        xafs_info = preedge(*v)\n",
    "        return_dict[k] = (x, xafs_info['norm'])\n",
    "    return return_dict"
   ]
  },
  {
   "cell_type": "markdown",
   "id": "9825645d-92df-4f2e-8e86-c03e28ed6eec",
   "metadata": {},
   "source": [
    "# Data plot"
   ]
  },
  {
   "cell_type": "markdown",
   "id": "1a86d588-9d00-4ff6-b681-656016fe43ba",
   "metadata": {},
   "source": [
    "### Basic plot\n",
    "\n",
    "Set your K-edge energy(e.g Cu, Nb, Sc).\n",
    "\n",
    "Build a data dictionary containing sample name as key and scan IDs as value. The plot function will merge all the scans in the same sample name.\n",
    "\n",
    "If your samples are reference and measured in transmission mode, you may list them in the reference_list or transmission_list.\n",
    "\n",
    "Because the plot function will return the merged scan energy and counts, please assign a new variable.\n",
    "\n",
    "Let's do the simple plotting!"
   ]
  },
  {
   "cell_type": "code",
   "execution_count": null,
   "id": "c201257e-368b-4e9d-a6f7-b7bc6609a782",
   "metadata": {
    "tags": []
   },
   "outputs": [],
   "source": [
    "element = 'Nb'\n",
    "data_dictionary = {'Pristine':[21695, 21696, 21697],\n",
    "                   '400C60M':[21747, 21748, 21749], \n",
    "                   '500C60M':[21760, 21761, 21762],\n",
    "                   '600C60M':[21773, 21774, 21775],\n",
    "                   '700C60M':[21786, 21787, 21788],\n",
    "                   'Pure Nb':[21555, 21556]}\n",
    "                   "
   ]
  },
  {
   "cell_type": "code",
   "execution_count": null,
   "id": "43afae55-7f6c-4fcf-b825-9be8f1de6014",
   "metadata": {
    "tags": []
   },
   "outputs": [],
   "source": [
    "Nb_dictionary = extract(element, data_dictionary, reference_list=('Pure Nb', ), transmission_list=(), client=client)"
   ]
  },
  {
   "cell_type": "code",
   "execution_count": null,
   "id": "39678c0c-e6d0-4ef3-b51a-d3906027af13",
   "metadata": {
    "tags": []
   },
   "outputs": [],
   "source": [
    "plot(Nb_dictionary, reference_list=['Pure Nb'])"
   ]
  },
  {
   "cell_type": "markdown",
   "id": "32842f12-b748-4ae2-ad68-2287b1c1cf92",
   "metadata": {},
   "source": [
    "### Data normalization"
   ]
  },
  {
   "cell_type": "markdown",
   "id": "b0207f6b-f1aa-4f43-83c1-2b434cbb2194",
   "metadata": {},
   "source": [
    "Well...your data did not align. You couldn't even see the pure element data! It's hard to compare with different data.\n",
    "\n",
    "Let's normalize the data!\n",
    "\n",
    "To focus on the region we're interested, we zoon in the white region by setting the plot range and shift the data curve by adding offset."
   ]
  },
  {
   "cell_type": "code",
   "execution_count": null,
   "id": "ae5891ec-604a-47df-86ca-3cdc19dc7e8b",
   "metadata": {
    "tags": []
   },
   "outputs": [],
   "source": [
    "plot_range = [18900, 19150, 0, 1.9]\n",
    "# Nb_dictionary = plot(element, data_dictionary, reference_list=['Pure Nb'], plot_range=plot_range, offset=0.15, norm=True)\n",
    "Nb_dictionary = normalize_xafs(Nb_dictionary)\n",
    "plot(Nb_dictionary, reference_list=['Pure Nb'], plot_range=plot_range, offset=0.15)"
   ]
  },
  {
   "cell_type": "markdown",
   "id": "c2f2e59e-f3c0-4235-a499-558d0838b3d0",
   "metadata": {},
   "source": [
    "Great! You make a better plot!\n",
    "\n",
    "Let's try another case in Sc"
   ]
  },
  {
   "cell_type": "code",
   "execution_count": null,
   "id": "a093eff1-86b7-464d-b3ef-aec82f3aafa0",
   "metadata": {
    "tags": []
   },
   "outputs": [],
   "source": [
    "element = 'Sc'\n",
    "data_dictionary = {'Pure Sc':[36495, 36502],\n",
    "                   'Pristine':[21589, 21590, 21591],\n",
    "                   '400C60M':[21289, 21290, 21291], \n",
    "                   '500C60M':[21654, 21655, 21656],\n",
    "                   '600C60M':[21667, 21668, 21669],\n",
    "                   '700C60M':[21680, 21681, 21682],\n",
    "                   'Sc2O3':[36508, 36509]}\n",
    "plot_range = [4425, 4625, 0, 2.5]\n",
    "Sc_dictionary = normalize_xafs(extract(element, data_dictionary, transmission_list=['Pure Sc', 'Sc2O3']))"
   ]
  },
  {
   "cell_type": "code",
   "execution_count": null,
   "id": "98b30c03-dcef-4b3a-a9ed-f20659dccdbf",
   "metadata": {
    "tags": []
   },
   "outputs": [],
   "source": [
    " plot(Sc_dictionary, transmission_list=['Pure Sc', 'Sc2O3'],  offset=0.1, plot_range=plot_range)"
   ]
  },
  {
   "cell_type": "markdown",
   "id": "4775b86a-227a-4a86-b773-92b5e65ea78c",
   "metadata": {
    "tags": []
   },
   "source": [
    "# Linear combination fitting\n",
    "\n",
    "### data_dictionary: {sample_name: [energy, counts]}"
   ]
  },
  {
   "cell_type": "code",
   "execution_count": null,
   "id": "7815a447-61e1-4839-88f0-2b46b2812fa4",
   "metadata": {
    "tags": []
   },
   "outputs": [],
   "source": [
    "PHASE_1 = Sc_dictionary['Pure Sc']\n",
    "PHASE_2 = Sc_dictionary['Sc2O3']\n",
    "MYSTERY_PHASE = Sc_dictionary['Pristine']\n",
    "\n",
    "print('Phase 1 length:', len(PHASE_1[0]))\n",
    "print('Phase 2 length:', len(PHASE_2[0]))\n",
    "print('Mystery phase length:', len(MYSTERY_PHASE[0]))"
   ]
  },
  {
   "cell_type": "markdown",
   "id": "0a4f3b62-0d7e-433a-9020-6fd5d4e29426",
   "metadata": {},
   "source": [
    "## Define fitting function"
   ]
  },
  {
   "cell_type": "code",
   "execution_count": null,
   "id": "90a81b0f-1183-499b-9230-ab7add2aafe5",
   "metadata": {
    "tags": []
   },
   "outputs": [],
   "source": [
    "def phase1(energy):\n",
    "    # Return array of Pure Sc interpolated at the energy points where the mystery phase (Pristine) was measured.\n",
    "    return np.interp(energy, Sc_dictionary['Pure Sc'][0], Sc_dictionary['Pure Sc'][1])\n",
    "\n",
    "def phase2(energy):\n",
    "    # Return array of Sc2O3 interpolated at the energy points where the mystery phase (Pristine) was measured.\n",
    "    return np.interp(energy, Sc_dictionary['Sc2O3'][0], Sc_dictionary['Sc2O3'][1])\n",
    "\n",
    "def f(energy, fraction):\n",
    "    return fraction * phase1(energy) + (1 - fraction) * phase2(energy)"
   ]
  },
  {
   "cell_type": "markdown",
   "id": "10628eaa-485f-4811-a265-cdad94ab5960",
   "metadata": {},
   "source": [
    "## Fitting parameters"
   ]
  },
  {
   "cell_type": "code",
   "execution_count": null,
   "id": "4ca483c9-a7a4-4168-aaa7-ceddb73cca52",
   "metadata": {
    "tags": []
   },
   "outputs": [],
   "source": [
    "mystery_energy = MYSTERY_PHASE[0]\n",
    "mystery_phase = MYSTERY_PHASE[1]\n",
    "fitting_range = 20, 150\n",
    "\n",
    "m = Model(f)  # lmfit Model\n",
    "\n",
    "# Check that these make sense...\n",
    "print(m.param_names)\n",
    "print(m.independent_vars)\n",
    "\n",
    "# lmfit Parameter, with initial guess set here\n",
    "params = m.make_params(fraction=0.5)\n",
    "# params = m.make_params(fraction=dict(value=0.5, min=0.0, max=1.0))\n",
    "\n",
    "# Fit model to y, given energy (x axis) and params (with initial guess)\n",
    "sliced_mystery_energy = mystery_energy[fitting_range[0]:fitting_range[1]]\n",
    "sliced_mystery_phase = mystery_phase[fitting_range[0]:fitting_range[1]]\n",
    "\n",
    "# Fit\n",
    "result = m.fit(sliced_mystery_phase, energy=sliced_mystery_energy, params=params)\n",
    "\n",
    "# Results\n",
    "print(result.params)\n",
    "print(result.fit_report())"
   ]
  },
  {
   "cell_type": "code",
   "execution_count": null,
   "id": "3012c9da-c24c-408c-9682-35ae37518662",
   "metadata": {
    "jupyter": {
     "outputs_hidden": false
    },
    "tags": []
   },
   "outputs": [],
   "source": [
    "mystery_energy = MYSTERY_PHASE[0]\n",
    "mystery_phase = MYSTERY_PHASE[1]\n",
    "fitting_range = 20, 150\n",
    "\n",
    "m = Model(f)  # lmfit Model\n",
    "\n",
    "# Check that these make sense...\n",
    "print(m.param_names)\n",
    "print(m.independent_vars)\n",
    "\n",
    "# lmfit Parameter, with initial guess set here\n",
    "params = m.make_params(fraction=0.5)\n",
    "# params = m.make_params(fraction=dict(value=0.5, min=0.0, max=1.0))\n",
    "\n",
    "# Fit model to y, given energy (x axis) and params (with initial guess)\n",
    "sliced_mystery_energy = mystery_energy[fitting_range[0]:fitting_range[1]]\n",
    "sliced_mystery_phase = mystery_phase[fitting_range[0]:fitting_range[1]]\n",
    "\n",
    "# Fit\n",
    "result = m.fit(sliced_mystery_phase, energy=sliced_mystery_energy, params=params)\n",
    "\n",
    "# Results\n",
    "print(result.params)\n",
    "print(result.fit_report())"
   ]
  },
  {
   "cell_type": "code",
   "execution_count": null,
   "id": "d63c4a09-8ad7-4ca9-ae70-dd368c708806",
   "metadata": {
    "jupyter": {
     "outputs_hidden": false
    },
    "tags": []
   },
   "outputs": [],
   "source": [
    "fig, ax = plt.subplots()\n",
    "ax.plot(Sc_dictionary['Sc2O3'][0], Sc_dictionary['Sc2O3'][1], \"-\", label=\"Sc2O3\")\n",
    "ax.plot(Sc_dictionary['Pure Sc'][0], Sc_dictionary['Pure Sc'][1], \"-\", label=\"Pure Sc\")\n",
    "ax.plot(Sc_dictionary['Pristine'][0], Sc_dictionary['Pristine'][1], \"-\", label=\"Mystery\")\n",
    "\n",
    "ax.plot(sliced_mystery_energy, result.best_fit, \"--\", label=\"Best fit\", )\n",
    "\n",
    "ax.set_xlabel(\"energy\")\n",
    "ax.set_ylabel(\"counts\")\n",
    "\n",
    "ax.set_xlim(4425, 4625)\n",
    "ax.set_ylim(-0.1, 2)\n",
    "ax.legend()\n",
    "plt.show()"
   ]
  },
  {
   "cell_type": "code",
   "execution_count": null,
   "id": "7cd70545-c401-4bc3-b017-d157139f51e8",
   "metadata": {},
   "outputs": [],
   "source": []
  },
  {
   "cell_type": "code",
   "execution_count": null,
   "id": "0c98f826-b0c9-43f2-888e-9b8f14ac4611",
   "metadata": {},
   "outputs": [],
   "source": []
  }
 ],
 "metadata": {
  "kernelspec": {
   "display_name": "Python 3 (ipykernel)",
   "language": "python",
   "name": "python3"
  },
  "language_info": {
   "codemirror_mode": {
    "name": "ipython",
    "version": 3
   },
   "file_extension": ".py",
   "mimetype": "text/x-python",
   "name": "python",
   "nbconvert_exporter": "python",
   "pygments_lexer": "ipython3",
   "version": "3.10.8"
  }
 },
 "nbformat": 4,
 "nbformat_minor": 5
}

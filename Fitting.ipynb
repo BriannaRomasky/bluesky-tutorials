{
 "cells": [
  {
   "cell_type": "markdown",
   "id": "0f440413-eab3-4f03-baf4-42230d08a5b7",
   "metadata": {
    "tags": []
   },
   "source": [
    "# Import packages"
   ]
  },
  {
   "cell_type": "code",
   "execution_count": null,
   "id": "4dccaa55-9726-451b-9c71-f0d4e621acc2",
   "metadata": {
    "tags": []
   },
   "outputs": [],
   "source": [
    "%matplotlib inline\n",
    "\n",
    "from tiled.client import from_uri\n",
    "from tiled.client.cache import Cache\n",
    "import numpy as np\n",
    "import matplotlib.pyplot as plt\n",
    "from pprint import pprint\n",
    "from IPython.display import display\n",
    "from larch.xafs import pre_edge, find_e0, preedge\n",
    "import palettable as pltt\n",
    "from collections import defaultdict\n",
    "from lmfit import Model\n",
    "\n",
    "import logging\n",
    "logger = logging.getLogger()\n",
    "logger.setLevel(logging.CRITICAL)"
   ]
  },
  {
   "cell_type": "markdown",
   "id": "a84e74c3-8430-4bc7-b96e-522447506b0d",
   "metadata": {},
   "source": [
    "# Constants"
   ]
  },
  {
   "cell_type": "code",
   "execution_count": null,
   "id": "01614b82-3235-44cd-b544-f420e5d09f54",
   "metadata": {
    "tags": []
   },
   "outputs": [],
   "source": [
    "client = from_uri(\"https://localhost:8008\", verify=False, username=\"dallan\", cache=Cache.in_memory(1e9))\n",
    "print(client)\n",
    "BEAMLINE = 'bmm'\n",
    "client[BEAMLINE]"
   ]
  },
  {
   "cell_type": "markdown",
   "id": "c38a7372-ecfa-40d2-a87d-00db589bbf07",
   "metadata": {
    "tags": []
   },
   "source": [
    "# Functions"
   ]
  },
  {
   "cell_type": "markdown",
   "id": "813bbcdc-ddac-4d7c-9bd4-6b372890f5a1",
   "metadata": {
    "tags": []
   },
   "source": [
    "### Merge scans"
   ]
  },
  {
   "cell_type": "code",
   "execution_count": null,
   "id": "d8671378-58c4-4592-bb31-df94d8fd14c9",
   "metadata": {
    "tags": []
   },
   "outputs": [],
   "source": [
    "def merge(counts_list):\n",
    "    total_counts = 0\n",
    "    for counts in counts_list:\n",
    "        total_counts += counts\n",
    "    return total_counts/len(counts_list)"
   ]
  },
  {
   "cell_type": "markdown",
   "id": "0922f3b2-54af-4363-b2cc-0ec62ec359c7",
   "metadata": {
    "tags": []
   },
   "source": [
    "### Plot  and reture data dictionary"
   ]
  },
  {
   "cell_type": "code",
   "execution_count": null,
   "id": "bb0589b2-793f-44a3-8406-d5cebba64b8f",
   "metadata": {
    "tags": []
   },
   "outputs": [],
   "source": [
    "def plot(element, data_dictionary, reference_list=[], transmission_list=[], offset=0, plot_range=[0, 0, 0, 0], norm=True):\n",
    "    \n",
    "    fig, ax = plt.subplots(figsize = (6, 7.5))\n",
    "    palette = pltt.colorbrewer.sequential.YlOrRd_3     # .colorbrewer.diverging.Spectral_4_r, .colorbrewer.sequential.Greens_9     \n",
    "    cmap = palette.mpl_colormap\n",
    "    color_idx = np.linspace(0, 1, len(data_dictionary))\n",
    "    number_of_detector = 4\n",
    "    plot_increment = 0\n",
    "    output_dictionary = defaultdict(list)\n",
    "    \n",
    "    for sample_name, scan_id_list in data_dictionary.items():\n",
    "        print(f'Processing {sample_name}...')\n",
    "        merge_list = []\n",
    "        linestyle = '-'\n",
    "        \n",
    "        if sample_name in reference_list:\n",
    "                for scan_index, scan_id in enumerate(scan_id_list):\n",
    "                    it = np.array(client['bmm']['raw'][scan_id]['primary']['data']['It'])\n",
    "                    ir = np.array(client['bmm']['raw'][scan_id]['primary']['data']['Ir'])\n",
    "                    reference_counts = np.log(it/ir)\n",
    "                merge_list.append(reference_counts)\n",
    "                linestyle = '--'\n",
    "                \n",
    "        elif sample_name in transmission_list:\n",
    "                for scan_index, scan_id in enumerate(scan_id_list):\n",
    "                    i0 = np.array(client['bmm']['raw'][scan_id]['primary']['data']['I0'])\n",
    "                    it = np.array(client['bmm']['raw'][scan_id]['primary']['data']['It'])\n",
    "                    transmission_counts = np.log(i0/it)\n",
    "                merge_list.append(transmission_counts)\n",
    "                linestyle = '--'\n",
    "                \n",
    "        else:\n",
    "            for scan_index, scan_id in enumerate(scan_id_list):\n",
    "                fluorescence_total_counts = 0\n",
    "                for index in range(1, 1+number_of_detector):\n",
    "                    fluorescence_detector = str(f'{element}{index}')\n",
    "                    fluorescence_counts = np.array(client['bmm']['raw'][scan_id]['primary']['data'][fluorescence_detector])\n",
    "                    i0 = client['bmm']['raw'][scan_id]['primary']['data']['I0']\n",
    "                    fluorescence_total_counts += fluorescence_counts/i0\n",
    "                merge_list.append(fluorescence_total_counts)\n",
    "\n",
    "        merge_counts = merge(merge_list)\n",
    "        \n",
    "        x = client['bmm']['raw'][scan_id_list[0]]['primary']['data']['dcm_energy']\n",
    "        y = merge_counts\n",
    "        \n",
    "        output_dictionary[sample_name] = [x, y]\n",
    "        \n",
    "        xafs_info_dictionary = preedge(x, y)\n",
    "        normalized_y = xafs_info_dictionary['norm']\n",
    "        if norm:\n",
    "            plt.plot(x, normalized_y + offset * plot_increment, label=f'{sample_name}', linestyle=linestyle, color=cmap(color_idx[plot_increment]))\n",
    "        else:\n",
    "            plt.plot(x, y + offset * plot_increment, label=f'{sample_name}', linestyle=linestyle, color=cmap(color_idx[plot_increment]))\n",
    "        plot_increment += 1\n",
    "        \n",
    "    plt.xlabel(r'$\\mathregular{Energy\\ (eV)}$')\n",
    "    plt.ylabel(r'$\\mathregular{\\chi\\mu(E)}$')\n",
    "    \n",
    "    xmin = plot_range[0]\n",
    "    xmax = plot_range[1]\n",
    "    ymin = plot_range[2]\n",
    "    ymax = plot_range[3]\n",
    "    \n",
    "    if plot_range == [0, 0, 0, 0]:\n",
    "        ...\n",
    "    else:\n",
    "        ax.set_xlim(xmin, xmax)\n",
    "        ax.set_ylim(ymin, ymax)\n",
    "        \n",
    "    plt.legend(loc='lower right')\n",
    "    plt.tight_layout()\n",
    "    plt.show()\n",
    "    \n",
    "    return output_dictionary"
   ]
  },
  {
   "cell_type": "markdown",
   "id": "9825645d-92df-4f2e-8e86-c03e28ed6eec",
   "metadata": {},
   "source": [
    "# Data plot"
   ]
  },
  {
   "cell_type": "markdown",
   "id": "1a86d588-9d00-4ff6-b681-656016fe43ba",
   "metadata": {},
   "source": [
    "### Basic plot\n",
    "\n",
    "Set your K-edge energy(e.g Cu, Nb, Sc).\n",
    "\n",
    "Build a data dictionary containing sample name as key and scan IDs as value. The plot function will merge all the scans in the same sample name.\n",
    "\n",
    "If your samples are reference and measured in transmission mode, you may list them in the reference_list or transmission_list.\n",
    "\n",
    "Because the plot function will return the merged scan energy and counts, please assign a new variable.\n",
    "\n",
    "Let's do the simple plotting!"
   ]
  },
  {
   "cell_type": "code",
   "execution_count": null,
   "id": "c201257e-368b-4e9d-a6f7-b7bc6609a782",
   "metadata": {
    "tags": []
   },
   "outputs": [],
   "source": [
    "element = 'Nb'\n",
    "data_dictionary = {'Pristine':[21695, 21696, 21697],\n",
    "                   '400C60M':[21747, 21748, 21749], \n",
    "                   '500C60M':[21760, 21761, 21762],\n",
    "                   '600C60M':[21773, 21774, 21775],\n",
    "                   '700C60M':[21786, 21787, 21788],\n",
    "                   'Pure Nb':[21555, 21556]}\n",
    "Nb_dictionary = plot(element, data_dictionary, reference_list=['Pure Nb'], norm=False)"
   ]
  },
  {
   "cell_type": "markdown",
   "id": "32842f12-b748-4ae2-ad68-2287b1c1cf92",
   "metadata": {},
   "source": [
    "### Data normalization"
   ]
  },
  {
   "cell_type": "markdown",
   "id": "b0207f6b-f1aa-4f43-83c1-2b434cbb2194",
   "metadata": {},
   "source": [
    "Well...your data did not align. You couldn't even see the pure element data! It's hard to compare with different data.\n",
    "\n",
    "Let's normalize the data!\n",
    "\n",
    "To focus on the region we're interested, we zoon in the white region by setting the plot range and shift the data curve by adding offset."
   ]
  },
  {
   "cell_type": "code",
   "execution_count": null,
   "id": "ae5891ec-604a-47df-86ca-3cdc19dc7e8b",
   "metadata": {
    "tags": []
   },
   "outputs": [],
   "source": [
    "plot_range = [18900, 19150, 0, 1.9]\n",
    "Nb_dictionary = plot(element, data_dictionary, reference_list=['Pure Nb'], plot_range=plot_range, offset=0.15, norm=True)"
   ]
  },
  {
   "cell_type": "markdown",
   "id": "c2f2e59e-f3c0-4235-a499-558d0838b3d0",
   "metadata": {},
   "source": [
    "Great! You make a better plot!\n",
    "\n",
    "Let's try another case in Sc"
   ]
  },
  {
   "cell_type": "code",
   "execution_count": null,
   "id": "a093eff1-86b7-464d-b3ef-aec82f3aafa0",
   "metadata": {
    "tags": []
   },
   "outputs": [],
   "source": [
    "element = 'Sc'\n",
    "data_dictionary = {'Pure Sc':[36495, 36502],\n",
    "                   'Pristine':[21589, 21590, 21591],\n",
    "                   '400C60M':[21289, 21290, 21291], \n",
    "                   '500C60M':[21654, 21655, 21656],\n",
    "                   '600C60M':[21667, 21668, 21669],\n",
    "                   '700C60M':[21680, 21681, 21682],\n",
    "                   'Sc2O3':[36508, 36509]}\n",
    "plot_range = [4425, 4625, 0, 2.5]\n",
    "Sc_dictionary = plot(element, data_dictionary, transmission_list=['Pure Sc', 'Sc2O3'], offset=0.1, plot_range=plot_range, norm=True)"
   ]
  },
  {
   "cell_type": "markdown",
   "id": "f19e87f2-d739-43d1-a39c-648ff21f4cdf",
   "metadata": {
    "tags": []
   },
   "source": [
    "# Linear combination fitting\n",
    "\n",
    "data_dictionary: {sample_name: [energy, counts]}"
   ]
  },
  {
   "cell_type": "code",
   "execution_count": null,
   "id": "415c8777-8c6c-49b9-a32f-aa152019b71c",
   "metadata": {
    "tags": []
   },
   "outputs": [],
   "source": [
    "len(Sc_dictionary['Pristine'][0])"
   ]
  },
  {
   "cell_type": "code",
   "execution_count": null,
   "id": "fe8d14c3-b0a4-42a0-b610-03947180d640",
   "metadata": {
    "tags": []
   },
   "outputs": [],
   "source": [
    "print('Mystery phase length:', len(Sc_dictionary['Pristine'][0]))\n",
    "print('Phase 1 length:', len(Sc_dictionary['Pure Sc'][0]))\n",
    "print('Phase 2 length:', len(Sc_dictionary['Sc2O3'][0]))\n",
    "\n",
    "def phase1(energy):\n",
    "    return np.interp(energy, Sc_dictionary['Pure Sc'][0], Sc_dictionary['Pure Sc'][1])\n",
    "   \n",
    "def phase2(energy):\n",
    "    return np.interp(energy, Sc_dictionary['Sc2O3'][0], Sc_dictionary['Sc2O3'][1])\n",
    "\n",
    "   \n",
    "def f(energy, fraction):\n",
    "    return fraction * phase1(energy) + (1 - fraction) * phase2(energy)\n",
    "   \n",
    "\n",
    "pristine_energy = Sc_dictionary['Pristine'][0]  # independent variable, \"x axis\"\n",
    "pristine_phase = Sc_dictionary['Pristine'][1] # dependent variable, mystery phase to fit\n",
    "\n",
    "m = Model(f)  # lmfit Model\n",
    "# Check that these make sense...\n",
    "print(m.param_names)\n",
    "print(m.independent_vars)\n",
    "# lmfit Parameter, with initial guess set here\n",
    "params = m.make_params(fraction=dict(value=0.5, min=0, max=1))\n",
    "# Fit model to y, given energy (x axis) and params (with initial guess)\n",
    "result = m.fit(pristine_phase, energy=pristine_energy, params=params)\n",
    "result.params"
   ]
  },
  {
   "cell_type": "code",
   "execution_count": null,
   "id": "51312c59-6070-4339-abdb-82aade118103",
   "metadata": {
    "tags": []
   },
   "outputs": [],
   "source": [
    "fig, ax = plt.subplots()\n",
    "ax.plot(Sc_dictionary['Sc2O3'][0], Sc_dictionary['Sc2O3'][1], label=\"Sc2O3\")\n",
    "ax.plot(Sc_dictionary['Pure Sc'][0], Sc_dictionary['Pure Sc'][1], label=\"Pure Sc\")\n",
    "ax.plot(Sc_dictionary['Pristine'][0], phase2(Sc_dictionary['Pristine'][0]), ls=\"dashed\", label=\"Sc2O3 (interp)\")\n",
    "ax.plot(Sc_dictionary['Pristine'][0], phase1(Sc_dictionary['Pristine'][0]), ls=\"dashed\", label=\"Pure Sc (interp)\")\n",
    "ax.plot(Sc_dictionary['Pristine'][0], Sc_dictionary['Pristine'][1], label=\"Pristine\")\n",
    "ax.set_yscale(\"log\")\n",
    "ax.set_xlabel(\"energy\")\n",
    "ax.set_ylabel(\"counts\")\n",
    "ax.legend()"
   ]
  },
  {
   "cell_type": "code",
   "execution_count": null,
   "id": "e46e6938-041a-4ab9-a7af-32c8637bf5b2",
   "metadata": {
    "tags": []
   },
   "outputs": [],
   "source": [
    "print('Mystery phase:', Sc_dictionary['Pristine'][0][20])\n",
    "print('Phase 1:', Sc_dictionary['Pure Sc'][0][20])\n",
    "print('Phase 2:', Sc_dictionary['Sc2O3'][0][20])"
   ]
  },
  {
   "cell_type": "code",
   "execution_count": null,
   "id": "5cc6292b-bed4-4c77-90bb-1f32c75cbaf5",
   "metadata": {},
   "outputs": [],
   "source": []
  }
 ],
 "metadata": {
  "kernelspec": {
   "display_name": "Python 3 (ipykernel)",
   "language": "python",
   "name": "python3"
  },
  "language_info": {
   "codemirror_mode": {
    "name": "ipython",
    "version": 3
   },
   "file_extension": ".py",
   "mimetype": "text/x-python",
   "name": "python",
   "nbconvert_exporter": "python",
   "pygments_lexer": "ipython3",
   "version": "3.10.10"
  }
 },
 "nbformat": 4,
 "nbformat_minor": 5
}

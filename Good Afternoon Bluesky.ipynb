{
 "cells": [
  {
   "cell_type": "markdown",
   "metadata": {},
   "source": [
    "# Good Afternoon Bluesky: REALLY starting your experiment\n",
    "\n",
    "In this notebook you will:\n",
    "\n",
    "* Prepare to collect data for analysis\n",
    "* Assemble complex plans for single line exectution\n",
    "* Create and test an \"overnight\" script\n",
    "* Experience some guided troubleshooting for common errors\n",
    "\n",
    "\n",
    "Recommend Prerequisites:\n",
    "\n",
    "* [Hello Python and Jupyter](./Hello%20Python%20and%20Jupyter.ipynb)\n",
    "* [Good Morning Bluesky](./Good%20Morning%20Bluesky.ipynb)"
   ]
  },
  {
   "cell_type": "code",
   "execution_count": null,
   "metadata": {},
   "outputs": [],
   "source": [
    "#pip install -U --pre databroker[all]"
   ]
  },
  {
   "cell_type": "markdown",
   "metadata": {},
   "source": [
    "# Start Josh"
   ]
  },
  {
   "cell_type": "markdown",
   "metadata": {
    "tags": []
   },
   "source": [
    "## For Bluesky Session Continuity\n",
    "Run the next cells to make the ipython kernel match the previous session\n"
   ]
  },
  {
   "cell_type": "code",
   "execution_count": 1,
   "metadata": {},
   "outputs": [
    {
     "name": "stdout",
     "output_type": "stream",
     "text": [
      "Obtaining file:///nsls2/users/abarbour/Repos/tutorials/gm_user\n",
      "  Preparing metadata (setup.py) ... \u001b[?25ldone\n",
      "\u001b[?25hInstalling collected packages: user-profile\n",
      "  Attempting uninstall: user-profile\n",
      "    Found existing installation: user-profile 0.0.0\n",
      "    Uninstalling user-profile-0.0.0:\n",
      "      Successfully uninstalled user-profile-0.0.0\n",
      "  Running setup.py develop for user-profile\n",
      "Successfully installed user-profile-0.0.0\n",
      "Note: you may need to restart the kernel to use updated packages.\n"
     ]
    }
   ],
   "source": [
    "pip install -e gm_user"
   ]
  },
  {
   "cell_type": "code",
   "execution_count": 2,
   "metadata": {
    "tags": []
   },
   "outputs": [
    {
     "name": "stderr",
     "output_type": "stream",
     "text": [
      "OBJECT CACHE: Will use up to 121_499_065_958 bytes (15% of total physical RAM)\n"
     ]
    }
   ],
   "source": [
    "%run -i gm_user/user_profile.py"
   ]
  },
  {
   "cell_type": "code",
   "execution_count": 3,
   "metadata": {
    "tags": []
   },
   "outputs": [
    {
     "name": "stderr",
     "output_type": "stream",
     "text": [
      "OBJECT CACHE: Will use up to 121_499_065_958 bytes (15% of total physical RAM)\n"
     ]
    }
   ],
   "source": [
    "from gm_user import user_profile"
   ]
  },
  {
   "cell_type": "code",
   "execution_count": 4,
   "metadata": {},
   "outputs": [],
   "source": [
    "%run -i gm_user/user_startup.py  user_startup_afternoon.py"
   ]
  },
  {
   "cell_type": "code",
   "execution_count": 5,
   "metadata": {
    "tags": []
   },
   "outputs": [],
   "source": [
    "# dir(ophyd.sim)\n",
    "# from ophyd.sim import motor3 as temperature"
   ]
  },
  {
   "cell_type": "code",
   "execution_count": null,
   "metadata": {},
   "outputs": [],
   "source": []
  },
  {
   "cell_type": "markdown",
   "metadata": {},
   "source": [
    "## Let's assume some time has passed\n",
    "\n",
    "<div class=\"alert alert-block alert-warning\">\n",
    "<b>AND</b> we are ready to collect \"real\" data we want analyzed.\n",
    "    \n",
    "</div>\n",
    "\n",
    "Is the RE persistent metadata correct for the next scan? \n",
    "\n",
    "<details><summary><b>Hint</b></summary>\n",
    "\n",
    "```python\n",
    "\n",
    "RE.md\n",
    "\n",
    "```\n",
    "</details>\n",
    "\n",
    "\n",
    "\n"
   ]
  },
  {
   "cell_type": "code",
   "execution_count": null,
   "metadata": {},
   "outputs": [],
   "source": []
  },
  {
   "cell_type": "markdown",
   "metadata": {},
   "source": [
    "<details><summary><b>Better Copy and Paste Solution</b></summary>\n",
    "\n",
    "```python\n",
    "\n",
    "md_info()\n",
    "\n",
    "```\n",
    "</details>\n"
   ]
  },
  {
   "cell_type": "code",
   "execution_count": null,
   "metadata": {},
   "outputs": [],
   "source": []
  },
  {
   "cell_type": "markdown",
   "metadata": {},
   "source": [
    "Well we don't want all the scans to be labeled with the `\"purpose\"` of \"setup\".\n",
    "\n",
    "This is a standard python object, so how do you delete a dictionary element without starting from scratch?\n",
    "\n",
    "\n",
    "\n",
    "<details><summary><b>Copy Paste Solution</b></summary>\n",
    "\n",
    "There are two solutions that are not equivalent.  \n",
    "    \n",
    "The code below lets you try both.  Be sure to run the different options toe remove the dictionary entry in seperate notebook cells to see the difference.\n",
    "    \n",
    "```python\n",
    "\n",
    "del RE.md[\"purpose\"]\n",
    "\n",
    "RE.md[\"purpose\"] = \"setup\"\n",
    "\n",
    "RE.md.pop('purpose')\n",
    "\n",
    "\n",
    "```\n",
    "</details>\n",
    "\n",
    "\n"
   ]
  },
  {
   "cell_type": "code",
   "execution_count": 6,
   "metadata": {},
   "outputs": [
    {
     "data": {
      "text/plain": [
       "'setup'"
      ]
     },
     "execution_count": 6,
     "metadata": {},
     "output_type": "execute_result"
    }
   ],
   "source": [
    "RE.md['purpose']"
   ]
  },
  {
   "cell_type": "code",
   "execution_count": null,
   "metadata": {},
   "outputs": [],
   "source": []
  },
  {
   "cell_type": "code",
   "execution_count": null,
   "metadata": {},
   "outputs": [],
   "source": []
  },
  {
   "cell_type": "markdown",
   "metadata": {
    "tags": []
   },
   "source": [
    "## Setup to start planning overnight scritps\n",
    "\n",
    "We have a new motor, `temperature`.  \n",
    "\n",
    "1.  What is the value of `temperature`.\n",
    "2.  Using `RE(mv())`:\n",
    " - move `temperature` to 40 \n",
    " - move `motor1` to 0 (the peak position)\n",
    " \n",
    " \n",
    "<details><summary><b>#1 Copy Paste Code - solutions</b></summary>\n",
    "    \n",
    "```python\n",
    "\n",
    "temperature.readback.get()\n",
    "\n",
    "\n",
    "```\n",
    "    \n",
    "<b>OR</b>\n",
    "    \n",
    "    \n",
    "```python\n",
    "temperature.setpoint.get()\n",
    "\n",
    "\n",
    "```\n",
    "</details>\n",
    "\n",
    " \n",
    "<details><summary><b>#1 Copy Paste Code - advanced solution</b></summary>\n",
    "    \n",
    "```python\n",
    "\n",
    "temperature.readback.read()['motor3']['value']\n",
    "\n",
    "\n",
    "```\n",
    "  \n",
    "    \n",
    "<b>Explanation:</b> \n",
    "    \n",
    "    \n",
    "```python\n",
    "temperature.readback\n",
    "\n",
    "\n",
    "```\n",
    "\n",
    "<b>Returns:</b> \n",
    "```\n",
    "_ReadbackSignal(name='motor3', parent='temperature', value=0, timestamp=1682079021.6718569)\n",
    "\n",
    "\n",
    "```\n",
    "    \n",
    "    \n",
    "You will see that the beamline staff played a python trick and that `temperature` is really an alias for `motor3`.  The code used to to this is at the bottom of `gm_user/user_profile.py`\n",
    "    \n",
    " \n",
    "</details>\n",
    "\n",
    "\n",
    "<details><summary><b>#2 Copy Paste Code - solutions</b></summary>\n",
    "    \n",
    "```python\n",
    "\n",
    "RE(mv(temperature, 40))\n",
    "\n",
    "\n",
    "```\n",
    "\n",
    "<b>OR</b> somewhat equivalently depending on the details of a real device\n",
    "\n",
    "    \n",
    "\n",
    "```python\n",
    "    \n",
    "RE(mv(temperature.setpoint, 40))\n",
    "\n",
    "\n",
    "```\n",
    "\n",
    "<b>AND</b> \n",
    "\n",
    "    \n",
    "\n",
    "    \n",
    "    \n",
    "```python\n",
    "RE(mv(motor, 0))\n",
    "\n",
    "\n",
    "```\n",
    "</details>\n",
    "\n",
    "\n",
    "<!-- <details><summary><b>#2 Copy Paste Code - advanced</b></summary>\n",
    "    \n",
    "```python\n",
    "\n",
    "RE(mv(temperature, 40, motor, 0))\n",
    "\n",
    "\n",
    "```\n",
    "\n",
    "<b>OR</b> somewhat equivalently depending on the details of a real device\n",
    "\n",
    "\n",
    "\n",
    "```python\n",
    "    \n",
    "RE(mv(temperature.setpoint, 40, motor, 0))\n",
    "\n",
    "\n",
    "``` -->\n",
    "  "
   ]
  },
  {
   "cell_type": "code",
   "execution_count": 30,
   "metadata": {},
   "outputs": [
    {
     "data": {
      "text/plain": [
       "40"
      ]
     },
     "execution_count": 30,
     "metadata": {},
     "output_type": "execute_result"
    }
   ],
   "source": [
    "temperature.readback.read()[\"motor3\"][\"value\"]"
   ]
  },
  {
   "cell_type": "code",
   "execution_count": 31,
   "metadata": {},
   "outputs": [],
   "source": []
  },
  {
   "cell_type": "code",
   "execution_count": 34,
   "metadata": {},
   "outputs": [
    {
     "name": "stdout",
     "output_type": "stream",
     "text": [
      "0\n"
     ]
    }
   ],
   "source": [
    "summarize_plan(test())"
   ]
  },
  {
   "cell_type": "code",
   "execution_count": null,
   "metadata": {},
   "outputs": [],
   "source": []
  },
  {
   "cell_type": "code",
   "execution_count": null,
   "metadata": {},
   "outputs": [],
   "source": []
  },
  {
   "cell_type": "code",
   "execution_count": 36,
   "metadata": {},
   "outputs": [
    {
     "data": {
      "text/plain": [
       "SynAxisTuple(readback=40, setpoint=40, velocity=1, acceleration=1, unused=1)"
      ]
     },
     "execution_count": 36,
     "metadata": {},
     "output_type": "execute_result"
    }
   ],
   "source": [
    "temperature.get()"
   ]
  },
  {
   "cell_type": "code",
   "execution_count": 37,
   "metadata": {},
   "outputs": [
    {
     "data": {
      "text/plain": [
       "OrderedDict([('motor3', {'value': 40, 'timestamp': 1682091957.0423803}),\n",
       "             ('motor3_setpoint',\n",
       "              {'value': 40, 'timestamp': 1682091957.0421243})])"
      ]
     },
     "execution_count": 37,
     "metadata": {},
     "output_type": "execute_result"
    }
   ],
   "source": [
    "temperature.read()"
   ]
  },
  {
   "cell_type": "markdown",
   "metadata": {},
   "source": [
    "<div class=\"alert alert-block alert-info\">\n",
    "<b>Bluesky Feature:</b> There is an easy way to move objects simultaneously.\n",
    "</div>\n",
    "\n",
    "Note that some detector settings have special ways of doing this, so always consult beamline staff if something doesn't work as expected."
   ]
  },
  {
   "cell_type": "code",
   "execution_count": 7,
   "metadata": {},
   "outputs": [
    {
     "data": {
      "text/plain": [
       "()"
      ]
     },
     "execution_count": 7,
     "metadata": {},
     "output_type": "execute_result"
    }
   ],
   "source": [
    "RE(mv(motor, 0, temperature, 40))"
   ]
  },
  {
   "cell_type": "code",
   "execution_count": null,
   "metadata": {},
   "outputs": [],
   "source": []
  },
  {
   "cell_type": "markdown",
   "metadata": {},
   "source": [
    "# Start Andi"
   ]
  },
  {
   "cell_type": "markdown",
   "metadata": {},
   "source": [
    "## Assemble plans in 1 line\n",
    "\n",
    "<div class=\"alert alert-block alert-danger\">\n",
    "<b>Watch Out for a DAQ Trap:</b> \n",
    "</div>\n",
    "\n",
    "Ealier in [Good Morning Bluesky](./Good%20Morning%20Bluesky.ipynb), we discussed the reason to not use:\n",
    "```python\n",
    "RE(mv(noisy_det.noise_multiplier, 0.1)); RE(scan([noisy_det], motor, -10, 10, 21)); RE(mv(motor, 0))\n",
    "```\n",
    "\n",
    "There are two basic methods:\n",
    "1. Active command line \"**p**lan **chain**ing\"\n",
    "2. Creating a custom plan **definition** in the python name space (i.e. \"memory of current session\")"
   ]
  },
  {
   "cell_type": "markdown",
   "metadata": {},
   "source": [
    "## **P**lan **chain**ing with **b**lusky**p**re**p**rocessors (bpp)\n"
   ]
  },
  {
   "cell_type": "code",
   "execution_count": 8,
   "metadata": {},
   "outputs": [],
   "source": [
    "#bpp.pchain?"
   ]
  },
  {
   "cell_type": "code",
   "execution_count": 9,
   "metadata": {},
   "outputs": [
    {
     "name": "stdout",
     "output_type": "stream",
     "text": [
      "\n",
      "\n",
      "Transient Scan ID: 41     Time: 2023-04-21 11:45:59\n",
      "Persistent Unique Scan ID: '32fb5aa1-c4db-40bb-bb98-4d8c58aed13c'\n",
      "New stream: 'primary'\n",
      "+-----------+------------+------------+------------+\n",
      "|   seq_num |       time |      motor |  noisy_det |\n",
      "+-----------+------------+------------+------------+\n",
      "|         1 | 11:45:59.5 |     -5.000 |     -0.027 |\n",
      "|         2 | 11:45:59.5 |     -4.000 |     -0.047 |\n",
      "|         3 | 11:45:59.6 |     -3.000 |     -0.024 |\n",
      "|         4 | 11:45:59.6 |     -2.000 |      0.180 |\n",
      "|         5 | 11:45:59.6 |     -1.000 |      0.585 |\n",
      "|         6 | 11:45:59.7 |      0.000 |      0.970 |\n",
      "|         7 | 11:45:59.7 |      1.000 |      0.631 |\n",
      "|         8 | 11:45:59.8 |      2.000 |      0.216 |\n",
      "|         9 | 11:45:59.8 |      3.000 |      0.099 |\n",
      "|        10 | 11:45:59.9 |      4.000 |     -0.034 |\n",
      "|        11 | 11:45:59.9 |      5.000 |     -0.097 |\n",
      "+-----------+------------+------------+------------+\n",
      "generator scan ['32fb5aa1'] (scan num: 41)\n",
      "\n",
      "\n",
      "\n"
     ]
    },
    {
     "data": {
      "text/plain": [
       "('32fb5aa1-c4db-40bb-bb98-4d8c58aed13c',)"
      ]
     },
     "execution_count": 9,
     "metadata": {},
     "output_type": "execute_result"
    },
    {
     "data": {
      "image/png": "[encoded data removed]",
      "text/plain": [
       "<Figure size 360x360 with 1 Axes>"
      ]
     },
     "metadata": {
      "needs_background": "light"
     },
     "output_type": "display_data"
    }
   ],
   "source": [
    "RE(bpp.pchain( mv(noisy_det.noise_multiplier, 0.1), scan([noisy_det], motor, -5, 5, 11) , mv(motor, 0) ) )"
   ]
  },
  {
   "cell_type": "markdown",
   "metadata": {
    "tags": []
   },
   "source": [
    "### Nice and Not So Nice Aspects of bpp.pchain \n",
    "\n",
    "\n",
    "<details><summary><b>Nice</b></summary>\n",
    "    \n",
    "- simple to assemble\n",
    "    \n",
    "- use `Cntl R` terninal search to re-use\n",
    "    \n",
    "- good way to test plans\n",
    "</details>\n",
    "\n",
    "<details><summary><b>Not So Nice</b></summary>\n",
    "    \n",
    "- hard to read\n",
    "    \n",
    "- even harder to manage multiple\n",
    "    \n",
    "</details>"
   ]
  },
  {
   "cell_type": "code",
   "execution_count": null,
   "metadata": {},
   "outputs": [],
   "source": []
  },
  {
   "cell_type": "markdown",
   "metadata": {},
   "source": [
    "### Custom plan defintions\n",
    "\n",
    "Let make a custom plan to perform the last RE call.  We do this by making a python function.\n",
    "\n",
    "But, what did we just do?  **Don't scroll up.**"
   ]
  },
  {
   "cell_type": "code",
   "execution_count": 10,
   "metadata": {},
   "outputs": [
    {
     "name": "stdout",
     "output_type": "stream",
     "text": [
      "pip install -e gm_user\n",
      "%run -i gm_user/user_profile.py\n",
      "from gm_user import user_profile\n",
      "%run -i gm_user/user_startup.py  user_startup_afternoon.py\n",
      "# dir(ophyd.sim)\n",
      "# from ophyd.sim import motor3 as temperature\n",
      "RE.md['purpose']\n",
      "RE(mv(motor, 0, temperature, 40))\n",
      "#bpp.pchain?\n",
      "RE(bpp.pchain( mv(noisy_det.noise_multiplier, 0.1), scan([noisy_det], motor, -5, 5, 11) , mv(motor, 0) ) )\n",
      "%history\n"
     ]
    }
   ],
   "source": [
    "%history"
   ]
  },
  {
   "cell_type": "code",
   "execution_count": 11,
   "metadata": {},
   "outputs": [
    {
     "name": "stdout",
     "output_type": "stream",
     "text": [
      "   6: RE.md['purpose']\n",
      "   7: RE(mv(motor, 0, temperature, 40))\n",
      "   8: #bpp.pchain?\n",
      "   9: RE(bpp.pchain( mv(noisy_det.noise_multiplier, 0.1), scan([noisy_det], motor, -5, 5, 11) , mv(motor, 0) ) )\n",
      "  10: %history\n",
      "  11: %history -n 6-22\n"
     ]
    }
   ],
   "source": [
    "%history -n 6-22"
   ]
  },
  {
   "cell_type": "markdown",
   "metadata": {},
   "source": [
    "From the above, we can easily create a simple plan that will take **FULL** advantage of bluesky"
   ]
  },
  {
   "cell_type": "code",
   "execution_count": 12,
   "metadata": {},
   "outputs": [],
   "source": [
    "def align_peak():\n",
    "    yield from scan([noisy_det], motor, -5, 5, 11) \n",
    "    yield from mv(motor, 0)"
   ]
  },
  {
   "cell_type": "code",
   "execution_count": 23,
   "metadata": {},
   "outputs": [
    {
     "name": "stdout",
     "output_type": "stream",
     "text": [
      "\n",
      "\n",
      "Transient Scan ID: 44     Time: 2023-04-21 11:53:56\n",
      "Persistent Unique Scan ID: 'a6eebfb2-9c09-456e-85a7-aaaa59786937'\n",
      "New stream: 'primary'\n",
      "+-----------+------------+------------+------------+\n",
      "|   seq_num |       time |      motor |  noisy_det |\n",
      "+-----------+------------+------------+------------+\n",
      "|         1 | 11:53:56.9 |     -5.000 |      0.075 |\n",
      "|         2 | 11:53:57.0 |     -4.000 |     -0.011 |\n",
      "|         3 | 11:53:57.0 |     -3.000 |      0.065 |\n",
      "|         4 | 11:53:57.0 |     -2.000 |      0.182 |\n",
      "|         5 | 11:53:57.1 |     -1.000 |      0.516 |\n",
      "|         6 | 11:53:57.1 |      0.000 |      0.958 |\n",
      "|         7 | 11:53:57.2 |      1.000 |      0.632 |\n",
      "|         8 | 11:53:57.2 |      2.000 |      0.220 |\n",
      "|         9 | 11:53:57.2 |      3.000 |      0.072 |\n",
      "|        10 | 11:53:57.3 |      4.000 |      0.047 |\n",
      "|        11 | 11:53:57.3 |      5.000 |     -0.014 |\n",
      "+-----------+------------+------------+------------+\n",
      "generator scan ['a6eebfb2'] (scan num: 44)\n",
      "\n",
      "\n",
      "\n"
     ]
    },
    {
     "data": {
      "text/plain": [
       "('a6eebfb2-9c09-456e-85a7-aaaa59786937',)"
      ]
     },
     "execution_count": 23,
     "metadata": {},
     "output_type": "execute_result"
    },
    {
     "data": {
      "image/png": "[encoded data removed]",
      "text/plain": [
       "<Figure size 360x360 with 1 Axes>"
      ]
     },
     "metadata": {
      "needs_background": "light"
     },
     "output_type": "display_data"
    }
   ],
   "source": [
    "RE(align_peak())"
   ]
  },
  {
   "cell_type": "markdown",
   "metadata": {},
   "source": [
    "## The problem in a real experiment\n",
    "\n",
    "The peak will move as a function of temperature. In the next cells, we will:\n",
    "\n",
    "1. Simulate our plan **before** using the RE.\n",
    "2. Create a more robust plan for the specific experiment."
   ]
  },
  {
   "cell_type": "markdown",
   "metadata": {},
   "source": [
    "<div class=\"alert alert-block alert-info\">\n",
    "<b>Bluesky Feature:</b> There are two essential functions to inspect plans before calling them with the RE.\n",
    "</div>\n",
    "\n",
    "\n",
    "### Simulate\n",
    "\n",
    "It's easy.  Just replace `RE` with `summarize_plan`."
   ]
  },
  {
   "cell_type": "code",
   "execution_count": 14,
   "metadata": {
    "tags": []
   },
   "outputs": [
    {
     "name": "stdout",
     "output_type": "stream",
     "text": [
      "=================================== Open Run ===================================\n",
      "motor -> -5.0\n",
      "  Read ['noisy_det', 'motor']\n",
      "motor -> -4.0\n",
      "  Read ['noisy_det', 'motor']\n",
      "motor -> -3.0\n",
      "  Read ['noisy_det', 'motor']\n",
      "motor -> -2.0\n",
      "  Read ['noisy_det', 'motor']\n",
      "motor -> -1.0\n",
      "  Read ['noisy_det', 'motor']\n",
      "motor -> 0.0\n",
      "  Read ['noisy_det', 'motor']\n",
      "motor -> 1.0\n",
      "  Read ['noisy_det', 'motor']\n",
      "motor -> 2.0\n",
      "  Read ['noisy_det', 'motor']\n",
      "motor -> 3.0\n",
      "  Read ['noisy_det', 'motor']\n",
      "motor -> 4.0\n",
      "  Read ['noisy_det', 'motor']\n",
      "motor -> 5.0\n",
      "  Read ['noisy_det', 'motor']\n",
      "================================== Close Run ===================================\n",
      "motor -> 0\n"
     ]
    }
   ],
   "source": [
    "summarize_plan(align_peak())"
   ]
  },
  {
   "cell_type": "markdown",
   "metadata": {},
   "source": [
    "`summarize_plan` is more for syntax checking and object verification.  It does not check if the plan is actually feasilble.\n",
    "\n",
    "### Check limits\n",
    "\n",
    "To do this, replace `summarize_plan` with `check_limits`"
   ]
  },
  {
   "cell_type": "code",
   "execution_count": 15,
   "metadata": {},
   "outputs": [],
   "source": [
    "check_limits(align_peak())"
   ]
  },
  {
   "cell_type": "markdown",
   "metadata": {},
   "source": [
    "No errors and a returned prompt are a great sign!"
   ]
  },
  {
   "cell_type": "markdown",
   "metadata": {},
   "source": [
    "## Motor position on peak maximum\n",
    "\n",
    "Bluesky has a built in feature called `bec.peaks` (best effort callbacks).\n",
    "\n",
    "Try `bec.peaks` and see what it is.  What python data structure does this resemble?"
   ]
  },
  {
   "cell_type": "code",
   "execution_count": 16,
   "metadata": {},
   "outputs": [
    {
     "data": {
      "text/plain": [
       "{\n",
       "'com':\n",
       "    {'noisy_det': -0.26534488673887324}\n",
       ",\n",
       "'cen':\n",
       "    {'noisy_det': -0.013119016721183874}\n",
       ",\n",
       "'max':\n",
       "    {'noisy_det': (0.0,\n",
       "                   1.044427916911302)}\n",
       ",\n",
       "'min':\n",
       "    {'noisy_det': (3.0,\n",
       "                   -0.07376593508917823)}\n",
       ",\n",
       "'fwhm':\n",
       "    {'noisy_det': 2.1624557161817117}\n",
       ",\n",
       "}"
      ]
     },
     "execution_count": 16,
     "metadata": {},
     "output_type": "execute_result"
    }
   ],
   "source": [
    "bec.peaks"
   ]
  },
  {
   "cell_type": "markdown",
   "metadata": {},
   "source": [
    "Try to exact `motor` position at the scan's maximum value for `noisy_det`:\n",
    "\n",
    "\n",
    "\n",
    "\n",
    "<details><summary><b>Copy Paste Solution</b></summary>\n",
    "\n",
    "    \n",
    "```python\n",
    "\n",
    "print(bec.peaks[\"max\"][\"noisy_det\"][0])\n",
    "\n",
    "RE(mv(motor, bec.peaks[\"max\"][\"noisy_det\"][0]) )\n",
    "\n",
    "\n",
    "```\n",
    "</details>\n"
   ]
  },
  {
   "cell_type": "code",
   "execution_count": null,
   "metadata": {},
   "outputs": [],
   "source": []
  },
  {
   "cell_type": "markdown",
   "metadata": {},
   "source": [
    "Let's finish our function"
   ]
  },
  {
   "cell_type": "code",
   "execution_count": 17,
   "metadata": {},
   "outputs": [],
   "source": [
    "def align_peak():\n",
    "    yield from scan([noisy_det], motor, -5, 5, 11) \n",
    "    yield from bps.sleep(3) #sometimes need this on actual hardware\n",
    "    my_max = bec.peaks[\"max\"][\"noisy_det\"][0]\n",
    "    yield from mv(motor, my_max)"
   ]
  },
  {
   "cell_type": "code",
   "execution_count": 18,
   "metadata": {
    "tags": []
   },
   "outputs": [
    {
     "name": "stdout",
     "output_type": "stream",
     "text": [
      "=================================== Open Run ===================================\n",
      "motor -> -5.0\n",
      "  Read ['noisy_det', 'motor']\n",
      "motor -> -4.0\n",
      "  Read ['noisy_det', 'motor']\n",
      "motor -> -3.0\n",
      "  Read ['noisy_det', 'motor']\n",
      "motor -> -2.0\n",
      "  Read ['noisy_det', 'motor']\n",
      "motor -> -1.0\n",
      "  Read ['noisy_det', 'motor']\n",
      "motor -> 0.0\n",
      "  Read ['noisy_det', 'motor']\n",
      "motor -> 1.0\n",
      "  Read ['noisy_det', 'motor']\n",
      "motor -> 2.0\n",
      "  Read ['noisy_det', 'motor']\n",
      "motor -> 3.0\n",
      "  Read ['noisy_det', 'motor']\n",
      "motor -> 4.0\n",
      "  Read ['noisy_det', 'motor']\n",
      "motor -> 5.0\n",
      "  Read ['noisy_det', 'motor']\n",
      "================================== Close Run ===================================\n",
      "motor -> 0.0\n"
     ]
    }
   ],
   "source": [
    "summarize_plan(align_peak())"
   ]
  },
  {
   "cell_type": "markdown",
   "metadata": {},
   "source": [
    "### Assemble a super plan for our experiment\n",
    "OUr experiment's design is to:\n",
    "1. align a peak at a given temperature\n",
    "2. count for some extended time (better statisics)\n",
    "3. change temperature and repeat Items 1 and 2"
   ]
  },
  {
   "cell_type": "code",
   "execution_count": 19,
   "metadata": {},
   "outputs": [
    {
     "name": "stdout",
     "output_type": "stream",
     "text": [
      "\n",
      "\n",
      "Transient Scan ID: 43     Time: 2023-04-21 11:46:43\n",
      "Persistent Unique Scan ID: 'b9a22071-42df-4a5a-a904-c553ecefb98e'\n",
      "New stream: 'primary'\n",
      "+-----------+------------+------------+\n",
      "|   seq_num |       time |  noisy_det |\n",
      "+-----------+------------+------------+\n",
      "|         1 | 11:46:43.7 |      1.048 |\n",
      "|         2 | 11:46:43.8 |      0.983 |\n",
      "|         3 | 11:46:43.8 |      1.014 |\n",
      "|         4 | 11:46:43.9 |      0.934 |\n",
      "|         5 | 11:46:43.9 |      1.081 |\n",
      "|         6 | 11:46:44.0 |      0.945 |\n",
      "|         7 | 11:46:44.0 |      0.908 |\n",
      "|         8 | 11:46:44.1 |      1.027 |\n",
      "|         9 | 11:46:44.1 |      0.906 |\n",
      "|        10 | 11:46:44.2 |      1.047 |\n",
      "+-----------+------------+------------+\n",
      "generator count ['b9a22071'] (scan num: 43)\n",
      "\n",
      "\n",
      "\n"
     ]
    },
    {
     "data": {
      "text/plain": [
       "('b9a22071-42df-4a5a-a904-c553ecefb98e',)"
      ]
     },
     "execution_count": 19,
     "metadata": {},
     "output_type": "execute_result"
    },
    {
     "data": {
      "image/png": "[encoded data removed]",
      "text/plain": [
       "<Figure size 360x360 with 1 Axes>"
      ]
     },
     "metadata": {
      "needs_background": "light"
     },
     "output_type": "display_data"
    }
   ],
   "source": [
    "RE(count([noisy_det], num = 10))"
   ]
  },
  {
   "cell_type": "code",
   "execution_count": 24,
   "metadata": {
    "nbsphinx": "hidden"
   },
   "outputs": [],
   "source": [
    "def one_temperature():\n",
    "    yield from align_peak()\n",
    "    yield from count([noisy_det], 5)"
   ]
  },
  {
   "cell_type": "markdown",
   "metadata": {},
   "source": [
    "Let's make sure this is correct by using `summarize_plan`.\n",
    "\n",
    "Note:  we don't expect it to work.  Can you figure out what is wrong?  \n",
    "\n",
    "<details><summary><b>Hint #1</b></summary>\n",
    "\n",
    "If the traceback isn't all that useful.  Which function `align_peak()` or `count()` has sets a python variable?\n",
    "\n",
    "</details>\n",
    "\n",
    "<details><summary><b>Hint #2</b></summary>\n",
    "\n",
    "Type `bec.peaks` after `RE(count([noisy_det], 5))`\n",
    "\n",
    "```python\n",
    "RE(count([noisy_det], 5))\n",
    "bec.peaks\n",
    "\n",
    "```\n",
    "\n",
    "</details>\n"
   ]
  },
  {
   "cell_type": "code",
   "execution_count": null,
   "metadata": {},
   "outputs": [],
   "source": []
  },
  {
   "cell_type": "code",
   "execution_count": null,
   "metadata": {},
   "outputs": [],
   "source": []
  },
  {
   "cell_type": "code",
   "execution_count": 25,
   "metadata": {
    "scrolled": true,
    "tags": []
   },
   "outputs": [
    {
     "name": "stdout",
     "output_type": "stream",
     "text": [
      "=================================== Open Run ===================================\n",
      "motor -> -5.0\n",
      "  Read ['noisy_det', 'motor']\n",
      "motor -> -4.0\n",
      "  Read ['noisy_det', 'motor']\n",
      "motor -> -3.0\n",
      "  Read ['noisy_det', 'motor']\n",
      "motor -> -2.0\n",
      "  Read ['noisy_det', 'motor']\n",
      "motor -> -1.0\n",
      "  Read ['noisy_det', 'motor']\n",
      "motor -> 0.0\n",
      "  Read ['noisy_det', 'motor']\n",
      "motor -> 1.0\n",
      "  Read ['noisy_det', 'motor']\n",
      "motor -> 2.0\n",
      "  Read ['noisy_det', 'motor']\n",
      "motor -> 3.0\n",
      "  Read ['noisy_det', 'motor']\n",
      "motor -> 4.0\n",
      "  Read ['noisy_det', 'motor']\n",
      "motor -> 5.0\n",
      "  Read ['noisy_det', 'motor']\n",
      "================================== Close Run ===================================\n",
      "motor -> 0.0\n",
      "=================================== Open Run ===================================\n",
      "  Read ['noisy_det']\n",
      "  Read ['noisy_det']\n",
      "  Read ['noisy_det']\n",
      "  Read ['noisy_det']\n",
      "  Read ['noisy_det']\n",
      "================================== Close Run ===================================\n"
     ]
    }
   ],
   "source": [
    "summarize_plan(one_temperature())"
   ]
  },
  {
   "cell_type": "markdown",
   "metadata": {
    "tags": []
   },
   "source": [
    "## The cause of this failed `summarize_plan`\n",
    "\n",
    "<details><summary><b>Solution</b></summary>\n",
    "\n",
    "Performing a scan with a different detector before hand\n",
    "    \n",
    "```python\n",
    "RE(scan([det], motor, -.5, .5, 3) )\n",
    "summarize_plan(one_temperature)\n",
    "   \n",
    "   \n",
    "```\n",
    "\n",
    "\n",
    "</details>"
   ]
  },
  {
   "cell_type": "markdown",
   "metadata": {},
   "source": [
    "<div class=\"alert alert-block alert-warning\">\n",
    "<b>Caution:</b> Some beamlines have put effort into high level plans.\n",
    "    \n",
    "    \n",
    "* Not all beamline specific plans are compatible with the bluesky.simulation module.\n",
    "    \n",
    "* Others have more automated alignment plans and those should be used as per the staff instructions.\n",
    "</div>\n"
   ]
  },
  {
   "cell_type": "markdown",
   "metadata": {},
   "source": [
    "## Robust use of `bec.peaks`\n",
    "\n",
    "<div class=\"alert alert-block alert-info\">\n",
    "<b>Tip:</b> Don't be shy about adding print() inside functions to help with debugging.\n",
    "</div>\n"
   ]
  },
  {
   "cell_type": "code",
   "execution_count": null,
   "metadata": {},
   "outputs": [],
   "source": [
    "def align_peak():\n",
    "    uid = yield from scan([noisy_det], motor, -5, 5, 11) \n",
    "    if uid is not None:\n",
    "        #print('doing')\n",
    "        yield from bps.sleep(3) #sometimes need this on actual hardware\n",
    "        my_max = bec.peaks[\"max\"][\"noisy_det\"][0]\n",
    "        yield from mv(motor, my_max)\n",
    "    #else:\n",
    "        #print('passing')\n",
    "        #pass"
   ]
  },
  {
   "cell_type": "code",
   "execution_count": null,
   "metadata": {
    "tags": []
   },
   "outputs": [],
   "source": [
    "RE(scan([noisy_det], motor, -5, 5, 11) )"
   ]
  },
  {
   "cell_type": "code",
   "execution_count": null,
   "metadata": {
    "scrolled": true,
    "tags": []
   },
   "outputs": [],
   "source": [
    "summarize_plan(one_temperature())"
   ]
  },
  {
   "cell_type": "code",
   "execution_count": null,
   "metadata": {},
   "outputs": [],
   "source": []
  },
  {
   "cell_type": "markdown",
   "metadata": {
    "tags": []
   },
   "source": [
    "# Start Josh"
   ]
  },
  {
   "cell_type": "markdown",
   "metadata": {},
   "source": [
    "### We have the major data collection plan\n",
    "\n",
    "Let's iterate over some temperatures."
   ]
  },
  {
   "cell_type": "code",
   "execution_count": null,
   "metadata": {},
   "outputs": [],
   "source": [
    "for myT in [43, 45, 47, 50, 51, 52, 53, 54]:\n",
    "    print(myT)"
   ]
  },
  {
   "cell_type": "markdown",
   "metadata": {},
   "source": [
    "<div class=\"alert alert-block alert-info\">\n",
    "<b>Tip:</b> Easier ways to do this'\n",
    "    \n",
    "    - range()\n",
    "    - \"list comprehension\"\n",
    "</div>\n"
   ]
  },
  {
   "cell_type": "code",
   "execution_count": null,
   "metadata": {},
   "outputs": [],
   "source": []
  },
  {
   "cell_type": "markdown",
   "metadata": {
    "tags": []
   },
   "source": [
    "## Create and test our overnight script\n",
    "Try to modify the function below.\n",
    "\n",
    "<details><summary><b>Solution</b></summary>\n",
    "\n",
    "This represents my ideal solution.  There are variations of this that are also acceptable.\n",
    "\n",
    "Copy and Paste the below in one cell to see the difference\n",
    "    \n",
    "```python\n",
    "def my_experiment(myT_list):\n",
    "    for myT in myT_list:\n",
    "        print(f'Changing temperature to {myT}')\n",
    "        yield from mv(temperature, myT)\n",
    "        yield from one_temperature()\n",
    "        print(f'\\tFinished scans for temperature {myT}')\n",
    "\n",
    "summarize_plan(my_experiment([31,]))\n",
    "check_limits(my_experiment([31,]))\n",
    "```\n",
    "\n",
    "\n",
    "</details>"
   ]
  },
  {
   "cell_type": "code",
   "execution_count": null,
   "metadata": {},
   "outputs": [],
   "source": [
    "## FIX THE FUNCTION\n",
    "def my_experiment():\n",
    "    yield from mv(temperature, ?)\n",
    "    yield from one_temperature()"
   ]
  },
  {
   "cell_type": "code",
   "execution_count": null,
   "metadata": {},
   "outputs": [],
   "source": [
    "summarize_plan(my_experiment())"
   ]
  },
  {
   "cell_type": "code",
   "execution_count": null,
   "metadata": {},
   "outputs": [],
   "source": [
    "check_limits(my_experiment())"
   ]
  },
  {
   "cell_type": "code",
   "execution_count": null,
   "metadata": {},
   "outputs": [],
   "source": []
  },
  {
   "cell_type": "markdown",
   "metadata": {},
   "source": [
    "## Questions"
   ]
  },
  {
   "cell_type": "code",
   "execution_count": null,
   "metadata": {},
   "outputs": [],
   "source": []
  },
  {
   "cell_type": "markdown",
   "metadata": {},
   "source": [
    "## What's next\n",
    "\n",
    "\n",
    "\n",
    "* [Good Night Bluesky](./Good%20Night%20Bluesky.ipynb)"
   ]
  },
  {
   "cell_type": "code",
   "execution_count": null,
   "metadata": {},
   "outputs": [],
   "source": []
  }
 ],
 "metadata": {
  "kernelspec": {
   "display_name": "Python 3 (ipykernel)",
   "language": "python",
   "name": "python3"
  },
  "language_info": {
   "codemirror_mode": {
    "name": "ipython",
    "version": 3
   },
   "file_extension": ".py",
   "mimetype": "text/x-python",
   "name": "python",
   "nbconvert_exporter": "python",
   "pygments_lexer": "ipython3",
   "version": "3.9.13"
  }
 },
 "nbformat": 4,
 "nbformat_minor": 4
}

{
 "cells": [
  {
   "cell_type": "markdown",
   "id": "undefined-indonesia",
   "metadata": {},
   "source": [
    "# Ophyd with EPICS Tutorials"
   ]
  },
  {
   "cell_type": "markdown",
   "id": "positive-electronics",
   "metadata": {},
   "source": [
    "This is a series of tutorials on Ophyd and Bluesky, prepared for the Spring 2021 EPICS Collaboration Meeting."
   ]
  },
  {
   "cell_type": "markdown",
   "id": "inner-passenger",
   "metadata": {},
   "source": [
    "Topics covered:\n",
    "\n",
    "* How to create new Ophyd devices to talk to EPICS IOCs\n",
    "* How to add logic to preprocess values and set multiple PVs at once\n",
    "* Setting the stage and cleaning up afterwards\n",
    "* Some more complete examples to bring everything together"
   ]
  },
  {
   "cell_type": "markdown",
   "id": "front-match",
   "metadata": {},
   "source": [
    "Useful links:\n",
    "\n",
    "* Bluesky Home: https://blueskyproject.io/\n",
    "* Ophyd Docs: https://blueskyproject.io/ophyd/\n",
    "* Bluesky Docs: https://blueskyproject.io/bluesky/\n",
    "* Databroker Docs: https://blueskyproject.io/databroker/\n",
    "* Event Model Docs: https://blueskyproject.io/event-model/\n",
    "* Tutorial Repo: https://github.com/bluesky/tutorials"
   ]
  },
  {
   "cell_type": "markdown",
   "id": "underlying-steering",
   "metadata": {},
   "source": [
    "There will be periodic pauses throughout the presentation to allow you to explore the code and ask questions."
   ]
  }
 ],
 "metadata": {
  "kernelspec": {
   "display_name": "Python 3",
   "language": "python",
   "name": "python3"
  },
  "language_info": {
   "codemirror_mode": {
    "name": "ipython",
    "version": 3
   },
   "file_extension": ".py",
   "mimetype": "text/x-python",
   "name": "python",
   "nbconvert_exporter": "python",
   "pygments_lexer": "ipython3",
   "version": "3.7.10"
  }
 },
 "nbformat": 4,
 "nbformat_minor": 5
}

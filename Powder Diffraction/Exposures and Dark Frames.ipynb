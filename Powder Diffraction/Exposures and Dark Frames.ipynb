{
 "cells": [
  {
   "cell_type": "markdown",
   "metadata": {},
   "source": [
    "# Exposures and Dark Frames"
   ]
  },
  {
   "cell_type": "markdown",
   "metadata": {},
   "source": [
    "In this notebook you will:\n",
    "- Learn how to manipulate samples, shutters, and measure on a simulated diffraction beamline\n",
    "- Design and implement a custom scan plan to manage dark-image subtraction\n",
    "- Collect and average the data from multiple exposures"
   ]
  },
  {
   "cell_type": "markdown",
   "metadata": {},
   "source": [
    "## Science Background\n",
    "\n",
    "At high-flux synchrotron lightsources like the NSLS-II, we often employ 2D large area-detectors to quickly gather powder diffraction data by measuring a wide bandwidth of reciprocal-space in a single measurment.  In this transmission geometry, the Debye-Scherrer cones are captured as circles on the detector.  These 2D images can be azimuthally integrated to process (or reduce) the data from the 2D-image format into the commonly encoutnter 1-D representation of diffraction peaks as Intensity vs. momentum-transfer vector ($Q$) or Intensity vs. scattering angle ($2\\theta$).\n",
    "\n",
    "<img src=\"./static/HEX-2D-diffraction.png\" alt=\"Powder Diffraction on an Area Detector\" style=\"width: 400px;\"/>  [(image source)](https://commons.wikimedia.org/wiki/File:HEX-2D-diffraction.png)\n",
    "\n",
    "This method of collecting diffraction data has the advantage of being very fast, allowing for in situ diffraction and total scattering studies of materials.  For example, we can measure at a 10 Hz frame rate out to $Q = 25 \\, Å^{-1}$ at the PDF Beamline (28-ID-1) at NSLS-II.  However, one challange of this approach is that these large area-detectors often suffer from issues of burn-in, ghosting, and other so-called 'dark image' effects on the detectors.\n",
    "\n",
    "To address many of these issues, we employ a method called dark-image subtraction on the 2D-image data.  Put simply, we measure a 'dark' image on the detector when there is no light being exposed (i.e. the shutter is closed), in which presumably any static artifacts on the detector are captured.  This dark-image is then subtracted from any light-images (which we presume to also have these static artifacts) to produce a final clean image.  \n",
    "\n",
    "Making things more complicated, these dark images must be regularly refreshed during the course of a beamtime.  These detectors can experience image-ghosting, particularly from strongly scattering materials or over-exposed images.   These ghost-images are essentially residual intensity on the detector that fades slowly with time.  Careful managment of when to collect dark-images, how to recognize over-exposure, and best practices for efficient data collection are all part of a succesful powder diffraction measurement using 2D area-detectors."
   ]
  },
  {
   "cell_type": "markdown",
   "metadata": {},
   "source": [
    "### Simulated Beamline\n",
    "\n",
    "We have designed a simulated beamline that exhibits a simplified version of these detector effects that can be controlled with Bluesky.  Also key to this excercise, we simulated the passage of time and how it effects the image on the detector.  This is to say that simply leaving the notebook open will not cause the decay of ghosted after-images on the detector (these effects are not tied to the actual wallclock time).  Instead, explicit actions taken will move time forward.  The four possible actions you can take in this tutorial are:\n",
    "\n",
    "- Load and unload different several samples \n",
    "- Open and close a shutter\n",
    "- Take measurments from the detector\n",
    "- Take no action for a specific amount of time\n",
    "\n",
    "In the case of the latter action (or inaction), you can in principle move backwards in time.  However, as \"Introductory Time Travel\" is saved for a future tutorial, we are recomming against it at this time, and are not responsible for any actions you may take or un-take.  It might break the simulation.  Please use time travel responsibly.\n",
    "\n",
    "\n",
    "\n"
   ]
  },
  {
   "cell_type": "markdown",
   "metadata": {},
   "source": [
    "### Part 1 : Basic Image Collection "
   ]
  },
  {
   "cell_type": "markdown",
   "metadata": {},
   "source": [
    "To begin with, setup your Bluesky enviornment and import those libraries we will need for the rest of the notebook."
   ]
  },
  {
   "cell_type": "code",
   "execution_count": null,
   "metadata": {},
   "outputs": [],
   "source": [
    "import matplotlib.pyplot as plt\n",
    "import numpy as np\n",
    "\n",
    "from bluesky_tutorial_utils import setup_data_saving\n",
    "from bluesky import RunEngine\n",
    "from bluesky.plans import count\n",
    "\n",
    "%matplotlib inline\n",
    "#if you'd prefer interactive plots, comment out the above line, and uncomment below\n",
    "#%matplotlib widget\n"
   ]
  },
  {
   "cell_type": "markdown",
   "metadata": {},
   "source": [
    "Just as you can often find at real beamlines, we have written a number of custom helper-scripts which excecute some of the more complicated raw commands in a more human-friendly way.  But, as with real beamlines, you are not limited to the scripts we have provided and could develop your own custom scan-plans or data reduction procedures to gather and analyze data in your own preferred style.  \n",
    "\n",
    "We also setup the Run Engine (RE) and Databroker instance (catalog) here."
   ]
  },
  {
   "cell_type": "code",
   "execution_count": null,
   "metadata": {},
   "outputs": [],
   "source": [
    "from simulated_hardware import detector, load_sample, unload_sample, light, history_reset, sim_sleep\n",
    "from simulated_hardware import _history\n",
    "\n",
    "#from utils import simple_integration, look_at_watch, normalized_residual\n",
    "\n",
    "RE = RunEngine()\n",
    "catalog = setup_data_saving(RE)"
   ]
  },
  {
   "cell_type": "code",
   "execution_count": null,
   "metadata": {},
   "outputs": [],
   "source": [
    "%run -i utils.py"
   ]
  },
  {
   "cell_type": "code",
   "execution_count": null,
   "metadata": {},
   "outputs": [],
   "source": [
    "#we can eventually move these into utils.py?\n",
    "#I don't think I can move it if the function uses the catalog (as process data, or retrieve_im does)\n",
    "\n",
    "def dark_light_subtract(sample_num, num_lights = 1):\n",
    "    #close shutter if not already closed\n",
    "    yield from light(False)\n",
    "        \n",
    "    #move to desired sample\n",
    "    yield from load_sample(sample_num)\n",
    "    \n",
    "    #take dark image\n",
    "    yield from count([detector])\n",
    "    \n",
    "    #open shutter\n",
    "    yield from light(True)\n",
    "    \n",
    "    #take light image\n",
    "    for i in range(num_lights):\n",
    "        yield from count([detector])\n",
    "    \n",
    "    #close shutter to be nice to detector\n",
    "    yield from light(False)\n",
    "    "
   ]
  },
  {
   "cell_type": "code",
   "execution_count": null,
   "metadata": {},
   "outputs": [],
   "source": [
    "perfect_int1 = make_ideal_data(1)\n",
    "perfect_int2 = make_ideal_data(2)\n",
    "perfect_int3 = make_ideal_data(3)\n",
    "perfect_int4 = make_ideal_data(4)\n",
    "history_reset()"
   ]
  },
  {
   "cell_type": "markdown",
   "metadata": {},
   "source": [
    "## Simulation intro text"
   ]
  },
  {
   "cell_type": "code",
   "execution_count": null,
   "metadata": {},
   "outputs": [],
   "source": [
    "#load sample\n",
    "RE(load_sample(1))\n",
    "\n",
    "#turn on light\n",
    "RE(light(True))\n",
    "\n",
    "#count\n",
    "RE(count([detector]))\n",
    "\n",
    "look_at_watch()"
   ]
  },
  {
   "cell_type": "code",
   "execution_count": null,
   "metadata": {},
   "outputs": [],
   "source": [
    "#retrieve image from databroker\n",
    "my_im = retrieve_im(-1)\n",
    "#plot\n",
    "plt.figure()\n",
    "plt.imshow(my_im)\n",
    "plt.colorbar()"
   ]
  },
  {
   "cell_type": "markdown",
   "metadata": {},
   "source": [
    "### Dark image introduction"
   ]
  },
  {
   "cell_type": "code",
   "execution_count": null,
   "metadata": {},
   "outputs": [],
   "source": [
    "#we started at t=0, so we'll just go before then to measure the dark.\n",
    "#time_travel(-1)\n",
    "\n",
    "RE(light(False))\n",
    "\n",
    "sim_sleep(10)\n",
    "\n",
    "RE(count([detector]))\n",
    "\n",
    "my_dark = catalog[-1].primary.read().detector_image[0]"
   ]
  },
  {
   "cell_type": "code",
   "execution_count": null,
   "metadata": {},
   "outputs": [],
   "source": [
    "plt.figure()\n",
    "plt.imshow(my_dark)"
   ]
  },
  {
   "cell_type": "code",
   "execution_count": null,
   "metadata": {},
   "outputs": [],
   "source": [
    "plt.figure()\n",
    "plt.imshow(my_im - my_dark)"
   ]
  },
  {
   "cell_type": "markdown",
   "metadata": {},
   "source": [
    "### Integrate to get pattern"
   ]
  },
  {
   "cell_type": "code",
   "execution_count": null,
   "metadata": {},
   "outputs": [],
   "source": [
    "intensity = simple_integration(my_im - my_dark,num_bins=301)\n",
    "\n",
    "plt.figure()\n",
    "plt.plot(intensity, label=\"'measured'\")\n",
    "plt.plot(perfect_int1)\n",
    "plt.legend()"
   ]
  },
  {
   "cell_type": "markdown",
   "metadata": {},
   "source": [
    "### Bluesky plan to gather light/dark automatically\n",
    "\n",
    "#### Demonstrate how to make a simple plan using bluesky (unless we have one already defined at this point)."
   ]
  },
  {
   "cell_type": "code",
   "execution_count": null,
   "metadata": {},
   "outputs": [],
   "source": [
    "def dark_light_subtract(sample_num, num_lights = 1):\n",
    "    uids = []\n",
    "    #close shutter if not already closed\n",
    "    yield from light(False)\n",
    "        \n",
    "    #move to desired sample\n",
    "    yield from load_sample(sample_num)\n",
    "    \n",
    "    #take dark image\n",
    "    uid = yield from count([detector])\n",
    "    uids.append(uid)\n",
    "    \n",
    "    #open shutter\n",
    "    yield from light(True)\n",
    "    \n",
    "    #take light image\n",
    "    for i in range(num_lights):\n",
    "        uid = yield from count([detector])\n",
    "        uids.append(uid)\n",
    "    \n",
    "    #close shutter to be nice to detector\n",
    "    yield from light(False)\n",
    "    return uids"
   ]
  },
  {
   "cell_type": "markdown",
   "metadata": {},
   "source": [
    "Run engine returns uids"
   ]
  },
  {
   "cell_type": "code",
   "execution_count": null,
   "metadata": {},
   "outputs": [],
   "source": [
    "uids = RE(dark_light_subtract(1))"
   ]
  },
  {
   "cell_type": "code",
   "execution_count": null,
   "metadata": {},
   "outputs": [],
   "source": [
    "uids"
   ]
  },
  {
   "cell_type": "markdown",
   "metadata": {},
   "source": [
    "#### At beamline, we have autoreduction.  Here, we wrote a helper function called \"process_data\" which will return your integrated intensity."
   ]
  },
  {
   "cell_type": "code",
   "execution_count": null,
   "metadata": {},
   "outputs": [],
   "source": [
    "this_intensity = process_data(uids)\n",
    "\n",
    "plt.figure()\n",
    "plt.plot(this_intensity)"
   ]
  },
  {
   "cell_type": "markdown",
   "metadata": {},
   "source": [
    "### Part B: Managing multiple samples.\n",
    "\n",
    "#### How to Turn-on / Turn-off light, and how to switch between samples.\n"
   ]
  },
  {
   "cell_type": "code",
   "execution_count": null,
   "metadata": {},
   "outputs": [],
   "source": [
    "#history_reset()\n",
    "\n",
    "RE(light(True))\n",
    "\n",
    "RE(load_sample(1))\n",
    "\n",
    "RE(load_sample(2))\n",
    "\n",
    "RE(load_sample(3))\n",
    "\n"
   ]
  },
  {
   "cell_type": "markdown",
   "metadata": {},
   "source": [
    "#### Explain that much like many real detectors, our simulated detector has some degree of memory.  Burn-in effects are possible, as are after-image."
   ]
  },
  {
   "cell_type": "code",
   "execution_count": null,
   "metadata": {},
   "outputs": [],
   "source": [
    "uids = RE(dark_light_subtract(1))"
   ]
  },
  {
   "cell_type": "code",
   "execution_count": null,
   "metadata": {},
   "outputs": [],
   "source": [
    "my_light = retrieve_im(uids[1])\n",
    "my_dark = retrieve_im(uids[0])\n",
    "\n",
    "plt.figure()\n",
    "plt.imshow(my_light - my_dark)"
   ]
  },
  {
   "cell_type": "code",
   "execution_count": null,
   "metadata": {},
   "outputs": [],
   "source": [
    "plt.figure()\n",
    "plt.subplot(211)\n",
    "plt.plot(process_data(uids))\n",
    "plt.subplot(212)\n",
    "plt.plot(process_data(uids,return_light=True))\n",
    "plt.plot(process_data(uids,return_dark=True))\n"
   ]
  },
  {
   "cell_type": "markdown",
   "metadata": {},
   "source": [
    "#### We see features in the dark (peaks), that tell us our dark is kind of no-good."
   ]
  },
  {
   "cell_type": "code",
   "execution_count": null,
   "metadata": {},
   "outputs": [],
   "source": [
    "sim_sleep(100)\n",
    "\n",
    "uids = RE(dark_light_subtract(1))\n",
    "\n"
   ]
  },
  {
   "cell_type": "code",
   "execution_count": null,
   "metadata": {},
   "outputs": [],
   "source": [
    "plt.figure()\n",
    "plt.subplot(211)\n",
    "plt.plot(process_data(uids))\n",
    "plt.subplot(212)\n",
    "plt.plot(process_data(uids,return_light=True))\n",
    "plt.plot(process_data(uids,return_dark=True))\n"
   ]
  },
  {
   "cell_type": "markdown",
   "metadata": {},
   "source": [
    "##### Much cleaner looking dark, no outstanding peaks. Clearly, managment of darks is an important aspect of diffraction measurements (at least on these detectors)."
   ]
  },
  {
   "cell_type": "markdown",
   "metadata": {},
   "source": [
    "### Part C : More samples, more problems.\n",
    "\n",
    "#### In a real experement, you often switch between samples, and they don't all scatter the same.  We often measure multiple times on a single sample and sum the results to improve statistics."
   ]
  },
  {
   "cell_type": "code",
   "execution_count": null,
   "metadata": {},
   "outputs": [],
   "source": [
    "#change to noisy detector\n",
    "\n",
    "_history['noise'] = 1000\n",
    "_history['action_time'] = 20.0 # 1.0\n",
    "_history['panel_wl'] = 3000 # 8000"
   ]
  },
  {
   "cell_type": "markdown",
   "metadata": {},
   "source": [
    "Look at single scan vs. perfect data"
   ]
  },
  {
   "cell_type": "code",
   "execution_count": null,
   "metadata": {},
   "outputs": [],
   "source": [
    "uid = RE(dark_light_subtract(1))\n",
    "plt.figure()\n",
    "plt.plot(process_data(uid))\n",
    "plt.plot(perfect_int1)\n"
   ]
  },
  {
   "cell_type": "markdown",
   "metadata": {},
   "source": [
    "Run multiple scans on single sample (single dark)"
   ]
  },
  {
   "cell_type": "code",
   "execution_count": null,
   "metadata": {},
   "outputs": [],
   "source": [
    "uids1 = RE(dark_light_subtract(1, num_lights=10))"
   ]
  },
  {
   "cell_type": "code",
   "execution_count": null,
   "metadata": {},
   "outputs": [],
   "source": [
    "reduced_data1 = process_data(uids1, num_lights=len(uids1)-1)\n"
   ]
  },
  {
   "cell_type": "markdown",
   "metadata": {},
   "source": [
    "Plot vs. Perfect data."
   ]
  },
  {
   "cell_type": "code",
   "execution_count": null,
   "metadata": {},
   "outputs": [],
   "source": [
    "plt.figure()\n",
    "plt.plot(perfect_int1)\n",
    "plt.plot(reduced_data1.mean(axis=1));\n"
   ]
  },
  {
   "cell_type": "markdown",
   "metadata": {},
   "source": [
    "### Why does our average look so bad?  Huge background.  Let's look at individual runs."
   ]
  },
  {
   "cell_type": "code",
   "execution_count": null,
   "metadata": {},
   "outputs": [],
   "source": [
    "plt.figure()\n",
    "plt.plot(reduced_data1);\n",
    "\n",
    "plt.ylim(0,700)"
   ]
  },
  {
   "cell_type": "markdown",
   "metadata": {},
   "source": [
    "#### We see there is a slowly rising background, which is why our average was corrupted.  What is happening?\n",
    "\n",
    "#### Just like a real detector, our simulated detector has a slowly varying background.  We need to refresh our dark more frequently to account for this."
   ]
  },
  {
   "cell_type": "code",
   "execution_count": null,
   "metadata": {},
   "outputs": [],
   "source": []
  },
  {
   "cell_type": "markdown",
   "metadata": {},
   "source": [
    "Here is a crude plan (RE in a loop) which has a sleep in between our shots, each of which has it's own dark."
   ]
  },
  {
   "cell_type": "code",
   "execution_count": null,
   "metadata": {},
   "outputs": [],
   "source": [
    "history_reset()\n",
    "new_int_list = []\n",
    "def custom_plan(sleep_time = 0):\n",
    "    for i in range(10):\n",
    "        this_pair = yield from dark_light_subtract(1)\n",
    "        new_int_list.append(process_data(this_pair))\n",
    "        sim_sleep(sleep_time)\n",
    "        \n",
    "RE(custom_plan(60))\n",
    "\n",
    "new_int_list = np.array(new_int_list).T"
   ]
  },
  {
   "cell_type": "markdown",
   "metadata": {},
   "source": [
    "Now compare this to the ideal data"
   ]
  },
  {
   "cell_type": "code",
   "execution_count": null,
   "metadata": {},
   "outputs": [],
   "source": [
    "plt.figure()\n",
    "plt.plot(perfect_int1)\n",
    "plt.plot(new_int_list.mean(axis=1))\n",
    "plt.plot(new_int_list.mean(axis=1) - perfect_int1)"
   ]
  },
  {
   "cell_type": "markdown",
   "metadata": {},
   "source": [
    "## Concluding remarks!"
   ]
  },
  {
   "cell_type": "code",
   "execution_count": null,
   "metadata": {},
   "outputs": [],
   "source": []
  }
 ],
 "metadata": {
  "kernelspec": {
   "display_name": "Python 3",
   "language": "python",
   "name": "python3"
  },
  "language_info": {
   "codemirror_mode": {
    "name": "ipython",
    "version": 3
   },
   "file_extension": ".py",
   "mimetype": "text/x-python",
   "name": "python",
   "nbconvert_exporter": "python",
   "pygments_lexer": "ipython3",
   "version": "3.7.7"
  }
 },
 "nbformat": 4,
 "nbformat_minor": 4
}

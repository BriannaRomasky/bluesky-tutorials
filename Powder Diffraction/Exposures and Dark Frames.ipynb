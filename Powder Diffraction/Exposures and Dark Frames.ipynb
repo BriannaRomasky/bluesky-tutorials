{
 "cells": [
  {
   "cell_type": "code",
   "execution_count": 2,
   "metadata": {},
   "outputs": [],
   "source": [
    "import matplotlib.pyplot as plt\n",
    "import numpy as np\n",
    "import time\n",
    "\n",
    "%matplotlib widget"
   ]
  },
  {
   "cell_type": "code",
   "execution_count": 3,
   "metadata": {},
   "outputs": [],
   "source": [
    "from bluesky_tutorial_utils import setup_data_saving\n",
    "from bluesky import RunEngine\n",
    "from bluesky.plans import count\n",
    "from utils import simple_integration\n",
    "\n",
    "RE = RunEngine()\n",
    "catalog = setup_data_saving(RE)"
   ]
  },
  {
   "cell_type": "code",
   "execution_count": 4,
   "metadata": {},
   "outputs": [],
   "source": [
    "from simulated_hardware import detector, load_sample, unload_sample, light, history_reset, sim_sleep\n",
    "from simulated_hardware import _history"
   ]
  },
  {
   "cell_type": "code",
   "execution_count": 5,
   "metadata": {},
   "outputs": [],
   "source": [
    "#we can eventually hide some of these in another file\n",
    "\n",
    "def dark_light_subtract(sample_num, num_lights = 1):\n",
    "    #close shutter if not already closed\n",
    "    yield from light(False)\n",
    "        \n",
    "    #move to desired sample\n",
    "    yield from load_sample(sample_num)\n",
    "    \n",
    "    #take dark image\n",
    "    yield from count([detector])\n",
    "    \n",
    "    #open shutter\n",
    "    yield from light(True)\n",
    "    \n",
    "    #take light image\n",
    "    for i in range(num_lights):\n",
    "        yield from count([detector])\n",
    "    \n",
    "    #close shutter to be nice to detector\n",
    "    yield from light(False)\n",
    "    \n",
    "\n",
    "def process_data(pair, num_lights = 1, return_light = False, return_dark = False):\n",
    "    #assuming pair is tuple\n",
    "    my_dark = catalog[pair[0]].primary.read().detector_image[0]\n",
    "    \n",
    "    if return_dark:\n",
    "        return simple_integration(my_dark, num_bins=301)\n",
    "    \n",
    "    dark_subbed_list = []\n",
    "    \n",
    "    for i in range(1,num_lights+1):\n",
    "        this_light = catalog[pair[i]].primary.read().detector_image[0]\n",
    "        \n",
    "        if return_light:\n",
    "            dark_subbed_list.append(this_light)\n",
    "        else:\n",
    "            dark_subbed_list.append(this_light - my_dark)\n",
    "    \n",
    "    if num_lights == 1:\n",
    "        return simple_integration(dark_subbed_list[0],num_bins=301)\n",
    "    \n",
    "    else: # more than one\n",
    "        int_list = []\n",
    "        for j in range(len(dark_subbed_list)):\n",
    "            int_list.append(simple_integration(dark_subbed_list[j],num_bins=301))\n",
    "    \n",
    "        return np.array(int_list).T\n",
    "\n",
    "def make_ideal_data(sample_num):\n",
    "    _history['perfect_data'] = True\n",
    "\n",
    "    perfect_pair = RE(dark_light_subtract(sample_num))    \n",
    "\n",
    "    this_light = catalog[perfect_pair[1]].primary.read().detector_image[0]\n",
    "\n",
    "    perfect_int = simple_integration(this_light,num_bins=301)\n",
    "\n",
    "    _history['perfect_data'] = False\n",
    "    \n",
    "    return perfect_int\n",
    "\n",
    "def normalized_residual(data, ideal):\n",
    "    return sum(abs(data-ideal))/len(data)\n",
    "\n",
    "def normalized_residual_sqrd(data, ideal):\n",
    "    return sum(np.array(data-ideal)**2.0)/len(data)\n",
    "\n",
    "\n",
    "def retrieve_im(num):\n",
    "    return catalog[num].primary.read().detector_image[0]"
   ]
  },
  {
   "cell_type": "code",
   "execution_count": 25,
   "metadata": {},
   "outputs": [],
   "source": [
    "_history['action_time'] = .5\n",
    "\n",
    "perfect_int1 = make_ideal_data(1)\n",
    "perfect_int2 = make_ideal_data(2)\n",
    "perfect_int3 = make_ideal_data(3)\n",
    "perfect_int4 = make_ideal_data(4)"
   ]
  },
  {
   "cell_type": "markdown",
   "metadata": {},
   "source": [
    "## Simulation intro text"
   ]
  },
  {
   "cell_type": "code",
   "execution_count": 7,
   "metadata": {},
   "outputs": [
    {
     "data": {
      "text/plain": [
       "('63eb9214-7a30-4a8b-82b7-65340e24f53a',)"
      ]
     },
     "execution_count": 7,
     "metadata": {},
     "output_type": "execute_result"
    }
   ],
   "source": [
    "#load sample\n",
    "RE(load_sample(1))\n",
    "\n",
    "#turn on light\n",
    "RE(light(True))\n",
    "\n",
    "#count\n",
    "RE(count([detector]))\n"
   ]
  },
  {
   "cell_type": "code",
   "execution_count": 8,
   "metadata": {},
   "outputs": [
    {
     "data": {
      "application/vnd.jupyter.widget-view+json": {
       "model_id": "da812eeca6334437883187bf56632afa",
       "version_major": 2,
       "version_minor": 0
      },
      "text/plain": [
       "Canvas(toolbar=Toolbar(toolitems=[('Home', 'Reset original view', 'home', 'home'), ('Back', 'Back to previous …"
      ]
     },
     "metadata": {},
     "output_type": "display_data"
    },
    {
     "data": {
      "text/plain": [
       "<matplotlib.colorbar.Colorbar at 0x7f0978416a90>"
      ]
     },
     "execution_count": 8,
     "metadata": {},
     "output_type": "execute_result"
    }
   ],
   "source": [
    "#retrieve image from databroker\n",
    "my_im = catalog[-1].primary.read().detector_image[0]\n",
    "#plot\n",
    "plt.figure()\n",
    "plt.imshow(my_im)\n",
    "plt.colorbar()"
   ]
  },
  {
   "cell_type": "markdown",
   "metadata": {},
   "source": [
    "### Dark image introduction"
   ]
  },
  {
   "cell_type": "code",
   "execution_count": 9,
   "metadata": {},
   "outputs": [
    {
     "name": "stdout",
     "output_type": "stream",
     "text": [
      "sleeping for 10\n"
     ]
    }
   ],
   "source": [
    "#we started at t=0, so we'll just go before then to measure the dark.\n",
    "#time_travel(-1)\n",
    "\n",
    "RE(light(False))\n",
    "\n",
    "sim_sleep(10)\n",
    "\n",
    "RE(count([detector]))\n",
    "\n",
    "my_dark = catalog[-1].primary.read().detector_image[0]"
   ]
  },
  {
   "cell_type": "code",
   "execution_count": 10,
   "metadata": {},
   "outputs": [
    {
     "data": {
      "application/vnd.jupyter.widget-view+json": {
       "model_id": "cfe73500879f4fc4af7ac4a1ff6f57a5",
       "version_major": 2,
       "version_minor": 0
      },
      "text/plain": [
       "Canvas(toolbar=Toolbar(toolitems=[('Home', 'Reset original view', 'home', 'home'), ('Back', 'Back to previous …"
      ]
     },
     "metadata": {},
     "output_type": "display_data"
    },
    {
     "data": {
      "text/plain": [
       "<matplotlib.image.AxesImage at 0x7f0978300710>"
      ]
     },
     "execution_count": 10,
     "metadata": {},
     "output_type": "execute_result"
    }
   ],
   "source": [
    "plt.figure()\n",
    "plt.imshow(my_dark)"
   ]
  },
  {
   "cell_type": "code",
   "execution_count": 11,
   "metadata": {},
   "outputs": [
    {
     "data": {
      "application/vnd.jupyter.widget-view+json": {
       "model_id": "4040942a2a644643bc62960d0590bf95",
       "version_major": 2,
       "version_minor": 0
      },
      "text/plain": [
       "Canvas(toolbar=Toolbar(toolitems=[('Home', 'Reset original view', 'home', 'home'), ('Back', 'Back to previous …"
      ]
     },
     "metadata": {},
     "output_type": "display_data"
    },
    {
     "data": {
      "text/plain": [
       "<matplotlib.image.AxesImage at 0x7f09782f56d0>"
      ]
     },
     "execution_count": 11,
     "metadata": {},
     "output_type": "execute_result"
    }
   ],
   "source": [
    "plt.figure()\n",
    "plt.imshow(my_im - my_dark)"
   ]
  },
  {
   "cell_type": "markdown",
   "metadata": {},
   "source": [
    "### Integrate to get pattern"
   ]
  },
  {
   "cell_type": "code",
   "execution_count": 12,
   "metadata": {},
   "outputs": [
    {
     "data": {
      "application/vnd.jupyter.widget-view+json": {
       "model_id": "70f39ced4c9c4266abee6e20aa46fc70",
       "version_major": 2,
       "version_minor": 0
      },
      "text/plain": [
       "Canvas(toolbar=Toolbar(toolitems=[('Home', 'Reset original view', 'home', 'home'), ('Back', 'Back to previous …"
      ]
     },
     "metadata": {},
     "output_type": "display_data"
    },
    {
     "data": {
      "text/plain": [
       "<matplotlib.legend.Legend at 0x7f09782ad110>"
      ]
     },
     "execution_count": 12,
     "metadata": {},
     "output_type": "execute_result"
    }
   ],
   "source": [
    "intensity = simple_integration(my_im - my_dark,num_bins=301)\n",
    "\n",
    "plt.figure()\n",
    "plt.plot(intensity, label=\"'measured'\")\n",
    "plt.legend()\n",
    "#plt.gcf()"
   ]
  },
  {
   "cell_type": "markdown",
   "metadata": {},
   "source": [
    "### Bluesky plan to gather light/dark automatically\n",
    "\n",
    "#### Demonstrate how to make a simple plan using bluesky (unless we have one already defined at this point)."
   ]
  },
  {
   "cell_type": "code",
   "execution_count": 13,
   "metadata": {},
   "outputs": [],
   "source": [
    "def dark_light_subtract(sample_num, num_lights = 1):\n",
    "    #close shutter if not already closed\n",
    "    yield from light(False)\n",
    "        \n",
    "    #move to desired sample\n",
    "    yield from load_sample(sample_num)\n",
    "    \n",
    "    #take dark image\n",
    "    yield from count([detector])\n",
    "    \n",
    "    #open shutter\n",
    "    yield from light(True)\n",
    "    \n",
    "    #take light image\n",
    "    for i in range(num_lights):\n",
    "        yield from count([detector])\n",
    "    \n",
    "    #close shutter to be nice to detector\n",
    "    yield from light(False)"
   ]
  },
  {
   "cell_type": "markdown",
   "metadata": {},
   "source": [
    "Run engine returns uids"
   ]
  },
  {
   "cell_type": "code",
   "execution_count": 14,
   "metadata": {},
   "outputs": [],
   "source": [
    "uids = RE(dark_light_subtract(1))"
   ]
  },
  {
   "cell_type": "code",
   "execution_count": 15,
   "metadata": {},
   "outputs": [
    {
     "data": {
      "text/plain": [
       "('e0ec7c6d-3d22-4f22-8766-407487193a51',\n",
       " 'd44865f1-d065-45c2-bb36-8a4a4bf6b9c7')"
      ]
     },
     "execution_count": 15,
     "metadata": {},
     "output_type": "execute_result"
    }
   ],
   "source": [
    "uids"
   ]
  },
  {
   "cell_type": "markdown",
   "metadata": {},
   "source": [
    "#### At beamline, we have autoreduction.  Here, we wrote a helper function called \"process_data\" which will return your integrated intensity."
   ]
  },
  {
   "cell_type": "code",
   "execution_count": 16,
   "metadata": {},
   "outputs": [
    {
     "data": {
      "application/vnd.jupyter.widget-view+json": {
       "model_id": "bb2a9059fc80467a9f2fe9bbf3256988",
       "version_major": 2,
       "version_minor": 0
      },
      "text/plain": [
       "Canvas(toolbar=Toolbar(toolitems=[('Home', 'Reset original view', 'home', 'home'), ('Back', 'Back to previous …"
      ]
     },
     "metadata": {},
     "output_type": "display_data"
    },
    {
     "data": {
      "text/plain": [
       "[<matplotlib.lines.Line2D at 0x7f09782cdcd0>]"
      ]
     },
     "execution_count": 16,
     "metadata": {},
     "output_type": "execute_result"
    }
   ],
   "source": [
    "this_intensity = process_data(uids)\n",
    "\n",
    "plt.figure()\n",
    "plt.plot(this_intensity)"
   ]
  },
  {
   "cell_type": "markdown",
   "metadata": {},
   "source": [
    "### Part B: Managing multiple samples.\n",
    "\n",
    "#### How to Turn-on / Turn-off light, and how to switch between samples.\n"
   ]
  },
  {
   "cell_type": "code",
   "execution_count": 18,
   "metadata": {},
   "outputs": [
    {
     "data": {
      "text/plain": [
       "()"
      ]
     },
     "execution_count": 18,
     "metadata": {},
     "output_type": "execute_result"
    }
   ],
   "source": [
    "#history_reset()\n",
    "\n",
    "RE(light(True))\n",
    "\n",
    "RE(load_sample(1))\n",
    "\n",
    "RE(load_sample(2))\n",
    "\n",
    "RE(load_sample(3))\n",
    "\n"
   ]
  },
  {
   "cell_type": "markdown",
   "metadata": {},
   "source": [
    "#### Explain that much like many real detectors, our simulated detector has some degree of memory.  Burn-in effects are possible, as are after-image."
   ]
  },
  {
   "cell_type": "code",
   "execution_count": 19,
   "metadata": {},
   "outputs": [],
   "source": [
    "uids = RE(dark_light_subtract(1))"
   ]
  },
  {
   "cell_type": "code",
   "execution_count": 20,
   "metadata": {},
   "outputs": [
    {
     "data": {
      "application/vnd.jupyter.widget-view+json": {
       "model_id": "7cb5e8f39b7d4f22bb39282ac57dfb81",
       "version_major": 2,
       "version_minor": 0
      },
      "text/plain": [
       "Canvas(toolbar=Toolbar(toolitems=[('Home', 'Reset original view', 'home', 'home'), ('Back', 'Back to previous …"
      ]
     },
     "metadata": {},
     "output_type": "display_data"
    },
    {
     "data": {
      "text/plain": [
       "<matplotlib.image.AxesImage at 0x7f09780fdfd0>"
      ]
     },
     "execution_count": 20,
     "metadata": {},
     "output_type": "execute_result"
    }
   ],
   "source": [
    "my_light = retrieve_im(uids[1])\n",
    "my_dark = retrieve_im(uids[0])\n",
    "\n",
    "plt.figure()\n",
    "plt.imshow(my_light - my_dark)"
   ]
  },
  {
   "cell_type": "code",
   "execution_count": 22,
   "metadata": {},
   "outputs": [
    {
     "data": {
      "application/vnd.jupyter.widget-view+json": {
       "model_id": "99450cc07a8549719504735e64cefcdb",
       "version_major": 2,
       "version_minor": 0
      },
      "text/plain": [
       "Canvas(toolbar=Toolbar(toolitems=[('Home', 'Reset original view', 'home', 'home'), ('Back', 'Back to previous …"
      ]
     },
     "metadata": {},
     "output_type": "display_data"
    },
    {
     "data": {
      "text/plain": [
       "[<matplotlib.lines.Line2D at 0x7f091a3ba0d0>]"
      ]
     },
     "execution_count": 22,
     "metadata": {},
     "output_type": "execute_result"
    }
   ],
   "source": [
    "plt.figure()\n",
    "plt.subplot(211)\n",
    "plt.plot(process_data(uids))\n",
    "plt.subplot(212)\n",
    "plt.plot(process_data(uids,return_light=True))\n",
    "plt.plot(process_data(uids,return_dark=True))\n"
   ]
  },
  {
   "cell_type": "markdown",
   "metadata": {},
   "source": [
    "#### We see features in the dark (peaks), that tell us our dark is kind of no-good."
   ]
  },
  {
   "cell_type": "code",
   "execution_count": 23,
   "metadata": {},
   "outputs": [
    {
     "name": "stdout",
     "output_type": "stream",
     "text": [
      "sleeping for 100\n"
     ]
    }
   ],
   "source": [
    "sim_sleep(100)\n",
    "\n",
    "uids = RE(dark_light_subtract(1))\n",
    "\n"
   ]
  },
  {
   "cell_type": "code",
   "execution_count": 24,
   "metadata": {},
   "outputs": [
    {
     "data": {
      "application/vnd.jupyter.widget-view+json": {
       "model_id": "85d07bcd830c43c7846764141388f3aa",
       "version_major": 2,
       "version_minor": 0
      },
      "text/plain": [
       "Canvas(toolbar=Toolbar(toolitems=[('Home', 'Reset original view', 'home', 'home'), ('Back', 'Back to previous …"
      ]
     },
     "metadata": {},
     "output_type": "display_data"
    },
    {
     "data": {
      "text/plain": [
       "[<matplotlib.lines.Line2D at 0x7f091a2b5d10>]"
      ]
     },
     "execution_count": 24,
     "metadata": {},
     "output_type": "execute_result"
    }
   ],
   "source": [
    "plt.figure()\n",
    "plt.subplot(211)\n",
    "plt.plot(process_data(uids))\n",
    "plt.subplot(212)\n",
    "plt.plot(process_data(uids,return_light=True))\n",
    "plt.plot(process_data(uids,return_dark=True))\n"
   ]
  },
  {
   "cell_type": "markdown",
   "metadata": {},
   "source": [
    "##### Much cleaner looking dark, no outstanding peaks. Clearly, managment of darks is an important aspect of diffraction measurements (at least on these detectors)."
   ]
  },
  {
   "cell_type": "markdown",
   "metadata": {},
   "source": [
    "### Part C : More samples, more problems.\n",
    "\n",
    "#### In a real experement, you often switch between samples, and they don't all scatter the same.  We often measure multiple times on a single sample and sum the results to improve statistics."
   ]
  },
  {
   "cell_type": "code",
   "execution_count": 26,
   "metadata": {},
   "outputs": [],
   "source": [
    "#change to noisy detector\n",
    "\n",
    "_history['noise'] = 1000\n",
    "_history['action_time'] = 20.0 # 1.0\n",
    "_history['panel_wl'] = 3000 # 8000"
   ]
  },
  {
   "cell_type": "markdown",
   "metadata": {},
   "source": [
    "Look at single scan vs. perfect data"
   ]
  },
  {
   "cell_type": "code",
   "execution_count": 31,
   "metadata": {},
   "outputs": [
    {
     "data": {
      "application/vnd.jupyter.widget-view+json": {
       "model_id": "7a439c74e8214d3db4263ca80774c7a0",
       "version_major": 2,
       "version_minor": 0
      },
      "text/plain": [
       "Canvas(toolbar=Toolbar(toolitems=[('Home', 'Reset original view', 'home', 'home'), ('Back', 'Back to previous …"
      ]
     },
     "metadata": {},
     "output_type": "display_data"
    },
    {
     "data": {
      "text/plain": [
       "[<matplotlib.lines.Line2D at 0x7f08c5e47550>]"
      ]
     },
     "execution_count": 31,
     "metadata": {},
     "output_type": "execute_result"
    }
   ],
   "source": [
    "uid = RE(dark_light_subtract(1))\n",
    "plt.figure()\n",
    "plt.plot(process_data(uid))\n",
    "plt.plot(perfect_int1)\n"
   ]
  },
  {
   "cell_type": "markdown",
   "metadata": {},
   "source": [
    "Run multiple scans on single sample (single dark)"
   ]
  },
  {
   "cell_type": "code",
   "execution_count": 27,
   "metadata": {},
   "outputs": [],
   "source": [
    "uids1 = RE(dark_light_subtract(1, num_lights=10))"
   ]
  },
  {
   "cell_type": "code",
   "execution_count": 28,
   "metadata": {},
   "outputs": [],
   "source": [
    "reduced_data1 = process_data(uids1, num_lights=len(uids1)-1)\n"
   ]
  },
  {
   "cell_type": "markdown",
   "metadata": {},
   "source": [
    "Plot vs. Perfect data."
   ]
  },
  {
   "cell_type": "code",
   "execution_count": 29,
   "metadata": {},
   "outputs": [
    {
     "data": {
      "application/vnd.jupyter.widget-view+json": {
       "model_id": "b6c88c43bdf4461a95fe183e741d5f26",
       "version_major": 2,
       "version_minor": 0
      },
      "text/plain": [
       "Canvas(toolbar=Toolbar(toolitems=[('Home', 'Reset original view', 'home', 'home'), ('Back', 'Back to previous …"
      ]
     },
     "metadata": {},
     "output_type": "display_data"
    }
   ],
   "source": [
    "plt.figure()\n",
    "plt.plot(perfect_int1)\n",
    "plt.plot(reduced_data1.mean(axis=1));\n"
   ]
  },
  {
   "cell_type": "markdown",
   "metadata": {},
   "source": [
    "### Why does our average look so bad?  Huge background.  Let's look at individual runs."
   ]
  },
  {
   "cell_type": "code",
   "execution_count": 32,
   "metadata": {},
   "outputs": [
    {
     "data": {
      "application/vnd.jupyter.widget-view+json": {
       "model_id": "13967191f7bc4bd3a7d8d6c14f3835d5",
       "version_major": 2,
       "version_minor": 0
      },
      "text/plain": [
       "Canvas(toolbar=Toolbar(toolitems=[('Home', 'Reset original view', 'home', 'home'), ('Back', 'Back to previous …"
      ]
     },
     "metadata": {},
     "output_type": "display_data"
    }
   ],
   "source": [
    "plt.figure()\n",
    "plt.plot(reduced_data1);\n"
   ]
  },
  {
   "cell_type": "markdown",
   "metadata": {},
   "source": [
    "#### We see there is a slowly rising background, which is why our average was corrupted.  What is happening?\n",
    "\n",
    "#### Just like a real detector, our simulated detector has a slowly varying background.  We need to refresh our dark more frequently to account for this."
   ]
  },
  {
   "cell_type": "code",
   "execution_count": null,
   "metadata": {},
   "outputs": [],
   "source": []
  },
  {
   "cell_type": "markdown",
   "metadata": {},
   "source": [
    "Here is a crude plan (RE in a loop) which has a sleep in between our shots, each of which has it's own dark."
   ]
  },
  {
   "cell_type": "code",
   "execution_count": 43,
   "metadata": {},
   "outputs": [
    {
     "name": "stdout",
     "output_type": "stream",
     "text": [
      "something empty\n",
      "sleeping for 60\n",
      "sleeping for 60\n",
      "sleeping for 60\n",
      "sleeping for 60\n",
      "sleeping for 60\n",
      "sleeping for 60\n",
      "sleeping for 60\n",
      "sleeping for 60\n",
      "sleeping for 60\n",
      "sleeping for 60\n"
     ]
    }
   ],
   "source": [
    "history_reset()\n",
    "new_int_list = []\n",
    "for i in range(10):\n",
    "    this_pair = RE(dark_light_subtract(1))\n",
    "    new_int_list.append(process_data(this_pair))\n",
    "    sim_sleep(60)\n",
    "new_int_list = np.array(new_int_list).T"
   ]
  },
  {
   "cell_type": "markdown",
   "metadata": {},
   "source": [
    "Now compare this to the ideal data"
   ]
  },
  {
   "cell_type": "code",
   "execution_count": 44,
   "metadata": {},
   "outputs": [
    {
     "data": {
      "application/vnd.jupyter.widget-view+json": {
       "model_id": "5d23ef01543647909a0e18fa17d44b92",
       "version_major": 2,
       "version_minor": 0
      },
      "text/plain": [
       "Canvas(toolbar=Toolbar(toolitems=[('Home', 'Reset original view', 'home', 'home'), ('Back', 'Back to previous …"
      ]
     },
     "metadata": {},
     "output_type": "display_data"
    },
    {
     "data": {
      "text/plain": [
       "[<matplotlib.lines.Line2D at 0x7f08904f47d0>]"
      ]
     },
     "execution_count": 44,
     "metadata": {},
     "output_type": "execute_result"
    }
   ],
   "source": [
    "plt.figure()\n",
    "plt.plot(perfect_int1)\n",
    "plt.plot(new_int_list.mean(axis=1))\n",
    "plt.plot(new_int_list.mean(axis=1) - perfect_int1)"
   ]
  },
  {
   "cell_type": "markdown",
   "metadata": {},
   "source": [
    "## Concluding remarks!"
   ]
  },
  {
   "cell_type": "code",
   "execution_count": null,
   "metadata": {},
   "outputs": [],
   "source": []
  }
 ],
 "metadata": {
  "kernelspec": {
   "display_name": "Python 3",
   "language": "python",
   "name": "python3"
  },
  "language_info": {
   "codemirror_mode": {
    "name": "ipython",
    "version": 3
   },
   "file_extension": ".py",
   "mimetype": "text/x-python",
   "name": "python",
   "nbconvert_exporter": "python",
   "pygments_lexer": "ipython3",
   "version": "3.7.7"
  }
 },
 "nbformat": 4,
 "nbformat_minor": 4
}

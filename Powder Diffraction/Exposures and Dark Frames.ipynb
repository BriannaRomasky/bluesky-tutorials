{
 "cells": [
  {
   "cell_type": "markdown",
   "metadata": {},
   "source": [
    "# Choosing Appropriate Exposure Times and Dark-Frame Rules"
   ]
  },
  {
   "cell_type": "code",
   "execution_count": 17,
   "metadata": {},
   "outputs": [],
   "source": [
    "%matplotlib widget\n",
    "import matplotlib.pyplot as plt\n",
    "import numpy as np\n",
    "import time"
   ]
  },
  {
   "cell_type": "code",
   "execution_count": 18,
   "metadata": {},
   "outputs": [],
   "source": [
    "from bluesky_tutorial_utils import setup_data_saving\n",
    "from bluesky import RunEngine\n",
    "from bluesky.plans import count\n",
    "\n",
    "RE = RunEngine()\n",
    "catalog = setup_data_saving(RE)"
   ]
  },
  {
   "cell_type": "markdown",
   "metadata": {},
   "source": [
    "We will import some simulated devices from a Python script in the current directory, [simulated_hardware.py](./simulated_hardware.py). The objects present a programmatic interface that looks like real hardware, but their readings from come functions defined in another script, [generate_data.py](./generate_data.py), instead of from actual measurements."
   ]
  },
  {
   "cell_type": "markdown",
   "metadata": {},
   "source": [
    "## Manual Walk-through\n",
    "\n",
    "First we'll take an exposure with the shutter open, then with it closed, and subtract the two, visualizing the results as we go."
   ]
  },
  {
   "cell_type": "code",
   "execution_count": 6,
   "metadata": {},
   "outputs": [],
   "source": [
    "from simulated_hardware import detector, shutter, load_sample, unload_sample, light, time_travel, current_time, _history, history_reset"
   ]
  },
  {
   "cell_type": "code",
   "execution_count": 13,
   "metadata": {},
   "outputs": [],
   "source": [
    "history_reset()"
   ]
  },
  {
   "cell_type": "code",
   "execution_count": 14,
   "metadata": {},
   "outputs": [
    {
     "data": {
      "text/plain": [
       "{'sample': [(1, 11)],\n",
       " 'light': [(2, 10)],\n",
       " 'image': [array([[1.92874985e-20, 4.18765668e-20, 8.98081999e-20, ...,\n",
       "          1.90262788e-19, 8.98081999e-20, 4.18765668e-20],\n",
       "         [4.18765668e-20, 9.09043553e-20, 1.94957132e-19, ...,\n",
       "          4.13039338e-19, 1.94957132e-19, 9.09043553e-20],\n",
       "         [8.98081999e-20, 1.94957132e-19, 4.18101915e-19, ...,\n",
       "          8.85723023e-19, 4.18101915e-19, 1.94957132e-19],\n",
       "         ...,\n",
       "         [1.90262788e-19, 4.13039338e-19, 8.85723023e-19, ...,\n",
       "          1.87658804e-18, 8.85723023e-19, 4.13039338e-19],\n",
       "         [8.98081999e-20, 1.94957132e-19, 4.18101915e-19, ...,\n",
       "          8.85723023e-19, 4.18101915e-19, 1.94957132e-19],\n",
       "         [4.18765668e-20, 9.09043553e-20, 1.94957132e-19, ...,\n",
       "          4.13039338e-19, 1.94957132e-19, 9.09043553e-20]])],\n",
       " 'decay_a': 1000,\n",
       " 'panel_amp': 2000,\n",
       " 'panel_oset': 1,\n",
       " 'panel_wid': 32,\n",
       " 'noise': 50}"
      ]
     },
     "execution_count": 14,
     "metadata": {},
     "output_type": "execute_result"
    }
   ],
   "source": [
    "_history"
   ]
  },
  {
   "cell_type": "code",
   "execution_count": 8,
   "metadata": {},
   "outputs": [
    {
     "name": "stdout",
     "output_type": "stream",
     "text": [
      "current time is 1\n",
      "current time is 2\n",
      "current time is 10\n",
      "current time is 11\n"
     ]
    },
    {
     "data": {
      "text/plain": [
       "()"
      ]
     },
     "execution_count": 8,
     "metadata": {},
     "output_type": "execute_result"
    }
   ],
   "source": [
    "time_travel(1)\n",
    "RE(load_sample(1))\n",
    "\n",
    "time_travel(2)\n",
    "RE(light(True))\n",
    "\n",
    "time_travel(10)\n",
    "RE(light(False))\n",
    "\n",
    "time_travel(11)\n",
    "RE(load_sample(0))"
   ]
  },
  {
   "cell_type": "code",
   "execution_count": 6,
   "metadata": {},
   "outputs": [],
   "source": [
    "_history['decay_a'] = 1000"
   ]
  },
  {
   "cell_type": "code",
   "execution_count": 9,
   "metadata": {},
   "outputs": [
    {
     "data": {
      "text/plain": [
       "{'sample': [(1, 11)],\n",
       " 'light': [(2, 10)],\n",
       " 'image': [array([[1.92874985e-20, 4.18765668e-20, 8.98081999e-20, ...,\n",
       "          1.90262788e-19, 8.98081999e-20, 4.18765668e-20],\n",
       "         [4.18765668e-20, 9.09043553e-20, 1.94957132e-19, ...,\n",
       "          4.13039338e-19, 1.94957132e-19, 9.09043553e-20],\n",
       "         [8.98081999e-20, 1.94957132e-19, 4.18101915e-19, ...,\n",
       "          8.85723023e-19, 4.18101915e-19, 1.94957132e-19],\n",
       "         ...,\n",
       "         [1.90262788e-19, 4.13039338e-19, 8.85723023e-19, ...,\n",
       "          1.87658804e-18, 8.85723023e-19, 4.13039338e-19],\n",
       "         [8.98081999e-20, 1.94957132e-19, 4.18101915e-19, ...,\n",
       "          8.85723023e-19, 4.18101915e-19, 1.94957132e-19],\n",
       "         [4.18765668e-20, 9.09043553e-20, 1.94957132e-19, ...,\n",
       "          4.13039338e-19, 1.94957132e-19, 9.09043553e-20]])],\n",
       " 'decay_a': 1000,\n",
       " 'panel_amp': 2000,\n",
       " 'panel_oset': 1,\n",
       " 'panel_wid': 32,\n",
       " 'noise': 50}"
      ]
     },
     "execution_count": 9,
     "metadata": {},
     "output_type": "execute_result"
    }
   ],
   "source": [
    "_history"
   ]
  },
  {
   "cell_type": "code",
   "execution_count": 7,
   "metadata": {},
   "outputs": [
    {
     "data": {
      "text/plain": [
       "<function simulated_hardware.time_travel(t)>"
      ]
     },
     "execution_count": 7,
     "metadata": {},
     "output_type": "execute_result"
    }
   ],
   "source": [
    "time_travel"
   ]
  },
  {
   "cell_type": "code",
   "execution_count": 8,
   "metadata": {},
   "outputs": [],
   "source": [
    "time_travel(8)"
   ]
  },
  {
   "cell_type": "code",
   "execution_count": 10,
   "metadata": {},
   "outputs": [
    {
     "name": "stdout",
     "output_type": "stream",
     "text": [
      "current time is 11\n",
      "amp 2000\n"
     ]
    },
    {
     "data": {
      "text/plain": [
       "('f18a82b6-8a39-4802-be90-06001424c144',)"
      ]
     },
     "execution_count": 10,
     "metadata": {},
     "output_type": "execute_result"
    }
   ],
   "source": [
    "RE(count([detector]))"
   ]
  },
  {
   "cell_type": "code",
   "execution_count": 11,
   "metadata": {},
   "outputs": [
    {
     "name": "stdout",
     "output_type": "stream",
     "text": [
      "current time is 0.0\n",
      "amp 2000\n",
      "current time is 1.0\n",
      "amp 2000\n",
      "current time is 2.0\n",
      "amp 2000\n",
      "current time is 3.0\n",
      "amp 2000\n",
      "current time is 4.0\n",
      "amp 2000\n",
      "current time is 5.0\n",
      "amp 2000\n",
      "current time is 6.0\n",
      "amp 2000\n",
      "current time is 7.0\n",
      "amp 2000\n",
      "current time is 8.0\n",
      "amp 2000\n",
      "current time is 9.0\n",
      "amp 2000\n",
      "current time is 10.0\n",
      "amp 2000\n",
      "current time is 11.0\n",
      "amp 2000\n",
      "current time is 12.0\n",
      "amp 2000\n",
      "current time is 13.0\n",
      "amp 2000\n",
      "current time is 14.0\n",
      "amp 2000\n",
      "current time is 15.0\n",
      "amp 2000\n",
      "current time is 16.0\n",
      "amp 2000\n",
      "current time is 17.0\n",
      "amp 2000\n",
      "current time is 18.0\n",
      "amp 2000\n",
      "current time is 19.0\n",
      "amp 2000\n",
      "current time is 20.0\n",
      "amp 2000\n",
      "this took 5.920114994049072\n"
     ]
    }
   ],
   "source": [
    "tlist = np.linspace(0,20,21)\n",
    "intensity_list = []\n",
    "t0 = time.time()\n",
    "for t in tlist:\n",
    "    time_travel(t)\n",
    "    RE(count([detector]))\n",
    "    data = catalog[-1].primary.read()\n",
    "    #this next line is a bit of a piece of work... trying to make a list of total intensities on detector\n",
    "    #first grabbing image from xarray, then turing into numpy array, then summing, then appending to list.\n",
    "    intensity_list.append(np.sum(np.array(data.detector_image[0]))) \n",
    "print ('this took '+str(time.time()-t0))"
   ]
  },
  {
   "cell_type": "code",
   "execution_count": 8,
   "metadata": {},
   "outputs": [
    {
     "name": "stdout",
     "output_type": "stream",
     "text": [
      "current time is 0.0\n",
      "current time is 1.0\n",
      "current time is 2.0\n",
      "current time is 3.0\n",
      "current time is 4.0\n",
      "current time is 5.0\n",
      "current time is 6.0\n",
      "current time is 7.0\n",
      "current time is 8.0\n",
      "current time is 9.0\n",
      "current time is 10.0\n",
      "current time is 11.0\n",
      "current time is 12.0\n",
      "current time is 13.0\n",
      "current time is 14.0\n",
      "current time is 15.0\n",
      "current time is 16.0\n",
      "current time is 17.0\n",
      "current time is 18.0\n",
      "current time is 19.0\n",
      "current time is 20.0\n",
      "this part took 3.8844656944274902\n",
      "but this part took 1.7046384811401367\n"
     ]
    }
   ],
   "source": [
    "def custom_plan():\n",
    "    for t in tlist:\n",
    "        time_travel(t)\n",
    "        yield from count([detector])\n",
    "t0 = time.time()\n",
    "        \n",
    "uids = RE(custom_plan())\n",
    "print (\"this part took \"+str(time.time()-t0))\n",
    "\n",
    "intensity_list = []\n",
    "\n",
    "t1 = time.time()\n",
    "for uid in uids:\n",
    "    data = catalog[uid].primary.read()\n",
    "    intensity_list.append(np.sum(data.detector_image[0].values))\n",
    "    \n",
    "print ('but this part took '+str(time.time()-t1))"
   ]
  },
  {
   "cell_type": "code",
   "execution_count": 6,
   "metadata": {},
   "outputs": [
    {
     "data": {
      "text/plain": [
       "{'sample': [(1, 11)],\n",
       " 'light': [(2, 10)],\n",
       " 'image': [array([[1.92874985e-20, 4.18765668e-20, 8.98081999e-20, ...,\n",
       "          1.90262788e-19, 8.98081999e-20, 4.18765668e-20],\n",
       "         [4.18765668e-20, 9.09043553e-20, 1.94957132e-19, ...,\n",
       "          4.13039338e-19, 1.94957132e-19, 9.09043553e-20],\n",
       "         [8.98081999e-20, 1.94957132e-19, 4.18101915e-19, ...,\n",
       "          8.85723023e-19, 4.18101915e-19, 1.94957132e-19],\n",
       "         ...,\n",
       "         [1.90262788e-19, 4.13039338e-19, 8.85723023e-19, ...,\n",
       "          1.87658804e-18, 8.85723023e-19, 4.13039338e-19],\n",
       "         [8.98081999e-20, 1.94957132e-19, 4.18101915e-19, ...,\n",
       "          8.85723023e-19, 4.18101915e-19, 1.94957132e-19],\n",
       "         [4.18765668e-20, 9.09043553e-20, 1.94957132e-19, ...,\n",
       "          4.13039338e-19, 1.94957132e-19, 9.09043553e-20]])],\n",
       " 'decay_a': 1000,\n",
       " 'panel_oset': 1,\n",
       " 'panel_wid': 100,\n",
       " 'panel_amp': 10,\n",
       " 'noise': 10}"
      ]
     },
     "execution_count": 6,
     "metadata": {},
     "output_type": "execute_result"
    }
   ],
   "source": [
    "_history"
   ]
  },
  {
   "cell_type": "code",
   "execution_count": 29,
   "metadata": {},
   "outputs": [
    {
     "data": {
      "application/vnd.jupyter.widget-view+json": {
       "model_id": "20af50355f4f4f65a8a6a7f9da0f8bc4",
       "version_major": 2,
       "version_minor": 0
      },
      "text/plain": [
       "Canvas(toolbar=Toolbar(toolitems=[('Home', 'Reset original view', 'home', 'home'), ('Back', 'Back to previous …"
      ]
     },
     "metadata": {},
     "output_type": "display_data"
    },
    {
     "name": "stdout",
     "output_type": "stream",
     "text": [
      "current time is 1\n",
      "amp 2000\n",
      "current time is 5\n",
      "amp 2000\n"
     ]
    },
    {
     "data": {
      "text/plain": [
       "<matplotlib.colorbar.Colorbar at 0x7f3758035fd0>"
      ]
     },
     "execution_count": 29,
     "metadata": {},
     "output_type": "execute_result"
    }
   ],
   "source": [
    "plt.figure()\n",
    "_history['panel_amp'] = 2000\n",
    "_history['panel_oset'] = 1\n",
    "_history['panel_wid'] = 32\n",
    "_history['noise'] = 50\n",
    "\n",
    "time_travel(1)\n",
    "RE(count([detector]))\n",
    "data = catalog[-1].primary.read()\n",
    "dark_im = data.detector_image[0]\n",
    "\n",
    "time_travel(5)\n",
    "RE(count([detector]))\n",
    "data = catalog[-1].primary.read()\n",
    "light_im = data.detector_image[0]\n",
    "\n",
    "plt.imshow(light_im-dark_im,vmin=0)\n",
    "plt.colorbar()"
   ]
  },
  {
   "cell_type": "code",
   "execution_count": 37,
   "metadata": {},
   "outputs": [
    {
     "name": "stderr",
     "output_type": "stream",
     "text": [
      "/home/dan/.local/lib/python3.7/site-packages/scipy/ndimage/measurements.py:639: RuntimeWarning: invalid value encountered in true_divide\n",
      "  return sum / numpy.asanyarray(count).astype(numpy.float)\n"
     ]
    }
   ],
   "source": [
    "from utils import simple_integration\n",
    "\n",
    "intensity = simple_integration((light_im - dark_im).clip(0), num_bins=256)"
   ]
  },
  {
   "cell_type": "code",
   "execution_count": 38,
   "metadata": {},
   "outputs": [
    {
     "data": {
      "application/vnd.jupyter.widget-view+json": {
       "model_id": "97812743ba3a40c4b6ad4e8aff09f894",
       "version_major": 2,
       "version_minor": 0
      },
      "text/plain": [
       "Canvas(toolbar=Toolbar(toolitems=[('Home', 'Reset original view', 'home', 'home'), ('Back', 'Back to previous …"
      ]
     },
     "metadata": {},
     "output_type": "display_data"
    },
    {
     "data": {
      "text/plain": [
       "[<matplotlib.lines.Line2D at 0x7f37187b8050>]"
      ]
     },
     "execution_count": 38,
     "metadata": {},
     "output_type": "execute_result"
    }
   ],
   "source": [
    "plt.figure()\n",
    "plt.plot(np.nan_to_num(intensity))"
   ]
  },
  {
   "cell_type": "code",
   "execution_count": null,
   "metadata": {},
   "outputs": [],
   "source": []
  },
  {
   "cell_type": "code",
   "execution_count": null,
   "metadata": {},
   "outputs": [],
   "source": []
  },
  {
   "cell_type": "code",
   "execution_count": 39,
   "metadata": {},
   "outputs": [],
   "source": [
    "t0 = time.time()"
   ]
  },
  {
   "cell_type": "code",
   "execution_count": 40,
   "metadata": {},
   "outputs": [
    {
     "name": "stdout",
     "output_type": "stream",
     "text": [
      "0.012636661529541016\n",
      "CPU times: user 80 µs, sys: 41 µs, total: 121 µs\n",
      "Wall time: 125 µs\n"
     ]
    }
   ],
   "source": [
    "%%time\n",
    "intensity_list\n",
    "print (time.time()-t0)"
   ]
  },
  {
   "cell_type": "code",
   "execution_count": 25,
   "metadata": {},
   "outputs": [
    {
     "data": {
      "text/plain": [
       "74632.51817059379"
      ]
     },
     "execution_count": 25,
     "metadata": {},
     "output_type": "execute_result"
    }
   ],
   "source": [
    "np.sum(data.detector_image[0].values)"
   ]
  },
  {
   "cell_type": "code",
   "execution_count": 7,
   "metadata": {},
   "outputs": [
    {
     "data": {
      "application/vnd.jupyter.widget-view+json": {
       "model_id": "b648e73edcd04730aa3e2de5bee61411",
       "version_major": 2,
       "version_minor": 0
      },
      "text/plain": [
       "Canvas(toolbar=Toolbar(toolitems=[('Home', 'Reset original view', 'home', 'home'), ('Back', 'Back to previous …"
      ]
     },
     "metadata": {},
     "output_type": "display_data"
    },
    {
     "data": {
      "text/plain": [
       "[<matplotlib.lines.Line2D at 0x7fdd6c761250>]"
      ]
     },
     "execution_count": 7,
     "metadata": {},
     "output_type": "execute_result"
    }
   ],
   "source": [
    "plt.figure()\n",
    "plt.plot(tlist, intensity_list)"
   ]
  },
  {
   "cell_type": "code",
   "execution_count": 7,
   "metadata": {},
   "outputs": [
    {
     "data": {
      "text/html": [
       "<div><svg style=\"position: absolute; width: 0; height: 0; overflow: hidden\">\n",
       "<defs>\n",
       "<symbol id=\"icon-database\" viewBox=\"0 0 32 32\">\n",
       "<title>Show/Hide data repr</title>\n",
       "<path d=\"M16 0c-8.837 0-16 2.239-16 5v4c0 2.761 7.163 5 16 5s16-2.239 16-5v-4c0-2.761-7.163-5-16-5z\"></path>\n",
       "<path d=\"M16 17c-8.837 0-16-2.239-16-5v6c0 2.761 7.163 5 16 5s16-2.239 16-5v-6c0 2.761-7.163 5-16 5z\"></path>\n",
       "<path d=\"M16 26c-8.837 0-16-2.239-16-5v6c0 2.761 7.163 5 16 5s16-2.239 16-5v-6c0 2.761-7.163 5-16 5z\"></path>\n",
       "</symbol>\n",
       "<symbol id=\"icon-file-text2\" viewBox=\"0 0 32 32\">\n",
       "<title>Show/Hide attributes</title>\n",
       "<path d=\"M28.681 7.159c-0.694-0.947-1.662-2.053-2.724-3.116s-2.169-2.030-3.116-2.724c-1.612-1.182-2.393-1.319-2.841-1.319h-15.5c-1.378 0-2.5 1.121-2.5 2.5v27c0 1.378 1.122 2.5 2.5 2.5h23c1.378 0 2.5-1.122 2.5-2.5v-19.5c0-0.448-0.137-1.23-1.319-2.841zM24.543 5.457c0.959 0.959 1.712 1.825 2.268 2.543h-4.811v-4.811c0.718 0.556 1.584 1.309 2.543 2.268zM28 29.5c0 0.271-0.229 0.5-0.5 0.5h-23c-0.271 0-0.5-0.229-0.5-0.5v-27c0-0.271 0.229-0.5 0.5-0.5 0 0 15.499-0 15.5 0v7c0 0.552 0.448 1 1 1h7v19.5z\"></path>\n",
       "<path d=\"M23 26h-14c-0.552 0-1-0.448-1-1s0.448-1 1-1h14c0.552 0 1 0.448 1 1s-0.448 1-1 1z\"></path>\n",
       "<path d=\"M23 22h-14c-0.552 0-1-0.448-1-1s0.448-1 1-1h14c0.552 0 1 0.448 1 1s-0.448 1-1 1z\"></path>\n",
       "<path d=\"M23 18h-14c-0.552 0-1-0.448-1-1s0.448-1 1-1h14c0.552 0 1 0.448 1 1s-0.448 1-1 1z\"></path>\n",
       "</symbol>\n",
       "</defs>\n",
       "</svg>\n",
       "<style>/* CSS stylesheet for displaying xarray objects in jupyterlab.\n",
       " *\n",
       " */\n",
       "\n",
       ":root {\n",
       "  --xr-font-color0: var(--jp-content-font-color0, rgba(0, 0, 0, 1));\n",
       "  --xr-font-color2: var(--jp-content-font-color2, rgba(0, 0, 0, 0.54));\n",
       "  --xr-font-color3: var(--jp-content-font-color3, rgba(0, 0, 0, 0.38));\n",
       "  --xr-border-color: var(--jp-border-color2, #e0e0e0);\n",
       "  --xr-disabled-color: var(--jp-layout-color3, #bdbdbd);\n",
       "  --xr-background-color: var(--jp-layout-color0, white);\n",
       "  --xr-background-color-row-even: var(--jp-layout-color1, white);\n",
       "  --xr-background-color-row-odd: var(--jp-layout-color2, #eeeeee);\n",
       "}\n",
       "\n",
       ".xr-wrap {\n",
       "  min-width: 300px;\n",
       "  max-width: 700px;\n",
       "}\n",
       "\n",
       ".xr-header {\n",
       "  padding-top: 6px;\n",
       "  padding-bottom: 6px;\n",
       "  margin-bottom: 4px;\n",
       "  border-bottom: solid 1px var(--xr-border-color);\n",
       "}\n",
       "\n",
       ".xr-header > div,\n",
       ".xr-header > ul {\n",
       "  display: inline;\n",
       "  margin-top: 0;\n",
       "  margin-bottom: 0;\n",
       "}\n",
       "\n",
       ".xr-obj-type,\n",
       ".xr-array-name {\n",
       "  margin-left: 2px;\n",
       "  margin-right: 10px;\n",
       "}\n",
       "\n",
       ".xr-obj-type {\n",
       "  color: var(--xr-font-color2);\n",
       "}\n",
       "\n",
       ".xr-sections {\n",
       "  padding-left: 0 !important;\n",
       "  display: grid;\n",
       "  grid-template-columns: 150px auto auto 1fr 20px 20px;\n",
       "}\n",
       "\n",
       ".xr-section-item {\n",
       "  display: contents;\n",
       "}\n",
       "\n",
       ".xr-section-item input {\n",
       "  display: none;\n",
       "}\n",
       "\n",
       ".xr-section-item input + label {\n",
       "  color: var(--xr-disabled-color);\n",
       "}\n",
       "\n",
       ".xr-section-item input:enabled + label {\n",
       "  cursor: pointer;\n",
       "  color: var(--xr-font-color2);\n",
       "}\n",
       "\n",
       ".xr-section-item input:enabled + label:hover {\n",
       "  color: var(--xr-font-color0);\n",
       "}\n",
       "\n",
       ".xr-section-summary {\n",
       "  grid-column: 1;\n",
       "  color: var(--xr-font-color2);\n",
       "  font-weight: 500;\n",
       "}\n",
       "\n",
       ".xr-section-summary > span {\n",
       "  display: inline-block;\n",
       "  padding-left: 0.5em;\n",
       "}\n",
       "\n",
       ".xr-section-summary-in:disabled + label {\n",
       "  color: var(--xr-font-color2);\n",
       "}\n",
       "\n",
       ".xr-section-summary-in + label:before {\n",
       "  display: inline-block;\n",
       "  content: '►';\n",
       "  font-size: 11px;\n",
       "  width: 15px;\n",
       "  text-align: center;\n",
       "}\n",
       "\n",
       ".xr-section-summary-in:disabled + label:before {\n",
       "  color: var(--xr-disabled-color);\n",
       "}\n",
       "\n",
       ".xr-section-summary-in:checked + label:before {\n",
       "  content: '▼';\n",
       "}\n",
       "\n",
       ".xr-section-summary-in:checked + label > span {\n",
       "  display: none;\n",
       "}\n",
       "\n",
       ".xr-section-summary,\n",
       ".xr-section-inline-details {\n",
       "  padding-top: 4px;\n",
       "  padding-bottom: 4px;\n",
       "}\n",
       "\n",
       ".xr-section-inline-details {\n",
       "  grid-column: 2 / -1;\n",
       "}\n",
       "\n",
       ".xr-section-details {\n",
       "  display: none;\n",
       "  grid-column: 1 / -1;\n",
       "  margin-bottom: 5px;\n",
       "}\n",
       "\n",
       ".xr-section-summary-in:checked ~ .xr-section-details {\n",
       "  display: contents;\n",
       "}\n",
       "\n",
       ".xr-array-wrap {\n",
       "  grid-column: 1 / -1;\n",
       "  display: grid;\n",
       "  grid-template-columns: 20px auto;\n",
       "}\n",
       "\n",
       ".xr-array-wrap > label {\n",
       "  grid-column: 1;\n",
       "  vertical-align: top;\n",
       "}\n",
       "\n",
       ".xr-preview {\n",
       "  color: var(--xr-font-color3);\n",
       "}\n",
       "\n",
       ".xr-array-preview,\n",
       ".xr-array-data {\n",
       "  padding: 0 5px !important;\n",
       "  grid-column: 2;\n",
       "}\n",
       "\n",
       ".xr-array-data,\n",
       ".xr-array-in:checked ~ .xr-array-preview {\n",
       "  display: none;\n",
       "}\n",
       "\n",
       ".xr-array-in:checked ~ .xr-array-data,\n",
       ".xr-array-preview {\n",
       "  display: inline-block;\n",
       "}\n",
       "\n",
       ".xr-dim-list {\n",
       "  display: inline-block !important;\n",
       "  list-style: none;\n",
       "  padding: 0 !important;\n",
       "  margin: 0;\n",
       "}\n",
       "\n",
       ".xr-dim-list li {\n",
       "  display: inline-block;\n",
       "  padding: 0;\n",
       "  margin: 0;\n",
       "}\n",
       "\n",
       ".xr-dim-list:before {\n",
       "  content: '(';\n",
       "}\n",
       "\n",
       ".xr-dim-list:after {\n",
       "  content: ')';\n",
       "}\n",
       "\n",
       ".xr-dim-list li:not(:last-child):after {\n",
       "  content: ',';\n",
       "  padding-right: 5px;\n",
       "}\n",
       "\n",
       ".xr-has-index {\n",
       "  font-weight: bold;\n",
       "}\n",
       "\n",
       ".xr-var-list,\n",
       ".xr-var-item {\n",
       "  display: contents;\n",
       "}\n",
       "\n",
       ".xr-var-item > div,\n",
       ".xr-var-item label,\n",
       ".xr-var-item > .xr-var-name span {\n",
       "  background-color: var(--xr-background-color-row-even);\n",
       "  margin-bottom: 0;\n",
       "}\n",
       "\n",
       ".xr-var-item > .xr-var-name:hover span {\n",
       "  padding-right: 5px;\n",
       "}\n",
       "\n",
       ".xr-var-list > li:nth-child(odd) > div,\n",
       ".xr-var-list > li:nth-child(odd) > label,\n",
       ".xr-var-list > li:nth-child(odd) > .xr-var-name span {\n",
       "  background-color: var(--xr-background-color-row-odd);\n",
       "}\n",
       "\n",
       ".xr-var-name {\n",
       "  grid-column: 1;\n",
       "}\n",
       "\n",
       ".xr-var-dims {\n",
       "  grid-column: 2;\n",
       "}\n",
       "\n",
       ".xr-var-dtype {\n",
       "  grid-column: 3;\n",
       "  text-align: right;\n",
       "  color: var(--xr-font-color2);\n",
       "}\n",
       "\n",
       ".xr-var-preview {\n",
       "  grid-column: 4;\n",
       "}\n",
       "\n",
       ".xr-var-name,\n",
       ".xr-var-dims,\n",
       ".xr-var-dtype,\n",
       ".xr-preview,\n",
       ".xr-attrs dt {\n",
       "  white-space: nowrap;\n",
       "  overflow: hidden;\n",
       "  text-overflow: ellipsis;\n",
       "  padding-right: 10px;\n",
       "}\n",
       "\n",
       ".xr-var-name:hover,\n",
       ".xr-var-dims:hover,\n",
       ".xr-var-dtype:hover,\n",
       ".xr-attrs dt:hover {\n",
       "  overflow: visible;\n",
       "  width: auto;\n",
       "  z-index: 1;\n",
       "}\n",
       "\n",
       ".xr-var-attrs,\n",
       ".xr-var-data {\n",
       "  display: none;\n",
       "  background-color: var(--xr-background-color) !important;\n",
       "  padding-bottom: 5px !important;\n",
       "}\n",
       "\n",
       ".xr-var-attrs-in:checked ~ .xr-var-attrs,\n",
       ".xr-var-data-in:checked ~ .xr-var-data {\n",
       "  display: block;\n",
       "}\n",
       "\n",
       ".xr-var-data > table {\n",
       "  float: right;\n",
       "}\n",
       "\n",
       ".xr-var-name span,\n",
       ".xr-var-data,\n",
       ".xr-attrs {\n",
       "  padding-left: 25px !important;\n",
       "}\n",
       "\n",
       ".xr-attrs,\n",
       ".xr-var-attrs,\n",
       ".xr-var-data {\n",
       "  grid-column: 1 / -1;\n",
       "}\n",
       "\n",
       "dl.xr-attrs {\n",
       "  padding: 0;\n",
       "  margin: 0;\n",
       "  display: grid;\n",
       "  grid-template-columns: 125px auto;\n",
       "}\n",
       "\n",
       ".xr-attrs dt, dd {\n",
       "  padding: 0;\n",
       "  margin: 0;\n",
       "  float: left;\n",
       "  padding-right: 10px;\n",
       "  width: auto;\n",
       "}\n",
       "\n",
       ".xr-attrs dt {\n",
       "  font-weight: normal;\n",
       "  grid-column: 1;\n",
       "}\n",
       "\n",
       ".xr-attrs dt:hover span {\n",
       "  display: inline-block;\n",
       "  background: var(--xr-background-color);\n",
       "  padding-right: 10px;\n",
       "}\n",
       "\n",
       ".xr-attrs dd {\n",
       "  grid-column: 2;\n",
       "  white-space: pre-wrap;\n",
       "  word-break: break-all;\n",
       "}\n",
       "\n",
       ".xr-icon-database,\n",
       ".xr-icon-file-text2 {\n",
       "  display: inline-block;\n",
       "  vertical-align: middle;\n",
       "  width: 1em;\n",
       "  height: 1.5em !important;\n",
       "  stroke-width: 0;\n",
       "  stroke: currentColor;\n",
       "  fill: currentColor;\n",
       "}\n",
       "</style><div class='xr-wrap'><div class='xr-header'><div class='xr-obj-type'>xarray.Dataset</div></div><ul class='xr-sections'><li class='xr-section-item'><input id='section-4499e38b-84cc-4d36-96bb-7d56aafb8ad7' class='xr-section-summary-in' type='checkbox' disabled ><label for='section-4499e38b-84cc-4d36-96bb-7d56aafb8ad7' class='xr-section-summary'  title='Expand/collapse section'>Dimensions:</label><div class='xr-section-inline-details'><ul class='xr-dim-list'><li><span>dim_0</span>: 512</li><li><span>dim_1</span>: 512</li><li><span class='xr-has-index'>time</span>: 1</li></ul></div><div class='xr-section-details'></div></li><li class='xr-section-item'><input id='section-0028ff0d-4f49-4a23-b492-c13167add6fd' class='xr-section-summary-in' type='checkbox'  checked><label for='section-0028ff0d-4f49-4a23-b492-c13167add6fd' class='xr-section-summary' >Coordinates: <span>(1)</span></label><div class='xr-section-inline-details'></div><div class='xr-section-details'><ul class='xr-var-list'><li class='xr-var-item'><div class='xr-var-name'><span class='xr-has-index'>time</span></div><div class='xr-var-dims'>(time)</div><div class='xr-var-dtype'>float64</div><div class='xr-var-preview xr-preview'>1.59e+09</div><input id='attrs-9ea0a149-84c7-409c-a235-de3811794c8d' class='xr-var-attrs-in' type='checkbox' disabled><label for='attrs-9ea0a149-84c7-409c-a235-de3811794c8d' title='Show/Hide attributes'><svg class='icon xr-icon-file-text2'><use xlink:href='#icon-file-text2'></use></svg></label><input id='data-447bcf1e-9afc-4fc6-ab3e-afd5a861419c' class='xr-var-data-in' type='checkbox'><label for='data-447bcf1e-9afc-4fc6-ab3e-afd5a861419c' title='Show/Hide data repr'><svg class='icon xr-icon-database'><use xlink:href='#icon-database'></use></svg></label><div class='xr-var-attrs'><dl class='xr-attrs'></dl></div><pre class='xr-var-data'>array([1.589568e+09])</pre></li></ul></div></li><li class='xr-section-item'><input id='section-43e97a94-310a-44e2-b800-8dd8cb9c4961' class='xr-section-summary-in' type='checkbox'  checked><label for='section-43e97a94-310a-44e2-b800-8dd8cb9c4961' class='xr-section-summary' >Data variables: <span>(3)</span></label><div class='xr-section-inline-details'></div><div class='xr-section-details'><ul class='xr-var-list'><li class='xr-var-item'><div class='xr-var-name'><span>detector_image</span></div><div class='xr-var-dims'>(time, dim_0, dim_1)</div><div class='xr-var-dtype'>float64</div><div class='xr-var-preview xr-preview'>0.0 0.0 0.0 0.0 ... 0.0 0.0 0.0 0.0</div><input id='attrs-cbce75c1-bbfd-4f23-ab0c-947343199021' class='xr-var-attrs-in' type='checkbox' disabled><label for='attrs-cbce75c1-bbfd-4f23-ab0c-947343199021' title='Show/Hide attributes'><svg class='icon xr-icon-file-text2'><use xlink:href='#icon-file-text2'></use></svg></label><input id='data-02961614-03d0-47c3-bd79-36172e02f615' class='xr-var-data-in' type='checkbox'><label for='data-02961614-03d0-47c3-bd79-36172e02f615' title='Show/Hide data repr'><svg class='icon xr-icon-database'><use xlink:href='#icon-database'></use></svg></label><div class='xr-var-attrs'><dl class='xr-attrs'></dl></div><pre class='xr-var-data'>array([[[0., 0., 0., ..., 0., 0., 0.],\n",
       "        [0., 0., 0., ..., 0., 0., 0.],\n",
       "        [0., 0., 0., ..., 0., 0., 0.],\n",
       "        ...,\n",
       "        [0., 0., 0., ..., 0., 0., 0.],\n",
       "        [0., 0., 0., ..., 0., 0., 0.],\n",
       "        [0., 0., 0., ..., 0., 0., 0.]]])</pre></li><li class='xr-var-item'><div class='xr-var-name'><span>seq_num</span></div><div class='xr-var-dims'>(time)</div><div class='xr-var-dtype'>int64</div><div class='xr-var-preview xr-preview'>1</div><input id='attrs-ba7932d4-387e-4c8b-8e10-fe2cd217211d' class='xr-var-attrs-in' type='checkbox' disabled><label for='attrs-ba7932d4-387e-4c8b-8e10-fe2cd217211d' title='Show/Hide attributes'><svg class='icon xr-icon-file-text2'><use xlink:href='#icon-file-text2'></use></svg></label><input id='data-777b2a8f-f866-4fca-a81a-6e4f056cfa3b' class='xr-var-data-in' type='checkbox'><label for='data-777b2a8f-f866-4fca-a81a-6e4f056cfa3b' title='Show/Hide data repr'><svg class='icon xr-icon-database'><use xlink:href='#icon-database'></use></svg></label><div class='xr-var-attrs'><dl class='xr-attrs'></dl></div><pre class='xr-var-data'>array([1])</pre></li><li class='xr-var-item'><div class='xr-var-name'><span>uid</span></div><div class='xr-var-dims'>(time)</div><div class='xr-var-dtype'>&lt;U36</div><div class='xr-var-preview xr-preview'>&#x27;075628f1-f9e5-4032-93eb-0b90fd67646a&#x27;</div><input id='attrs-1b3f9578-28b3-411b-9e81-14ff40e472c3' class='xr-var-attrs-in' type='checkbox' disabled><label for='attrs-1b3f9578-28b3-411b-9e81-14ff40e472c3' title='Show/Hide attributes'><svg class='icon xr-icon-file-text2'><use xlink:href='#icon-file-text2'></use></svg></label><input id='data-822f2a8b-b1d8-40c3-8274-db7c0f198320' class='xr-var-data-in' type='checkbox'><label for='data-822f2a8b-b1d8-40c3-8274-db7c0f198320' title='Show/Hide data repr'><svg class='icon xr-icon-database'><use xlink:href='#icon-database'></use></svg></label><div class='xr-var-attrs'><dl class='xr-attrs'></dl></div><pre class='xr-var-data'>array([&#x27;075628f1-f9e5-4032-93eb-0b90fd67646a&#x27;], dtype=&#x27;&lt;U36&#x27;)</pre></li></ul></div></li><li class='xr-section-item'><input id='section-38acc65c-f87c-4644-b63b-3dd70c1bc56e' class='xr-section-summary-in' type='checkbox' disabled ><label for='section-38acc65c-f87c-4644-b63b-3dd70c1bc56e' class='xr-section-summary'  title='Expand/collapse section'>Attributes: <span>(0)</span></label><div class='xr-section-inline-details'></div><div class='xr-section-details'><dl class='xr-attrs'></dl></div></li></ul></div></div>"
      ],
      "text/plain": [
       "<xarray.Dataset>\n",
       "Dimensions:         (dim_0: 512, dim_1: 512, time: 1)\n",
       "Coordinates:\n",
       "  * time            (time) float64 1.59e+09\n",
       "Dimensions without coordinates: dim_0, dim_1\n",
       "Data variables:\n",
       "    detector_image  (time, dim_0, dim_1) float64 0.0 0.0 0.0 0.0 ... 0.0 0.0 0.0\n",
       "    seq_num         (time) int64 1\n",
       "    uid             (time) <U36 '075628f1-f9e5-4032-93eb-0b90fd67646a'"
      ]
     },
     "execution_count": 7,
     "metadata": {},
     "output_type": "execute_result"
    }
   ],
   "source": [
    "data = catalog[-1].primary.read()\n",
    "data"
   ]
  },
  {
   "cell_type": "code",
   "execution_count": 17,
   "metadata": {},
   "outputs": [
    {
     "data": {
      "text/plain": [
       "1246930695.090101"
      ]
     },
     "execution_count": 17,
     "metadata": {},
     "output_type": "execute_result"
    }
   ],
   "source": [
    "np.sum(np.array(data.detector_image[0]))"
   ]
  },
  {
   "cell_type": "code",
   "execution_count": 8,
   "metadata": {},
   "outputs": [
    {
     "data": {
      "application/vnd.jupyter.widget-view+json": {
       "model_id": "18fc21329fe34748855b76cfdc3b73f6",
       "version_major": 2,
       "version_minor": 0
      },
      "text/plain": [
       "Canvas(toolbar=Toolbar(toolitems=[('Home', 'Reset original view', 'home', 'home'), ('Back', 'Back to previous …"
      ]
     },
     "metadata": {},
     "output_type": "display_data"
    },
    {
     "data": {
      "text/plain": [
       "<matplotlib.image.AxesImage at 0x7fcf31bf4210>"
      ]
     },
     "execution_count": 8,
     "metadata": {},
     "output_type": "execute_result"
    }
   ],
   "source": [
    "plt.figure()\n",
    "plt.imshow(data.detector_image[0])"
   ]
  },
  {
   "cell_type": "code",
   "execution_count": 9,
   "metadata": {},
   "outputs": [
    {
     "data": {
      "application/vnd.jupyter.widget-view+json": {
       "model_id": "4e50c1efeac945f497b9d8b531ea8a69",
       "version_major": 2,
       "version_minor": 0
      },
      "text/plain": [
       "Canvas(toolbar=Toolbar(toolitems=[('Home', 'Reset original view', 'home', 'home'), ('Back', 'Back to previous …"
      ]
     },
     "metadata": {},
     "output_type": "display_data"
    }
   ],
   "source": [
    "fig, axes = plt.subplots(1, 3, figsize=(12, 4))"
   ]
  },
  {
   "cell_type": "code",
   "execution_count": 10,
   "metadata": {},
   "outputs": [
    {
     "data": {
      "text/plain": [
       "<matplotlib.image.AxesImage at 0x7f7aa414b7d0>"
      ]
     },
     "execution_count": 10,
     "metadata": {},
     "output_type": "execute_result"
    }
   ],
   "source": [
    "axes[0].imshow(data[\"detector_image\"].mean(\"time\"))"
   ]
  },
  {
   "cell_type": "code",
   "execution_count": null,
   "metadata": {},
   "outputs": [],
   "source": [
    "fig"
   ]
  },
  {
   "cell_type": "code",
   "execution_count": null,
   "metadata": {},
   "outputs": [],
   "source": [
    "RE(light(False))"
   ]
  },
  {
   "cell_type": "code",
   "execution_count": null,
   "metadata": {},
   "outputs": [],
   "source": [
    "time_travel(2000)"
   ]
  },
  {
   "cell_type": "code",
   "execution_count": null,
   "metadata": {},
   "outputs": [],
   "source": [
    "RE(count([detector]))"
   ]
  },
  {
   "cell_type": "code",
   "execution_count": null,
   "metadata": {},
   "outputs": [],
   "source": [
    "dark_data = catalog[-1].primary.read()\n",
    "axes[1].imshow(dark_data[\"detector_image\"].mean(\"time\"))\n",
    "fig"
   ]
  },
  {
   "cell_type": "code",
   "execution_count": null,
   "metadata": {},
   "outputs": [],
   "source": [
    "subtracted = data[\"detector_image\"].mean(\"time\") - dark_data[\"detector_image\"].mean(\"time\")\n",
    "axes[2].imshow(subtracted)\n",
    "fig"
   ]
  },
  {
   "cell_type": "markdown",
   "metadata": {},
   "source": [
    "Compute $I(q)$"
   ]
  },
  {
   "cell_type": "code",
   "execution_count": null,
   "metadata": {},
   "outputs": [],
   "source": [
    "from utils import simple_integration\n",
    "\n",
    "intensity = simple_integration(data[\"detector_image\"].squeeze() - dark_data[\"detector_image\"].squeeze())"
   ]
  },
  {
   "cell_type": "markdown",
   "metadata": {},
   "source": [
    "These images were simulated based on a \"ground truth\" $I(q)$. Let's plot our computed $I(q)$ with the ground truth to check that they correspond closely."
   ]
  },
  {
   "cell_type": "code",
   "execution_count": null,
   "metadata": {},
   "outputs": [],
   "source": [
    "plt.figure()"
   ]
  },
  {
   "cell_type": "code",
   "execution_count": null,
   "metadata": {},
   "outputs": [],
   "source": [
    "from simulated_hardware import intensities, x\n",
    "plt.plot(x, intensities[1], \"--\", label=\"ground truth\")\n",
    "plt.plot(x[:len(intensity)], intensity, label=\"calculated\")\n",
    "plt.legend()\n",
    "plt.gcf()"
   ]
  },
  {
   "cell_type": "markdown",
   "metadata": {},
   "source": [
    "## Automatically capture dark frames\n",
    "\n",
    "Use the utility [bluesky-darkframes](https://blueskyproject.io/bluesky-darkframes) to automatically capture darkframes as part of the data in every Run. This solves two problems for us:\n",
    "\n",
    "1. We don't need to remember to take dark frames. They will be automatically taken for us.\n",
    "2. Each Run is self-contained. Instead of having a \"dark\" Run and a \"light\" Run, every Run contains both light and dark together."
   ]
  },
  {
   "cell_type": "code",
   "execution_count": null,
   "metadata": {},
   "outputs": [],
   "source": [
    "from automatic_darkframes import setup_automatic_darkframes\n",
    "\n",
    "dfp = setup_automatic_darkframes(RE)"
   ]
  },
  {
   "cell_type": "code",
   "execution_count": null,
   "metadata": {},
   "outputs": [],
   "source": [
    "RE(count([detector]))"
   ]
  },
  {
   "cell_type": "code",
   "execution_count": null,
   "metadata": {},
   "outputs": [],
   "source": [
    "data = catalog[-1].primary.read()\n",
    "dark_data = catalog[-1].dark.read()"
   ]
  },
  {
   "cell_type": "code",
   "execution_count": null,
   "metadata": {},
   "outputs": [],
   "source": [
    "fig, axes = plt.subplots(1, 3, figsize=(12, 4))"
   ]
  },
  {
   "cell_type": "code",
   "execution_count": null,
   "metadata": {},
   "outputs": [],
   "source": [
    "data[\"detector_image\"].mean(\"time\").plot(ax=axes[0])\n",
    "dark_data[\"detector_image\"].mean(\"time\").plot(ax=axes[1])\n",
    "(data[\"detector_image\"].mean(\"time\") - dark_data[\"detector_image\"]).mean(\"time\").plot(ax=axes[2])\n",
    "fig.tight_layout()\n",
    "fig"
   ]
  },
  {
   "cell_type": "code",
   "execution_count": null,
   "metadata": {},
   "outputs": [],
   "source": []
  }
 ],
 "metadata": {
  "kernelspec": {
   "display_name": "Python 3",
   "language": "python",
   "name": "python3"
  },
  "language_info": {
   "codemirror_mode": {
    "name": "ipython",
    "version": 3
   },
   "file_extension": ".py",
   "mimetype": "text/x-python",
   "name": "python",
   "nbconvert_exporter": "python",
   "pygments_lexer": "ipython3",
   "version": "3.7.7"
  }
 },
 "nbformat": 4,
 "nbformat_minor": 4
}

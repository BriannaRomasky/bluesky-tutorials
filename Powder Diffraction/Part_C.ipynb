{
 "cells": [
  {
   "cell_type": "code",
   "execution_count": 1,
   "metadata": {},
   "outputs": [],
   "source": [
    "import matplotlib.pyplot as plt\n",
    "import numpy as np\n",
    "import time\n",
    "\n",
    "%matplotlib widget"
   ]
  },
  {
   "cell_type": "code",
   "execution_count": 2,
   "metadata": {},
   "outputs": [],
   "source": [
    "from bluesky_tutorial_utils import setup_data_saving\n",
    "from bluesky import RunEngine\n",
    "from bluesky.plans import count\n",
    "from utils import simple_integration\n",
    "\n",
    "RE = RunEngine()\n",
    "catalog = setup_data_saving(RE)"
   ]
  },
  {
   "cell_type": "code",
   "execution_count": 3,
   "metadata": {},
   "outputs": [],
   "source": [
    "from simulated_hardware import detector, load_sample, unload_sample, light, history_reset, sim_sleep\n",
    "from simulated_hardware import _history"
   ]
  },
  {
   "cell_type": "markdown",
   "metadata": {},
   "source": [
    "--- Part C: Optional \"High-Score\" mode\n",
    "\n",
    "1.) Say you want to measure sample multiple times, add up results to improve statistics\n",
    "\n",
    "2.) Demonstrate how to do this (and that it improves things for weakly scattering samples)\n",
    "\n",
    "3.) Explain that in real life, can't just measure forever, need to prioritize and decide how to use your beamtime\n",
    "\n",
    "4.) Game is to get the 'best score' by arranging data collection strategy over a limited period of time, compare to ideal data.\n",
    "\n",
    "5.) High-score list???\n"
   ]
  },
  {
   "cell_type": "markdown",
   "metadata": {},
   "source": [
    "Make perfect data for comparison"
   ]
  },
  {
   "cell_type": "code",
   "execution_count": 23,
   "metadata": {},
   "outputs": [],
   "source": [
    "_history['perfect_data'] = True\n",
    "\n",
    "perfect_pair = RE(dark_light_subtract(1))    \n",
    "\n",
    "this_light = catalog[perfect_pair[1]].primary.read().detector_image[0]\n",
    "\n",
    "perfect_int = simple_integration(this_light,num_bins=301)\n",
    "\n",
    "_history['perfect_data'] = False\n"
   ]
  },
  {
   "cell_type": "markdown",
   "metadata": {},
   "source": [
    "### Averaging Data"
   ]
  },
  {
   "cell_type": "code",
   "execution_count": 5,
   "metadata": {},
   "outputs": [],
   "source": [
    "def dark_light_subtract(sample_num, num_lights = 1):\n",
    "    #close shutter if not already closed\n",
    "    yield from light(False)\n",
    "        \n",
    "    #move to desired sample\n",
    "    yield from load_sample(sample_num)\n",
    "    \n",
    "    #take dark image\n",
    "    yield from count([detector])\n",
    "    \n",
    "    #open shutter\n",
    "    yield from light(True)\n",
    "    \n",
    "    #take light image\n",
    "    for i in range(num_lights):\n",
    "        yield from count([detector])\n",
    "    \n",
    "    #close shutter to be nice to detector\n",
    "    yield from light(False)\n",
    "    \n",
    "\n",
    "def process_data(pair, num_lights = 1):\n",
    "    #assuming pair is tuple\n",
    "    my_dark = catalog[pair[0]].primary.read().detector_image[0]\n",
    "    \n",
    "    dark_subbed_list = []\n",
    "    \n",
    "    for i in range(1,num_lights+1):\n",
    "        this_light = catalog[pair[i]].primary.read().detector_image[0]\n",
    "        dark_subbed_list.append(this_light - my_dark)\n",
    "    \n",
    "    if num_lights == 1:\n",
    "        return simple_integration(dark_subbed_list[0],num_bins=301)\n",
    "    \n",
    "    else: # more than one\n",
    "        int_list = []\n",
    "        for j in range(len(dark_subbed_list)):\n",
    "            int_list.append(simple_integration(dark_subbed_list[j],num_bins=301))\n",
    "    \n",
    "        return np.array(int_list).T"
   ]
  },
  {
   "cell_type": "code",
   "execution_count": 26,
   "metadata": {},
   "outputs": [],
   "source": [
    "_history['noise'] = 1000"
   ]
  },
  {
   "cell_type": "code",
   "execution_count": 27,
   "metadata": {},
   "outputs": [],
   "source": [
    "_history['action_time'] = 20.0 # 1.0\n",
    "_history['panel_wl'] = 3000 # 8000"
   ]
  },
  {
   "cell_type": "code",
   "execution_count": 28,
   "metadata": {},
   "outputs": [],
   "source": [
    "uids1 = RE(dark_light_subtract(1, num_lights=15))"
   ]
  },
  {
   "cell_type": "code",
   "execution_count": 29,
   "metadata": {},
   "outputs": [
    {
     "data": {
      "text/plain": [
       "('5805173b-2ef5-4c99-8e28-09fc2ffdd627',\n",
       " '393d4388-f373-47f0-a99b-e306b9efebc7',\n",
       " '69f136a9-8092-43f4-a0bd-e0ba87fe47fa',\n",
       " 'bea35d2e-2275-4134-a0be-65fb349c6bae',\n",
       " '96919b5c-ef6e-4de2-a15b-a9221bd679ef',\n",
       " '9ae3d626-cc43-46ef-adb3-6a8221579f76',\n",
       " '9d86933a-5ea2-4fb3-8e8f-3afbdc3c4fc6',\n",
       " '7d529cfc-b6ed-4004-bf1f-2b62768af1d9',\n",
       " '5ca7ee2b-2413-4bbe-abba-2e3768e506fa',\n",
       " '9657f23d-acdb-482e-8fed-a12be545f249',\n",
       " '82593861-840c-4233-a766-1abfb2ef7bc7',\n",
       " '33467d20-41f2-4865-b537-02efdf704375',\n",
       " 'c2c0401e-7fb2-45da-bb56-beda6c642ef5',\n",
       " '9f04d306-87fe-46ca-9cb2-a859a9fa670e',\n",
       " '5c11b205-19a3-4652-9de0-599054665ba8',\n",
       " '69bc36ff-1137-4eb4-b6e7-90f0d15c86ed')"
      ]
     },
     "execution_count": 29,
     "metadata": {},
     "output_type": "execute_result"
    }
   ],
   "source": [
    "uids1"
   ]
  },
  {
   "cell_type": "code",
   "execution_count": 30,
   "metadata": {},
   "outputs": [],
   "source": [
    "plt.close('all')"
   ]
  },
  {
   "cell_type": "code",
   "execution_count": 31,
   "metadata": {},
   "outputs": [
    {
     "data": {
      "application/vnd.jupyter.widget-view+json": {
       "model_id": "019d41995f354507b54252cc5a702d53",
       "version_major": 2,
       "version_minor": 0
      },
      "text/plain": [
       "Canvas(toolbar=Toolbar(toolitems=[('Home', 'Reset original view', 'home', 'home'), ('Back', 'Back to previous …"
      ]
     },
     "metadata": {},
     "output_type": "display_data"
    }
   ],
   "source": [
    "plt.figure()\n",
    "intensity_list = process_data(uids1, num_lights=len(uids1)-1)\n",
    "plt.plot(intensity_list);"
   ]
  },
  {
   "cell_type": "code",
   "execution_count": 35,
   "metadata": {},
   "outputs": [
    {
     "data": {
      "application/vnd.jupyter.widget-view+json": {
       "model_id": "4d4ca023c7d5487a855b51cfea50fc9b",
       "version_major": 2,
       "version_minor": 0
      },
      "text/plain": [
       "Canvas(toolbar=Toolbar(toolitems=[('Home', 'Reset original view', 'home', 'home'), ('Back', 'Back to previous …"
      ]
     },
     "metadata": {},
     "output_type": "display_data"
    },
    {
     "data": {
      "text/plain": [
       "[<matplotlib.lines.Line2D at 0x7fc63e266250>]"
      ]
     },
     "execution_count": 35,
     "metadata": {},
     "output_type": "execute_result"
    }
   ],
   "source": [
    "plt.figure()\n",
    "#plt.plot(intensity_list.mean(axis=1))\n",
    "plt.plot(perfect_int)\n",
    "plt.plot(intensity_list.T[0])"
   ]
  },
  {
   "cell_type": "code",
   "execution_count": null,
   "metadata": {},
   "outputs": [],
   "source": []
  },
  {
   "cell_type": "code",
   "execution_count": null,
   "metadata": {},
   "outputs": [],
   "source": []
  },
  {
   "cell_type": "code",
   "execution_count": null,
   "metadata": {},
   "outputs": [],
   "source": [
    "history_reset()\n",
    "\n",
    "RE(light(True))\n",
    "\n",
    "RE(load_sample(1))\n",
    "\n",
    "RE(load_sample(2))\n",
    "\n",
    "RE(load_sample(3))"
   ]
  },
  {
   "cell_type": "markdown",
   "metadata": {},
   "source": [
    "### Introductory Time Travel\n",
    "\n",
    "Goal is to develop a plan that measures samples as efficiently as possible, and you get a score based on goodness of fit by averaging data."
   ]
  },
  {
   "cell_type": "markdown",
   "metadata": {},
   "source": []
  }
 ],
 "metadata": {
  "kernelspec": {
   "display_name": "Python 3",
   "language": "python",
   "name": "python3"
  },
  "language_info": {
   "codemirror_mode": {
    "name": "ipython",
    "version": 3
   },
   "file_extension": ".py",
   "mimetype": "text/x-python",
   "name": "python",
   "nbconvert_exporter": "python",
   "pygments_lexer": "ipython3",
   "version": "3.7.7"
  }
 },
 "nbformat": 4,
 "nbformat_minor": 4
}

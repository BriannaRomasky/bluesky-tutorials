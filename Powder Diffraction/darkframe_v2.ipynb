{
 "cells": [
  {
   "cell_type": "code",
   "execution_count": 1,
   "metadata": {},
   "outputs": [],
   "source": [
    "%matplotlib widget\n",
    "import matplotlib.pyplot as plt\n",
    "import numpy as np\n",
    "import time\n",
    "\n",
    "%matplotlib inline"
   ]
  },
  {
   "cell_type": "code",
   "execution_count": 2,
   "metadata": {},
   "outputs": [],
   "source": [
    "from bluesky_tutorial_utils import setup_data_saving\n",
    "from bluesky import RunEngine\n",
    "from bluesky.plans import count\n",
    "from utils import simple_integration\n",
    "\n",
    "RE = RunEngine()\n",
    "catalog = setup_data_saving(RE)"
   ]
  },
  {
   "cell_type": "code",
   "execution_count": 3,
   "metadata": {},
   "outputs": [],
   "source": [
    "from simulated_hardware import detector, shutter, load_sample, unload_sample, light, time_travel, current_time, _history, history_reset, make_decay_func, sim_sleep"
   ]
  },
  {
   "cell_type": "markdown",
   "metadata": {},
   "source": [
    "### Plan\n",
    "\n",
    "---- Part A: Single image collection and integration\n",
    "\n",
    "1.) Introduce simulation, allow that we will move between samples and 'in time', get to time-machine later in demo.\n",
    "\n",
    "2.) Manually take a light image, look at it. (behind the scenes, move time forward in big steps)\n",
    "\n",
    "3.) Introduce idea of a dark image.  Explain that we need to turn off light (or remove sample), and acquire a dark.\n",
    "\n",
    "4.) Gather dark image, gather light image, subtract, see difference.\n",
    "\n",
    "6.) Integrate image to get 1D pattern, compare to ideal data, see it's pretty good.\n",
    "\n",
    "---- Part B: Multiple samples and introductory time travel\n",
    "\n",
    "\n",
    "1.) Show how we change between samples.\n",
    "\n",
    "2.) Show how we change time (disable automatic-time).\n",
    "\n",
    "3.) Talk about how we have an issue if our dark image doesn't match our current background of light (detectors have a bit of a history)\n",
    "\n",
    "4.) Talk about need to taylor our data collection plan (frequency of darks) as a function of how strong scatterers are.  (note - this is why we avoid measuring weak scattering samples directly after strong).\n",
    "\n",
    "5.) Make a plan based around these timing considerations, collect data, show things worked well.\n",
    "--- Part C: Optional \"High-Score\" mode\n",
    "\n",
    "1.) Say you want to measure sample multiple times, add up results to improve statistics\n",
    "\n",
    "2.) Demonstrate how to do this (and that it improves things for weakly scattering samples)\n",
    "\n",
    "3.) Explain that in real life, can't just measure forever, need to prioritize and decide how to use your beamtime\n",
    "\n",
    "4.) Game is to get the 'best score' by arranging data collection strategy over a limited period of time, compare to ideal data.\n",
    "\n",
    "5.) High-score list???\n",
    "\n",
    "Need to Add:\n",
    "\n",
    "1.)  Slowly varying dark as a function of time.\n",
    "\n",
    "2.)  Automatic time forwarding (or not) upon excecuting a measurment on detector.\n",
    "\n",
    "3.)  Think about high-score list capability?  Publishing results to a collective text-file or something?\n",
    "\n",
    "\n",
    "\n"
   ]
  },
  {
   "cell_type": "markdown",
   "metadata": {},
   "source": [
    "### Part A"
   ]
  },
  {
   "cell_type": "markdown",
   "metadata": {},
   "source": [
    "Introduction bits go here.\n"
   ]
  },
  {
   "cell_type": "code",
   "execution_count": 78,
   "metadata": {},
   "outputs": [],
   "source": [
    "#set our detector characteristics\n",
    "_history['panel_amp'] = 50 #50\n",
    "_history['noise'] = 50\n",
    "_history['panel_oset'] = 10\n",
    "_history['panel_wid'] = 128\n",
    "_history['panel_wl'] = 8000 #8000000\n",
    "_history['action_time'] = 1.0"
   ]
  },
  {
   "cell_type": "code",
   "execution_count": 79,
   "metadata": {},
   "outputs": [
    {
     "data": {
      "text/plain": [
       "('549c0843-29de-4042-afba-57ad81bae91c',)"
      ]
     },
     "execution_count": 79,
     "metadata": {},
     "output_type": "execute_result"
    }
   ],
   "source": [
    "#reset history\n",
    "history_reset()\n",
    "\n",
    "#load sample\n",
    "RE(load_sample(3))\n",
    "#turn on light\n",
    "RE(light(True))\n",
    "\n",
    "#count\n",
    "RE(count([detector]))\n"
   ]
  },
  {
   "cell_type": "code",
   "execution_count": 80,
   "metadata": {},
   "outputs": [
    {
     "data": {
      "application/vnd.jupyter.widget-view+json": {
       "model_id": "a8f0be4ee1f84fa48868654d076ca41b",
       "version_major": 2,
       "version_minor": 0
      },
      "text/plain": [
       "Canvas(toolbar=Toolbar(toolitems=[('Home', 'Reset original view', 'home', 'home'), ('Back', 'Back to previous …"
      ]
     },
     "metadata": {},
     "output_type": "display_data"
    },
    {
     "data": {
      "text/plain": [
       "<matplotlib.colorbar.Colorbar at 0x7f4258c54290>"
      ]
     },
     "execution_count": 80,
     "metadata": {},
     "output_type": "execute_result"
    }
   ],
   "source": [
    "#retrieve image from databroker\n",
    "my_im = catalog[-1].primary.read().detector_image[0]\n",
    "#plot\n",
    "plt.figure()\n",
    "plt.imshow(my_im)\n",
    "plt.colorbar()"
   ]
  },
  {
   "cell_type": "markdown",
   "metadata": {},
   "source": [
    "Take a dark image"
   ]
  },
  {
   "cell_type": "code",
   "execution_count": 81,
   "metadata": {},
   "outputs": [
    {
     "name": "stdout",
     "output_type": "stream",
     "text": [
      "sleeping for 5\n"
     ]
    }
   ],
   "source": [
    "#we started at t=0, so we'll just go before then to measure the dark.\n",
    "#time_travel(-1)\n",
    "\n",
    "RE(light(False))\n",
    "\n",
    "sim_sleep(5)\n",
    "\n",
    "RE(count([detector]))\n",
    "\n",
    "my_dark = catalog[-1].primary.read().detector_image[0]\n"
   ]
  },
  {
   "cell_type": "code",
   "execution_count": 82,
   "metadata": {},
   "outputs": [
    {
     "data": {
      "application/vnd.jupyter.widget-view+json": {
       "model_id": "e85bcf3b9e664dba9a0cf3a2827f34c2",
       "version_major": 2,
       "version_minor": 0
      },
      "text/plain": [
       "Canvas(toolbar=Toolbar(toolitems=[('Home', 'Reset original view', 'home', 'home'), ('Back', 'Back to previous …"
      ]
     },
     "metadata": {},
     "output_type": "display_data"
    },
    {
     "data": {
      "text/plain": [
       "<matplotlib.image.AxesImage at 0x7f4258ba8950>"
      ]
     },
     "execution_count": 82,
     "metadata": {},
     "output_type": "execute_result"
    }
   ],
   "source": [
    "plt.figure(figsize=(8,4))\n",
    "plt.subplot(121)\n",
    "plt.imshow(my_im)\n",
    "plt.subplot(122)\n",
    "plt.imshow(my_dark)\n"
   ]
  },
  {
   "cell_type": "code",
   "execution_count": 83,
   "metadata": {},
   "outputs": [
    {
     "data": {
      "application/vnd.jupyter.widget-view+json": {
       "model_id": "23f4055c9dc944bea418fca4511ae120",
       "version_major": 2,
       "version_minor": 0
      },
      "text/plain": [
       "Canvas(toolbar=Toolbar(toolitems=[('Home', 'Reset original view', 'home', 'home'), ('Back', 'Back to previous …"
      ]
     },
     "metadata": {},
     "output_type": "display_data"
    },
    {
     "data": {
      "text/plain": [
       "<matplotlib.colorbar.Colorbar at 0x7f4258ae6f90>"
      ]
     },
     "execution_count": 83,
     "metadata": {},
     "output_type": "execute_result"
    }
   ],
   "source": [
    "plt.figure()\n",
    "plt.imshow(my_im-my_dark)\n",
    "\n",
    "plt.colorbar()"
   ]
  },
  {
   "cell_type": "markdown",
   "metadata": {},
   "source": [
    "### Now to integrate"
   ]
  },
  {
   "cell_type": "code",
   "execution_count": 84,
   "metadata": {},
   "outputs": [],
   "source": [
    "from simulated_hardware import intensities, x\n",
    "from utils import simple_integration\n"
   ]
  },
  {
   "cell_type": "code",
   "execution_count": 85,
   "metadata": {},
   "outputs": [
    {
     "data": {
      "application/vnd.jupyter.widget-view+json": {
       "model_id": "92118a46e71141c8a5a983a835b943e3",
       "version_major": 2,
       "version_minor": 0
      },
      "text/plain": [
       "Canvas(toolbar=Toolbar(toolitems=[('Home', 'Reset original view', 'home', 'home'), ('Back', 'Back to previous …"
      ]
     },
     "metadata": {},
     "output_type": "display_data"
    },
    {
     "data": {
      "text/plain": [
       "<matplotlib.legend.Legend at 0x7f4258ac6450>"
      ]
     },
     "execution_count": 85,
     "metadata": {},
     "output_type": "execute_result"
    }
   ],
   "source": [
    "intensity = simple_integration(my_im - my_dark,num_bins=301)\n",
    "#x = np.linspace(0, 30, num=301)\n",
    "\n",
    "\n",
    "plt.figure()\n",
    "plt.plot(x, intensities[3], \"--\", label=\"ground truth\")\n",
    "plt.plot(x[:len(intensity)], intensity[:], label=\"'measured'\")\n",
    "plt.legend()\n",
    "#plt.gcf()"
   ]
  },
  {
   "cell_type": "markdown",
   "metadata": {},
   "source": [
    "### Bluesky Dark Plan"
   ]
  },
  {
   "cell_type": "code",
   "execution_count": 65,
   "metadata": {},
   "outputs": [],
   "source": [
    "def dark_light_subtract(sample_num):\n",
    "    #close shutter if not already closed\n",
    "    yield from light(False)\n",
    "        \n",
    "    #move to desired sample\n",
    "    yield from load_sample(sample_num)\n",
    "    \n",
    "    #take dark image\n",
    "    yield from count([detector])\n",
    "    \n",
    "    #open shutter\n",
    "    yield from light(True)\n",
    "    \n",
    "    #take light image\n",
    "    yield from count([detector])\n",
    "    \n",
    "    #close shutter to be nice to detector\n",
    "    yield from light(False)\n",
    "    \n"
   ]
  },
  {
   "cell_type": "code",
   "execution_count": 66,
   "metadata": {},
   "outputs": [],
   "source": [
    "def process_data(pair, return_ims = False):\n",
    "    #assuming pair is tuple\n",
    "    my_dark = catalog[pair[0]].primary.read().detector_image[0]\n",
    "    my_light = catalog[pair[1]].primary.read().detector_image[0]\n",
    "    if return_ims:\n",
    "        return my_dark, my_light\n",
    "    \n",
    "    this_int = simple_integration(my_light - my_dark,num_bins=301)\n",
    "    \n",
    "    return this_int"
   ]
  },
  {
   "cell_type": "code",
   "execution_count": 70,
   "metadata": {},
   "outputs": [
    {
     "data": {
      "text/plain": [
       "{'sample': [(5.0, 10.0), (10.0, 15.0), (15.0,)],\n",
       " 'light': [(2.0, 4.0), (7.0, 9.0), (12.0, 14.0), (17.0, 19.0)],\n",
       " 'image': [array([[1.92874985e-20, 2.37452948e-20, 2.86971520e-20, ...,\n",
       "          3.48662284e-20, 2.86971520e-20, 2.37452948e-20],\n",
       "         [2.37452948e-20, 2.87214639e-20, 3.49149476e-20, ...,\n",
       "          4.24972244e-20, 3.49149476e-20, 2.87214639e-20],\n",
       "         [2.86971520e-20, 3.49149476e-20, 4.25310975e-20, ...,\n",
       "          5.11264242e-20, 4.25310975e-20, 3.49149476e-20],\n",
       "         ...,\n",
       "         [3.48662284e-20, 4.24972244e-20, 5.11264242e-20, ...,\n",
       "          6.26631589e-20, 5.11264242e-20, 4.24972244e-20],\n",
       "         [2.86971520e-20, 3.49149476e-20, 4.25310975e-20, ...,\n",
       "          5.11264242e-20, 4.25310975e-20, 3.49149476e-20],\n",
       "         [2.37452948e-20, 2.87214639e-20, 3.49149476e-20, ...,\n",
       "          4.24972244e-20, 3.49149476e-20, 2.87214639e-20]]),\n",
       "  array([[1.92874985e-20, 2.37452948e-20, 2.86971520e-20, ...,\n",
       "          3.48662284e-20, 2.86971520e-20, 2.37452948e-20],\n",
       "         [2.37452948e-20, 2.87214639e-20, 3.49149476e-20, ...,\n",
       "          4.24972244e-20, 3.49149476e-20, 2.87214639e-20],\n",
       "         [2.86971520e-20, 3.49149476e-20, 4.25310975e-20, ...,\n",
       "          5.11264242e-20, 4.25310975e-20, 3.49149476e-20],\n",
       "         ...,\n",
       "         [3.48662284e-20, 4.24972244e-20, 5.11264242e-20, ...,\n",
       "          6.26631589e-20, 5.11264242e-20, 4.24972244e-20],\n",
       "         [2.86971520e-20, 3.49149476e-20, 4.25310975e-20, ...,\n",
       "          5.11264242e-20, 4.25310975e-20, 3.49149476e-20],\n",
       "         [2.37452948e-20, 2.87214639e-20, 3.49149476e-20, ...,\n",
       "          4.24972244e-20, 3.49149476e-20, 2.87214639e-20]]),\n",
       "  array([[1.92874985e-20, 2.37452948e-20, 2.86971520e-20, ...,\n",
       "          3.48662284e-20, 2.86971520e-20, 2.37452948e-20],\n",
       "         [2.37452948e-20, 2.87214639e-20, 3.49149476e-20, ...,\n",
       "          4.24972244e-20, 3.49149476e-20, 2.87214639e-20],\n",
       "         [2.86971520e-20, 3.49149476e-20, 4.25310975e-20, ...,\n",
       "          5.11264242e-20, 4.25310975e-20, 3.49149476e-20],\n",
       "         ...,\n",
       "         [3.48662284e-20, 4.24972244e-20, 5.11264242e-20, ...,\n",
       "          6.26631589e-20, 5.11264242e-20, 4.24972244e-20],\n",
       "         [2.86971520e-20, 3.49149476e-20, 4.25310975e-20, ...,\n",
       "          5.11264242e-20, 4.25310975e-20, 3.49149476e-20],\n",
       "         [2.37452948e-20, 2.87214639e-20, 3.49149476e-20, ...,\n",
       "          4.24972244e-20, 3.49149476e-20, 2.87214639e-20]])],\n",
       " 'decay_a': 1000,\n",
       " 'panel_amp': 0,\n",
       " 'panel_oset': 10,\n",
       " 'panel_wid': 128,\n",
       " 'noise': 0,\n",
       " 'panel_wl': 8000,\n",
       " 'action_time': 1.0}"
      ]
     },
     "execution_count": 70,
     "metadata": {},
     "output_type": "execute_result"
    }
   ],
   "source": [
    "_history"
   ]
  },
  {
   "cell_type": "code",
   "execution_count": 76,
   "metadata": {},
   "outputs": [
    {
     "name": "stdout",
     "output_type": "stream",
     "text": [
      "time is now 0\n",
      "shutter already in requested state\n",
      "something empty\n",
      "something empty\n",
      "sleeping for 10\n",
      "time is now 15.0\n",
      "shutter already in requested state\n",
      "sleeping for 10\n",
      "time is now 30.0\n",
      "shutter already in requested state\n",
      "sleeping for 10\n",
      "time is now 45.0\n",
      "shutter already in requested state\n",
      "sleeping for 10\n"
     ]
    }
   ],
   "source": [
    "_history['panel_amp'] = 0\n",
    "_history['decay_a'] = 500 #1000 default was\n",
    "\n",
    "run_pairs = {}\n",
    "history_reset()\n",
    "for i in range(4):\n",
    "    print ('time is now '+str(current_time()))\n",
    "    run_pairs[i] = RE(dark_light_subtract(i))\n",
    "    sim_sleep(10)\n",
    "    #sim_sleep(50) #was 30\n"
   ]
  },
  {
   "cell_type": "code",
   "execution_count": 71,
   "metadata": {},
   "outputs": [
    {
     "data": {
      "application/vnd.jupyter.widget-view+json": {
       "model_id": "7c840364beb94414a32e810fd874d7ab",
       "version_major": 2,
       "version_minor": 0
      },
      "text/plain": [
       "Canvas(toolbar=Toolbar(toolitems=[('Home', 'Reset original view', 'home', 'home'), ('Back', 'Back to previous …"
      ]
     },
     "metadata": {},
     "output_type": "display_data"
    }
   ],
   "source": [
    "plt.figure(figsize=(9,3))\n",
    "run_num = 1\n",
    "dark_im, light_im = process_data(run_pairs[run_num],return_ims=True)\n",
    "plt.subplot(131)\n",
    "plt.imshow(dark_im,vmax=600)\n",
    "plt.subplot(132)\n",
    "plt.imshow(light_im,vmax=600)\n",
    "plt.subplot(133)\n",
    "plt.imshow(light_im-dark_im,vmax=600)\n",
    "#plt.colorbar()\n",
    "plt.show()\n"
   ]
  },
  {
   "cell_type": "code",
   "execution_count": 77,
   "metadata": {},
   "outputs": [
    {
     "data": {
      "application/vnd.jupyter.widget-view+json": {
       "model_id": "8ca10c063309409dbb332bbcfba0aad5",
       "version_major": 2,
       "version_minor": 0
      },
      "text/plain": [
       "Canvas(toolbar=Toolbar(toolitems=[('Home', 'Reset original view', 'home', 'home'), ('Back', 'Back to previous …"
      ]
     },
     "metadata": {},
     "output_type": "display_data"
    }
   ],
   "source": [
    "plt.figure()\n",
    "for i in run_pairs.keys():\n",
    "    plt.plot(process_data(run_pairs[i])-i*300)\n"
   ]
  },
  {
   "cell_type": "code",
   "execution_count": 51,
   "metadata": {},
   "outputs": [],
   "source": [
    "%matplotlib widget"
   ]
  },
  {
   "cell_type": "code",
   "execution_count": 52,
   "metadata": {},
   "outputs": [
    {
     "data": {
      "application/vnd.jupyter.widget-view+json": {
       "model_id": "283519220b58476dbaf12c51eaa2a434",
       "version_major": 2,
       "version_minor": 0
      },
      "text/plain": [
       "Canvas(toolbar=Toolbar(toolitems=[('Home', 'Reset original view', 'home', 'home'), ('Back', 'Back to previous …"
      ]
     },
     "metadata": {},
     "output_type": "display_data"
    }
   ],
   "source": [
    "plt.figure()\n",
    "for i in run_pairs.keys():\n",
    "    plt.plot(process_data(run_pairs[i])-i*300)\n"
   ]
  },
  {
   "cell_type": "code",
   "execution_count": 53,
   "metadata": {},
   "outputs": [],
   "source": [
    "plt.close()"
   ]
  },
  {
   "cell_type": "code",
   "execution_count": 19,
   "metadata": {},
   "outputs": [
    {
     "data": {
      "application/vnd.jupyter.widget-view+json": {
       "model_id": "20593f9530484e06a69a417b3bdc6765",
       "version_major": 2,
       "version_minor": 0
      },
      "text/plain": [
       "Canvas(toolbar=Toolbar(toolitems=[('Home', 'Reset original view', 'home', 'home'), ('Back', 'Back to previous …"
      ]
     },
     "metadata": {},
     "output_type": "display_data"
    },
    {
     "data": {
      "text/plain": [
       "[<matplotlib.lines.Line2D at 0x7f85ac21fcd0>,\n",
       " <matplotlib.lines.Line2D at 0x7f85ac121390>,\n",
       " <matplotlib.lines.Line2D at 0x7f85ac121550>,\n",
       " <matplotlib.lines.Line2D at 0x7f85ac121710>,\n",
       " <matplotlib.lines.Line2D at 0x7f85ac1218d0>,\n",
       " <matplotlib.lines.Line2D at 0x7f85ac121a90>,\n",
       " <matplotlib.lines.Line2D at 0x7f85ac121cd0>,\n",
       " <matplotlib.lines.Line2D at 0x7f85ac121e90>,\n",
       " <matplotlib.lines.Line2D at 0x7f85ac121890>,\n",
       " <matplotlib.lines.Line2D at 0x7f85ac121ad0>]"
      ]
     },
     "execution_count": 19,
     "metadata": {},
     "output_type": "execute_result"
    }
   ],
   "source": [
    "ilist2 = np.array(ilist2)\n",
    "plt.figure()\n",
    "#plt.plot(ilist2.mean(axis=0))\n",
    "plt.plot(ilist2.T)"
   ]
  },
  {
   "cell_type": "code",
   "execution_count": null,
   "metadata": {},
   "outputs": [],
   "source": []
  },
  {
   "cell_type": "code",
   "execution_count": null,
   "metadata": {},
   "outputs": [],
   "source": []
  },
  {
   "cell_type": "code",
   "execution_count": 31,
   "metadata": {},
   "outputs": [],
   "source": [
    "my_dark2 = catalog[-2].primary.read().detector_image[0]\n",
    "my_light2 = catalog[-1].primary.read().detector_image[0]"
   ]
  },
  {
   "cell_type": "code",
   "execution_count": 32,
   "metadata": {},
   "outputs": [
    {
     "data": {
      "text/plain": [
       "<matplotlib.image.AxesImage at 0x7f7c2c4fcf50>"
      ]
     },
     "execution_count": 32,
     "metadata": {},
     "output_type": "execute_result"
    },
    {
     "data": {
      "image/png": "[encoded data removed]",
      "text/plain": [
       "<Figure size 432x288 with 1 Axes>"
      ]
     },
     "metadata": {
      "needs_background": "light"
     },
     "output_type": "display_data"
    }
   ],
   "source": [
    "plt.figure()\n",
    "plt.imshow(my_light2-my_dark2)"
   ]
  },
  {
   "cell_type": "code",
   "execution_count": 33,
   "metadata": {},
   "outputs": [
    {
     "data": {
      "text/plain": [
       "[<matplotlib.lines.Line2D at 0x7f7c2c464b10>]"
      ]
     },
     "execution_count": 33,
     "metadata": {},
     "output_type": "execute_result"
    },
    {
     "data": {
      "image/png": "[encoded data removed]",
      "text/plain": [
       "<Figure size 432x288 with 1 Axes>"
      ]
     },
     "metadata": {
      "needs_background": "light"
     },
     "output_type": "display_data"
    }
   ],
   "source": [
    "intensity = simple_integration(my_light2 - my_dark2,num_bins=301)\n",
    "plt.figure()\n",
    "plt.plot(intensity)"
   ]
  },
  {
   "cell_type": "code",
   "execution_count": null,
   "metadata": {},
   "outputs": [],
   "source": []
  },
  {
   "cell_type": "code",
   "execution_count": 24,
   "metadata": {},
   "outputs": [],
   "source": [
    "from simulated_hardware import shutter"
   ]
  },
  {
   "cell_type": "code",
   "execution_count": 27,
   "metadata": {},
   "outputs": [
    {
     "data": {
      "text/plain": [
       "'closed'"
      ]
     },
     "execution_count": 27,
     "metadata": {},
     "output_type": "execute_result"
    }
   ],
   "source": [
    "shutter.read()['shutter']['value']"
   ]
  },
  {
   "cell_type": "code",
   "execution_count": 19,
   "metadata": {},
   "outputs": [
    {
     "name": "stdout",
     "output_type": "stream",
     "text": [
      "current time is 0\n"
     ]
    },
    {
     "data": {
      "text/plain": [
       "()"
      ]
     },
     "execution_count": 19,
     "metadata": {},
     "output_type": "execute_result"
    }
   ],
   "source": [
    "RE(light(False))"
   ]
  },
  {
   "cell_type": "code",
   "execution_count": 17,
   "metadata": {},
   "outputs": [
    {
     "name": "stdout",
     "output_type": "stream",
     "text": [
      "current time is 14.0\n"
     ]
    }
   ],
   "source": [
    "history_reset()"
   ]
  },
  {
   "cell_type": "code",
   "execution_count": null,
   "metadata": {},
   "outputs": [],
   "source": []
  },
  {
   "cell_type": "code",
   "execution_count": 33,
   "metadata": {},
   "outputs": [
    {
     "name": "stderr",
     "output_type": "stream",
     "text": [
      "/home/dan/miniconda3/envs/bluesky-tutorials/lib/python3.7/site-packages/ipykernel_launcher.py:1: RuntimeWarning: More than 20 figures have been opened. Figures created through the pyplot interface (`matplotlib.pyplot.figure`) are retained until explicitly closed and may consume too much memory. (To control this warning, see the rcParam `figure.max_open_warning`).\n",
      "  \"\"\"Entry point for launching an IPython kernel.\n"
     ]
    },
    {
     "data": {
      "application/vnd.jupyter.widget-view+json": {
       "model_id": "41ee078560754170a4ccfb1f9149fddd",
       "version_major": 2,
       "version_minor": 0
      },
      "text/plain": [
       "Canvas(toolbar=Toolbar(toolitems=[('Home', 'Reset original view', 'home', 'home'), ('Back', 'Back to previous …"
      ]
     },
     "metadata": {},
     "output_type": "display_data"
    },
    {
     "data": {
      "text/plain": [
       "[<matplotlib.lines.Line2D at 0x7faf56465490>]"
      ]
     },
     "execution_count": 33,
     "metadata": {},
     "output_type": "execute_result"
    }
   ],
   "source": [
    "plt.figure()\n",
    "plt.plot(intensity)"
   ]
  },
  {
   "cell_type": "code",
   "execution_count": null,
   "metadata": {},
   "outputs": [],
   "source": []
  },
  {
   "cell_type": "code",
   "execution_count": 11,
   "metadata": {},
   "outputs": [],
   "source": [
    "from simulated_hardware import intensities, generate_image, patterns, sample_selector"
   ]
  },
  {
   "cell_type": "code",
   "execution_count": 16,
   "metadata": {},
   "outputs": [
    {
     "data": {
      "text/plain": [
       "3"
      ]
     },
     "execution_count": 16,
     "metadata": {},
     "output_type": "execute_result"
    }
   ],
   "source": [
    "sample_selector.read()['sample_selector']['value']"
   ]
  },
  {
   "cell_type": "code",
   "execution_count": 9,
   "metadata": {},
   "outputs": [
    {
     "data": {
      "application/vnd.jupyter.widget-view+json": {
       "model_id": "8e165b37addf4b019cd08f61a89475a5",
       "version_major": 2,
       "version_minor": 0
      },
      "text/plain": [
       "Canvas(toolbar=Toolbar(toolitems=[('Home', 'Reset original view', 'home', 'home'), ('Back', 'Back to previous …"
      ]
     },
     "metadata": {},
     "output_type": "display_data"
    },
    {
     "ename": "TypeError",
     "evalue": "unhashable type: 'list'",
     "output_type": "error",
     "traceback": [
      "\u001b[0;31m---------------------------------------------------------------------------\u001b[0m",
      "\u001b[0;31mTypeError\u001b[0m                                 Traceback (most recent call last)",
      "\u001b[0;32m<ipython-input-9-fc19e315de26>\u001b[0m in \u001b[0;36m<module>\u001b[0;34m\u001b[0m\n\u001b[1;32m      1\u001b[0m \u001b[0mplt\u001b[0m\u001b[0;34m.\u001b[0m\u001b[0mfigure\u001b[0m\u001b[0;34m(\u001b[0m\u001b[0;34m)\u001b[0m\u001b[0;34m\u001b[0m\u001b[0;34m\u001b[0m\u001b[0m\n\u001b[0;32m----> 2\u001b[0;31m \u001b[0mplt\u001b[0m\u001b[0;34m.\u001b[0m\u001b[0mplot\u001b[0m\u001b[0;34m(\u001b[0m\u001b[0mintensities\u001b[0m\u001b[0;34m[\u001b[0m\u001b[0m_history\u001b[0m\u001b[0;34m[\u001b[0m\u001b[0;34m'sample'\u001b[0m\u001b[0;34m]\u001b[0m\u001b[0;34m]\u001b[0m\u001b[0;34m)\u001b[0m\u001b[0;34m\u001b[0m\u001b[0;34m\u001b[0m\u001b[0m\n\u001b[0m",
      "\u001b[0;31mTypeError\u001b[0m: unhashable type: 'list'"
     ]
    }
   ],
   "source": [
    "plt.figure()\n",
    "plt.plot(intensities[_history['sample']])"
   ]
  },
  {
   "cell_type": "code",
   "execution_count": 48,
   "metadata": {},
   "outputs": [
    {
     "name": "stderr",
     "output_type": "stream",
     "text": [
      "/home/dan/miniconda3/envs/bluesky-tutorials/lib/python3.7/site-packages/ipykernel_launcher.py:1: RuntimeWarning: More than 20 figures have been opened. Figures created through the pyplot interface (`matplotlib.pyplot.figure`) are retained until explicitly closed and may consume too much memory. (To control this warning, see the rcParam `figure.max_open_warning`).\n",
      "  \"\"\"Entry point for launching an IPython kernel.\n"
     ]
    },
    {
     "data": {
      "application/vnd.jupyter.widget-view+json": {
       "model_id": "38a27e805d704ad290c15bd9e966f465",
       "version_major": 2,
       "version_minor": 0
      },
      "text/plain": [
       "Canvas(toolbar=Toolbar(toolitems=[('Home', 'Reset original view', 'home', 'home'), ('Back', 'Back to previous …"
      ]
     },
     "metadata": {},
     "output_type": "display_data"
    },
    {
     "data": {
      "text/plain": [
       "<matplotlib.image.AxesImage at 0x7faea86c4d50>"
      ]
     },
     "execution_count": 48,
     "metadata": {},
     "output_type": "execute_result"
    }
   ],
   "source": [
    "plt.figure()\n",
    "plt.imshow(generate_image(x, intensities[1], (512,512)))"
   ]
  },
  {
   "cell_type": "code",
   "execution_count": 50,
   "metadata": {},
   "outputs": [
    {
     "name": "stderr",
     "output_type": "stream",
     "text": [
      "/home/dan/miniconda3/envs/bluesky-tutorials/lib/python3.7/site-packages/ipykernel_launcher.py:1: RuntimeWarning: More than 20 figures have been opened. Figures created through the pyplot interface (`matplotlib.pyplot.figure`) are retained until explicitly closed and may consume too much memory. (To control this warning, see the rcParam `figure.max_open_warning`).\n",
      "  \"\"\"Entry point for launching an IPython kernel.\n"
     ]
    },
    {
     "data": {
      "application/vnd.jupyter.widget-view+json": {
       "model_id": "4d9a6c3a130f4ea09e505fb17f8b7047",
       "version_major": 2,
       "version_minor": 0
      },
      "text/plain": [
       "Canvas(toolbar=Toolbar(toolitems=[('Home', 'Reset original view', 'home', 'home'), ('Back', 'Back to previous …"
      ]
     },
     "metadata": {},
     "output_type": "display_data"
    },
    {
     "data": {
      "text/plain": [
       "<matplotlib.image.AxesImage at 0x7faea8670850>"
      ]
     },
     "execution_count": 50,
     "metadata": {},
     "output_type": "execute_result"
    }
   ],
   "source": [
    "plt.figure()\n",
    "plt.imshow(patterns[1])"
   ]
  },
  {
   "cell_type": "code",
   "execution_count": 34,
   "metadata": {},
   "outputs": [
    {
     "data": {
      "text/plain": [
       "()"
      ]
     },
     "execution_count": 34,
     "metadata": {},
     "output_type": "execute_result"
    }
   ],
   "source": [
    "#reset history\n",
    "history_reset()\n",
    "\n",
    "time_travel(5)\n",
    "#load sample\n",
    "RE(load_sample(2))\n",
    "#turn on light\n",
    "RE(light(True))\n",
    "\n",
    "time_travel(10)\n",
    "RE(unload_sample())\n",
    "\n",
    "#count\n",
    "#RE(count([detector]))\n"
   ]
  },
  {
   "cell_type": "code",
   "execution_count": 38,
   "metadata": {},
   "outputs": [],
   "source": [
    "_history['noise'] = 0.0"
   ]
  },
  {
   "cell_type": "code",
   "execution_count": 39,
   "metadata": {},
   "outputs": [
    {
     "name": "stdout",
     "output_type": "stream",
     "text": [
      "this took 50.31184792518616\n"
     ]
    }
   ],
   "source": [
    "tlist = np.linspace(0,20,21)\n",
    "intensity_list = []\n",
    "t0 = time.time()\n",
    "for t in tlist:\n",
    "    time_travel(t)\n",
    "    RE(count([detector]))\n",
    "    data = catalog[-1].primary.read()\n",
    "    #this next line is a bit of a piece of work... trying to make a list of total intensities on detector\n",
    "    #first grabbing image from xarray, then turing into numpy array, then summing, then appending to list.\n",
    "    intensity_list.append(np.sum(np.array(data.detector_image[0]))) \n",
    "print ('this took '+str(time.time()-t0))"
   ]
  },
  {
   "cell_type": "code",
   "execution_count": 44,
   "metadata": {},
   "outputs": [],
   "source": [
    "%matplotlib widget"
   ]
  },
  {
   "cell_type": "code",
   "execution_count": 45,
   "metadata": {},
   "outputs": [
    {
     "data": {
      "application/vnd.jupyter.widget-view+json": {
       "model_id": "5dfda72bb8954e57add938a24b1da765",
       "version_major": 2,
       "version_minor": 0
      },
      "text/plain": [
       "Canvas(toolbar=Toolbar(toolitems=[('Home', 'Reset original view', 'home', 'home'), ('Back', 'Back to previous …"
      ]
     },
     "metadata": {},
     "output_type": "display_data"
    },
    {
     "data": {
      "text/plain": [
       "<matplotlib.colorbar.Colorbar at 0x7f7c2c67e190>"
      ]
     },
     "execution_count": 45,
     "metadata": {},
     "output_type": "execute_result"
    }
   ],
   "source": [
    "plt.figure()\n",
    "plt.imshow(data.detector_image[0])\n",
    "plt.colorbar()"
   ]
  },
  {
   "cell_type": "code",
   "execution_count": 8,
   "metadata": {},
   "outputs": [
    {
     "data": {
      "text/plain": [
       "130089964.53468667"
      ]
     },
     "execution_count": 8,
     "metadata": {},
     "output_type": "execute_result"
    }
   ],
   "source": [
    "max(intensity_list)"
   ]
  },
  {
   "cell_type": "code",
   "execution_count": 40,
   "metadata": {},
   "outputs": [
    {
     "data": {
      "text/plain": [
       "[<matplotlib.lines.Line2D at 0x7f7c2c0b9210>]"
      ]
     },
     "execution_count": 40,
     "metadata": {},
     "output_type": "execute_result"
    },
    {
     "data": {
      "image/png": "[encoded data removed]",
      "text/plain": [
       "<Figure size 432x288 with 1 Axes>"
      ]
     },
     "metadata": {
      "needs_background": "light"
     },
     "output_type": "display_data"
    }
   ],
   "source": [
    "plt.figure()\n",
    "plt.plot(tlist, intensity_list)\n",
    "#plt.plot(tlist, intensity_list_was,alpha=.5)"
   ]
  },
  {
   "cell_type": "code",
   "execution_count": null,
   "metadata": {},
   "outputs": [],
   "source": []
  }
 ],
 "metadata": {
  "kernelspec": {
   "display_name": "Python 3",
   "language": "python",
   "name": "python3"
  },
  "language_info": {
   "codemirror_mode": {
    "name": "ipython",
    "version": 3
   },
   "file_extension": ".py",
   "mimetype": "text/x-python",
   "name": "python",
   "nbconvert_exporter": "python",
   "pygments_lexer": "ipython3",
   "version": "3.7.7"
  }
 },
 "nbformat": 4,
 "nbformat_minor": 4
}

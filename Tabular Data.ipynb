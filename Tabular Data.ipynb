{
 "cells": [
  {
   "cell_type": "markdown",
   "id": "b27b96d3-f1ea-4d10-acea-58ea9a04ad2a",
   "metadata": {
    "tags": []
   },
   "source": [
    "## Tablular Data"
   ]
  },
  {
   "cell_type": "code",
   "execution_count": 4,
   "id": "c2d30613-ece4-4e8b-ae39-2a5e63d0bec7",
   "metadata": {
    "tags": []
   },
   "outputs": [],
   "source": [
    "import numpy as np\n",
    "import pandas as pd"
   ]
  },
  {
   "cell_type": "markdown",
   "id": "28c14039-0036-4dbf-b55c-487367d3152f",
   "metadata": {},
   "source": [
    "## Series: a column of data with an Index"
   ]
  },
  {
   "cell_type": "code",
   "execution_count": 9,
   "id": "34a8b863-18df-4b69-a03e-d48e7f6a14e7",
   "metadata": {
    "tags": []
   },
   "outputs": [
    {
     "data": {
      "text/plain": [
       "0    1.0\n",
       "1    3.0\n",
       "2    5.0\n",
       "3    NaN\n",
       "4    6.0\n",
       "5    8.0\n",
       "dtype: float64"
      ]
     },
     "execution_count": 9,
     "metadata": {},
     "output_type": "execute_result"
    }
   ],
   "source": [
    "s1 = pd.Series([1, 3, 5, np.nan, 6, 8])\n",
    "s1"
   ]
  },
  {
   "cell_type": "code",
   "execution_count": 10,
   "id": "e8c1b854-5648-4e5b-9cf2-2cd6e7290614",
   "metadata": {
    "tags": []
   },
   "outputs": [
    {
     "data": {
      "text/plain": [
       "2    10\n",
       "3    20\n",
       "4    30\n",
       "dtype: int64"
      ]
     },
     "execution_count": 10,
     "metadata": {},
     "output_type": "execute_result"
    }
   ],
   "source": [
    "s2 = pd.Series([10, 20, 30], index=[2, 3, 4])\n",
    "s2"
   ]
  },
  {
   "cell_type": "markdown",
   "id": "1e186fb5-bbb5-4d6f-b5e4-f1685629e47a",
   "metadata": {},
   "source": [
    "The index _aligns_ the two datasets, comparing \"apples to apples\"."
   ]
  },
  {
   "cell_type": "code",
   "execution_count": 11,
   "id": "f5b9bad6-49c0-48ce-bdbd-8b256547ada5",
   "metadata": {
    "tags": []
   },
   "outputs": [
    {
     "data": {
      "text/plain": [
       "0     NaN\n",
       "1     NaN\n",
       "2    15.0\n",
       "3     NaN\n",
       "4    36.0\n",
       "5     NaN\n",
       "dtype: float64"
      ]
     },
     "execution_count": 11,
     "metadata": {},
     "output_type": "execute_result"
    }
   ],
   "source": [
    "s1 + s2"
   ]
  },
  {
   "cell_type": "markdown",
   "id": "7496b866-5ab6-490e-9717-e564b2346c01",
   "metadata": {},
   "source": [
    "## DataFrame: a table of columns with an Index"
   ]
  },
  {
   "cell_type": "code",
   "execution_count": 15,
   "id": "494c8ec8-02c7-4e2d-9ff7-6be1f32779d1",
   "metadata": {
    "tags": []
   },
   "outputs": [
    {
     "data": {
      "text/html": [
       "<div>\n",
       "<style scoped>\n",
       "    .dataframe tbody tr th:only-of-type {\n",
       "        vertical-align: middle;\n",
       "    }\n",
       "\n",
       "    .dataframe tbody tr th {\n",
       "        vertical-align: top;\n",
       "    }\n",
       "\n",
       "    .dataframe thead th {\n",
       "        text-align: right;\n",
       "    }\n",
       "</style>\n",
       "<table border=\"1\" class=\"dataframe\">\n",
       "  <thead>\n",
       "    <tr style=\"text-align: right;\">\n",
       "      <th></th>\n",
       "      <th>a</th>\n",
       "      <th>b</th>\n",
       "    </tr>\n",
       "  </thead>\n",
       "  <tbody>\n",
       "    <tr>\n",
       "      <th>0</th>\n",
       "      <td>0</td>\n",
       "      <td>0.021700</td>\n",
       "    </tr>\n",
       "    <tr>\n",
       "      <th>1</th>\n",
       "      <td>1</td>\n",
       "      <td>0.571916</td>\n",
       "    </tr>\n",
       "    <tr>\n",
       "      <th>2</th>\n",
       "      <td>2</td>\n",
       "      <td>0.943367</td>\n",
       "    </tr>\n",
       "    <tr>\n",
       "      <th>3</th>\n",
       "      <td>3</td>\n",
       "      <td>0.762479</td>\n",
       "    </tr>\n",
       "    <tr>\n",
       "      <th>4</th>\n",
       "      <td>4</td>\n",
       "      <td>0.893559</td>\n",
       "    </tr>\n",
       "    <tr>\n",
       "      <th>...</th>\n",
       "      <td>...</td>\n",
       "      <td>...</td>\n",
       "    </tr>\n",
       "    <tr>\n",
       "      <th>95</th>\n",
       "      <td>95</td>\n",
       "      <td>0.536255</td>\n",
       "    </tr>\n",
       "    <tr>\n",
       "      <th>96</th>\n",
       "      <td>96</td>\n",
       "      <td>0.112918</td>\n",
       "    </tr>\n",
       "    <tr>\n",
       "      <th>97</th>\n",
       "      <td>97</td>\n",
       "      <td>0.988750</td>\n",
       "    </tr>\n",
       "    <tr>\n",
       "      <th>98</th>\n",
       "      <td>98</td>\n",
       "      <td>0.374512</td>\n",
       "    </tr>\n",
       "    <tr>\n",
       "      <th>99</th>\n",
       "      <td>99</td>\n",
       "      <td>0.734572</td>\n",
       "    </tr>\n",
       "  </tbody>\n",
       "</table>\n",
       "<p>100 rows × 2 columns</p>\n",
       "</div>"
      ],
      "text/plain": [
       "     a         b\n",
       "0    0  0.021700\n",
       "1    1  0.571916\n",
       "2    2  0.943367\n",
       "3    3  0.762479\n",
       "4    4  0.893559\n",
       "..  ..       ...\n",
       "95  95  0.536255\n",
       "96  96  0.112918\n",
       "97  97  0.988750\n",
       "98  98  0.374512\n",
       "99  99  0.734572\n",
       "\n",
       "[100 rows x 2 columns]"
      ]
     },
     "execution_count": 15,
     "metadata": {},
     "output_type": "execute_result"
    }
   ],
   "source": [
    "df = pd.DataFrame({\"a\": np.arange(100), \"b\": np.random.random(100)})\n",
    "df"
   ]
  },
  {
   "cell_type": "code",
   "execution_count": 16,
   "id": "79c11fe0-5969-49d5-a6f6-ed4736648a47",
   "metadata": {
    "tags": []
   },
   "outputs": [
    {
     "data": {
      "text/html": [
       "<div>\n",
       "<style scoped>\n",
       "    .dataframe tbody tr th:only-of-type {\n",
       "        vertical-align: middle;\n",
       "    }\n",
       "\n",
       "    .dataframe tbody tr th {\n",
       "        vertical-align: top;\n",
       "    }\n",
       "\n",
       "    .dataframe thead th {\n",
       "        text-align: right;\n",
       "    }\n",
       "</style>\n",
       "<table border=\"1\" class=\"dataframe\">\n",
       "  <thead>\n",
       "    <tr style=\"text-align: right;\">\n",
       "      <th></th>\n",
       "      <th>a</th>\n",
       "      <th>b</th>\n",
       "    </tr>\n",
       "  </thead>\n",
       "  <tbody>\n",
       "    <tr>\n",
       "      <th>0</th>\n",
       "      <td>0</td>\n",
       "      <td>0.021700</td>\n",
       "    </tr>\n",
       "    <tr>\n",
       "      <th>1</th>\n",
       "      <td>1</td>\n",
       "      <td>0.571916</td>\n",
       "    </tr>\n",
       "    <tr>\n",
       "      <th>2</th>\n",
       "      <td>2</td>\n",
       "      <td>0.943367</td>\n",
       "    </tr>\n",
       "    <tr>\n",
       "      <th>3</th>\n",
       "      <td>3</td>\n",
       "      <td>0.762479</td>\n",
       "    </tr>\n",
       "    <tr>\n",
       "      <th>4</th>\n",
       "      <td>4</td>\n",
       "      <td>0.893559</td>\n",
       "    </tr>\n",
       "  </tbody>\n",
       "</table>\n",
       "</div>"
      ],
      "text/plain": [
       "   a         b\n",
       "0  0  0.021700\n",
       "1  1  0.571916\n",
       "2  2  0.943367\n",
       "3  3  0.762479\n",
       "4  4  0.893559"
      ]
     },
     "execution_count": 16,
     "metadata": {},
     "output_type": "execute_result"
    }
   ],
   "source": [
    "df.head()"
   ]
  },
  {
   "cell_type": "code",
   "execution_count": 21,
   "id": "e9132d1e-dd04-442a-9168-b0c5b456ccf1",
   "metadata": {
    "tags": []
   },
   "outputs": [
    {
     "data": {
      "text/plain": [
       "0      0\n",
       "1      1\n",
       "2      2\n",
       "3      3\n",
       "4      4\n",
       "      ..\n",
       "95    95\n",
       "96    96\n",
       "97    97\n",
       "98    98\n",
       "99    99\n",
       "Name: a, Length: 100, dtype: int64"
      ]
     },
     "execution_count": 21,
     "metadata": {},
     "output_type": "execute_result"
    }
   ],
   "source": [
    "df[\"a\"]"
   ]
  },
  {
   "cell_type": "code",
   "execution_count": 36,
   "id": "d32db30d-d9c8-4482-be46-601de5bf4bcb",
   "metadata": {
    "tags": []
   },
   "outputs": [
    {
     "data": {
      "text/html": [
       "<div>\n",
       "<style scoped>\n",
       "    .dataframe tbody tr th:only-of-type {\n",
       "        vertical-align: middle;\n",
       "    }\n",
       "\n",
       "    .dataframe tbody tr th {\n",
       "        vertical-align: top;\n",
       "    }\n",
       "\n",
       "    .dataframe thead th {\n",
       "        text-align: right;\n",
       "    }\n",
       "</style>\n",
       "<table border=\"1\" class=\"dataframe\">\n",
       "  <thead>\n",
       "    <tr style=\"text-align: right;\">\n",
       "      <th></th>\n",
       "      <th>a</th>\n",
       "      <th>b</th>\n",
       "      <th>c</th>\n",
       "    </tr>\n",
       "  </thead>\n",
       "  <tbody>\n",
       "    <tr>\n",
       "      <th>0</th>\n",
       "      <td>0</td>\n",
       "      <td>0.021700</td>\n",
       "      <td>1.000000</td>\n",
       "    </tr>\n",
       "    <tr>\n",
       "      <th>1</th>\n",
       "      <td>1</td>\n",
       "      <td>0.571916</td>\n",
       "      <td>0.995004</td>\n",
       "    </tr>\n",
       "    <tr>\n",
       "      <th>2</th>\n",
       "      <td>2</td>\n",
       "      <td>0.943367</td>\n",
       "      <td>0.980067</td>\n",
       "    </tr>\n",
       "    <tr>\n",
       "      <th>3</th>\n",
       "      <td>3</td>\n",
       "      <td>0.762479</td>\n",
       "      <td>0.955336</td>\n",
       "    </tr>\n",
       "    <tr>\n",
       "      <th>4</th>\n",
       "      <td>4</td>\n",
       "      <td>0.893559</td>\n",
       "      <td>0.921061</td>\n",
       "    </tr>\n",
       "  </tbody>\n",
       "</table>\n",
       "</div>"
      ],
      "text/plain": [
       "   a         b         c\n",
       "0  0  0.021700  1.000000\n",
       "1  1  0.571916  0.995004\n",
       "2  2  0.943367  0.980067\n",
       "3  3  0.762479  0.955336\n",
       "4  4  0.893559  0.921061"
      ]
     },
     "execution_count": 36,
     "metadata": {},
     "output_type": "execute_result"
    }
   ],
   "source": [
    "df[\"c\"] = np.cos(df[\"a\"] / 10)\n",
    "df.head()"
   ]
  },
  {
   "cell_type": "code",
   "execution_count": 49,
   "id": "cb856973-841d-44ff-a3ba-92a4ec7fd3a5",
   "metadata": {
    "tags": []
   },
   "outputs": [
    {
     "data": {
      "text/html": [
       "<div>\n",
       "<style scoped>\n",
       "    .dataframe tbody tr th:only-of-type {\n",
       "        vertical-align: middle;\n",
       "    }\n",
       "\n",
       "    .dataframe tbody tr th {\n",
       "        vertical-align: top;\n",
       "    }\n",
       "\n",
       "    .dataframe thead th {\n",
       "        text-align: right;\n",
       "    }\n",
       "</style>\n",
       "<table border=\"1\" class=\"dataframe\">\n",
       "  <thead>\n",
       "    <tr style=\"text-align: right;\">\n",
       "      <th></th>\n",
       "      <th>a</th>\n",
       "      <th>b</th>\n",
       "      <th>c</th>\n",
       "    </tr>\n",
       "  </thead>\n",
       "  <tbody>\n",
       "    <tr>\n",
       "      <th>0</th>\n",
       "      <td>0</td>\n",
       "      <td>0.021700</td>\n",
       "      <td>1.000000</td>\n",
       "    </tr>\n",
       "    <tr>\n",
       "      <th>1</th>\n",
       "      <td>1</td>\n",
       "      <td>0.571916</td>\n",
       "      <td>0.995004</td>\n",
       "    </tr>\n",
       "    <tr>\n",
       "      <th>2</th>\n",
       "      <td>2</td>\n",
       "      <td>0.943367</td>\n",
       "      <td>0.980067</td>\n",
       "    </tr>\n",
       "    <tr>\n",
       "      <th>3</th>\n",
       "      <td>3</td>\n",
       "      <td>0.762479</td>\n",
       "      <td>0.955336</td>\n",
       "    </tr>\n",
       "    <tr>\n",
       "      <th>4</th>\n",
       "      <td>4</td>\n",
       "      <td>0.893559</td>\n",
       "      <td>0.921061</td>\n",
       "    </tr>\n",
       "    <tr>\n",
       "      <th>5</th>\n",
       "      <td>5</td>\n",
       "      <td>0.280620</td>\n",
       "      <td>0.877583</td>\n",
       "    </tr>\n",
       "    <tr>\n",
       "      <th>6</th>\n",
       "      <td>6</td>\n",
       "      <td>0.074905</td>\n",
       "      <td>0.825336</td>\n",
       "    </tr>\n",
       "    <tr>\n",
       "      <th>7</th>\n",
       "      <td>7</td>\n",
       "      <td>0.006715</td>\n",
       "      <td>0.764842</td>\n",
       "    </tr>\n",
       "    <tr>\n",
       "      <th>8</th>\n",
       "      <td>8</td>\n",
       "      <td>0.546949</td>\n",
       "      <td>0.696707</td>\n",
       "    </tr>\n",
       "    <tr>\n",
       "      <th>9</th>\n",
       "      <td>9</td>\n",
       "      <td>0.784740</td>\n",
       "      <td>0.621610</td>\n",
       "    </tr>\n",
       "    <tr>\n",
       "      <th>10</th>\n",
       "      <td>10</td>\n",
       "      <td>0.735269</td>\n",
       "      <td>0.540302</td>\n",
       "    </tr>\n",
       "    <tr>\n",
       "      <th>53</th>\n",
       "      <td>53</td>\n",
       "      <td>0.178331</td>\n",
       "      <td>0.554374</td>\n",
       "    </tr>\n",
       "    <tr>\n",
       "      <th>54</th>\n",
       "      <td>54</td>\n",
       "      <td>0.970279</td>\n",
       "      <td>0.634693</td>\n",
       "    </tr>\n",
       "    <tr>\n",
       "      <th>55</th>\n",
       "      <td>55</td>\n",
       "      <td>0.555380</td>\n",
       "      <td>0.708670</td>\n",
       "    </tr>\n",
       "    <tr>\n",
       "      <th>56</th>\n",
       "      <td>56</td>\n",
       "      <td>0.849476</td>\n",
       "      <td>0.775566</td>\n",
       "    </tr>\n",
       "    <tr>\n",
       "      <th>57</th>\n",
       "      <td>57</td>\n",
       "      <td>0.069965</td>\n",
       "      <td>0.834713</td>\n",
       "    </tr>\n",
       "    <tr>\n",
       "      <th>58</th>\n",
       "      <td>58</td>\n",
       "      <td>0.519418</td>\n",
       "      <td>0.885520</td>\n",
       "    </tr>\n",
       "    <tr>\n",
       "      <th>59</th>\n",
       "      <td>59</td>\n",
       "      <td>0.824816</td>\n",
       "      <td>0.927478</td>\n",
       "    </tr>\n",
       "    <tr>\n",
       "      <th>60</th>\n",
       "      <td>60</td>\n",
       "      <td>0.352184</td>\n",
       "      <td>0.960170</td>\n",
       "    </tr>\n",
       "    <tr>\n",
       "      <th>61</th>\n",
       "      <td>61</td>\n",
       "      <td>0.329233</td>\n",
       "      <td>0.983268</td>\n",
       "    </tr>\n",
       "    <tr>\n",
       "      <th>62</th>\n",
       "      <td>62</td>\n",
       "      <td>0.897445</td>\n",
       "      <td>0.996542</td>\n",
       "    </tr>\n",
       "    <tr>\n",
       "      <th>63</th>\n",
       "      <td>63</td>\n",
       "      <td>0.476213</td>\n",
       "      <td>0.999859</td>\n",
       "    </tr>\n",
       "    <tr>\n",
       "      <th>64</th>\n",
       "      <td>64</td>\n",
       "      <td>0.602563</td>\n",
       "      <td>0.993185</td>\n",
       "    </tr>\n",
       "    <tr>\n",
       "      <th>65</th>\n",
       "      <td>65</td>\n",
       "      <td>0.285894</td>\n",
       "      <td>0.976588</td>\n",
       "    </tr>\n",
       "    <tr>\n",
       "      <th>66</th>\n",
       "      <td>66</td>\n",
       "      <td>0.914200</td>\n",
       "      <td>0.950233</td>\n",
       "    </tr>\n",
       "    <tr>\n",
       "      <th>67</th>\n",
       "      <td>67</td>\n",
       "      <td>0.507988</td>\n",
       "      <td>0.914383</td>\n",
       "    </tr>\n",
       "    <tr>\n",
       "      <th>68</th>\n",
       "      <td>68</td>\n",
       "      <td>0.841618</td>\n",
       "      <td>0.869397</td>\n",
       "    </tr>\n",
       "    <tr>\n",
       "      <th>69</th>\n",
       "      <td>69</td>\n",
       "      <td>0.361295</td>\n",
       "      <td>0.815725</td>\n",
       "    </tr>\n",
       "    <tr>\n",
       "      <th>70</th>\n",
       "      <td>70</td>\n",
       "      <td>0.805875</td>\n",
       "      <td>0.753902</td>\n",
       "    </tr>\n",
       "    <tr>\n",
       "      <th>71</th>\n",
       "      <td>71</td>\n",
       "      <td>0.430637</td>\n",
       "      <td>0.684547</td>\n",
       "    </tr>\n",
       "    <tr>\n",
       "      <th>72</th>\n",
       "      <td>72</td>\n",
       "      <td>0.295865</td>\n",
       "      <td>0.608351</td>\n",
       "    </tr>\n",
       "    <tr>\n",
       "      <th>73</th>\n",
       "      <td>73</td>\n",
       "      <td>0.525168</td>\n",
       "      <td>0.526078</td>\n",
       "    </tr>\n",
       "  </tbody>\n",
       "</table>\n",
       "</div>"
      ],
      "text/plain": [
       "     a         b         c\n",
       "0    0  0.021700  1.000000\n",
       "1    1  0.571916  0.995004\n",
       "2    2  0.943367  0.980067\n",
       "3    3  0.762479  0.955336\n",
       "4    4  0.893559  0.921061\n",
       "5    5  0.280620  0.877583\n",
       "6    6  0.074905  0.825336\n",
       "7    7  0.006715  0.764842\n",
       "8    8  0.546949  0.696707\n",
       "9    9  0.784740  0.621610\n",
       "10  10  0.735269  0.540302\n",
       "53  53  0.178331  0.554374\n",
       "54  54  0.970279  0.634693\n",
       "55  55  0.555380  0.708670\n",
       "56  56  0.849476  0.775566\n",
       "57  57  0.069965  0.834713\n",
       "58  58  0.519418  0.885520\n",
       "59  59  0.824816  0.927478\n",
       "60  60  0.352184  0.960170\n",
       "61  61  0.329233  0.983268\n",
       "62  62  0.897445  0.996542\n",
       "63  63  0.476213  0.999859\n",
       "64  64  0.602563  0.993185\n",
       "65  65  0.285894  0.976588\n",
       "66  66  0.914200  0.950233\n",
       "67  67  0.507988  0.914383\n",
       "68  68  0.841618  0.869397\n",
       "69  69  0.361295  0.815725\n",
       "70  70  0.805875  0.753902\n",
       "71  71  0.430637  0.684547\n",
       "72  72  0.295865  0.608351\n",
       "73  73  0.525168  0.526078"
      ]
     },
     "execution_count": 49,
     "metadata": {},
     "output_type": "execute_result"
    }
   ],
   "source": [
    "masked = df[df[\"c\"] > 0.5]\n",
    "masked"
   ]
  },
  {
   "cell_type": "markdown",
   "id": "3528e600-d557-4650-86ec-1c81a4b8f46b",
   "metadata": {},
   "source": [
    "## Pandas is good at data manipluation, filtering, and basic stats"
   ]
  },
  {
   "cell_type": "code",
   "execution_count": 18,
   "id": "f1aeb70e-db89-4624-9e40-6ebf8b844e1f",
   "metadata": {
    "tags": []
   },
   "outputs": [
    {
     "data": {
      "text/plain": [
       "a    4950.000000\n",
       "b      47.632534\n",
       "dtype: float64"
      ]
     },
     "execution_count": 18,
     "metadata": {},
     "output_type": "execute_result"
    }
   ],
   "source": [
    "df.sum()"
   ]
  },
  {
   "cell_type": "code",
   "execution_count": 17,
   "id": "2ba0948a-6196-4056-a1f9-6ce645ccf591",
   "metadata": {
    "tags": []
   },
   "outputs": [
    {
     "data": {
      "text/html": [
       "<div>\n",
       "<style scoped>\n",
       "    .dataframe tbody tr th:only-of-type {\n",
       "        vertical-align: middle;\n",
       "    }\n",
       "\n",
       "    .dataframe tbody tr th {\n",
       "        vertical-align: top;\n",
       "    }\n",
       "\n",
       "    .dataframe thead th {\n",
       "        text-align: right;\n",
       "    }\n",
       "</style>\n",
       "<table border=\"1\" class=\"dataframe\">\n",
       "  <thead>\n",
       "    <tr style=\"text-align: right;\">\n",
       "      <th></th>\n",
       "      <th>a</th>\n",
       "      <th>b</th>\n",
       "    </tr>\n",
       "  </thead>\n",
       "  <tbody>\n",
       "    <tr>\n",
       "      <th>count</th>\n",
       "      <td>100.000000</td>\n",
       "      <td>100.000000</td>\n",
       "    </tr>\n",
       "    <tr>\n",
       "      <th>mean</th>\n",
       "      <td>49.500000</td>\n",
       "      <td>0.476325</td>\n",
       "    </tr>\n",
       "    <tr>\n",
       "      <th>std</th>\n",
       "      <td>29.011492</td>\n",
       "      <td>0.294647</td>\n",
       "    </tr>\n",
       "    <tr>\n",
       "      <th>min</th>\n",
       "      <td>0.000000</td>\n",
       "      <td>0.006715</td>\n",
       "    </tr>\n",
       "    <tr>\n",
       "      <th>25%</th>\n",
       "      <td>24.750000</td>\n",
       "      <td>0.228288</td>\n",
       "    </tr>\n",
       "    <tr>\n",
       "      <th>50%</th>\n",
       "      <td>49.500000</td>\n",
       "      <td>0.470454</td>\n",
       "    </tr>\n",
       "    <tr>\n",
       "      <th>75%</th>\n",
       "      <td>74.250000</td>\n",
       "      <td>0.760325</td>\n",
       "    </tr>\n",
       "    <tr>\n",
       "      <th>max</th>\n",
       "      <td>99.000000</td>\n",
       "      <td>0.988750</td>\n",
       "    </tr>\n",
       "  </tbody>\n",
       "</table>\n",
       "</div>"
      ],
      "text/plain": [
       "                a           b\n",
       "count  100.000000  100.000000\n",
       "mean    49.500000    0.476325\n",
       "std     29.011492    0.294647\n",
       "min      0.000000    0.006715\n",
       "25%     24.750000    0.228288\n",
       "50%     49.500000    0.470454\n",
       "75%     74.250000    0.760325\n",
       "max     99.000000    0.988750"
      ]
     },
     "execution_count": 17,
     "metadata": {},
     "output_type": "execute_result"
    }
   ],
   "source": [
    "df.describe()"
   ]
  },
  {
   "cell_type": "code",
   "execution_count": 42,
   "id": "20891bef-8399-4fa9-a311-e36caec23f68",
   "metadata": {
    "tags": []
   },
   "outputs": [
    {
     "data": {
      "text/plain": [
       "array([ 1,  1,  1,  1,  1,  1,  1,  1,  1,  1,  2,  2,  2,  2,  2,  2,  2,\n",
       "        2,  2,  2,  3,  3,  3,  3,  3,  3,  3,  3,  3,  3,  4,  4,  4,  4,\n",
       "        4,  4,  4,  4,  4,  4,  5,  5,  5,  5,  5,  5,  5,  5,  5,  5,  6,\n",
       "        6,  6,  6,  6,  6,  6,  6,  6,  6,  7,  7,  7,  7,  7,  7,  7,  7,\n",
       "        7,  7,  8,  8,  8,  8,  8,  8,  8,  8,  8,  8,  9,  9,  9,  9,  9,\n",
       "        9,  9,  9,  9,  9, 10, 10, 10, 10, 10, 10, 10, 10, 10, 10])"
      ]
     },
     "execution_count": 42,
     "metadata": {},
     "output_type": "execute_result"
    }
   ],
   "source": [
    "binned = np.digitize(df[\"a\"], bins=np.arange(0, 100, 10))\n",
    "binned"
   ]
  },
  {
   "cell_type": "code",
   "execution_count": 43,
   "id": "8a622fd4-41ac-4cc5-a581-ff55ef384850",
   "metadata": {
    "tags": []
   },
   "outputs": [
    {
     "data": {
      "text/html": [
       "<div>\n",
       "<style scoped>\n",
       "    .dataframe tbody tr th:only-of-type {\n",
       "        vertical-align: middle;\n",
       "    }\n",
       "\n",
       "    .dataframe tbody tr th {\n",
       "        vertical-align: top;\n",
       "    }\n",
       "\n",
       "    .dataframe thead th {\n",
       "        text-align: right;\n",
       "    }\n",
       "</style>\n",
       "<table border=\"1\" class=\"dataframe\">\n",
       "  <thead>\n",
       "    <tr style=\"text-align: right;\">\n",
       "      <th></th>\n",
       "      <th>a</th>\n",
       "      <th>b</th>\n",
       "      <th>c</th>\n",
       "    </tr>\n",
       "  </thead>\n",
       "  <tbody>\n",
       "    <tr>\n",
       "      <th>1</th>\n",
       "      <td>4.5</td>\n",
       "      <td>0.488695</td>\n",
       "      <td>0.863755</td>\n",
       "    </tr>\n",
       "    <tr>\n",
       "      <th>2</th>\n",
       "      <td>14.5</td>\n",
       "      <td>0.471454</td>\n",
       "      <td>0.115592</td>\n",
       "    </tr>\n",
       "    <tr>\n",
       "      <th>3</th>\n",
       "      <td>24.5</td>\n",
       "      <td>0.426544</td>\n",
       "      <td>-0.738845</td>\n",
       "    </tr>\n",
       "    <tr>\n",
       "      <th>4</th>\n",
       "      <td>34.5</td>\n",
       "      <td>0.365475</td>\n",
       "      <td>-0.913992</td>\n",
       "    </tr>\n",
       "    <tr>\n",
       "      <th>5</th>\n",
       "      <td>44.5</td>\n",
       "      <td>0.411681</td>\n",
       "      <td>-0.248819</td>\n",
       "    </tr>\n",
       "    <tr>\n",
       "      <th>6</th>\n",
       "      <td>54.5</td>\n",
       "      <td>0.530656</td>\n",
       "      <td>0.645117</td>\n",
       "    </tr>\n",
       "    <tr>\n",
       "      <th>7</th>\n",
       "      <td>64.5</td>\n",
       "      <td>0.556863</td>\n",
       "      <td>0.945935</td>\n",
       "    </tr>\n",
       "    <tr>\n",
       "      <th>8</th>\n",
       "      <td>74.5</td>\n",
       "      <td>0.575423</td>\n",
       "      <td>0.377065</td>\n",
       "    </tr>\n",
       "    <tr>\n",
       "      <th>9</th>\n",
       "      <td>84.5</td>\n",
       "      <td>0.464790</td>\n",
       "      <td>-0.538477</td>\n",
       "    </tr>\n",
       "    <tr>\n",
       "      <th>10</th>\n",
       "      <td>94.5</td>\n",
       "      <td>0.471672</td>\n",
       "      <td>-0.958946</td>\n",
       "    </tr>\n",
       "  </tbody>\n",
       "</table>\n",
       "</div>"
      ],
      "text/plain": [
       "       a         b         c\n",
       "1    4.5  0.488695  0.863755\n",
       "2   14.5  0.471454  0.115592\n",
       "3   24.5  0.426544 -0.738845\n",
       "4   34.5  0.365475 -0.913992\n",
       "5   44.5  0.411681 -0.248819\n",
       "6   54.5  0.530656  0.645117\n",
       "7   64.5  0.556863  0.945935\n",
       "8   74.5  0.575423  0.377065\n",
       "9   84.5  0.464790 -0.538477\n",
       "10  94.5  0.471672 -0.958946"
      ]
     },
     "execution_count": 43,
     "metadata": {},
     "output_type": "execute_result"
    }
   ],
   "source": [
    "avg_per_bin = df.groupby(binned).mean()\n",
    "avg_per_bin"
   ]
  },
  {
   "cell_type": "code",
   "execution_count": 51,
   "id": "ed27da9e-fda0-4aee-9afb-2e63a88cbd48",
   "metadata": {
    "tags": []
   },
   "outputs": [
    {
     "data": {
      "text/plain": [
       "<matplotlib.legend.Legend at 0x7ff75150ffd0>"
      ]
     },
     "execution_count": 51,
     "metadata": {},
     "output_type": "execute_result"
    },
    {
     "data": {
      "image/png": "[encoded data removed]",
      "text/plain": [
       "<Figure size 640x480 with 1 Axes>"
      ]
     },
     "metadata": {},
     "output_type": "display_data"
    }
   ],
   "source": [
    "%matplotlib inline\n",
    "\n",
    "import matplotlib.pyplot as plt\n",
    "fig, ax = plt.subplots()\n",
    "ax.plot(df[\"a\"], df[\"c\"], label=\"df\")\n",
    "ax.plot(masked[\"a\"], masked[\"c\"], label=\"masked\", marker=\"x\", linestyle=\"none\")\n",
    "ax.plot(avg_per_bin[\"a\"], avg_per_bin[\"c\"], label=\"avg_per_bin\")\n",
    "ax.legend()"
   ]
  },
  {
   "cell_type": "markdown",
   "id": "793e649f-6e43-46c5-bb90-94c266158b62",
   "metadata": {},
   "source": [
    "## Reshaping"
   ]
  },
  {
   "cell_type": "code",
   "execution_count": 81,
   "id": "3dd64e53-7cb4-40ee-8c06-47df245d4a0a",
   "metadata": {
    "tags": []
   },
   "outputs": [
    {
     "data": {
      "text/html": [
       "<div>\n",
       "<style scoped>\n",
       "    .dataframe tbody tr th:only-of-type {\n",
       "        vertical-align: middle;\n",
       "    }\n",
       "\n",
       "    .dataframe tbody tr th {\n",
       "        vertical-align: top;\n",
       "    }\n",
       "\n",
       "    .dataframe thead th {\n",
       "        text-align: right;\n",
       "    }\n",
       "</style>\n",
       "<table border=\"1\" class=\"dataframe\">\n",
       "  <thead>\n",
       "    <tr style=\"text-align: right;\">\n",
       "      <th></th>\n",
       "      <th>sample</th>\n",
       "      <th>temp</th>\n",
       "      <th>operator</th>\n",
       "      <th>measurement</th>\n",
       "    </tr>\n",
       "  </thead>\n",
       "  <tbody>\n",
       "    <tr>\n",
       "      <th>0</th>\n",
       "      <td>Ni</td>\n",
       "      <td>273</td>\n",
       "      <td>Jane</td>\n",
       "      <td>10</td>\n",
       "    </tr>\n",
       "    <tr>\n",
       "      <th>1</th>\n",
       "      <td>Ni</td>\n",
       "      <td>253</td>\n",
       "      <td>Jane</td>\n",
       "      <td>11</td>\n",
       "    </tr>\n",
       "    <tr>\n",
       "      <th>2</th>\n",
       "      <td>Au</td>\n",
       "      <td>272</td>\n",
       "      <td>Jane</td>\n",
       "      <td>10</td>\n",
       "    </tr>\n",
       "    <tr>\n",
       "      <th>3</th>\n",
       "      <td>Au</td>\n",
       "      <td>251</td>\n",
       "      <td>Jane</td>\n",
       "      <td>9</td>\n",
       "    </tr>\n",
       "    <tr>\n",
       "      <th>4</th>\n",
       "      <td>Ag</td>\n",
       "      <td>275</td>\n",
       "      <td>Joe</td>\n",
       "      <td>11</td>\n",
       "    </tr>\n",
       "    <tr>\n",
       "      <th>5</th>\n",
       "      <td>Ag</td>\n",
       "      <td>250</td>\n",
       "      <td>Joe</td>\n",
       "      <td>9</td>\n",
       "    </tr>\n",
       "    <tr>\n",
       "      <th>6</th>\n",
       "      <td>Ag</td>\n",
       "      <td>273</td>\n",
       "      <td>Joe</td>\n",
       "      <td>10</td>\n",
       "    </tr>\n",
       "    <tr>\n",
       "      <th>7</th>\n",
       "      <td>Fe</td>\n",
       "      <td>271</td>\n",
       "      <td>Chris</td>\n",
       "      <td>13</td>\n",
       "    </tr>\n",
       "    <tr>\n",
       "      <th>8</th>\n",
       "      <td>Fe</td>\n",
       "      <td>253</td>\n",
       "      <td>Chris</td>\n",
       "      <td>11</td>\n",
       "    </tr>\n",
       "  </tbody>\n",
       "</table>\n",
       "</div>"
      ],
      "text/plain": [
       "  sample  temp operator  measurement\n",
       "0     Ni   273     Jane           10\n",
       "1     Ni   253     Jane           11\n",
       "2     Au   272     Jane           10\n",
       "3     Au   251     Jane            9\n",
       "4     Ag   275      Joe           11\n",
       "5     Ag   250      Joe            9\n",
       "6     Ag   273      Joe           10\n",
       "7     Fe   271    Chris           13\n",
       "8     Fe   253    Chris           11"
      ]
     },
     "execution_count": 81,
     "metadata": {},
     "output_type": "execute_result"
    }
   ],
   "source": [
    "experiments = pd.DataFrame(\n",
    "    {\n",
    "        \"sample\": [\"Ni\", \"Ni\", \"Au\", \"Au\", \"Ag\", \"Ag\", \"Ag\", \"Fe\", \"Fe\"],\n",
    "        \"temp\": [273, 253, 272, 251, 275, 250, 273, 271, 253],\n",
    "        \"operator\": [\"Jane\", \"Jane\", \"Jane\", \"Jane\", \"Joe\", \"Joe\", \"Joe\", \"Chris\", \"Chris\"],\n",
    "        \"measurement\": [10, 11, 10, 9, 11, 9, 10, 13, 11],\n",
    "    }\n",
    ")\n",
    "experiments"
   ]
  },
  {
   "cell_type": "code",
   "execution_count": 83,
   "id": "6e60ba16-e485-413a-9d6a-d3553405c109",
   "metadata": {
    "tags": []
   },
   "outputs": [
    {
     "data": {
      "text/html": [
       "<div>\n",
       "<style scoped>\n",
       "    .dataframe tbody tr th:only-of-type {\n",
       "        vertical-align: middle;\n",
       "    }\n",
       "\n",
       "    .dataframe tbody tr th {\n",
       "        vertical-align: top;\n",
       "    }\n",
       "\n",
       "    .dataframe thead tr th {\n",
       "        text-align: left;\n",
       "    }\n",
       "\n",
       "    .dataframe thead tr:last-of-type th {\n",
       "        text-align: right;\n",
       "    }\n",
       "</style>\n",
       "<table border=\"1\" class=\"dataframe\">\n",
       "  <thead>\n",
       "    <tr>\n",
       "      <th></th>\n",
       "      <th></th>\n",
       "      <th colspan=\"3\" halign=\"left\">measurement</th>\n",
       "    </tr>\n",
       "    <tr>\n",
       "      <th></th>\n",
       "      <th>operator</th>\n",
       "      <th>Chris</th>\n",
       "      <th>Jane</th>\n",
       "      <th>Joe</th>\n",
       "    </tr>\n",
       "    <tr>\n",
       "      <th>sample</th>\n",
       "      <th>temp</th>\n",
       "      <th></th>\n",
       "      <th></th>\n",
       "      <th></th>\n",
       "    </tr>\n",
       "  </thead>\n",
       "  <tbody>\n",
       "    <tr>\n",
       "      <th rowspan=\"3\" valign=\"top\">Ag</th>\n",
       "      <th>250</th>\n",
       "      <td>NaN</td>\n",
       "      <td>NaN</td>\n",
       "      <td>9.0</td>\n",
       "    </tr>\n",
       "    <tr>\n",
       "      <th>273</th>\n",
       "      <td>NaN</td>\n",
       "      <td>NaN</td>\n",
       "      <td>10.0</td>\n",
       "    </tr>\n",
       "    <tr>\n",
       "      <th>275</th>\n",
       "      <td>NaN</td>\n",
       "      <td>NaN</td>\n",
       "      <td>11.0</td>\n",
       "    </tr>\n",
       "    <tr>\n",
       "      <th rowspan=\"2\" valign=\"top\">Au</th>\n",
       "      <th>251</th>\n",
       "      <td>NaN</td>\n",
       "      <td>9.0</td>\n",
       "      <td>NaN</td>\n",
       "    </tr>\n",
       "    <tr>\n",
       "      <th>272</th>\n",
       "      <td>NaN</td>\n",
       "      <td>10.0</td>\n",
       "      <td>NaN</td>\n",
       "    </tr>\n",
       "    <tr>\n",
       "      <th rowspan=\"2\" valign=\"top\">Fe</th>\n",
       "      <th>253</th>\n",
       "      <td>11.0</td>\n",
       "      <td>NaN</td>\n",
       "      <td>NaN</td>\n",
       "    </tr>\n",
       "    <tr>\n",
       "      <th>271</th>\n",
       "      <td>13.0</td>\n",
       "      <td>NaN</td>\n",
       "      <td>NaN</td>\n",
       "    </tr>\n",
       "    <tr>\n",
       "      <th rowspan=\"2\" valign=\"top\">Ni</th>\n",
       "      <th>253</th>\n",
       "      <td>NaN</td>\n",
       "      <td>11.0</td>\n",
       "      <td>NaN</td>\n",
       "    </tr>\n",
       "    <tr>\n",
       "      <th>273</th>\n",
       "      <td>NaN</td>\n",
       "      <td>10.0</td>\n",
       "      <td>NaN</td>\n",
       "    </tr>\n",
       "  </tbody>\n",
       "</table>\n",
       "</div>"
      ],
      "text/plain": [
       "            measurement            \n",
       "operator          Chris  Jane   Joe\n",
       "sample temp                        \n",
       "Ag     250          NaN   NaN   9.0\n",
       "       273          NaN   NaN  10.0\n",
       "       275          NaN   NaN  11.0\n",
       "Au     251          NaN   9.0   NaN\n",
       "       272          NaN  10.0   NaN\n",
       "Fe     253         11.0   NaN   NaN\n",
       "       271         13.0   NaN   NaN\n",
       "Ni     253          NaN  11.0   NaN\n",
       "       273          NaN  10.0   NaN"
      ]
     },
     "execution_count": 83,
     "metadata": {},
     "output_type": "execute_result"
    }
   ],
   "source": [
    "pivoted = pd.pivot_table(experiments, index=[\"sample\", \"temp\"], columns=[\"operator\"])\n",
    "pivoted"
   ]
  },
  {
   "cell_type": "code",
   "execution_count": 84,
   "id": "9d53063b-fb8a-4e05-a6a4-e527c1962d54",
   "metadata": {
    "tags": []
   },
   "outputs": [
    {
     "data": {
      "text/html": [
       "<div>\n",
       "<style scoped>\n",
       "    .dataframe tbody tr th:only-of-type {\n",
       "        vertical-align: middle;\n",
       "    }\n",
       "\n",
       "    .dataframe tbody tr th {\n",
       "        vertical-align: top;\n",
       "    }\n",
       "\n",
       "    .dataframe thead th {\n",
       "        text-align: right;\n",
       "    }\n",
       "</style>\n",
       "<table border=\"1\" class=\"dataframe\">\n",
       "  <thead>\n",
       "    <tr style=\"text-align: right;\">\n",
       "      <th></th>\n",
       "      <th></th>\n",
       "      <th></th>\n",
       "      <th>measurement</th>\n",
       "    </tr>\n",
       "    <tr>\n",
       "      <th>sample</th>\n",
       "      <th>temp</th>\n",
       "      <th>operator</th>\n",
       "      <th></th>\n",
       "    </tr>\n",
       "  </thead>\n",
       "  <tbody>\n",
       "    <tr>\n",
       "      <th rowspan=\"3\" valign=\"top\">Ag</th>\n",
       "      <th>250</th>\n",
       "      <th>Joe</th>\n",
       "      <td>9.0</td>\n",
       "    </tr>\n",
       "    <tr>\n",
       "      <th>273</th>\n",
       "      <th>Joe</th>\n",
       "      <td>10.0</td>\n",
       "    </tr>\n",
       "    <tr>\n",
       "      <th>275</th>\n",
       "      <th>Joe</th>\n",
       "      <td>11.0</td>\n",
       "    </tr>\n",
       "    <tr>\n",
       "      <th rowspan=\"2\" valign=\"top\">Au</th>\n",
       "      <th>251</th>\n",
       "      <th>Jane</th>\n",
       "      <td>9.0</td>\n",
       "    </tr>\n",
       "    <tr>\n",
       "      <th>272</th>\n",
       "      <th>Jane</th>\n",
       "      <td>10.0</td>\n",
       "    </tr>\n",
       "    <tr>\n",
       "      <th rowspan=\"2\" valign=\"top\">Fe</th>\n",
       "      <th>253</th>\n",
       "      <th>Chris</th>\n",
       "      <td>11.0</td>\n",
       "    </tr>\n",
       "    <tr>\n",
       "      <th>271</th>\n",
       "      <th>Chris</th>\n",
       "      <td>13.0</td>\n",
       "    </tr>\n",
       "    <tr>\n",
       "      <th rowspan=\"2\" valign=\"top\">Ni</th>\n",
       "      <th>253</th>\n",
       "      <th>Jane</th>\n",
       "      <td>11.0</td>\n",
       "    </tr>\n",
       "    <tr>\n",
       "      <th>273</th>\n",
       "      <th>Jane</th>\n",
       "      <td>10.0</td>\n",
       "    </tr>\n",
       "  </tbody>\n",
       "</table>\n",
       "</div>"
      ],
      "text/plain": [
       "                      measurement\n",
       "sample temp operator             \n",
       "Ag     250  Joe               9.0\n",
       "       273  Joe              10.0\n",
       "       275  Joe              11.0\n",
       "Au     251  Jane              9.0\n",
       "       272  Jane             10.0\n",
       "Fe     253  Chris            11.0\n",
       "       271  Chris            13.0\n",
       "Ni     253  Jane             11.0\n",
       "       273  Jane             10.0"
      ]
     },
     "execution_count": 84,
     "metadata": {},
     "output_type": "execute_result"
    }
   ],
   "source": [
    "pivoted.stack()"
   ]
  },
  {
   "cell_type": "code",
   "execution_count": 85,
   "id": "2adba235-44f1-4906-850c-93529769fbde",
   "metadata": {
    "tags": []
   },
   "outputs": [
    {
     "data": {
      "text/html": [
       "<div>\n",
       "<style scoped>\n",
       "    .dataframe tbody tr th:only-of-type {\n",
       "        vertical-align: middle;\n",
       "    }\n",
       "\n",
       "    .dataframe tbody tr th {\n",
       "        vertical-align: top;\n",
       "    }\n",
       "\n",
       "    .dataframe thead tr th {\n",
       "        text-align: left;\n",
       "    }\n",
       "\n",
       "    .dataframe thead tr:last-of-type th {\n",
       "        text-align: right;\n",
       "    }\n",
       "</style>\n",
       "<table border=\"1\" class=\"dataframe\">\n",
       "  <thead>\n",
       "    <tr>\n",
       "      <th></th>\n",
       "      <th colspan=\"21\" halign=\"left\">measurement</th>\n",
       "    </tr>\n",
       "    <tr>\n",
       "      <th>operator</th>\n",
       "      <th colspan=\"7\" halign=\"left\">Chris</th>\n",
       "      <th colspan=\"7\" halign=\"left\">Jane</th>\n",
       "      <th colspan=\"7\" halign=\"left\">Joe</th>\n",
       "    </tr>\n",
       "    <tr>\n",
       "      <th>temp</th>\n",
       "      <th>250</th>\n",
       "      <th>251</th>\n",
       "      <th>253</th>\n",
       "      <th>271</th>\n",
       "      <th>272</th>\n",
       "      <th>273</th>\n",
       "      <th>275</th>\n",
       "      <th>250</th>\n",
       "      <th>251</th>\n",
       "      <th>253</th>\n",
       "      <th>...</th>\n",
       "      <th>272</th>\n",
       "      <th>273</th>\n",
       "      <th>275</th>\n",
       "      <th>250</th>\n",
       "      <th>251</th>\n",
       "      <th>253</th>\n",
       "      <th>271</th>\n",
       "      <th>272</th>\n",
       "      <th>273</th>\n",
       "      <th>275</th>\n",
       "    </tr>\n",
       "    <tr>\n",
       "      <th>sample</th>\n",
       "      <th></th>\n",
       "      <th></th>\n",
       "      <th></th>\n",
       "      <th></th>\n",
       "      <th></th>\n",
       "      <th></th>\n",
       "      <th></th>\n",
       "      <th></th>\n",
       "      <th></th>\n",
       "      <th></th>\n",
       "      <th></th>\n",
       "      <th></th>\n",
       "      <th></th>\n",
       "      <th></th>\n",
       "      <th></th>\n",
       "      <th></th>\n",
       "      <th></th>\n",
       "      <th></th>\n",
       "      <th></th>\n",
       "      <th></th>\n",
       "      <th></th>\n",
       "    </tr>\n",
       "  </thead>\n",
       "  <tbody>\n",
       "    <tr>\n",
       "      <th>Ag</th>\n",
       "      <td>NaN</td>\n",
       "      <td>NaN</td>\n",
       "      <td>NaN</td>\n",
       "      <td>NaN</td>\n",
       "      <td>NaN</td>\n",
       "      <td>NaN</td>\n",
       "      <td>NaN</td>\n",
       "      <td>NaN</td>\n",
       "      <td>NaN</td>\n",
       "      <td>NaN</td>\n",
       "      <td>...</td>\n",
       "      <td>NaN</td>\n",
       "      <td>NaN</td>\n",
       "      <td>NaN</td>\n",
       "      <td>9.0</td>\n",
       "      <td>NaN</td>\n",
       "      <td>NaN</td>\n",
       "      <td>NaN</td>\n",
       "      <td>NaN</td>\n",
       "      <td>10.0</td>\n",
       "      <td>11.0</td>\n",
       "    </tr>\n",
       "    <tr>\n",
       "      <th>Au</th>\n",
       "      <td>NaN</td>\n",
       "      <td>NaN</td>\n",
       "      <td>NaN</td>\n",
       "      <td>NaN</td>\n",
       "      <td>NaN</td>\n",
       "      <td>NaN</td>\n",
       "      <td>NaN</td>\n",
       "      <td>NaN</td>\n",
       "      <td>9.0</td>\n",
       "      <td>NaN</td>\n",
       "      <td>...</td>\n",
       "      <td>10.0</td>\n",
       "      <td>NaN</td>\n",
       "      <td>NaN</td>\n",
       "      <td>NaN</td>\n",
       "      <td>NaN</td>\n",
       "      <td>NaN</td>\n",
       "      <td>NaN</td>\n",
       "      <td>NaN</td>\n",
       "      <td>NaN</td>\n",
       "      <td>NaN</td>\n",
       "    </tr>\n",
       "    <tr>\n",
       "      <th>Fe</th>\n",
       "      <td>NaN</td>\n",
       "      <td>NaN</td>\n",
       "      <td>11.0</td>\n",
       "      <td>13.0</td>\n",
       "      <td>NaN</td>\n",
       "      <td>NaN</td>\n",
       "      <td>NaN</td>\n",
       "      <td>NaN</td>\n",
       "      <td>NaN</td>\n",
       "      <td>NaN</td>\n",
       "      <td>...</td>\n",
       "      <td>NaN</td>\n",
       "      <td>NaN</td>\n",
       "      <td>NaN</td>\n",
       "      <td>NaN</td>\n",
       "      <td>NaN</td>\n",
       "      <td>NaN</td>\n",
       "      <td>NaN</td>\n",
       "      <td>NaN</td>\n",
       "      <td>NaN</td>\n",
       "      <td>NaN</td>\n",
       "    </tr>\n",
       "    <tr>\n",
       "      <th>Ni</th>\n",
       "      <td>NaN</td>\n",
       "      <td>NaN</td>\n",
       "      <td>NaN</td>\n",
       "      <td>NaN</td>\n",
       "      <td>NaN</td>\n",
       "      <td>NaN</td>\n",
       "      <td>NaN</td>\n",
       "      <td>NaN</td>\n",
       "      <td>NaN</td>\n",
       "      <td>11.0</td>\n",
       "      <td>...</td>\n",
       "      <td>NaN</td>\n",
       "      <td>10.0</td>\n",
       "      <td>NaN</td>\n",
       "      <td>NaN</td>\n",
       "      <td>NaN</td>\n",
       "      <td>NaN</td>\n",
       "      <td>NaN</td>\n",
       "      <td>NaN</td>\n",
       "      <td>NaN</td>\n",
       "      <td>NaN</td>\n",
       "    </tr>\n",
       "  </tbody>\n",
       "</table>\n",
       "<p>4 rows × 21 columns</p>\n",
       "</div>"
      ],
      "text/plain": [
       "         measurement                                              ...        \\\n",
       "operator       Chris                             Jane             ...         \n",
       "temp             250 251   253   271 272 273 275  250  251   253  ...   272   \n",
       "sample                                                            ...         \n",
       "Ag               NaN NaN   NaN   NaN NaN NaN NaN  NaN  NaN   NaN  ...   NaN   \n",
       "Au               NaN NaN   NaN   NaN NaN NaN NaN  NaN  9.0   NaN  ...  10.0   \n",
       "Fe               NaN NaN  11.0  13.0 NaN NaN NaN  NaN  NaN   NaN  ...   NaN   \n",
       "Ni               NaN NaN   NaN   NaN NaN NaN NaN  NaN  NaN  11.0  ...   NaN   \n",
       "\n",
       "                                                     \n",
       "operator            Joe                              \n",
       "temp       273 275  250 251 253 271 272   273   275  \n",
       "sample                                               \n",
       "Ag         NaN NaN  9.0 NaN NaN NaN NaN  10.0  11.0  \n",
       "Au         NaN NaN  NaN NaN NaN NaN NaN   NaN   NaN  \n",
       "Fe         NaN NaN  NaN NaN NaN NaN NaN   NaN   NaN  \n",
       "Ni        10.0 NaN  NaN NaN NaN NaN NaN   NaN   NaN  \n",
       "\n",
       "[4 rows x 21 columns]"
      ]
     },
     "execution_count": 85,
     "metadata": {},
     "output_type": "execute_result"
    }
   ],
   "source": [
    "pivoted.unstack()"
   ]
  },
  {
   "cell_type": "markdown",
   "id": "5b05d225-4c3e-4502-83cf-8096d2b90b90",
   "metadata": {},
   "source": [
    "## Anatomy of a DataFrame"
   ]
  },
  {
   "cell_type": "code",
   "execution_count": 52,
   "id": "eaa8236a-dae1-452e-bd3d-1993c7a1fff9",
   "metadata": {
    "tags": []
   },
   "outputs": [
    {
     "data": {
      "text/plain": [
       "Index(['a', 'b', 'c'], dtype='object')"
      ]
     },
     "execution_count": 52,
     "metadata": {},
     "output_type": "execute_result"
    }
   ],
   "source": [
    "df.columns"
   ]
  },
  {
   "cell_type": "code",
   "execution_count": 53,
   "id": "e63e73d0-e547-4a2c-8d2c-b03c0f51f6a4",
   "metadata": {
    "tags": []
   },
   "outputs": [
    {
     "data": {
      "text/plain": [
       "RangeIndex(start=0, stop=100, step=1)"
      ]
     },
     "execution_count": 53,
     "metadata": {},
     "output_type": "execute_result"
    }
   ],
   "source": [
    "df.index"
   ]
  },
  {
   "cell_type": "markdown",
   "id": "8ffc481a-a9e8-4205-917b-939153c7a121",
   "metadata": {
    "tags": []
   },
   "source": [
    "Column-wise access is fast; row-wise access is slow."
   ]
  },
  {
   "cell_type": "code",
   "execution_count": 57,
   "id": "40dcb344-752f-4f2a-a570-7ed368a3b42c",
   "metadata": {
    "tags": []
   },
   "outputs": [],
   "source": [
    "# This will be comparatively slow. On small tables it may not matter.\n",
    "for index, row in df.iterrows():\n",
    "    ..."
   ]
  },
  {
   "cell_type": "markdown",
   "id": "1c5ba037-b79c-4c0d-be4e-50c1638f2e24",
   "metadata": {
    "tags": []
   },
   "source": [
    "Is a DataFrame 1-dimensional or 2-dimensional?"
   ]
  },
  {
   "cell_type": "code",
   "execution_count": 73,
   "id": "83065de4-9cce-42c9-a148-1273cdcb49c0",
   "metadata": {
    "tags": []
   },
   "outputs": [
    {
     "data": {
      "text/html": [
       "<div>\n",
       "<style scoped>\n",
       "    .dataframe tbody tr th:only-of-type {\n",
       "        vertical-align: middle;\n",
       "    }\n",
       "\n",
       "    .dataframe tbody tr th {\n",
       "        vertical-align: top;\n",
       "    }\n",
       "\n",
       "    .dataframe thead th {\n",
       "        text-align: right;\n",
       "    }\n",
       "</style>\n",
       "<table border=\"1\" class=\"dataframe\">\n",
       "  <thead>\n",
       "    <tr style=\"text-align: right;\">\n",
       "      <th></th>\n",
       "      <th>a</th>\n",
       "      <th>b</th>\n",
       "      <th>c</th>\n",
       "    </tr>\n",
       "  </thead>\n",
       "  <tbody>\n",
       "    <tr>\n",
       "      <th>0</th>\n",
       "      <td>0</td>\n",
       "      <td>0.021700</td>\n",
       "      <td>1.000000</td>\n",
       "    </tr>\n",
       "    <tr>\n",
       "      <th>1</th>\n",
       "      <td>1</td>\n",
       "      <td>0.571916</td>\n",
       "      <td>0.995004</td>\n",
       "    </tr>\n",
       "    <tr>\n",
       "      <th>2</th>\n",
       "      <td>2</td>\n",
       "      <td>0.943367</td>\n",
       "      <td>0.980067</td>\n",
       "    </tr>\n",
       "    <tr>\n",
       "      <th>3</th>\n",
       "      <td>3</td>\n",
       "      <td>0.762479</td>\n",
       "      <td>0.955336</td>\n",
       "    </tr>\n",
       "    <tr>\n",
       "      <th>4</th>\n",
       "      <td>4</td>\n",
       "      <td>0.893559</td>\n",
       "      <td>0.921061</td>\n",
       "    </tr>\n",
       "  </tbody>\n",
       "</table>\n",
       "</div>"
      ],
      "text/plain": [
       "   a         b         c\n",
       "0  0  0.021700  1.000000\n",
       "1  1  0.571916  0.995004\n",
       "2  2  0.943367  0.980067\n",
       "3  3  0.762479  0.955336\n",
       "4  4  0.893559  0.921061"
      ]
     },
     "execution_count": 73,
     "metadata": {},
     "output_type": "execute_result"
    }
   ],
   "source": [
    "df.head()"
   ]
  },
  {
   "cell_type": "markdown",
   "id": "84a40f0a-f7e4-425b-8c4a-f10d1accbdbc",
   "metadata": {},
   "source": [
    "## Peeking under the hood, just for a moment\n",
    "\n",
    "Pandas is more complex inside than numpy.\n",
    "\n",
    "Underlying data is organized into \"blocks\" of like data type. Sometimes the blocks store numpy arrays; sometimes they store something more specialized."
   ]
  },
  {
   "cell_type": "code",
   "execution_count": 60,
   "id": "3e39c0f6-9d7f-4089-bcd9-081f4fc211d4",
   "metadata": {
    "tags": []
   },
   "outputs": [
    {
     "data": {
      "text/plain": [
       "BlockManager\n",
       "Items: Index(['a', 'b', 'c'], dtype='object')\n",
       "Axis 1: RangeIndex(start=0, stop=100, step=1)\n",
       "NumericBlock: slice(1, 3, 1), 2 x 100, dtype: float64\n",
       "NumericBlock: slice(0, 1, 1), 1 x 100, dtype: int64"
      ]
     },
     "execution_count": 60,
     "metadata": {},
     "output_type": "execute_result"
    }
   ],
   "source": [
    "df._data"
   ]
  },
  {
   "cell_type": "code",
   "execution_count": 66,
   "id": "38d62c2a-6312-4b2d-9d18-5364fe6c1e78",
   "metadata": {
    "tags": []
   },
   "outputs": [
    {
     "data": {
      "text/plain": [
       "(NumericBlock: slice(1, 3, 1), 2 x 100, dtype: float64,\n",
       " NumericBlock: slice(0, 1, 1), 1 x 100, dtype: int64)"
      ]
     },
     "execution_count": 66,
     "metadata": {},
     "output_type": "execute_result"
    }
   ],
   "source": [
    "df._data.blocks"
   ]
  },
  {
   "cell_type": "code",
   "execution_count": 71,
   "id": "9d581220-d930-4f5b-aba2-90c8e67f61ad",
   "metadata": {
    "tags": []
   },
   "outputs": [
    {
     "data": {
      "text/plain": [
       "array([[ 0.02169961,  0.57191617,  0.94336744,  0.76247875,  0.89355944,\n",
       "         0.28061985,  0.07490485,  0.00671478,  0.54694905,  0.78474025,\n",
       "         0.73526894,  0.13130981,  0.3284698 ,  0.19313359,  0.67364605,\n",
       "         0.46469555,  0.25197018,  0.6480102 ,  0.90820986,  0.37982242,\n",
       "         0.50418041,  0.1394719 ,  0.177409  ,  0.09648807,  0.57920907,\n",
       "         0.12140765,  0.77264377,  0.62380269,  0.84016833,  0.4106641 ,\n",
       "         0.36880325,  0.28877727,  0.59150967,  0.38334719,  0.286111  ,\n",
       "         0.52722373,  0.00834346,  0.09297144,  0.15996142,  0.94769908,\n",
       "         0.02287614,  0.23246116,  0.90280447,  0.18027103,  0.89933323,\n",
       "         0.32089887,  0.89943022,  0.03315442,  0.41586305,  0.20971634,\n",
       "         0.75960768,  0.42505656,  0.15423074,  0.17833109,  0.97027914,\n",
       "         0.55537967,  0.84947565,  0.06996517,  0.51941796,  0.82481572,\n",
       "         0.35218439,  0.32923343,  0.89744524,  0.47621268,  0.60256269,\n",
       "         0.28589414,  0.91420016,  0.50798777,  0.84161808,  0.36129532,\n",
       "         0.80587483,  0.43063669,  0.29586512,  0.52516787,  0.7025272 ,\n",
       "         0.92243695,  0.00694605,  0.48695912,  0.79557451,  0.7822406 ,\n",
       "         0.21576979,  0.66088274,  0.24881061,  0.97540968,  0.76987802,\n",
       "         0.20054532,  0.23896566,  0.50409409,  0.0162174 ,  0.81733116,\n",
       "         0.43694734,  0.58238885,  0.61299265,  0.32765915,  0.00972478,\n",
       "         0.536255  ,  0.11291805,  0.98874984,  0.37451228,  0.73457169],\n",
       "       [ 1.        ,  0.99500417,  0.98006658,  0.95533649,  0.92106099,\n",
       "         0.87758256,  0.82533561,  0.76484219,  0.69670671,  0.62160997,\n",
       "         0.54030231,  0.45359612,  0.36235775,  0.26749883,  0.16996714,\n",
       "         0.0707372 , -0.02919952, -0.12884449, -0.22720209, -0.32328957,\n",
       "        -0.41614684, -0.5048461 , -0.58850112, -0.66627602, -0.73739372,\n",
       "        -0.80114362, -0.85688875, -0.90407214, -0.94222234, -0.97095817,\n",
       "        -0.9899925 , -0.99913515, -0.99829478, -0.98747977, -0.96679819,\n",
       "        -0.93645669, -0.89675842, -0.84810003, -0.79096771, -0.7259323 ,\n",
       "        -0.65364362, -0.57482395, -0.49026082, -0.40079917, -0.30733287,\n",
       "        -0.2107958 , -0.11215253, -0.01238866,  0.08749898,  0.18651237,\n",
       "         0.28366219,  0.37797774,  0.46851667,  0.55437434,  0.63469288,\n",
       "         0.70866977,  0.77556588,  0.83471278,  0.88551952,  0.92747843,\n",
       "         0.96017029,  0.98326844,  0.9965421 ,  0.99985864,  0.99318492,\n",
       "         0.97658763,  0.95023259,  0.91438315,  0.86939749,  0.8157251 ,\n",
       "         0.75390225,  0.68454667,  0.60835131,  0.52607752,  0.43854733,\n",
       "         0.34663532,  0.25125984,  0.15337386,  0.05395542, -0.04600213,\n",
       "        -0.14550003, -0.24354415, -0.33915486, -0.43137684, -0.51928865,\n",
       "        -0.6020119 , -0.67872005, -0.74864665, -0.81109301, -0.86543521,\n",
       "        -0.91113026, -0.9477216 , -0.97484362, -0.99222533, -0.99969304,\n",
       "        -0.99717216, -0.98468786, -0.96236488, -0.93042627, -0.88919115]])"
      ]
     },
     "execution_count": 71,
     "metadata": {},
     "output_type": "execute_result"
    }
   ],
   "source": [
    "df._data.blocks[0].values"
   ]
  },
  {
   "cell_type": "markdown",
   "id": "de3717af-f90e-4cef-a867-8903d131073a",
   "metadata": {
    "tags": []
   },
   "source": [
    "## Limitations and Coping Strategies\n",
    "\n",
    "* The index can get in the way if you don't actually need an index.\n",
    "  * Consider a simple dict or other container of numpy arrays.\n",
    "  * Consider xarray.\n",
    "* Pandas has a large interface and can be confusing.\n",
    "  * StackOverflow!\n",
    "* Whereas numpy just has array, pandas has Series and DataFrame. It can take some getting used to know what to expect.\n",
    "  * Work with toy examples at first.\n",
    "* Pandas DataFrames are designed for _tabular_ data. It does not perform well with higher-dimensional data.\n",
    "  * Consider xarray."
   ]
  },
  {
   "cell_type": "code",
   "execution_count": null,
   "id": "b5ccd779-3a6a-4461-aa9b-6b3193d866eb",
   "metadata": {},
   "outputs": [],
   "source": []
  }
 ],
 "metadata": {
  "kernelspec": {
   "display_name": "Python 3 (ipykernel)",
   "language": "python",
   "name": "python3"
  },
  "language_info": {
   "codemirror_mode": {
    "name": "ipython",
    "version": 3
   },
   "file_extension": ".py",
   "mimetype": "text/x-python",
   "name": "python",
   "nbconvert_exporter": "python",
   "pygments_lexer": "ipython3",
   "version": "3.10.10"
  }
 },
 "nbformat": 4,
 "nbformat_minor": 5
}

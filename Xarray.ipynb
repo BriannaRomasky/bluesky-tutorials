{
 "cells": [
  {
   "cell_type": "markdown",
   "id": "d1add874-3038-4ce3-b382-2b089a2d05ab",
   "metadata": {
    "tags": []
   },
   "source": [
    "## Xarray"
   ]
  },
  {
   "cell_type": "code",
   "execution_count": null,
   "id": "3d76ee8a-1e43-44b0-ba58-2b17f45c6c25",
   "metadata": {
    "tags": []
   },
   "outputs": [],
   "source": [
    "import matplotlib.pyplot as plt\n",
    "import numpy as np\n",
    "import xarray as xr\n",
    "\n",
    "%matplotlib inline"
   ]
  },
  {
   "cell_type": "markdown",
   "id": "65dd07ec-3d52-41d1-9aed-e18e3dd906a3",
   "metadata": {},
   "source": [
    "## Xarray provides containers for labeled numpy arrays\n",
    "\n",
    "* **DataArrray:** bundle 1 array with multiple \"coordinates\" arrays\n",
    "* **Dataset:** a dictionary-like container of DataArrays"
   ]
  },
  {
   "cell_type": "code",
   "execution_count": null,
   "id": "518a7878-9142-4dab-af32-83b32b1b502c",
   "metadata": {
    "tags": []
   },
   "outputs": [],
   "source": [
    "ds = xr.tutorial.load_dataset(\"air_temperature\")\n",
    "ds"
   ]
  },
  {
   "cell_type": "code",
   "execution_count": null,
   "id": "328bc91d-78c7-4fc7-995f-8fc9138e9ace",
   "metadata": {
    "tags": []
   },
   "outputs": [],
   "source": [
    "ds[\"air\"]"
   ]
  },
  {
   "cell_type": "code",
   "execution_count": null,
   "id": "ca80dbbf-f681-4319-a9d7-a687af3266ec",
   "metadata": {
    "tags": []
   },
   "outputs": [],
   "source": [
    "ds[\"air\"].data"
   ]
  },
  {
   "cell_type": "code",
   "execution_count": null,
   "id": "4e3ed471-6a29-4620-8d23-aae45f92e1cc",
   "metadata": {
    "tags": []
   },
   "outputs": [],
   "source": [
    "ds[\"air\"].dims"
   ]
  },
  {
   "cell_type": "code",
   "execution_count": null,
   "id": "3d3405bd-dede-45d1-88b5-0ad5c3580e80",
   "metadata": {
    "tags": []
   },
   "outputs": [],
   "source": [
    "ds[\"air\"].coords"
   ]
  },
  {
   "cell_type": "code",
   "execution_count": null,
   "id": "8617c208-eeb4-4530-8784-91d9d082ee13",
   "metadata": {
    "tags": []
   },
   "outputs": [],
   "source": [
    "ds[\"air\"].coords[\"lat\"]"
   ]
  },
  {
   "cell_type": "code",
   "execution_count": null,
   "id": "90e86b3a-6c5b-4931-b8ba-ffd929e2f87d",
   "metadata": {
    "tags": []
   },
   "outputs": [],
   "source": [
    "ds[\"air\"].coords[\"lat\"].data"
   ]
  },
  {
   "cell_type": "markdown",
   "id": "e19fcf63-ff94-481b-a049-365bb5507729",
   "metadata": {},
   "source": [
    "## Xarray objects carry a dictionary of metadata with them"
   ]
  },
  {
   "cell_type": "code",
   "execution_count": null,
   "id": "dec31c7c-6f4f-4735-8fe2-233103e7abf7",
   "metadata": {
    "tags": []
   },
   "outputs": [],
   "source": [
    "ds.attrs"
   ]
  },
  {
   "cell_type": "code",
   "execution_count": null,
   "id": "de6c31aa-89eb-4ed5-a9ee-349d64213c3d",
   "metadata": {
    "tags": []
   },
   "outputs": [],
   "source": [
    "ds[\"air\"].attrs"
   ]
  },
  {
   "cell_type": "code",
   "execution_count": null,
   "id": "fb2d01dc-3f5d-4434-935e-332533ff7e8b",
   "metadata": {
    "tags": []
   },
   "outputs": [],
   "source": [
    "ds[\"air\"].coords[\"lat\"].attrs"
   ]
  },
  {
   "cell_type": "markdown",
   "id": "40bb89d1-9c74-4d7c-94d3-74ce6fd9d22b",
   "metadata": {},
   "source": [
    "## Carrying labels with arrays makes for more expressive code\n",
    "\n",
    "### Before (pure numpy)"
   ]
  },
  {
   "cell_type": "code",
   "execution_count": null,
   "id": "b3442a0b-b6f0-4c27-93d8-c8950a3df681",
   "metadata": {
    "tags": []
   },
   "outputs": [],
   "source": [
    "# plot the first timestep\n",
    "lat = ds.air.lat.data  # numpy array\n",
    "lon = ds.air.lon.data  # numpy array\n",
    "temp = ds.air.data  # numpy array\n",
    "\n",
    "plt.figure()\n",
    "plt.pcolormesh(lon, lat, temp[0, :, :]);"
   ]
  },
  {
   "cell_type": "code",
   "execution_count": null,
   "id": "21a717e4-bd2e-40fa-8658-5d32999dc17e",
   "metadata": {
    "tags": []
   },
   "outputs": [],
   "source": [
    "temp.mean(axis=1)  ## what did I just do? I can't tell by looking at this line."
   ]
  },
  {
   "cell_type": "markdown",
   "id": "2abfeec0-6d6f-45b2-b182-8724e34bebfd",
   "metadata": {},
   "source": [
    "### After (with xarray)"
   ]
  },
  {
   "cell_type": "code",
   "execution_count": null,
   "id": "4e44ffbe-384d-433e-8b25-1269207f029d",
   "metadata": {
    "tags": []
   },
   "outputs": [],
   "source": [
    "ds.air.isel(time=0).plot(x=\"lon\");"
   ]
  },
  {
   "cell_type": "code",
   "execution_count": null,
   "id": "6043d532-25af-49ac-b3f6-f7f539e6df86",
   "metadata": {
    "tags": []
   },
   "outputs": [],
   "source": [
    "ds.air.mean(dim=\"time\").plot(x=\"lon\")"
   ]
  },
  {
   "cell_type": "code",
   "execution_count": null,
   "id": "0ec1e8f2-5176-4abb-9cae-643a705fd4be",
   "metadata": {
    "tags": []
   },
   "outputs": [],
   "source": [
    "ds.resample(time=\"M\").mean([\"lon\", \"lat\"])[\"air\"].plot()"
   ]
  },
  {
   "cell_type": "markdown",
   "id": "07c809f5-423d-4464-b357-34041aa49e97",
   "metadata": {},
   "source": [
    "## Limitations and Coping Strategies\n",
    "\n",
    "* Similarly to Pandas, Xarray has more complex interface than numpy and can be confusing.\n",
    "* Examples are geared toward the climate science community from which xarray originated."
   ]
  },
  {
   "cell_type": "markdown",
   "id": "99f0f074-a9a4-4c98-bc34-0d33896d4453",
   "metadata": {},
   "source": [
    "More information: https://tutorial.xarray.dev/overview/xarray-in-45-min.html"
   ]
  },
  {
   "cell_type": "code",
   "execution_count": null,
   "id": "d8a38420-9d78-409a-8fda-42cd8eee4c56",
   "metadata": {},
   "outputs": [],
   "source": []
  }
 ],
 "metadata": {
  "kernelspec": {
   "display_name": "Python 3 (ipykernel)",
   "language": "python",
   "name": "python3"
  },
  "language_info": {
   "codemirror_mode": {
    "name": "ipython",
    "version": 3
   },
   "file_extension": ".py",
   "mimetype": "text/x-python",
   "name": "python",
   "nbconvert_exporter": "python",
   "pygments_lexer": "ipython3",
   "version": "3.10.8"
  }
 },
 "nbformat": 4,
 "nbformat_minor": 5
}

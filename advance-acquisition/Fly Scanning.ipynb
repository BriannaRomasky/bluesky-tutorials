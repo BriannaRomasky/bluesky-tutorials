{
 "cells": [
  {
   "cell_type": "markdown",
   "metadata": {},
   "source": [
    "# Fly Scanning\n",
    "\n",
    "We'll start by building a not-quite-realistic example to illustrate the process."
   ]
  },
  {
   "cell_type": "code",
   "execution_count": null,
   "metadata": {
    "collapsed": true
   },
   "outputs": [],
   "source": [
    "from ophyd.sim import DeviceStatus\n",
    "\n",
    "\n",
    "class DummyFlyer:\n",
    "    def __init__(self, name):\n",
    "        self.name = name\n",
    "        self.parent = None\n",
    "\n",
    "    def kickoff(self):\n",
    "        status = DeviceStatus(self)\n",
    "        \n",
    "        # In a real example, we would set up something like this\n",
    "        # to mark the status as finished asyncronously in response to\n",
    "        # a change in some signal:\n",
    "        #\n",
    "        # def cb(value, old_value, **junk):\n",
    "        #     if value == FOO and old_value == BAR:\n",
    "        #         status._finished()\n",
    "        # self.ready_signal.subscribe(cb)\n",
    "        #\n",
    "        # but in this simplistic example we'll just mark it finished right away:\n",
    "        status._finished()\n",
    "        \n",
    "        return status\n",
    "       \n",
    "    def describe_collect(self):\n",
    "        return {self.name: {'dtype': 'number', 'shape': [], 'source': 'SIM:...'}}\n",
    "\n",
    "    def read_configuration(self):\n",
    "        return OrderedDict()\n",
    "\n",
    "    def describe_configuration(self):\n",
    "        return OrderedDict()\n",
    "\n",
    "    def complete(self):\n",
    "        # same scheme as 'kickoff'...\n",
    "        status = DeviceStatus(self)\n",
    "        status._finished()\n",
    "        return status\n",
    "\n",
    "    def collect(self):\n",
    "        # In a real example, we would read data and timestamps off of some\n",
    "        # buffer on the hardware. In this case, we just simulate some data.\n",
    "        for i in range(10):\n",
    "            yield {'data': {'a': i**2},\n",
    "                   'timestamps': {'a': i},\n",
    "                   'time': i,\n",
    "                   'seq_num': i}\n",
    "\n",
    "    def stop(self, *, success=False):\n",
    "        pass"
   ]
  },
  {
   "cell_type": "code",
   "execution_count": null,
   "metadata": {
    "collapsed": true
   },
   "outputs": [],
   "source": [
    "flyer = DummyFlyer('flyer')"
   ]
  },
  {
   "cell_type": "markdown",
   "metadata": {},
   "source": [
    "First the RunEngine \"kicks off\" the flyer to tell it to begin capturing data. It immediately returns a status object and (later) marks that status object as 'done' to confirm that it has successfully begun acquiring."
   ]
  },
  {
   "cell_type": "code",
   "execution_count": null,
   "metadata": {},
   "outputs": [],
   "source": [
    "status = flyer.kickoff()\n",
    "status.done"
   ]
  },
  {
   "cell_type": "markdown",
   "metadata": {},
   "source": [
    "When we are ready to retrieve the data, we tell the flyer, \"We're ready when you're ready.\" Sometimes the flyer is just waiting for us to tell it to stop, and so it will mark the status object as 'done' almost immediately (example: CSX's waveform collector). Other times, the flyer is performing some pre-planned routine, and it will make us wait until it finishes (example: HXN fly scans)."
   ]
  },
  {
   "cell_type": "code",
   "execution_count": null,
   "metadata": {},
   "outputs": [],
   "source": [
    "status = flyer.complete()\n",
    "status.done"
   ]
  },
  {
   "cell_type": "markdown",
   "metadata": {},
   "source": [
    "Finally, we can collect the data off of the device and into Python."
   ]
  },
  {
   "cell_type": "code",
   "execution_count": null,
   "metadata": {},
   "outputs": [],
   "source": [
    "results = flyer.collect()\n",
    "results"
   ]
  },
  {
   "cell_type": "markdown",
   "metadata": {},
   "source": [
    "This is a generator. It yields the results one at a time, so we have the option of streaming them if the total dataset is too large for RAM."
   ]
  },
  {
   "cell_type": "code",
   "execution_count": null,
   "metadata": {},
   "outputs": [],
   "source": [
    "list(results)"
   ]
  },
  {
   "cell_type": "markdown",
   "metadata": {},
   "source": [
    "Consider this [real example](https://github.com/NSLS-II-LIX/profile_collection/blob/master/startup/25-hplc.py)."
   ]
  },
  {
   "cell_type": "code",
   "execution_count": null,
   "metadata": {
    "collapsed": true
   },
   "outputs": [],
   "source": []
  }
 ],
 "metadata": {
  "kernelspec": {
   "display_name": "Python 3",
   "language": "python",
   "name": "python3"
  },
  "language_info": {
   "codemirror_mode": {
    "name": "ipython",
    "version": 3
   },
   "file_extension": ".py",
   "mimetype": "text/x-python",
   "name": "python",
   "nbconvert_exporter": "python",
   "pygments_lexer": "ipython3",
   "version": "3.6.2"
  }
 },
 "nbformat": 4,
 "nbformat_minor": 2
}

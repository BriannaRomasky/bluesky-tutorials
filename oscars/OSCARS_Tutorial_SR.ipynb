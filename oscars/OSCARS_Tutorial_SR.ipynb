{
 "cells": [
  {
   "cell_type": "markdown",
   "metadata": {},
   "source": [
    "# OSCARS Tutorial for the SR Module\n",
    "\n",
    "This is a brief getting started tutorial for the oscars.sr module.  The oscars.sr module is for computing quantaties related to the radiative properties of charged particles in motion.  It is concerned with *REAL* field data for magnetic and electric fields.  At its root it is a discritization of the field equations which are derived from the Liénard–Wiechert potentials.  It is valid in the near-field and for relativistic and non-relativistic particles alike.\n",
    "\n",
    "In addition to the oscars.sr module there exists an oscars.th module which deals more with theoretical analytical results for bending magnets, undulators, wigglers, spectra, flux, and brightness.\n",
    "\n",
    "In this short tutorial only the basics on getting started with OSCARS are explored.  You can find more information on the main oscars website at:\n",
    "\n",
    "https://oscars.bnl.gov\n",
    "\n",
    "many examples at:\n",
    "\n",
    "https://oscars.bnl.gov/examples.php\n",
    "\n",
    "and full documentation at:\n",
    "\n",
    "https://oscars.bnl.gov/doc.php\n",
    "\n",
    "The documentation is also available within this notebook by adding a ? to the end of the function name and executing that cell, *e.g.*:\n",
    "\n",
    "osr.calculate_spectrum?"
   ]
  },
  {
   "cell_type": "markdown",
   "metadata": {},
   "source": [
    "## Step 0 - Importing oscars.sr\n",
    "\n",
    "The zero-th step is to import oscars.sr and create an oscars.sr object.  For this tutorial we will set nthreads=8 in creating the object which will signify that we want to use 8 threads for all calculations.  We will also import some oscars plotting utilities and ask that the plots be displayed inline in the notebook."
   ]
  },
  {
   "cell_type": "code",
   "execution_count": null,
   "metadata": {},
   "outputs": [],
   "source": [
    "# Since we'll be using matplotlib we will ask that plots be 'inline' in the notebook\n",
    "%matplotlib inline\n",
    "\n",
    "# Import the oscars.sr module\n",
    "import oscars.sr\n",
    "\n",
    "# Import oscars plotting utilities (not needed, but convenient)\n",
    "from oscars.plots_mpl import *\n",
    "from oscars.plots3d_mpl import *\n",
    "\n",
    "# Create the oscars.sr object with nthreads=8\n",
    "osr = oscars.sr.sr(nthreads=8)"
   ]
  },
  {
   "cell_type": "markdown",
   "metadata": {},
   "source": [
    "## Step 1 - Creating an NSLSII beam\n",
    "\n",
    "We now create a beam silimar to NSLSII.  For the moment this will be a filament beam, but OSCARS does understand the Twiss parameters for non-zero emittance beams.\n",
    "\n",
    "All directions and energies are configurable, but for now we'll use the defaults (beam pointing in the Z-direction).\n",
    "\n",
    "You MUST specify the initial position and start and stop times for the calculation (the start time can be before the initial time t0 at the initial position x0.  The default for t0 is 0 for any x0).\n",
    "\n",
    "Many things in OSCARS are 3D points or vectors, for instance the position x0=[0, 0, -1]."
   ]
  },
  {
   "cell_type": "code",
   "execution_count": null,
   "metadata": {},
   "outputs": [],
   "source": [
    "# Setup the standard NSLSII beam conditions starting at z=-1 with the beam in the Z-direction\n",
    "osr.set_particle_beam(beam='NSLSII', x0=[0, 0, -1])\n",
    "osr.set_ctstartstop(0, 2)\n",
    "\n",
    "# Print the oscars object properties thus far\n",
    "osr.print_all()"
   ]
  },
  {
   "cell_type": "markdown",
   "metadata": {},
   "source": [
    "## Step 2 - Add a simple undulator (or other structure)\n",
    "\n",
    "There are many builtin bfield (and efield) types.  Here we will use a basic sinusoidal undulator.  One may note that the period is a vector and not a scalar.  This allows one to have the direction of the magnetic structure any way they like (typically it is along the beam direction).\n",
    "\n",
    "Other basic fields are:\n",
    "* osr.add_bfield_uniform()\n",
    "* osr.add_bfield_gaussian()\n",
    "* osr.add_bfield_function()\n",
    "* osr.add_bfield_file()\n",
    "* osr.add_bfield_interpolated()\n",
    "* osr.add_bfield_quadrupole()"
   ]
  },
  {
   "cell_type": "code",
   "execution_count": null,
   "metadata": {},
   "outputs": [],
   "source": [
    "# Typically a good idea to clear all bfields before adding\n",
    "osr.clear_bfields()\n",
    "\n",
    "# Add a basic undulator with peak field By of 1 [T], period 20 [mm], and 31 periods\n",
    "osr.add_bfield_undulator(bfield=[0, 1, 0], period=[0, 0, 0.040], nperiods=31)\n",
    "\n",
    "# Plot the field components\n",
    "plot_bfield(osr)"
   ]
  },
  {
   "cell_type": "markdown",
   "metadata": {},
   "source": [
    "## Step 3 - Calculate Trajectory\n",
    "\n",
    "Calculate the trajectory based on the beam and fields added.  This step is not necessary, but very useful for debugging."
   ]
  },
  {
   "cell_type": "code",
   "execution_count": null,
   "metadata": {},
   "outputs": [],
   "source": [
    "# Calculate Trajectory\n",
    "trajectory = osr.calculate_trajectory()\n",
    "\n",
    "# Plot trajectory position and velocity\n",
    "plot_trajectory_position(trajectory)\n",
    "plot_trajectory_velocity(trajectory)"
   ]
  },
  {
   "cell_type": "markdown",
   "metadata": {},
   "source": [
    "## Step 4 - Quantities of Interest\n",
    "\n",
    "The stage is now set and you may run a number of calculations of interest."
   ]
  },
  {
   "cell_type": "markdown",
   "metadata": {},
   "source": [
    "### Spectra\n",
    "\n",
    "Calculate a basic spectrum at an observation point 30 [m] downstream."
   ]
  },
  {
   "cell_type": "code",
   "execution_count": null,
   "metadata": {},
   "outputs": [],
   "source": [
    "# Calculate spectrum\n",
    "spectrum = osr.calculate_spectrum(obs=[0, 0, 30], energy_range_eV=[10, 2000])\n",
    "\n",
    "# Plot basic spectrum\n",
    "plot_spectrum(spectrum)"
   ]
  },
  {
   "cell_type": "code",
   "execution_count": null,
   "metadata": {},
   "outputs": [],
   "source": [
    "# Zoom in on 3rd harmonic\n",
    "spectrum_3h = osr.calculate_spectrum(obs=[0, 0, 30], energy_range_eV=[780, 830])\n",
    "\n",
    "# Plot basic spectrum\n",
    "plot_spectrum(spectrum_3h)"
   ]
  },
  {
   "cell_type": "markdown",
   "metadata": {},
   "source": [
    "### Calculate Flux Map for 3rd Harmonic\n",
    "\n",
    "Here we cancluate a simple flux map.  The viewing plane is created in the X-Y plane and translated downstream 30 [m].  All objects in oscars can be 'translated' (viewing planes, magnetic fields, electric fields, beams, etc) as well as rotated with the 'rotations' argument."
   ]
  },
  {
   "cell_type": "code",
   "execution_count": null,
   "metadata": {},
   "outputs": [],
   "source": [
    "# Calculate flux map 30 [m] downstream\n",
    "flux_3h = osr.calculate_flux_rectangle(plane='XY',\n",
    "                                       energy_eV=803,\n",
    "                                       width=[0.01, 0.01],\n",
    "                                       npoints=[101, 101],\n",
    "                                       translation=[0, 0, 30]\n",
    "                                      )\n",
    "\n",
    "# Plot the flux map\n",
    "plot_flux(flux_3h)"
   ]
  },
  {
   "cell_type": "code",
   "execution_count": null,
   "metadata": {},
   "outputs": [],
   "source": [
    "# Alternatively plot both with a line\n",
    "plot_flux_spectrum(flux_3h, spectrum_3h, energy=803)"
   ]
  },
  {
   "cell_type": "markdown",
   "metadata": {},
   "source": [
    "### Calculate Power Density\n",
    "\n",
    "Similarly we will calculate the power density on a viewing plane translated 30 [m] downstream where the photon beam is relatively perpendicular to the viewing plane.  In the second power density a plane tangential to the beam is created and translated downstream (simulating say a beampipe upper wall)\n",
    "\n",
    "Note in the second power density the axes are shifted.  You can retrive the 3D coordinates using the argument 'dim=3' (dim=2 is the default as it is useful for plotting)"
   ]
  },
  {
   "cell_type": "code",
   "execution_count": null,
   "metadata": {},
   "outputs": [],
   "source": [
    "# Calculate power density on perpendicular plane\n",
    "pd_1 = osr.calculate_power_density_rectangle(plane='XY',\n",
    "                                             width=[0.05, 0.05],\n",
    "                                             npoints=[101, 101],\n",
    "                                             translation=[0, 0, 30]\n",
    "                                            )\n",
    "\n",
    "# Plot power density\n",
    "plot_power_density(pd_1, xlabel='X [m]', ylabel='Y [m]')"
   ]
  },
  {
   "cell_type": "code",
   "execution_count": null,
   "metadata": {},
   "outputs": [],
   "source": [
    "# Calculate power density on parallel plane, starting at the center of the ID\n",
    "# spanning 2 [m] downstream, slightly offset vertically\n",
    "pd_2 = osr.calculate_power_density_rectangle(plane='XZ',\n",
    "                                             width=[0.02, 2.00],\n",
    "                                             npoints=[51, 101],\n",
    "                                             translation=[0, 0.004, 1]\n",
    "                                            )\n",
    "\n",
    "# Plot power density\n",
    "plot_power_density(pd_2)"
   ]
  },
  {
   "cell_type": "markdown",
   "metadata": {},
   "source": [
    "### Power Density on CAD Surface (STL format)\n",
    "\n",
    "Now we will calculate the power density on a simple CAD object in STL format."
   ]
  },
  {
   "cell_type": "code",
   "execution_count": null,
   "metadata": {
    "collapsed": true
   },
   "outputs": [],
   "source": [
    "# Calculate the power density on CAD STL sphere\n",
    "pd_sphere = osr.calculate_power_density_stl(ifile='data/sphere.stl',\n",
    "                                            scale=0.001,\n",
    "                                            translation=[0, 0, 10]\n",
    "                                           )"
   ]
  },
  {
   "cell_type": "code",
   "execution_count": null,
   "metadata": {
    "scrolled": false
   },
   "outputs": [],
   "source": [
    "# Plot power density 3D for STL\n",
    "plot_power_density_stl(pd_sphere)"
   ]
  },
  {
   "cell_type": "markdown",
   "metadata": {},
   "source": [
    "## Multi-particle Simulations\n",
    "\n",
    "If you specify more realistic beam parameters you can run meaningful multi-particle simulations.  The example below shows the same spectrum and flux map from above with a few more particles averaged.  For this we will create a new oscars.sr object so as not to confuse it with the previous one.\n",
    "\n",
    "Note: All that is needed is to add the argument 'nparticles=N' where N is the number of particles you want in the smulation."
   ]
  },
  {
   "cell_type": "code",
   "execution_count": null,
   "metadata": {},
   "outputs": [],
   "source": [
    "# Create new oscars.sr object for multi-particle simulations\n",
    "osr_ss = oscars.sr.sr(nthreads=8)\n",
    "\n",
    "# Set beam parameters for short straight at NSLSII\n",
    "osr_ss.set_particle_beam(beam='NSLSII-ShortStraight', x0=[0, 0, -1])\n",
    "osr_ss.set_ctstartstop(0, 2)\n",
    "\n",
    "# Set undulator same as previous\n",
    "osr_ss.add_bfield_undulator(bfield=[0, 1, 0], period=[0, 0, 0.040], nperiods=31)"
   ]
  },
  {
   "cell_type": "code",
   "execution_count": null,
   "metadata": {},
   "outputs": [],
   "source": [
    "# Calculate sample spectrum for multi-particle simulation\n",
    "spectrum_mp_3h = osr_ss.calculate_spectrum(obs=[0, 0, 30],\n",
    "                                           energy_range_eV=[780, 830],\n",
    "                                           nparticles=10\n",
    "                                          )\n",
    "\n",
    "# Plot spectra comparison\n",
    "plot_spectra([spectrum_3h, spectrum_mp_3h], ['single-electron', 'multi-electron'])"
   ]
  },
  {
   "cell_type": "code",
   "execution_count": null,
   "metadata": {},
   "outputs": [],
   "source": [
    "# Run multi-particle flux calculation\n",
    "flux_mp = osr_ss.calculate_flux_rectangle(plane='XY',\n",
    "                                          energy_eV=803,\n",
    "                                          width=[0.01, 0.01],\n",
    "                                          npoints=[101, 101],\n",
    "                                          translation=[0, 0, 30],\n",
    "                                          nparticles=3\n",
    "                                         )\n",
    "\n",
    "# Plot the flux map\n",
    "plot_flux(flux_mp)"
   ]
  },
  {
   "cell_type": "markdown",
   "metadata": {},
   "source": [
    "## Imported Real-Field Data\n",
    "\n",
    "It is easy to import (and export) real field data in several formats.  It is also possible to read a list of files and interpolate between some parameter (say gap of phase).\n",
    "\n",
    "Below is an example of importing a real data file from magnetic measurements of ESM EPU105, placing the device in the straight section where it belongs, and producing a power density map, and saving that map to a file."
   ]
  },
  {
   "cell_type": "code",
   "execution_count": null,
   "metadata": {},
   "outputs": [],
   "source": [
    "# Create new oscars.sr object for multi-particle simulations\n",
    "osr_esm = oscars.sr.sr(nthreads=8)\n",
    "\n",
    "# Set beam parameters for short straight at NSLSII\n",
    "osr_esm.set_particle_beam(beam='NSLSII', x0=[0, 0, -1])\n",
    "osr_esm.set_ctstartstop(0, 4)\n",
    "\n",
    "# Set undulator same as previous\n",
    "osr_esm.add_bfield_file(ifile='data/ESM_G16.0mPPh-30.00.txt',\n",
    "                        iformat='OSCARS1D Z Bx By Bz',\n",
    "                        scale=[0.001, 1, 1, 1],\n",
    "                        translation=[0, 0, -1.205]\n",
    "                       )\n",
    "\n",
    "# Plot bfield\n",
    "plot_bfield(osr_esm, -1, 3)\n",
    "\n",
    "# Plot the trajectory as a check\n",
    "plot_trajectory_position(osr_esm.calculate_trajectory())"
   ]
  },
  {
   "cell_type": "code",
   "execution_count": null,
   "metadata": {},
   "outputs": [],
   "source": [
    "# Calculate power density\n",
    "pd_esm = osr_esm.calculate_power_density_rectangle(plane='XY',\n",
    "                                                   width=[0.1, 0.1],\n",
    "                                                   npoints=[101, 101],\n",
    "                                                   translation=[0, 0, 30],\n",
    "                                                   ofile='power_density_esm.dat'\n",
    "                                                  )\n",
    "\n",
    "# Plot power density\n",
    "plot_power_density(pd_esm, xlabel='X [m]', ylabel='Y [m]', ofile='power_density_esm.pdf')"
   ]
  },
  {
   "cell_type": "code",
   "execution_count": null,
   "metadata": {
    "collapsed": true
   },
   "outputs": [],
   "source": []
  }
 ],
 "metadata": {
  "kernelspec": {
   "display_name": "Python 3",
   "language": "python",
   "name": "python3"
  },
  "language_info": {
   "codemirror_mode": {
    "name": "ipython",
    "version": 3
   },
   "file_extension": ".py",
   "mimetype": "text/x-python",
   "name": "python",
   "nbconvert_exporter": "python",
   "pygments_lexer": "ipython3",
   "version": "3.6.1"
  }
 },
 "nbformat": 4,
 "nbformat_minor": 2
}

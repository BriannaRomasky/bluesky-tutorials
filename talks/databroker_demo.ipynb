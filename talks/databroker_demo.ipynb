{
 "cells": [
  {
   "cell_type": "markdown",
   "metadata": {},
   "source": [
    "# Bluesky & databroker demonstration\n",
    "\n",
    " - Shows how to use `bluesky` to generate documents\n",
    " - Shows how to get the documents back from the `DataBroker`\n",
    "\n",
    "## Event model\n",
    "\n",
    "https://nsls-ii.github.io/architecture-overview.html\n",
    "https://nsls-ii.github.io/bluesky/documents.html\n",
    "\n",
    "Durring operation the `RunEngine` emits four kinds of documents\n",
    "\n",
    " - `Start` : what we know at the start of a 'run' (who, what, where, why)\n",
    " - `Event` : 'per-point' data\n",
    " - `Descriptor` : schema for the event documents\n",
    " - `Stop` : exit state of a 'run'\n",
    "\n",
    "There may be many `Event` per `Descriptor` and many `Descritor` per `Start`. Callbacks can be used to subscribe to any or all of these documents while the experiment is running."
   ]
  },
  {
   "cell_type": "markdown",
   "metadata": {},
   "source": [
    "### Setup and configuration\n",
    "\n",
    "In practice, this set up is setup in startup scripts, but shown here is full detail so that the notebook is stand-alone."
   ]
  },
  {
   "cell_type": "code",
   "execution_count": 0,
   "metadata": {
    "collapsed": false
   },
   "outputs": [],
   "source": [
    "%matplotlib notebook\n",
    "# general imports\n",
    "import os\n",
    "# import ipympl\n",
    "import matplotlib.pyplot as plt\n",
    "import numpy as np\n",
    "\n",
    "# fitting library\n",
    "import lmfit\n",
    "\n",
    "# bluesky imports\n",
    "import bluesky.plans as bp\n",
    "import bluesky.callbacks as bc\n",
    "import bluesky.utils as bu\n",
    "from bluesky import RunEngine\n",
    "# get a synthetic motor\n",
    "from bluesky.examples import motor\n",
    "# and the class for a synthentic detector\n",
    "from bluesky.examples import SynGauss\n",
    "\n",
    "# databorker imports\n",
    "# Use a local sqlite + mongoquery based MDS to ease \n",
    "from portable_mds.sqlite.mds import MDS\n",
    "from databroker import Broker\n",
    "\n",
    "# to re-normalize the document\n",
    "from doct import ref_doc_to_uid\n",
    "\n",
    "# set up databroker \n",
    "dirname = os.path.expanduser('data-cache/')\n",
    "mds = MDS({'directory': dirname,\n",
    "            'timezone': 'America/Chicago'})\n",
    "db = Broker(mds, None)\n",
    "\n",
    "\n",
    "\n",
    "# set up matplotlib integration\n",
    "\n",
    "plt.ion()\n",
    "bu.install_nb_kicker()\n",
    "\n",
    "# create a synthetic detector\n",
    "noisy_det = SynGauss('noisy_det', motor, 'motor', center=0, Imax=100,\n",
    "                     noise='poisson', sigma=1)\n",
    "\n",
    "det = SynGauss('det', motor, 'motor', center=1, Imax=1, sigma=1)\n",
    "# tweak det to have non-zero exposure time\n",
    "det.exposure_time = .1\n"
   ]
  },
  {
   "cell_type": "code",
   "execution_count": 0,
   "metadata": {
    "collapsed": false
   },
   "outputs": [],
   "source": [
    "# Create a run engine\n",
    "RE = RunEngine({'purpose': 'demo', 'location': 'Chicago'})\n",
    "# \n",
    "RE.subscribe('all', db.mds.insert)"
   ]
  },
  {
   "cell_type": "markdown",
   "metadata": {},
   "source": [
    "## Important things in the namespace"
   ]
  },
  {
   "cell_type": "markdown",
   "metadata": {},
   "source": [
    "The `RunEngine`"
   ]
  },
  {
   "cell_type": "code",
   "execution_count": 0,
   "metadata": {
    "collapsed": false
   },
   "outputs": [],
   "source": [
    "RE"
   ]
  },
  {
   "cell_type": "markdown",
   "metadata": {},
   "source": [
    "The `DataBroker` which is subscribed to `RE` to record measurements."
   ]
  },
  {
   "cell_type": "code",
   "execution_count": 0,
   "metadata": {
    "collapsed": false
   },
   "outputs": [],
   "source": [
    "db"
   ]
  },
  {
   "cell_type": "markdown",
   "metadata": {},
   "source": [
    "Some synthetic devices.  The reading on both `det` and `noisy_det` are a function of the position of `motor`.  At beamlines, these would be `ophyd` objects."
   ]
  },
  {
   "cell_type": "code",
   "execution_count": 0,
   "metadata": {
    "collapsed": false
   },
   "outputs": [],
   "source": [
    "motor, det, noisy_det"
   ]
  },
  {
   "cell_type": "markdown",
   "metadata": {},
   "source": [
    "Module of plans and callbacks"
   ]
  },
  {
   "cell_type": "code",
   "execution_count": 0,
   "metadata": {
    "collapsed": false
   },
   "outputs": [],
   "source": [
    "bp, bc"
   ]
  },
  {
   "cell_type": "markdown",
   "metadata": {},
   "source": [
    "## Basics"
   ]
  },
  {
   "cell_type": "markdown",
   "metadata": {},
   "source": [
    "The two positional arguements to `RE.__call__` are the plan and callbacks, all extra keyword arguements are bundled into the start document."
   ]
  },
  {
   "cell_type": "code",
   "execution_count": 0,
   "metadata": {
    "collapsed": false
   },
   "outputs": [],
   "source": [
    "# print out the document names when they come out\n",
    "RE(bp.count([det], num=7), \n",
    "   lambda name, doc: print(name),\n",
    "   sample='synthetic'\n",
    ")"
   ]
  },
  {
   "cell_type": "markdown",
   "metadata": {},
   "source": [
    "### Documents back from the DataBroker\n",
    "\n",
    "Get the most recent 'header'"
   ]
  },
  {
   "cell_type": "code",
   "execution_count": 0,
   "metadata": {
    "collapsed": false
   },
   "outputs": [],
   "source": [
    "h = db[-1]"
   ]
  },
  {
   "cell_type": "markdown",
   "metadata": {},
   "source": [
    "Look at the `Start`, `Stop`, and `Descriptor` documents"
   ]
  },
  {
   "cell_type": "code",
   "execution_count": 0,
   "metadata": {
    "collapsed": false
   },
   "outputs": [],
   "source": [
    "h.start"
   ]
  },
  {
   "cell_type": "code",
   "execution_count": 0,
   "metadata": {
    "collapsed": false
   },
   "outputs": [],
   "source": [
    "h.stop"
   ]
  },
  {
   "cell_type": "code",
   "execution_count": 0,
   "metadata": {
    "collapsed": false
   },
   "outputs": [],
   "source": [
    "h.descriptors[0]"
   ]
  },
  {
   "cell_type": "markdown",
   "metadata": {},
   "source": [
    "Get the `Event` documents"
   ]
  },
  {
   "cell_type": "code",
   "execution_count": 0,
   "metadata": {
    "collapsed": true
   },
   "outputs": [],
   "source": [
    "# `get_events` is a generator, listify it to get concrete copies of everything\n",
    "evs = list(db.get_events(h))"
   ]
  },
  {
   "cell_type": "code",
   "execution_count": 0,
   "metadata": {
    "collapsed": false
   },
   "outputs": [],
   "source": [
    "# do not de-reference the descriptor to make more readable in html repr\n",
    "ref_doc_to_uid(evs[1], 'descriptor')"
   ]
  },
  {
   "cell_type": "markdown",
   "metadata": {},
   "source": [
    "### Some more interesting callbacks"
   ]
  },
  {
   "cell_type": "code",
   "execution_count": 0,
   "metadata": {
    "collapsed": false
   },
   "outputs": [],
   "source": [
    "# A live table that updates during the experiment\n",
    "RE(bp.scan([det], motor, -3, 3, 15), [bc.LiveTable(['det', 'motor'])])"
   ]
  },
  {
   "cell_type": "code",
   "execution_count": 0,
   "metadata": {
    "collapsed": false
   },
   "outputs": [],
   "source": [
    "RE(bp.scan([det], motor, -1, 3, 25), [bc.LiveTable(['det', 'motor']), bc.LivePlot('det', 'motor')])"
   ]
  },
  {
   "cell_type": "markdown",
   "metadata": {},
   "source": [
    "#### Get a table of data"
   ]
  },
  {
   "cell_type": "code",
   "execution_count": 0,
   "metadata": {
    "collapsed": false
   },
   "outputs": [],
   "source": [
    "tab = db.get_table(db[-1])\n",
    "tab"
   ]
  },
  {
   "cell_type": "code",
   "execution_count": 0,
   "metadata": {
    "collapsed": false
   },
   "outputs": [],
   "source": [
    "tab.describe()"
   ]
  },
  {
   "cell_type": "markdown",
   "metadata": {},
   "source": [
    "### Adaptive fitting plan"
   ]
  },
  {
   "cell_type": "code",
   "execution_count": 0,
   "metadata": {
    "collapsed": true
   },
   "outputs": [],
   "source": [
    "def errorbar(lmfit_result, param_name):\n",
    "    # width of 95% conf interfal:\n",
    "    ci = lmfit_result.conf_interval()\n",
    "    return ci[param_name][-2][1] - ci[param_name][1][1]\n",
    "\n",
    "\n",
    "def gaussian(x, A, sigma, x0):\n",
    "    return A * np.exp(-(x - x0)**2 / (2 * sigma**2))\n",
    "\n",
    "\n",
    "model = lmfit.Model(gaussian)\n",
    "guess = {'A': 10,\n",
    "         'x0': 1,\n",
    "         'sigma': lmfit.Parameter('sigma', 3, min=0)}\n",
    "\n",
    "\n",
    "def scan_gaussian(detectors, motor, start, stop, num, *, ax=None,\n",
    "                  err_thresh=0.07):\n",
    "\n",
    "    if ax is None:\n",
    "        ax = plt.gca()\n",
    "    main_detector = detectors[0]\n",
    "    main_motor_field, *_ = motor.describe()\n",
    "    lf = bc.LiveFit(model, main_detector.name, {'x': main_motor_field}, guess)\n",
    "    lfp = bc.LiveFitPlot(lf, color='r', ax=ax)\n",
    "    lp = bc.LivePlot(main_detector, main_motor_field,\n",
    "                     linestyle='none', marker='o', ax=ax)\n",
    "    jitter = np.abs(stop - start) / (num * 10)\n",
    "    @bp.subs_decorator([lfp, lp])\n",
    "    @bp.stage_decorator(list(detectors) + [motor])\n",
    "    @bp.run_decorator()\n",
    "    def plan():\n",
    "        while True:\n",
    "            for step in np.linspace(start, stop, num):\n",
    "                step = step + (jitter * np.random.randn(1)[0])\n",
    "                yield from bp.abs_set(motor, step, wait=True)\n",
    "                yield from bp.trigger_and_read(list(detectors) + [motor])\n",
    "                yield from bp.checkpoint()\n",
    "          \n",
    "            if lf.result is None or errorbar(lf.result, 'sigma') < err_thresh:\n",
    "                break\n",
    "\n",
    "    return (yield from plan())"
   ]
  },
  {
   "cell_type": "code",
   "execution_count": 0,
   "metadata": {
    "collapsed": false
   },
   "outputs": [],
   "source": [
    "plt.figure();"
   ]
  },
  {
   "cell_type": "code",
   "execution_count": 0,
   "metadata": {
    "collapsed": false
   },
   "outputs": [],
   "source": [
    "RE(scan_gaussian([noisy_det], motor, -4, 4, 25, ax=plt.gca()))"
   ]
  },
  {
   "cell_type": "markdown",
   "metadata": {
    "collapsed": true
   },
   "source": [
    "Look at a pretty-printed table of the measurements"
   ]
  },
  {
   "cell_type": "code",
   "execution_count": 0,
   "metadata": {
    "collapsed": false,
    "scrolled": true
   },
   "outputs": [],
   "source": [
    "db.process(db[-1], bc.LiveTable(['motor', 'noisy_det']))"
   ]
  },
  {
   "cell_type": "markdown",
   "metadata": {},
   "source": [
    "Plot the measurements against sequence number"
   ]
  },
  {
   "cell_type": "code",
   "execution_count": 0,
   "metadata": {
    "collapsed": false
   },
   "outputs": [],
   "source": [
    "plt.figure()\n",
    "db.process(db[-1], bc.LivePlot('noisy_det', ax=plt.gca()))"
   ]
  },
  {
   "cell_type": "markdown",
   "metadata": {},
   "source": [
    "Plot against motor position"
   ]
  },
  {
   "cell_type": "code",
   "execution_count": 0,
   "metadata": {
    "collapsed": false
   },
   "outputs": [],
   "source": [
    "plt.figure()\n",
    "db.process(db[-1], bc.LivePlot('noisy_det', 'motor', ax=plt.gca(), ls='none', marker='o'))"
   ]
  },
  {
   "cell_type": "code",
   "execution_count": 0,
   "metadata": {
    "collapsed": false
   },
   "outputs": [],
   "source": [
    "db.get_table(db[-1])"
   ]
  },
  {
   "cell_type": "markdown",
   "metadata": {
    "collapsed": true
   },
   "source": [
    "## Searching the Data broker\n",
    "\n",
    "https://nsls-ii.github.io/databroker/searching.html"
   ]
  },
  {
   "cell_type": "code",
   "execution_count": 0,
   "metadata": {
    "collapsed": true
   },
   "outputs": [],
   "source": [
    "### by uid / partial uid"
   ]
  },
  {
   "cell_type": "code",
   "execution_count": 0,
   "metadata": {
    "collapsed": false
   },
   "outputs": [],
   "source": [
    "h = db[-1]\n",
    "assert db[h.start['uid']] == h\n",
    "assert db[h.start['uid'][:5]] == h"
   ]
  },
  {
   "cell_type": "markdown",
   "metadata": {},
   "source": [
    "Insert a bunch of runs with a varying metadata"
   ]
  },
  {
   "cell_type": "code",
   "execution_count": 0,
   "metadata": {
    "collapsed": false
   },
   "outputs": [],
   "source": [
    "det.exposure_time = 0\n",
    "\n",
    "def mega_plan(operator):\n",
    "    base_md = {'operator': operator}\n",
    "    for sample in ('A', 'B', 'C'):\n",
    "        yield from bp.count([det], md={**base_md, 'role': 'calibration', 'sample': sample})\n",
    "        yield from bp.scan([det], motor, -1, 3, 10, md={**base_md, 'role': 'ascan', 'sample': sample})"
   ]
  },
  {
   "cell_type": "code",
   "execution_count": 0,
   "metadata": {
    "collapsed": false
   },
   "outputs": [],
   "source": [
    "RE(mega_plan('tcaswell'))"
   ]
  },
  {
   "cell_type": "code",
   "execution_count": 0,
   "metadata": {
    "collapsed": false
   },
   "outputs": [],
   "source": [
    "RE(mega_plan('scampbell'))"
   ]
  },
  {
   "cell_type": "code",
   "execution_count": 0,
   "metadata": {
    "collapsed": false
   },
   "outputs": [],
   "source": [
    "RE(mega_plan('dallan'))"
   ]
  },
  {
   "cell_type": "markdown",
   "metadata": {},
   "source": [
    "### Search by keyword"
   ]
  },
  {
   "cell_type": "code",
   "execution_count": 0,
   "metadata": {
    "collapsed": false
   },
   "outputs": [],
   "source": [
    "len(db(operator='dallan'))"
   ]
  },
  {
   "cell_type": "code",
   "execution_count": 0,
   "metadata": {
    "collapsed": false
   },
   "outputs": [],
   "source": [
    "len(db(operator='dallan', role='calibration'))"
   ]
  },
  {
   "cell_type": "code",
   "execution_count": 0,
   "metadata": {
    "collapsed": false
   },
   "outputs": [],
   "source": [
    "len(db(operator='dallan', role='calibration', sample='A'))"
   ]
  },
  {
   "cell_type": "code",
   "execution_count": 0,
   "metadata": {
    "collapsed": false
   },
   "outputs": [],
   "source": [
    "len(db())"
   ]
  },
  {
   "cell_type": "code",
   "execution_count": 0,
   "metadata": {
    "collapsed": true
   },
   "outputs": [],
   "source": []
  },
  {
   "cell_type": "code",
   "execution_count": 0,
   "metadata": {
    "collapsed": true
   },
   "outputs": [],
   "source": []
  }
 ],
 "metadata": {
  "kernelspec": {
   "display_name": "dd36",
   "language": "python",
   "name": "myenv"
  },
  "language_info": {
   "codemirror_mode": {
    "name": "ipython",
    "version": 3
   },
   "file_extension": ".py",
   "mimetype": "text/x-python",
   "name": "python",
   "nbconvert_exporter": "python",
   "pygments_lexer": "ipython3",
   "version": "3.6.0"
  },
  "widgets": {
   "state": {
    "40af5ebca48643e39d5e396531dc84a5": {
     "views": [
      {
       "cell_index": 33
      }
     ]
    },
    "4275627a5c2a4302bceee66ed23a5001": {
     "views": [
      {
       "cell_index": 38
      }
     ]
    },
    "aac87647a22e48998eadd6857af2d001": {
     "views": [
      {
       "cell_index": 40
      }
     ]
    },
    "be396cc9a9474e85a8902a967c3ca98d": {
     "views": [
      {
       "cell_index": 27
      }
     ]
    }
   },
   "version": "1.2.0"
  }
 },
 "nbformat": 4,
 "nbformat_minor": 2
}
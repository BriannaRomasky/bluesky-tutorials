{
 "cells": [
  {
   "cell_type": "markdown",
   "metadata": {},
   "source": [
    "# Hello Bluesky: 'Counting' a detector"
   ]
  },
  {
   "cell_type": "markdown",
   "metadata": {},
   "source": [
    "## Configuration\n",
    "\n",
    "This code would normally go in a script automatically run at startup. The user would not have to worry about this."
   ]
  },
  {
   "cell_type": "code",
   "execution_count": 1,
   "metadata": {},
   "outputs": [
    {
     "name": "stdout",
     "output_type": "stream",
     "text": [
      "Loading metadata history from /Users/dallan/.config/bluesky/bluesky_history.db\n"
     ]
    }
   ],
   "source": [
    "%matplotlib notebook\n",
    "%run startup.py"
   ]
  },
  {
   "cell_type": "markdown",
   "metadata": {},
   "source": [
    "### Instantiate objects that communicate with hardware\n",
    "\n",
    "If we had real hardware communicating over EPICS, we would use the ``ophyd`` package integerate the hardware with bluesky. Examples:\n",
    "\n",
    "```python\n",
    "import ophyd\n",
    "\n",
    "x_motor = ophyd.EpicsMotor('PV:...', name='x_motor')\n",
    "sclr = ophyd.EpicsScaler('PV:...', name='sclr')\n",
    "area_det = ophyd.AreaDetector('PV:...', name='area_det')\n",
    "```\n",
    "\n",
    "These will be covered in more detail in a later tutorial. For this tutorial, we'll use simulated hardware that it included in bluesky itself."
   ]
  },
  {
   "cell_type": "code",
   "execution_count": 2,
   "metadata": {
    "collapsed": true
   },
   "outputs": [],
   "source": [
    "# Import a simulated detector.\n",
    "from ophyd.sim import noisy_det"
   ]
  },
  {
   "cell_type": "markdown",
   "metadata": {},
   "source": [
    "We can see that the `noisy_det` object has one field, named `'noisy_det'`"
   ]
  },
  {
   "cell_type": "code",
   "execution_count": null,
   "metadata": {
    "collapsed": true
   },
   "outputs": [],
   "source": [
    "noisy_det.describe()"
   ]
  },
  {
   "cell_type": "markdown",
   "metadata": {},
   "source": [
    "Put the cursor after ``import`` and hit the TAB key to see a list of plans. Or, better yet, see [this page of the bluesky documentation](https://nsls-ii.github.io/bluesky/plans.html)."
   ]
  },
  {
   "cell_type": "code",
   "execution_count": null,
   "metadata": {
    "collapsed": true
   },
   "outputs": [],
   "source": [
    "from bluesky.plans import "
   ]
  },
  {
   "cell_type": "markdown",
   "metadata": {},
   "source": [
    "## Data Acquisition\n",
    "\n",
    "### Executing a `count` plan with various parameters"
   ]
  },
  {
   "cell_type": "code",
   "execution_count": null,
   "metadata": {
    "collapsed": true
   },
   "outputs": [],
   "source": [
    "RE(count([noisy_det]))"
   ]
  },
  {
   "cell_type": "markdown",
   "metadata": {},
   "source": [
    "The return value is a list of the run IDs that uniquely identify this data set. The \"scan num\" is easier to remember but is not good for long-term reference because it may not be unique."
   ]
  },
  {
   "cell_type": "code",
   "execution_count": null,
   "metadata": {
    "collapsed": true
   },
   "outputs": [],
   "source": [
    "count?"
   ]
  },
  {
   "cell_type": "code",
   "execution_count": null,
   "metadata": {
    "collapsed": true
   },
   "outputs": [],
   "source": [
    "# five consecutive readings\n",
    "RE(count([noisy_det], num=5))"
   ]
  },
  {
   "cell_type": "code",
   "execution_count": null,
   "metadata": {
    "collapsed": true
   },
   "outputs": [],
   "source": [
    "# five sequential readings separated by a 1-second delay\n",
    "RE(count([noisy_det], num=5, delay=1))"
   ]
  },
  {
   "cell_type": "code",
   "execution_count": null,
   "metadata": {
    "collapsed": true
   },
   "outputs": [],
   "source": [
    "# a variable delay\n",
    "RE(count([noisy_det], num=5, delay=[1, 2, 3, 4]))"
   ]
  },
  {
   "cell_type": "code",
   "execution_count": null,
   "metadata": {
    "collapsed": true
   },
   "outputs": [],
   "source": [
    "# multiple detectors\n",
    "from ophyd.sim import det1, det2\n",
    "\n",
    "RE(count([det1, det2], num=3))"
   ]
  },
  {
   "cell_type": "markdown",
   "metadata": {},
   "source": [
    "### Composing plans"
   ]
  },
  {
   "cell_type": "code",
   "execution_count": null,
   "metadata": {
    "collapsed": true
   },
   "outputs": [],
   "source": [
    "def multi_count(detectors):\n",
    "    \"Three runs with 1, 2, 3 readings each.\"\n",
    "    for i in [1, 2, 3]:\n",
    "        yield from count(detectors, num=i)"
   ]
  },
  {
   "cell_type": "code",
   "execution_count": null,
   "metadata": {
    "collapsed": true
   },
   "outputs": [],
   "source": [
    "RE(multi_count([noisy_det]))"
   ]
  },
  {
   "cell_type": "markdown",
   "metadata": {},
   "source": [
    "Notice that `count` is invoked three times, and that each invocation generates a new scan number and run ID."
   ]
  },
  {
   "cell_type": "markdown",
   "metadata": {},
   "source": [
    "### Choosing useful inputs\n",
    "\n",
    "If, for your application, you are always counting the same detector, it might make more sense to hard-code it the definition of the plan."
   ]
  },
  {
   "cell_type": "code",
   "execution_count": null,
   "metadata": {
    "collapsed": true
   },
   "outputs": [],
   "source": [
    "def multi_count_det():\n",
    "    \"Three runs with 1, 2, 3 readings each.\"\n",
    "    detectors = [noisy_det]\n",
    "    for i in [1, 2, 3]:\n",
    "        yield from count(detectors, num=i)"
   ]
  },
  {
   "cell_type": "markdown",
   "metadata": {},
   "source": [
    "## Exercises\n",
    "\n",
    "1. Count a detector with 3 sequential readings, generating one run.\n",
    "2. Count a detector 3 times with one reading each, generating a separate run (i.e., a separate 'scan num') for each reading.\n",
    "3. Count a detector with exponentially increasing delays between readings."
   ]
  },
  {
   "cell_type": "code",
   "execution_count": null,
   "metadata": {
    "collapsed": true
   },
   "outputs": [],
   "source": []
  }
 ],
 "metadata": {
  "kernelspec": {
   "display_name": "Python 3",
   "language": "python",
   "name": "python3"
  },
  "language_info": {
   "codemirror_mode": {
    "name": "ipython",
    "version": 3
   },
   "file_extension": ".py",
   "mimetype": "text/x-python",
   "name": "python",
   "nbconvert_exporter": "python",
   "pygments_lexer": "ipython3",
   "version": "3.6.2"
  }
 },
 "nbformat": 4,
 "nbformat_minor": 2
}

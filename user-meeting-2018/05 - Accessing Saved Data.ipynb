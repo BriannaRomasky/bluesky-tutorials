{
 "cells": [
  {
   "cell_type": "markdown",
   "metadata": {},
   "source": [
    "# Accessing Saved Data\n",
    "\n",
    "## Configuration\n",
    "\n",
    "This code would normally go in a script automatically run at startup. The user would not have to worry about this."
   ]
  },
  {
   "cell_type": "code",
   "execution_count": null,
   "metadata": {},
   "outputs": [],
   "source": [
    "%matplotlib notebook\n",
    "%run startup.py\n",
    "\n",
    "# Set up simulated hardware.\n",
    "from ophyd.sim import SynAxis, SynGauss\n",
    "motor = SynAxis(name='motor')\n",
    "det = SynGauss('det', motor, 'motor', center=0, Imax=1,\n",
    "               noise='uniform', sigma=1, noise_multiplier=0.1)"
   ]
  },
  {
   "cell_type": "markdown",
   "metadata": {},
   "source": [
    "## Data Acquisition\n",
    "\n",
    "### Execute a scan, retrieve the data as a table, and export it to CSV."
   ]
  },
  {
   "cell_type": "code",
   "execution_count": null,
   "metadata": {},
   "outputs": [],
   "source": [
    "RE(scan([det], motor, -1, 1, 5))"
   ]
  },
  {
   "cell_type": "markdown",
   "metadata": {},
   "source": [
    "Access the most recent run, and get the data as a table (a `pandas.DataFrame`)."
   ]
  },
  {
   "cell_type": "code",
   "execution_count": null,
   "metadata": {},
   "outputs": [],
   "source": [
    "header = db[-1]\n",
    "header.table()"
   ]
  },
  {
   "cell_type": "code",
   "execution_count": null,
   "metadata": {
    "collapsed": true
   },
   "outputs": [],
   "source": [
    "header.table().to_csv('my_data.csv')"
   ]
  },
  {
   "cell_type": "code",
   "execution_count": null,
   "metadata": {},
   "outputs": [],
   "source": [
    "!cat my_data.csv"
   ]
  },
  {
   "cell_type": "markdown",
   "metadata": {},
   "source": [
    "### Use metadata to generate a nice filename\n",
    "\n",
    "Most of the useful metadata in stored in the \"Run Start document,\" which we can access in `header.start`. Let's see what's in there. (See [this page of the bluesky documentation](https://nsls-ii.github.io/bluesky/documents.html) for more about \"documents\".)"
   ]
  },
  {
   "cell_type": "code",
   "execution_count": null,
   "metadata": {},
   "outputs": [],
   "source": [
    "header.start"
   ]
  },
  {
   "cell_type": "code",
   "execution_count": null,
   "metadata": {
    "collapsed": true
   },
   "outputs": [],
   "source": [
    "def export_csv(header):\n",
    "    filename = \"{plan_name}_{num_points}.csv\".format(**header.start)\n",
    "    header.table().to_csv(filename)\n",
    "    print(\"Exported data to\", filename)"
   ]
  },
  {
   "cell_type": "code",
   "execution_count": null,
   "metadata": {},
   "outputs": [],
   "source": [
    "export_csv(header)"
   ]
  },
  {
   "cell_type": "markdown",
   "metadata": {},
   "source": [
    "Execute a new scan with a different number of points."
   ]
  },
  {
   "cell_type": "code",
   "execution_count": null,
   "metadata": {},
   "outputs": [],
   "source": [
    "RE(scan([det], motor, -1, 1, 8))"
   ]
  },
  {
   "cell_type": "code",
   "execution_count": null,
   "metadata": {},
   "outputs": [],
   "source": [
    "export_csv(db[-1])"
   ]
  },
  {
   "cell_type": "markdown",
   "metadata": {},
   "source": [
    "### Provide metadata and using it in the filename"
   ]
  },
  {
   "cell_type": "code",
   "execution_count": null,
   "metadata": {
    "collapsed": true
   },
   "outputs": [],
   "source": [
    "def export_csv2(header):\n",
    "    \"\"\"Export to CSV. Expect header to have 'operator' and 'purpose' metadata.\"\"\"\n",
    "    filename = \"{operator}_{plan_name}_{num_points}_{purpose}.csv\".format(**header.start)\n",
    "    header.table().to_csv(filename)\n",
    "    print(\"Exported data to\", filename)"
   ]
  },
  {
   "cell_type": "code",
   "execution_count": null,
   "metadata": {},
   "outputs": [],
   "source": [
    "# When RE receives extra keyword arguments it does not recognize,\n",
    "# it captures them as metadata.\n",
    "RE(scan([det], motor, -1, 1, 8), purpose='calibration', operator='Dan')"
   ]
  },
  {
   "cell_type": "code",
   "execution_count": null,
   "metadata": {},
   "outputs": [],
   "source": [
    "export_csv2(db[-1])"
   ]
  },
  {
   "cell_type": "code",
   "execution_count": null,
   "metadata": {
    "collapsed": true
   },
   "outputs": [],
   "source": [
    "def overnight():\n",
    "    \"A multi-run plan. Each run gets different 'purpose' metadata.\"\n",
    "    yield from scan([det], motor, -1, 1, 10, md={'purpose': 'calibration'})\n",
    "    # open shutter or something\n",
    "    yield from scan([det], motor, -1, 1, 10, md={'purpose': 'rough measurement'})\n",
    "    yield from scan([det], motor, -1, 1, 100, md={'purpose': 'fine measurement'})"
   ]
  },
  {
   "cell_type": "code",
   "execution_count": null,
   "metadata": {},
   "outputs": [],
   "source": [
    "RE(overnight(), operator='Dan')\n",
    "headers = db[-3:]  # grab the last three runs\n",
    "for header in headers:\n",
    "    export_csv2(header)"
   ]
  },
  {
   "cell_type": "code",
   "execution_count": null,
   "metadata": {},
   "outputs": [],
   "source": [
    "run_ids = RE(overnight(), operator='Dan')  # stash the unique IDs of these runs...\n",
    "headers = db[run_ids]  # ... and use them to look up the data\n",
    "for header in headers:\n",
    "    export_csv2(header)"
   ]
  },
  {
   "cell_type": "markdown",
   "metadata": {},
   "source": [
    "### Search for runs using user-specified metadata and plot search results together"
   ]
  },
  {
   "cell_type": "code",
   "execution_count": null,
   "metadata": {},
   "outputs": [],
   "source": [
    "fig, ax = plt.subplots()\n",
    "\n",
    "for header in db(operator='Dan'):\n",
    "    label = header.start['scan_id']\n",
    "    data = header.table()\n",
    "    ax.plot('motor', 'det', label=label, data=data)\n",
    "\n",
    "ax.legend()"
   ]
  },
  {
   "cell_type": "code",
   "execution_count": null,
   "metadata": {},
   "outputs": [],
   "source": [
    "fig, ax = plt.subplots()\n",
    "\n",
    "for header in db(purpose='fine measurement'):\n",
    "    label = header.start['scan_id']\n",
    "    data = header.table()\n",
    "    ax.plot('motor', 'det', label=label, data=data)\n",
    "\n",
    "ax.legend()"
   ]
  },
  {
   "cell_type": "markdown",
   "metadata": {},
   "source": [
    "## Exercises\n",
    "\n",
    "1. Experiment with writing variations of `export_csv`. Try writing one that sorts files into subdirectories based on operator name. (Hint: make directories in advance using `!mkdir DIRECTORY_NAME`.)\n",
    "2. Try various search queries with `db()`."
   ]
  },
  {
   "cell_type": "code",
   "execution_count": null,
   "metadata": {
    "collapsed": true
   },
   "outputs": [],
   "source": []
  }
 ],
 "metadata": {
  "kernelspec": {
   "display_name": "Python 3",
   "language": "python",
   "name": "python3"
  },
  "language_info": {
   "codemirror_mode": {
    "name": "ipython",
    "version": 3
   },
   "file_extension": ".py",
   "mimetype": "text/x-python",
   "name": "python",
   "nbconvert_exporter": "python",
   "pygments_lexer": "ipython3",
   "version": "3.6.2"
  }
 },
 "nbformat": 4,
 "nbformat_minor": 2
}

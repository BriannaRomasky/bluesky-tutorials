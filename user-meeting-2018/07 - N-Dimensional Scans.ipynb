{
 "cells": [
  {
   "cell_type": "markdown",
   "metadata": {},
   "source": [
    "# N-dimensional scans\n",
    "\n",
    "## Configuration\n",
    "\n",
    "This code would normally go in a script automatically run at startup. The user would not have to worry about this."
   ]
  },
  {
   "cell_type": "code",
   "execution_count": null,
   "metadata": {},
   "outputs": [],
   "source": [
    "%matplotlib notebook\n",
    "%run startup.py\n",
    "\n",
    "# Set up simulated hardware.\n",
    "from ophyd.sim import det4, motor1, motor2, motor3\n",
    "# The 'det4' example detector a 2D Gaussian function of motor1, motor2."
   ]
  },
  {
   "cell_type": "markdown",
   "metadata": {},
   "source": [
    "## Data Acquisition\n",
    "\n",
    "### \"Inner Product Scan\": move motors together"
   ]
  },
  {
   "cell_type": "code",
   "execution_count": null,
   "metadata": {},
   "outputs": [],
   "source": [
    "# Move motor1 from 1-5 while moving motor2 from 10-50 -- both in 5 steps.\n",
    "RE(inner_product_scan([det4], 5,\n",
    "                      motor1, 1, 5,\n",
    "                      motor2, 10, 50))"
   ]
  },
  {
   "cell_type": "markdown",
   "metadata": {},
   "source": [
    "As we did for `scan` in a previous notebook, we can inspect the plan without executing it."
   ]
  },
  {
   "cell_type": "code",
   "execution_count": null,
   "metadata": {},
   "outputs": [],
   "source": [
    "from bluesky.simulators import summarize_plan\n",
    "\n",
    "summarize_plan(inner_product_scan([det4], 5, motor1, 1, 5, motor2, 10, 50))"
   ]
  },
  {
   "cell_type": "markdown",
   "metadata": {},
   "source": [
    "We can also visualize the plan's trajectory (again, without actually moving any motors)."
   ]
  },
  {
   "cell_type": "code",
   "execution_count": null,
   "metadata": {},
   "outputs": [],
   "source": [
    "from bluesky.simulators import plot_raster_path\n",
    "\n",
    "plot_raster_path(inner_product_scan([det4], 5, motor1, 1, 20, motor2, 10, 50),\n",
    "                 x_motor='motor1',\n",
    "                 y_motor='motor2');"
   ]
  },
  {
   "cell_type": "markdown",
   "metadata": {},
   "source": [
    "### `grid_scan` -- move motors in a mesh"
   ]
  },
  {
   "cell_type": "code",
   "execution_count": null,
   "metadata": {},
   "outputs": [],
   "source": [
    "# Move motor1 from 1-3 in 3 steps and motor2 from 10-50 in 5 steps.\n",
    "RE(grid_scan([det4],\n",
    "             motor1, 1, 30, 3,\n",
    "             motor2, 10, 50, 5, False))"
   ]
  },
  {
   "cell_type": "markdown",
   "metadata": {},
   "source": [
    "The last parameter passed to ``outer_product_scan`` (``False``) controls whether the trajectory is \"snaked\" or not. Observe the difference when we visualize the trajectory:"
   ]
  },
  {
   "cell_type": "code",
   "execution_count": null,
   "metadata": {},
   "outputs": [],
   "source": [
    "from bluesky.simulators import plot_raster_path\n",
    "\n",
    "plot_raster_path(grid_scan([det4],\n",
    "                           motor1, 1, 30, 3,\n",
    "                           motor2, 10, 50, 5, False),\n",
    "                 x_motor='motor1',\n",
    "                 y_motor='motor2');"
   ]
  },
  {
   "cell_type": "code",
   "execution_count": null,
   "metadata": {},
   "outputs": [],
   "source": [
    "from bluesky.simulators import plot_raster_path\n",
    "\n",
    "plot_raster_path(grid_scan([det4],\n",
    "                           motor1, 1, 30, 3,\n",
    "                           motor2, 10, 50, 5, True),\n",
    "                 x_motor='motor1',\n",
    "                 y_motor='motor2');"
   ]
  },
  {
   "cell_type": "markdown",
   "metadata": {},
   "source": [
    "### The general case: mixing inner and outer\n",
    "\n",
    "For example, move two motors together (inner product) in a mesh against a third motor. We introduce the ``cycler`` object (from an external library) which is handy for assembling arbitrary multi-motor trajectories."
   ]
  },
  {
   "cell_type": "code",
   "execution_count": null,
   "metadata": {
    "collapsed": true
   },
   "outputs": [],
   "source": [
    "from cycler import cycler\n",
    "\n",
    "traj1 = cycler(motor1, [1, 2, 3])\n",
    "traj2 = cycler(motor2, [10, 20, 30])"
   ]
  },
  {
   "cell_type": "code",
   "execution_count": null,
   "metadata": {},
   "outputs": [],
   "source": [
    "list(traj1)"
   ]
  },
  {
   "cell_type": "code",
   "execution_count": null,
   "metadata": {},
   "outputs": [],
   "source": [
    "list(traj1 + traj2)  # an \"inner product\" trajectory"
   ]
  },
  {
   "cell_type": "code",
   "execution_count": null,
   "metadata": {},
   "outputs": [],
   "source": [
    "list(traj1 * traj2)  # an \"outer product\" trajectory"
   ]
  },
  {
   "cell_type": "code",
   "execution_count": null,
   "metadata": {},
   "outputs": [],
   "source": [
    "traj3 = cycler(motor3, [100, 200, 300])\n",
    "\n",
    "list((traj1 + traj2) * traj3)"
   ]
  },
  {
   "cell_type": "markdown",
   "metadata": {},
   "source": [
    "Pass this whole thing to ``scan_nd``, along with a list of detectors."
   ]
  },
  {
   "cell_type": "code",
   "execution_count": null,
   "metadata": {},
   "outputs": [],
   "source": [
    "RE(scan_nd([det4], (traj1 + traj2) * traj3))"
   ]
  },
  {
   "cell_type": "markdown",
   "metadata": {},
   "source": [
    "Under the hood, ``inner_product_scan`` and ``outer_product_scan`` use ``scan_nd``; they just assemble the cycler objects for you."
   ]
  },
  {
   "cell_type": "markdown",
   "metadata": {},
   "source": [
    "## Exercises\n",
    "\n",
    "1. Above we demonstrated ``inner_product_scan`` and ``outer_product_scan`` in two dimensions. They extend to any number of dimensions. Try a 3D scan using ``motor1``, ``motor2``, and ``motor3``.\n",
    "2. Play around with cyclers to make various multi-motor trajectories."
   ]
  }
 ],
 "metadata": {
  "kernelspec": {
   "display_name": "Python 3",
   "language": "python",
   "name": "python3"
  },
  "language_info": {
   "codemirror_mode": {
    "name": "ipython",
    "version": 3
   },
   "file_extension": ".py",
   "mimetype": "text/x-python",
   "name": "python",
   "nbconvert_exporter": "python",
   "pygments_lexer": "ipython3",
   "version": "3.6.2"
  }
 },
 "nbformat": 4,
 "nbformat_minor": 2
}

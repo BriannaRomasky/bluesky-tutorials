{
 "cells": [
  {
   "cell_type": "markdown",
   "metadata": {},
   "source": [
    "# Simple Compound Device\n",
    "\n",
    "## Configuration\n",
    "\n",
    "This code would normally go in a script automatically run at startup. The user would not have to worry about this."
   ]
  },
  {
   "cell_type": "code",
   "execution_count": 1,
   "metadata": {},
   "outputs": [
    {
     "name": "stdout",
     "output_type": "stream",
     "text": [
      "Loading metadata history from /Users/dallan/.config/bluesky/bluesky_history.db\n"
     ]
    }
   ],
   "source": [
    "%matplotlib notebook\n",
    "%run startup.py"
   ]
  },
  {
   "cell_type": "markdown",
   "metadata": {},
   "source": [
    "## Data Acquisition\n",
    "\n",
    "### Signals\n",
    "\n",
    "This is a simple Signal. We can read it and set it."
   ]
  },
  {
   "cell_type": "code",
   "execution_count": 2,
   "metadata": {
    "collapsed": true
   },
   "outputs": [],
   "source": [
    "from ophyd import Signal\n",
    "\n",
    "x = Signal(value=0, name='x')"
   ]
  },
  {
   "cell_type": "code",
   "execution_count": 3,
   "metadata": {},
   "outputs": [
    {
     "data": {
      "text/plain": [
       "{'x': {'timestamp': 1509711027.175422, 'value': 0}}"
      ]
     },
     "execution_count": 3,
     "metadata": {},
     "output_type": "execute_result"
    }
   ],
   "source": [
    "x.read()"
   ]
  },
  {
   "cell_type": "code",
   "execution_count": 4,
   "metadata": {},
   "outputs": [
    {
     "data": {
      "text/plain": [
       "Status(obj=Signal(name='x', value=0, timestamp=1509711027.175422), done=False, success=False)"
      ]
     },
     "execution_count": 4,
     "metadata": {},
     "output_type": "execute_result"
    }
   ],
   "source": [
    "x.set(3)"
   ]
  },
  {
   "cell_type": "code",
   "execution_count": 5,
   "metadata": {},
   "outputs": [
    {
     "data": {
      "text/plain": [
       "{'x': {'timestamp': 1509711028.187511, 'value': 3}}"
      ]
     },
     "execution_count": 5,
     "metadata": {},
     "output_type": "execute_result"
    }
   ],
   "source": [
    "x.read()"
   ]
  },
  {
   "cell_type": "markdown",
   "metadata": {},
   "source": [
    "The RunEngine calls these methods on ``x`` for us when we scan it:"
   ]
  },
  {
   "cell_type": "code",
   "execution_count": 6,
   "metadata": {
    "scrolled": false
   },
   "outputs": [
    {
     "name": "stdout",
     "output_type": "stream",
     "text": [
      "Transient Scan ID: 41     Time: 2017/11/03 08:10:37\n",
      "Persistent Unique Scan ID: '4f83a34e-f81b-4f3c-9ac0-48130bb9405e'\n",
      "New stream: 'primary'\n",
      "+-----------+------------+------------+\n",
      "|   seq_num |       time |          x |\n",
      "+-----------+------------+------------+\n",
      "|         1 | 08:10:37.6 |     -1.000 |\n",
      "|         2 | 08:10:37.7 |      0.000 |\n",
      "|         3 | 08:10:37.7 |      1.000 |\n",
      "+-----------+------------+------------+\n",
      "generator scan ['4f83a3'] (scan num: 41)\n",
      "\n",
      "\n",
      "\n"
     ]
    },
    {
     "data": {
      "text/plain": [
       "('4f83a34e-f81b-4f3c-9ac0-48130bb9405e',)"
      ]
     },
     "execution_count": 6,
     "metadata": {},
     "output_type": "execute_result"
    }
   ],
   "source": [
    "from ophyd.sim import det\n",
    "\n",
    "RE(scan([], x, -1, 1, 3))"
   ]
  },
  {
   "cell_type": "markdown",
   "metadata": {},
   "source": [
    "The ``Signal`` class is a \"soft\" signal not communicating with physical hardware. At beamlines, we more often use ``EpicsSignal`` which takes a PV string as its argument.\n",
    "\n",
    "```python\n",
    "x = EpicsSignal('PV:...', name ='x')\n",
    "```"
   ]
  },
  {
   "cell_type": "markdown",
   "metadata": {},
   "source": [
    "### Device\n",
    "\n",
    "A Device is composed of Signals (or other Devices) that are bundled to create logical groups that map to our notion of a physical piece of hardware -- for example, an XY stage."
   ]
  },
  {
   "cell_type": "code",
   "execution_count": 7,
   "metadata": {
    "collapsed": true
   },
   "outputs": [],
   "source": [
    "from ophyd import Device, Component as Cpt\n",
    "\n",
    "class XYStage(Device):\n",
    "    x = Cpt(Signal, value=0)\n",
    "    y = Cpt(Signal, value=0)\n",
    "\n",
    "\n",
    "stage = XYStage(name='stage')"
   ]
  },
  {
   "cell_type": "markdown",
   "metadata": {},
   "source": [
    "The readings from x and y are collated into one dictionary. The names of the components ('x' and 'y') are joined with the name of the overall device ('stage')."
   ]
  },
  {
   "cell_type": "code",
   "execution_count": 0,
   "metadata": {
    "collapsed": true
   },
   "outputs": [],
   "source": [
    "stage.read()"
   ]
  },
  {
   "cell_type": "markdown",
   "metadata": {},
   "source": [
    "Each component signal can still be read or set individually."
   ]
  },
  {
   "cell_type": "code",
   "execution_count": 0,
   "metadata": {
    "collapsed": true
   },
   "outputs": [],
   "source": [
    "stage.x.set(2)\n",
    "stage.x.read()"
   ]
  },
  {
   "cell_type": "code",
   "execution_count": 0,
   "metadata": {
    "collapsed": true
   },
   "outputs": [],
   "source": [
    "stage.read()"
   ]
  },
  {
   "cell_type": "markdown",
   "metadata": {},
   "source": [
    "### Built-in Devices"
   ]
  },
  {
   "cell_type": "markdown",
   "metadata": {},
   "source": [
    "Ophyd includes some built-in Devices for EPICS. For example, ``EpicsMotor`` looks something like this:\n",
    "\n",
    "```python\n",
    "class EpicsMotor(Device):\n",
    "    # position\n",
    "    user_readback = Cpt(EpicsSignalRO, '.RBV')\n",
    "    user_setpoint = Cpt(EpicsSignal, '.VAL', limits=True)\n",
    "\n",
    "    # calibration dial <-> user\n",
    "    user_offset = Cpt(EpicsSignal, '.OFF')\n",
    "    user_offset_dir = Cpt(EpicsSignal, '.DIR')\n",
    "    offset_freeze_switch = Cpt(EpicsSignal, '.FOFF')\n",
    "    set_use_switch = Cpt(EpicsSignal, '.SET')\n",
    "\n",
    "    # configuration\n",
    "    velocity = Cpt(EpicsSignal, '.VELO')\n",
    "    acceleration = Cpt(EpicsSignal, '.ACCL')\n",
    "    motor_egu = Cpt(EpicsSignal, '.EGU')\n",
    "\n",
    "    # motor status\n",
    "    motor_is_moving = Cpt(EpicsSignalRO, '.MOVN')\n",
    "    motor_done_move = Cpt(EpicsSignalRO, '.DMOV')\n",
    "    high_limit_switch = Cpt(EpicsSignal, '.HLS')\n",
    "    low_limit_switch = Cpt(EpicsSignal, '.LLS')\n",
    "    direction_of_travel = Cpt(EpicsSignal, '.TDIR')\n",
    "\n",
    "    # commands\n",
    "    motor_stop = Cpt(EpicsSignal, '.STOP')\n",
    "    home_forward = Cpt(EpicsSignal, '.HOMF')\n",
    "    home_reverse = Cpt(EpicsSignal, '.HOMR')\n",
    "\n",
    "    ...\n",
    "```\n",
    "\n",
    "Connecting to a specific motor looks like:\n",
    "\n",
    "```python\n",
    "motor = EpicsMotor('PV:...')\n",
    "```\n",
    "\n",
    "Likewise, connecting to an area detector is simple:\n",
    "\n",
    "```python\n",
    "ccd = Prosilica('PV:...')  # an area detector\n",
    "```"
   ]
  },
  {
   "cell_type": "markdown",
   "metadata": {},
   "source": [
    "### Using the custom XY Stage Device in a raster scan"
   ]
  },
  {
   "cell_type": "code",
   "execution_count": 0,
   "metadata": {
    "collapsed": true
   },
   "outputs": [],
   "source": [
    "from bluesky.plans import outer_product_scan, subs_wrapper\n",
    "\n",
    "# Define a simulated detector that is coupled to our simulated XY stage.\n",
    "det = Syn2DGauss('det',\n",
    "                 stage.x, 'stage_x',\n",
    "                 stage.y, 'stage_y',\n",
    "                 center=(1, -1),\n",
    "                 Imax=1000,\n",
    "                 sigma=10,\n",
    "                 noise='poisson')\n",
    "det.exposure_time = 0.1\n",
    "\n",
    "def raster_scan(x_start, x_stop, NX,\n",
    "                y_start, y_stop, NY):\n",
    "    \"A variation on outer_product_scan that includes LiveGrid and LiveTable built in.\"\n",
    "    fig, ax = plt.subplots()\n",
    "    lg = LiveGrid((NY, NX), 'det',\n",
    "                  xlabel='stage_x', ylabel='stage_y',\n",
    "                  ax=ax,\n",
    "                  extent=(x_start, x_stop,\n",
    "                          y_start, y_stop))\n",
    "    lt = LiveTable([det, stage])\n",
    "\n",
    "    return (yield from subs_wrapper(\n",
    "        outer_product_scan([det],\n",
    "                  stage.y, y_start, y_stop, NY,\n",
    "                  stage.x, x_start, x_stop, NX,\n",
    "                  True),\n",
    "        [lg, lt]))"
   ]
  },
  {
   "cell_type": "code",
   "execution_count": 0,
   "metadata": {
    "collapsed": true
   },
   "outputs": [],
   "source": [
    "RE(raster_scan(-1, 1, 3, -1, 1, 3))"
   ]
  },
  {
   "cell_type": "markdown",
   "metadata": {},
   "source": [
    "### Using the custom XY Stage Device for multiple 1D scans"
   ]
  },
  {
   "cell_type": "code",
   "execution_count": 0,
   "metadata": {
    "collapsed": true
   },
   "outputs": [],
   "source": [
    "class WaterfallLivePlot(LivePlot):\n",
    "    \"Plot multiple lines on the same axes, offset in y.\"\n",
    "    def __init__(self, *args, offset_scale=1, **kwargs):\n",
    "        self.offset_scale = offset_scale\n",
    "        self.count = -1\n",
    "        super().__init__(*args, **kwargs)\n",
    "\n",
    "    def start(self, doc):\n",
    "        self.count += 1\n",
    "        return super().start(doc)\n",
    "\n",
    "    def update_caches(self, x, y):\n",
    "        return super().update_caches(x, y + self.offset_scale*self.count)\n",
    "\n",
    "\n",
    "def line_scans(x_start, x_stop, NX,\n",
    "               y_start, y_stop, NY):\n",
    "    \"Perform multiple 1D scans over x, stepping through y for each scan.\"\n",
    "    fig, ax = plt.subplots()\n",
    "    lp = WaterfallLivePlot(y='det', x='stage_x',\n",
    "                           offset_scale=100, ax=ax,\n",
    "                           legend_keys=['y_shift'])\n",
    "    lt = LiveTable([det, stage])\n",
    "    uids = []\n",
    "    for y in np.linspace(y_start, y_stop, NY):\n",
    "        yield from mv(stage.y, y)\n",
    "        uid = yield from subs_wrapper(\n",
    "            scan([det, stage],\n",
    "                 stage.x, x_start, x_stop, NX,\n",
    "                 md={'y_shift': y}),\n",
    "            [lp, lt])\n",
    "\n",
    "    return uids"
   ]
  },
  {
   "cell_type": "code",
   "execution_count": 0,
   "metadata": {
    "collapsed": true,
    "scrolled": false
   },
   "outputs": [],
   "source": [
    "RE(line_scans(1, 10, 10, 1, 5, 5))"
   ]
  },
  {
   "cell_type": "markdown",
   "metadata": {},
   "source": [
    "## Exercises\n",
    "\n",
    "1. Define a new custom Device representing slits with four degrees of free (four signals) named ``top``, ``bottom``, ``inner``, and ``outer``. Read the device.\n",
    "2. Define a new custom Device whose components are Devices. Make an ``Endstation`` Device with four components: two XYStages and two slits."
   ]
  },
  {
   "cell_type": "code",
   "execution_count": 0,
   "metadata": {
    "collapsed": true
   },
   "outputs": [],
   "source": []
  }
 ],
 "metadata": {
  "kernelspec": {
   "display_name": "Python 3",
   "language": "python",
   "name": "python3"
  },
  "language_info": {
   "codemirror_mode": {
    "name": "ipython",
    "version": 3
   },
   "file_extension": ".py",
   "mimetype": "text/x-python",
   "name": "python",
   "nbconvert_exporter": "python",
   "pygments_lexer": "ipython3",
   "version": "3.6.2"
  }
 },
 "nbformat": 4,
 "nbformat_minor": 2
}

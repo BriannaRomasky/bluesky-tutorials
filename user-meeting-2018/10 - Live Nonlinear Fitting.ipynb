{
 "cells": [
  {
   "cell_type": "markdown",
   "metadata": {},
   "source": [
    "# Live Nonlinear Fitting\n",
    "\n",
    "## Configuration\n",
    "\n",
    "This code would normally go in a script automatically run at startup. The user would not have to worry about this."
   ]
  },
  {
   "cell_type": "code",
   "execution_count": 0,
   "metadata": {},
   "outputs": [],
   "source": [
    "%matplotlib notebook\n",
    "import matplotlib.pyplot as plt\n",
    "\n",
    "# Make plots live-update while scans run.\n",
    "from bluesky.utils import install_nb_kicker\n",
    "install_nb_kicker()\n",
    "\n",
    "import numpy as np\n",
    "import lmfit\n",
    "from bluesky import RunEngine\n",
    "from bluesky.plans import scan\n",
    "from bluesky.examples import motor, noisy_det\n",
    "from bluesky.callbacks import LiveFit, LivePlot, LiveFitPlot\n",
    "import matplotlib.pyplot as plt\n",
    "\n",
    "RE = RunEngine({})"
   ]
  },
  {
   "cell_type": "markdown",
   "metadata": {},
   "source": [
    "## Data Acquisition"
   ]
  },
  {
   "cell_type": "code",
   "execution_count": 0,
   "metadata": {},
   "outputs": [],
   "source": [
    "# define gaussian function and save it as a model using lmfit\n",
    "def gaussian(x, A, sigma, x0):\n",
    "    return A*np.exp(-(x - x0)**2/(2 * sigma**2))\n",
    "\n",
    "model = lmfit.Model(gaussian)\n",
    "init_guess = {'A': 2,\n",
    "              'sigma': lmfit.Parameter('sigma', 3, min=0),\n",
    "              'x0': -0.2}\n",
    "\n",
    "# LiveFit example\n",
    "lf = LiveFit(model, 'noisy_det', {'x': 'motor'}, init_guess)\n",
    "\n",
    "# now add the plot...\n",
    "lfp = LiveFitPlot(lf, color='r')\n",
    "\n",
    "RE(scan([noisy_det], motor, -1, 1, 100), lfp)"
   ]
  },
  {
   "cell_type": "code",
   "execution_count": 0,
   "metadata": {},
   "outputs": [],
   "source": [
    "# show the data on the same axes\n",
    "\n",
    "fig, ax = plt.subplots()  # explitly create figure, axes to use below\n",
    "lfp = LiveFitPlot(lf, ax=ax, color='r')\n",
    "lp = LivePlot('noisy_det', 'motor', ax=ax, marker='o', linestyle='none')\n",
    "\n",
    "RE(scan([noisy_det], motor, -1, 1, 100), [lfp, lp])"
   ]
  },
  {
   "cell_type": "markdown",
   "metadata": {},
   "source": [
    "## Exercises\n",
    "\n",
    "1. Try a different user-defined peak-like function to use as a model."
   ]
  }
 ],
 "metadata": {
  "kernelspec": {
   "display_name": "Python 3",
   "language": "python",
   "name": "python3"
  },
  "language_info": {
   "codemirror_mode": {
    "name": "ipython",
    "version": 3
   },
   "file_extension": ".py",
   "mimetype": "text/x-python",
   "name": "python",
   "nbconvert_exporter": "python",
   "pygments_lexer": "ipython3",
   "version": "3.5.3"
  }
 },
 "nbformat": 4,
 "nbformat_minor": 2
}
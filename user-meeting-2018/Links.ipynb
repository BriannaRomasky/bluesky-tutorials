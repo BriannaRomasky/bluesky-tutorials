{
 "cells": [
  {
   "cell_type": "markdown",
   "metadata": {},
   "source": [
    "# Links\n",
    "\n",
    "* [NSLS-II Software Documentation Landing Page](https://nsls-ii.github.io)\n",
    "* [Bluesky Documentation](https://nsls-ii.github.io/bluesky)\n",
    "* [Ophyd Documentation](https://nsls-ii.github.io/ophyd)\n",
    "* [Databroker Documentation](https://nsls-ii.github.io/databroker)"
   ]
  }
 ],
 "metadata": {
  "kernelspec": {
   "display_name": "Python 3",
   "language": "python",
   "name": "python3"
  },
  "language_info": {
   "codemirror_mode": {
    "name": "ipython",
    "version": 3
   },
   "file_extension": ".py",
   "mimetype": "text/x-python",
   "name": "python",
   "nbconvert_exporter": "python",
   "pygments_lexer": "ipython3",
   "version": "3.5.3"
  }
 },
 "nbformat": 4,
 "nbformat_minor": 2
}
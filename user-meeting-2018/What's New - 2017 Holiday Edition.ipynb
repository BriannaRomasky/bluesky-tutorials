{
 "cells": [
  {
   "cell_type": "markdown",
   "metadata": {},
   "source": [
    "# What's New - 2017 Holiday Edition\n",
    "\n",
    "* Better automated visualization and peak statistics via the \"Best-Effort Callback\" and hints\n",
    "* More convenient ways to access saved data\n",
    "* Easier-to-use \"supplemental data\": baseline readings and asynchronous acquisition (monitoring and flying)"
   ]
  },
  {
   "cell_type": "markdown",
   "metadata": {},
   "source": [
    "## New releases\n",
    "\n",
    "Bluesky and Ophyd are (more) stable -- v1.0.0!"
   ]
  },
  {
   "cell_type": "code",
   "execution_count": null,
   "metadata": {},
   "outputs": [],
   "source": [
    "import bluesky\n",
    "bluesky.__version__"
   ]
  },
  {
   "cell_type": "code",
   "execution_count": null,
   "metadata": {},
   "outputs": [],
   "source": [
    "import ophyd\n",
    "ophyd.__version__"
   ]
  },
  {
   "cell_type": "markdown",
   "metadata": {},
   "source": [
    "Data Broker is... getting there!"
   ]
  },
  {
   "cell_type": "code",
   "execution_count": null,
   "metadata": {},
   "outputs": [],
   "source": [
    "import databroker\n",
    "databroker.__version__"
   ]
  },
  {
   "cell_type": "markdown",
   "metadata": {},
   "source": [
    "## Setup (nothing up my sleeves...)\n",
    "\n",
    "There's no IPython profile or external startup script. For educational purposes, we'll type it all out here in the notebook."
   ]
  },
  {
   "cell_type": "code",
   "execution_count": null,
   "metadata": {},
   "outputs": [],
   "source": [
    "# Make plotting interative in the notebook.\n",
    "%matplotlib notebook\n",
    "from bluesky.utils import install_nb_kicker\n",
    "install_nb_kicker()\n",
    "\n",
    "# Create a RunEngine.\n",
    "from bluesky import RunEngine\n",
    "RE = RunEngine({})\n",
    "\n",
    "from bluesky.plans import scan\n",
    "from ophyd.sim import det, motor  # simulated Devices\n",
    "\n",
    "# Simulate the motor movement.\n",
    "motor.delay = 0.5"
   ]
  },
  {
   "cell_type": "code",
   "execution_count": null,
   "metadata": {},
   "outputs": [],
   "source": [
    "d = [det]  # my list of detectors"
   ]
  },
  {
   "cell_type": "markdown",
   "metadata": {},
   "source": [
    "## Better automated visualization and peak statistics via the \"Best-Effort Callback\" and hints"
   ]
  },
  {
   "cell_type": "markdown",
   "metadata": {},
   "source": [
    "### The Bad Old Days"
   ]
  },
  {
   "cell_type": "markdown",
   "metadata": {},
   "source": [
    "Recall that a vanilla RunEngine gives no useful visual feedback. In bluesky jargon, there are no callbacks subscribed to receive the data."
   ]
  },
  {
   "cell_type": "code",
   "execution_count": null,
   "metadata": {},
   "outputs": [],
   "source": [
    "RE(scan(d, motor, -1, 1, 5))"
   ]
  },
  {
   "cell_type": "markdown",
   "metadata": {},
   "source": [
    "Getting a table and a plot required either:\n",
    "* writing custom plans that subscribed certain callbacks (for example, `ct` and `ascan` did this)\n",
    "* passing in callbacks as arguments, such as\n",
    "\n",
    "  ```python\n",
    "  RE(scan(d, motor, -1, 1, 5), [LiveTable(['det', 'motor']), LivePlot('det', 'motor')])\n",
    "  ```\n",
    "  \n",
    "Sometimes this level of power and flexbility is awesome, but usually this is obnoxiously verbose just to get a table and a plot!\n",
    "\n",
    "_There must be a better way!_"
   ]
  },
  {
   "cell_type": "markdown",
   "metadata": {},
   "source": [
    "### A Table and a Plot for Every Occasion"
   ]
  },
  {
   "cell_type": "code",
   "execution_count": null,
   "metadata": {},
   "outputs": [],
   "source": [
    "# Set up the BestEffortCallback.\n",
    "from bluesky.callbacks.best_effort import BestEffortCallback\n",
    "bec = BestEffortCallback()\n",
    "RE.subscribe(bec)  # Attach bec to the RunEngine itself, applying it to all future executions.\n",
    "\n",
    "peaks = bec.peaks  # just an alias for less typing"
   ]
  },
  {
   "cell_type": "code",
   "execution_count": null,
   "metadata": {},
   "outputs": [],
   "source": [
    "RE(scan(d, motor, -1, 1, 5))"
   ]
  },
  {
   "cell_type": "markdown",
   "metadata": {},
   "source": [
    "How does the callback decide what to plot, and which columns to show? There are often a multiple choices, and not enough room to just show everything."
   ]
  },
  {
   "cell_type": "code",
   "execution_count": null,
   "metadata": {},
   "outputs": [],
   "source": [
    "motor.describe()"
   ]
  },
  {
   "cell_type": "markdown",
   "metadata": {},
   "source": [
    "The Device(s) (``det``, ``motor``) and the plan (``scan``) provide **hints**."
   ]
  },
  {
   "cell_type": "code",
   "execution_count": null,
   "metadata": {},
   "outputs": [],
   "source": [
    "# Devices and Signals have a new (optional) 'hints' attribute.\n",
    "\n",
    "motor.hints"
   ]
  },
  {
   "cell_type": "code",
   "execution_count": null,
   "metadata": {},
   "outputs": [],
   "source": [
    "# Plans provide 'hints' in their metadata. We can see that by printing it.\n",
    "\n",
    "def print_hints_metadata(name, doc):\n",
    "    if name == 'start':\n",
    "        # Prints hints if they exist.\n",
    "        print('HINTS:', doc.get('hints', 'NO HINTS WERE GIVEN'))\n",
    "\n",
    "RE(scan(d, motor, -1, 1, 5), print_hints_metadata)"
   ]
  },
  {
   "cell_type": "markdown",
   "metadata": {},
   "source": [
    "### About Hints\n",
    "\n",
    "* The hints are not always guaranteed to be correct -- hence the \"Best-Effort\" in Best-Effort Callback.\n",
    "* They are intentionally generic, intended to be future-proof.\n",
    "* They are an experimental feature that will likely be extended and changed in the future."
   ]
  },
  {
   "cell_type": "markdown",
   "metadata": {},
   "source": [
    "### Bonus Feature: Click the plot and hit P (capital P!)\n",
    "\n",
    "Peak stats are always on the in background. Of course they don't always make physical sense; it's up to you whether to decide to look at them."
   ]
  },
  {
   "cell_type": "code",
   "execution_count": null,
   "metadata": {},
   "outputs": [],
   "source": [
    "peaks"
   ]
  },
  {
   "cell_type": "markdown",
   "metadata": {},
   "source": [
    "Here's a simple plan that uses `peaks` to implement what SPEC users know as \"cen\" -- moving the motor to the center of the peak."
   ]
  },
  {
   "cell_type": "code",
   "execution_count": null,
   "metadata": {},
   "outputs": [],
   "source": [
    "from bluesky.plan_stubs import mv, input_plan\n",
    "\n",
    "def cen():\n",
    "    pos = peaks['cen']['det']\n",
    "    print(f'Moving motor to {pos}')\n",
    "    yield from mv(motor, pos)"
   ]
  },
  {
   "cell_type": "code",
   "execution_count": null,
   "metadata": {},
   "outputs": [],
   "source": [
    "RE(cen())"
   ]
  },
  {
   "cell_type": "markdown",
   "metadata": {},
   "source": [
    "## More convenient ways to access saved data"
   ]
  },
  {
   "cell_type": "code",
   "execution_count": null,
   "metadata": {},
   "outputs": [],
   "source": [
    "# For demo purposes, we set up a Broker backed by a temporary directory\n",
    "# containing JSON files and a sqlite database.\n",
    "# In production, a Broker is usually backed by a Mongo database.\n",
    "import os\n",
    "import tempfile\n",
    "tempdir = tempfile.mkdtemp()\n",
    "config = {\n",
    "    'description': 'temporary',\n",
    "    'metadatastore': {\n",
    "        'module': 'databroker.headersource.mongoquery',\n",
    "        'class': 'MDS',\n",
    "        'config': {\n",
    "            'directory': tempdir,\n",
    "            'timezone': 'US/Eastern'}\n",
    "    },\n",
    "    'assets': {\n",
    "        'module': 'databroker.assets.sqlite',\n",
    "        'class': 'Registry',\n",
    "        'config': {\n",
    "            'dbpath': os.path.join(tempdir, 'assets.sqlite')}\n",
    "    }\n",
    "}\n",
    "from databroker import Broker\n",
    "db = Broker.from_config(config)\n",
    "\n",
    "# Send all data from RE into db.\n",
    "RE.subscribe(db.insert)"
   ]
  },
  {
   "cell_type": "code",
   "execution_count": null,
   "metadata": {},
   "outputs": [],
   "source": [
    "# Use a more complex (realistic) simulated detector that has some configuration.\n",
    "from ophyd.sim import det_with_count_time\n",
    "det_with_count_time.configuration_attrs.append('count_time')\n",
    "det_with_count_time.count_time.set(1)\n",
    "\n",
    "# Take some data. Pretty boring data.\n",
    "RE(scan([det_with_count_time], motor, -1, 1, 5))"
   ]
  },
  {
   "cell_type": "markdown",
   "metadata": {},
   "source": [
    "### The Old Way (it still works, but it's rarely the best way)"
   ]
  },
  {
   "cell_type": "code",
   "execution_count": null,
   "metadata": {},
   "outputs": [],
   "source": [
    "h = db[-1]\n",
    "db.get_table(h)"
   ]
  },
  {
   "cell_type": "markdown",
   "metadata": {},
   "source": [
    "Why should I have to type `db` twice?"
   ]
  },
  {
   "cell_type": "markdown",
   "metadata": {},
   "source": [
    "### The New Way"
   ]
  },
  {
   "cell_type": "code",
   "execution_count": null,
   "metadata": {},
   "outputs": [],
   "source": [
    "h = db[-1]\n",
    "h.table()"
   ]
  },
  {
   "cell_type": "code",
   "execution_count": null,
   "metadata": {},
   "outputs": [],
   "source": [
    "# or, if you don't need the Header for anything else, do it in one line\n",
    "db[-1].table()"
   ]
  },
  {
   "cell_type": "markdown",
   "metadata": {},
   "source": [
    "### There are a lot of new, convenient methods hanging off of `Header`.\n",
    "\n",
    "See [this section](https://nsls-ii.github.io/databroker/api.html#the-header-object) of the recently revamped databroker documentation.\n",
    "\n",
    "Quick Hits:"
   ]
  },
  {
   "cell_type": "code",
   "execution_count": null,
   "metadata": {},
   "outputs": [],
   "source": [
    "h.fields()  # i.e. columns in the table"
   ]
  },
  {
   "cell_type": "code",
   "execution_count": null,
   "metadata": {},
   "outputs": [],
   "source": [
    "h.data('det_intensity')  # lazy access to one column of data"
   ]
  },
  {
   "cell_type": "code",
   "execution_count": null,
   "metadata": {},
   "outputs": [],
   "source": [
    "list(h.data('det_intensity'))"
   ]
  },
  {
   "cell_type": "code",
   "execution_count": null,
   "metadata": {},
   "outputs": [],
   "source": [
    "h.devices()  # i.e. names of devices, which is useful for..."
   ]
  },
  {
   "cell_type": "code",
   "execution_count": null,
   "metadata": {},
   "outputs": [],
   "source": [
    "# ...accessing device configuration metadata\n",
    "h.config_data('det')"
   ]
  },
  {
   "cell_type": "markdown",
   "metadata": {},
   "source": [
    "Confused about the difference between `h.devices()` and `h.fields()`? `h.devices()` gives the names of the Devices involved..."
   ]
  },
  {
   "cell_type": "code",
   "execution_count": null,
   "metadata": {},
   "outputs": [],
   "source": [
    "motor.name"
   ]
  },
  {
   "cell_type": "markdown",
   "metadata": {},
   "source": [
    "...and `h.fields()` gives the labels of the readings that they provided. Some of these labels might be the same as the Device names, as is the case with our example `motor`."
   ]
  },
  {
   "cell_type": "code",
   "execution_count": null,
   "metadata": {},
   "outputs": [],
   "source": [
    "motor.describe()"
   ]
  },
  {
   "cell_type": "markdown",
   "metadata": {},
   "source": [
    "### And course we still have the classics\n",
    "\n",
    "Everything we know before we start talking to hardware is in `Header.start`. (This is effectively just a Python dictionary with some tricks to make it display nicely in the notebook.)"
   ]
  },
  {
   "cell_type": "code",
   "execution_count": null,
   "metadata": {},
   "outputs": [],
   "source": [
    "h.start"
   ]
  },
  {
   "cell_type": "markdown",
   "metadata": {},
   "source": [
    "And everything we only know at the end of a run is in `Header.stop`."
   ]
  },
  {
   "cell_type": "code",
   "execution_count": null,
   "metadata": {},
   "outputs": [],
   "source": [
    "h.stop"
   ]
  },
  {
   "cell_type": "markdown",
   "metadata": {},
   "source": [
    "There's more. We'll revisit `Header` after the next topic."
   ]
  },
  {
   "cell_type": "markdown",
   "metadata": {},
   "source": [
    "## Easier-to-use \"supplemental data\": baseline readings and asynchronous acquisition (monitoring and flying)"
   ]
  },
  {
   "cell_type": "code",
   "execution_count": null,
   "metadata": {},
   "outputs": [],
   "source": [
    "# Get some more simulated Devices and scatter them about.\n",
    "from ophyd.sim import motor1, motor2, motor3\n",
    "motor1.set(13)\n",
    "motor2.set(-2)\n",
    "motor3.set(42)"
   ]
  },
  {
   "cell_type": "markdown",
   "metadata": {},
   "source": [
    "### The Old Way\n",
    "\n",
    "It was so painful and inconsistent that I'm not even going to show you.\n",
    "\n",
    "### The New Way"
   ]
  },
  {
   "cell_type": "code",
   "execution_count": null,
   "metadata": {},
   "outputs": [],
   "source": [
    "# Set up SupplementalData.\n",
    "from bluesky import SupplementalData\n",
    "sd = SupplementalData()\n",
    "RE.preprocessors.append(sd)\n",
    "# All plans executed by RE will now be modified (preprocessed) by sd."
   ]
  },
  {
   "cell_type": "code",
   "execution_count": null,
   "metadata": {},
   "outputs": [],
   "source": [
    "sd"
   ]
  },
  {
   "cell_type": "markdown",
   "metadata": {},
   "source": [
    "Before we do anything new, let's remember what we see when we do a scan."
   ]
  },
  {
   "cell_type": "code",
   "execution_count": null,
   "metadata": {},
   "outputs": [],
   "source": [
    "RE(scan([det], motor, -1, 1, 5))"
   ]
  },
  {
   "cell_type": "markdown",
   "metadata": {},
   "source": [
    "### Baseline Readings\n",
    "\n",
    "Now, at the beginning and end of every run, record the positions of these motors."
   ]
  },
  {
   "cell_type": "code",
   "execution_count": null,
   "metadata": {},
   "outputs": [],
   "source": [
    "sd.baseline = [motor1, motor2, motor3]"
   ]
  },
  {
   "cell_type": "code",
   "execution_count": null,
   "metadata": {},
   "outputs": [],
   "source": [
    "# same as above\n",
    "RE(scan([det], motor, -1, 1, 5))"
   ]
  },
  {
   "cell_type": "markdown",
   "metadata": {},
   "source": [
    "Notice\n",
    "\n",
    "``New stream: 'baseline'``\n",
    "\n",
    "as well as the boxes of readings. How can we access that data later? It doesn't show up in the table!"
   ]
  },
  {
   "cell_type": "code",
   "execution_count": null,
   "metadata": {},
   "outputs": [],
   "source": [
    "db[-1].table()"
   ]
  },
  {
   "cell_type": "code",
   "execution_count": null,
   "metadata": {},
   "outputs": [],
   "source": [
    "db[-1].table('primary')  # the default"
   ]
  },
  {
   "cell_type": "code",
   "execution_count": null,
   "metadata": {},
   "outputs": [],
   "source": [
    "db[-1].table('baseline')"
   ]
  },
  {
   "cell_type": "markdown",
   "metadata": {},
   "source": [
    "If the table gets too wide, it's handy to know how to take the transpose of a `DataFrame`."
   ]
  },
  {
   "cell_type": "code",
   "execution_count": null,
   "metadata": {},
   "outputs": [],
   "source": [
    "db[-1].table('baseline').T"
   ]
  },
  {
   "cell_type": "markdown",
   "metadata": {},
   "source": [
    "### Asynchronous Monitoring"
   ]
  },
  {
   "cell_type": "code",
   "execution_count": null,
   "metadata": {},
   "outputs": [],
   "source": [
    "# The `rand` Signal updates to a random number at irregular intervals.\n",
    "from ophyd.sim import SynPeriodicSignal\n",
    "import random\n",
    "rand = SynPeriodicSignal(name='rand', func=random.random, period=0.2, period_jitter=0.1)"
   ]
  },
  {
   "cell_type": "code",
   "execution_count": null,
   "metadata": {},
   "outputs": [],
   "source": [
    "sd.monitors = [rand]"
   ]
  },
  {
   "cell_type": "code",
   "execution_count": null,
   "metadata": {},
   "outputs": [],
   "source": [
    "RE(scan([det], motor, -1, 1, 10))"
   ]
  },
  {
   "cell_type": "markdown",
   "metadata": {},
   "source": [
    "Notice\n",
    "\n",
    "``New stream: 'rand_monitor'``\n",
    "\n",
    "and a new figure. But the Best-Effort Callback doesn't show us the numbers from monitor readings. (There's just not enough room.)"
   ]
  },
  {
   "cell_type": "code",
   "execution_count": null,
   "metadata": {},
   "outputs": [],
   "source": [
    "h = db[-1]\n",
    "h.table('rand_monitor')"
   ]
  },
  {
   "cell_type": "markdown",
   "metadata": {},
   "source": [
    "What streams do we have? Another good `Header` method to know:"
   ]
  },
  {
   "cell_type": "code",
   "execution_count": null,
   "metadata": {},
   "outputs": [],
   "source": [
    "h.stream_names"
   ]
  },
  {
   "cell_type": "markdown",
   "metadata": {},
   "source": [
    "### Resampling data on time to compare across streams\n",
    "\n",
    "`Header.table` returns a `pandas.DataFrame`. Pandas is a great library for handling time series data.\n",
    "\n",
    "How can we plot `rand` vs `motor` to see if they are correlated?"
   ]
  },
  {
   "cell_type": "code",
   "execution_count": null,
   "metadata": {},
   "outputs": [],
   "source": [
    "import pandas as pd\n",
    "df = pd.concat([h.table('rand_monitor').set_index('time'),\n",
    "                h.table('primary').set_index('time')],axis=0)\n",
    "df"
   ]
  },
  {
   "cell_type": "markdown",
   "metadata": {},
   "source": [
    "Look at where the `NaN`s (indicating missing data) are. We have a block matrix. Let's sort it by time."
   ]
  },
  {
   "cell_type": "code",
   "execution_count": null,
   "metadata": {},
   "outputs": [],
   "source": [
    "df.sort_index()"
   ]
  },
  {
   "cell_type": "code",
   "execution_count": null,
   "metadata": {},
   "outputs": [],
   "source": [
    "df.sort_index().ffill()  # 'forward-fill' the last non-empty value"
   ]
  },
  {
   "cell_type": "markdown",
   "metadata": {},
   "source": [
    "Now that `rand` and `motor` have a shared time base, we can plot them against each other."
   ]
  },
  {
   "cell_type": "code",
   "execution_count": null,
   "metadata": {},
   "outputs": [],
   "source": [
    "df.sort_index().ffill().plot(x='motor', y='rand')"
   ]
  },
  {
   "cell_type": "markdown",
   "metadata": {},
   "source": [
    "Other more sophisticated possibilities...."
   ]
  },
  {
   "cell_type": "code",
   "execution_count": null,
   "metadata": {},
   "outputs": [],
   "source": [
    "df.sort_index().interpolate()  # lienarly interpolate (more advanced options are available)"
   ]
  },
  {
   "cell_type": "code",
   "execution_count": null,
   "metadata": {},
   "outputs": [],
   "source": [
    "df.sort_index().ffill().groupby('motor').mean()  # Average 'rand' over each 'motor' point."
   ]
  },
  {
   "cell_type": "markdown",
   "metadata": {},
   "source": [
    "### Reviewing and removing Supplemental Data sources"
   ]
  },
  {
   "cell_type": "code",
   "execution_count": null,
   "metadata": {},
   "outputs": [],
   "source": [
    "sd"
   ]
  },
  {
   "cell_type": "code",
   "execution_count": null,
   "metadata": {},
   "outputs": [],
   "source": [
    "sd.monitors"
   ]
  },
  {
   "cell_type": "code",
   "execution_count": null,
   "metadata": {},
   "outputs": [],
   "source": [
    "sd.monitors.clear()  # or just sd.monitors = []"
   ]
  },
  {
   "cell_type": "code",
   "execution_count": null,
   "metadata": {},
   "outputs": [],
   "source": [
    "sd.monitors"
   ]
  },
  {
   "cell_type": "markdown",
   "metadata": {},
   "source": [
    "### Hiding baseline readings (but still taking them)"
   ]
  },
  {
   "cell_type": "code",
   "execution_count": null,
   "metadata": {},
   "outputs": [],
   "source": [
    "RE(scan(d, motor, -1, 1, 10))"
   ]
  },
  {
   "cell_type": "code",
   "execution_count": null,
   "metadata": {},
   "outputs": [],
   "source": [
    "bec.disable_baseline()  # turns off VISUALIZATION only"
   ]
  },
  {
   "cell_type": "code",
   "execution_count": null,
   "metadata": {},
   "outputs": [],
   "source": [
    "RE(scan(d, motor, -1, 1, 10))"
   ]
  },
  {
   "cell_type": "markdown",
   "metadata": {},
   "source": [
    "We know that baseline data is still being recorded because ``New stream: 'baseline'`` is still there, and we can of course access the data."
   ]
  },
  {
   "cell_type": "code",
   "execution_count": null,
   "metadata": {},
   "outputs": [],
   "source": [
    "db[-1].table('baseline')"
   ]
  },
  {
   "cell_type": "markdown",
   "metadata": {},
   "source": [
    "Use `bec.<TAB>` to see other options for tuning the Best-Effort Callback. It will become much more extensible/customizable in later versions."
   ]
  },
  {
   "cell_type": "code",
   "execution_count": null,
   "metadata": {},
   "outputs": [],
   "source": []
  }
 ],
 "metadata": {
  "kernelspec": {
   "display_name": "Python 3",
   "language": "python",
   "name": "python3"
  },
  "language_info": {
   "codemirror_mode": {
    "name": "ipython",
    "version": 3
   },
   "file_extension": ".py",
   "mimetype": "text/x-python",
   "name": "python",
   "nbconvert_exporter": "python",
   "pygments_lexer": "ipython3",
   "version": "3.6.3"
  }
 },
 "nbformat": 4,
 "nbformat_minor": 2
}
